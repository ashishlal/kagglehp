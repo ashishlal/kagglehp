{
 "cells": [
  {
   "cell_type": "code",
   "execution_count": 1,
   "metadata": {},
   "outputs": [
    {
     "name": "stdout",
     "output_type": "stream",
     "text": [
      "0.3.1\n"
     ]
    }
   ],
   "source": [
    "# https://www.kaggle.com/iafoss/pretrained-resnet34-with-rgby-0-460-public-lb\n",
    "import torch\n",
    "print(torch.__version__)"
   ]
  },
  {
   "cell_type": "code",
   "execution_count": 2,
   "metadata": {},
   "outputs": [],
   "source": [
    "# 31072 * 4 + 298424\n",
    "\n",
    "# 422712"
   ]
  },
  {
   "cell_type": "code",
   "execution_count": 3,
   "metadata": {},
   "outputs": [],
   "source": [
    "from fastai.conv_learner import *\n",
    "from fastai.dataset import *\n",
    "\n",
    "import pandas as pd\n",
    "import numpy as np\n",
    "import os\n",
    "from sklearn.model_selection import train_test_split\n",
    "from sklearn.metrics import f1_score\n",
    "import scipy.optimize as opt\n",
    "from tqdm import tqdm_notebook, tqdm"
   ]
  },
  {
   "cell_type": "code",
   "execution_count": 4,
   "metadata": {},
   "outputs": [],
   "source": [
    "PATH = './'\n",
    "TRAIN = '../data/train_combined/'\n",
    "TEST = '../data/test/'\n",
    "LABELS = '../data/train_combined_all.csv'\n",
    "SAMPLE = '../data/sample_submission.csv'"
   ]
  },
  {
   "cell_type": "code",
   "execution_count": 5,
   "metadata": {},
   "outputs": [],
   "source": [
    "name_label_dict = {\n",
    "0:  'Nucleoplasm',\n",
    "1:  'Nuclear membrane',\n",
    "2:  'Nucleoli',   \n",
    "3:  'Nucleoli fibrillar center',\n",
    "4:  'Nuclear speckles',\n",
    "5:  'Nuclear bodies',\n",
    "6:  'Endoplasmic reticulum',   \n",
    "7:  'Golgi apparatus',\n",
    "8:  'Peroxisomes',\n",
    "9:  'Endosomes',\n",
    "10:  'Lysosomes',\n",
    "11:  'Intermediate filaments',\n",
    "12:  'Actin filaments',\n",
    "13:  'Focal adhesion sites',   \n",
    "14:  'Microtubules',\n",
    "15:  'Microtubule ends',  \n",
    "16:  'Cytokinetic bridge',   \n",
    "17:  'Mitotic spindle',\n",
    "18:  'Microtubule organizing center',  \n",
    "19:  'Centrosome',\n",
    "20:  'Lipid droplets',\n",
    "21:  'Plasma membrane',   \n",
    "22:  'Cell junctions', \n",
    "23:  'Mitochondria',\n",
    "24:  'Aggresome',\n",
    "25:  'Cytosol',\n",
    "26:  'Cytoplasmic bodies',   \n",
    "27:  'Rods & rings' }"
   ]
  },
  {
   "cell_type": "code",
   "execution_count": 6,
   "metadata": {},
   "outputs": [],
   "source": [
    "nw = 2   #number of workers for data loader\n",
    "arch = resnet50 #specify target architecture"
   ]
  },
  {
   "cell_type": "code",
   "execution_count": 7,
   "metadata": {},
   "outputs": [],
   "source": [
    "# train_names_png = list({f[:36] for f in os.listdir(TRAIN) if 'png' in f})\n",
    "# train_names_jpg = []\n",
    "# for f in tqdm_notebook(os.listdir(TRAIN)):\n",
    "#     if 'png' in f:\n",
    "#         continue\n",
    "#     name = f.split('.')[0]\n",
    "#     name = name.split('_')\n",
    "#     if len(name) == 5:\n",
    "#         name = name[0]+'_'+name[1]+'_'+name[2]+'_'+name[3]\n",
    "#     else:\n",
    "#         name = name[0]+'_'+name[1]+'_'+name[2]+'_'+name[3]+'_'+name[4]\n",
    "#     if name not in train_names_jpg:\n",
    "#         train_names_jpg.append(name)\n",
    "\n",
    "# train_names = train_names_png + train_names_jpg\n",
    "# test_names = list({f[:36] for f in os.listdir(TEST)})\n",
    "\n",
    "\n",
    "# tr_n, val_n = train_test_split(train_names, test_size=0.1, random_state=42)"
   ]
  },
  {
   "cell_type": "code",
   "execution_count": 8,
   "metadata": {},
   "outputs": [
    {
     "name": "stdout",
     "output_type": "stream",
     "text": [
      "105678\n"
     ]
    }
   ],
   "source": [
    "import pickle\n",
    "with open('../cache/train_names', 'rb') as f:\n",
    "    train_names = pickle.load(f)\n",
    "print(len(train_names))\n",
    "test_names = list({f[:36] for f in os.listdir(TEST)})\n",
    "tr_n, val_n = train_test_split(train_names, test_size=0.1, random_state=42)"
   ]
  },
  {
   "cell_type": "code",
   "execution_count": 9,
   "metadata": {},
   "outputs": [],
   "source": [
    "# import pickle\n",
    "# with open('../cache/train_names', 'wb') as f:\n",
    "#     pickle.dump(train_names, f)\n",
    "# with open('../cache/train_names_png1', 'wb') as f:\n",
    "#     pickle.dump(train_names_png, f)\n",
    "# with open('../cache/train_names_png2', 'wb') as f:\n",
    "#     pickle.dump(train_names_jpg, f)"
   ]
  },
  {
   "cell_type": "code",
   "execution_count": 10,
   "metadata": {},
   "outputs": [],
   "source": [
    "# len(train_names), len(train_names_jpg), len(train_names_png)\n",
    "# (105678, 74606, 31072)"
   ]
  },
  {
   "cell_type": "code",
   "execution_count": 11,
   "metadata": {},
   "outputs": [],
   "source": [
    "def open_rgby(path,id): #a function that reads RGBY image\n",
    "#     colors = ['red','green','blue','yellow']\n",
    "    colors = ['red','green','blue']\n",
    "    flags = cv2.IMREAD_GRAYSCALE\n",
    "    img = [cv2.imread(os.path.join(path, id+'_'+color+'.png'), flags).astype(np.float32)/255\n",
    "           for color in colors]\n",
    "    return np.stack(img, axis=-1)"
   ]
  },
  {
   "cell_type": "code",
   "execution_count": 12,
   "metadata": {},
   "outputs": [],
   "source": [
    "# ??FilesDataset"
   ]
  },
  {
   "cell_type": "code",
   "execution_count": 13,
   "metadata": {},
   "outputs": [],
   "source": [
    "class pdFilesDataset(FilesDataset):\n",
    "    def __init__(self, fnames, path, transform):\n",
    "        self.labels = pd.read_csv(LABELS).set_index('Id')\n",
    "        self.labels['Target'] = [[int(i) for i in s.split()] for s in self.labels['Target']]\n",
    "#         print(fnames)\n",
    "        super().__init__(fnames, transform, path)\n",
    "    \n",
    "    def get_x(self, i):\n",
    "        img = open_rgby(self.path,self.fnames[i])\n",
    "        if self.sz == 512: return img \n",
    "        else: return cv2.resize(img, (self.sz, self.sz),cv2.INTER_AREA)\n",
    "    \n",
    "    def get_y(self, i):\n",
    "        if(self.path == TEST): return np.zeros(len(name_label_dict),dtype=np.int)\n",
    "        else:\n",
    "            labels = self.labels.loc[self.fnames[i]]['Target']\n",
    "            return np.eye(len(name_label_dict),dtype=np.float)[labels].sum(axis=0)\n",
    "        \n",
    "    @property\n",
    "    def is_multi(self): return True\n",
    "    @property\n",
    "    def is_reg(self):return True\n",
    "    #this flag is set to remove the output sigmoid that allows log(sigmoid) optimization\n",
    "    #of the numerical stability of the loss function\n",
    "    \n",
    "    def get_c(self): return len(name_label_dict) #number of classes"
   ]
  },
  {
   "cell_type": "code",
   "execution_count": 14,
   "metadata": {},
   "outputs": [],
   "source": [
    "# ??tfms_from_stats\n",
    "path_to_train = '../data/train_combined'\n",
    "data = pd.read_csv('../data/train_combined_all.csv')"
   ]
  },
  {
   "cell_type": "code",
   "execution_count": 15,
   "metadata": {},
   "outputs": [],
   "source": [
    "def get_data(sz,bs):\n",
    "    #data augmentation\n",
    "    aug_tfms = [RandomRotate(30, tfm_y=TfmType.NO),\n",
    "                RandomDihedral(tfm_y=TfmType.NO),\n",
    "                RandomLighting(0.05, 0.05, tfm_y=TfmType.NO)]\n",
    "    #mean and std in of each channel in the train set\n",
    "#     stats = A([0.08069, 0.05258, 0.05487, 0.08282], [0.13704, 0.10145, 0.15313, 0.13814])\n",
    "#     stats = A([0.08069, 0.05258, 0.05487], [0.13704, 0.10145, 0.15313])\n",
    "    stats = A([0.0751 , 0.05909, 0.04364], [0.11428, 0.09856, 0.09925])\n",
    "    tfms = tfms_from_stats(stats, sz, crop_type=CropType.NO, tfm_y=TfmType.NO, \n",
    "                aug_tfms=aug_tfms)\n",
    "    ds = ImageData.get_ds(pdFilesDataset, (tr_n[:-(len(tr_n)%bs)],TRAIN), \n",
    "                (val_n,TRAIN), tfms, test=(test_names,TEST))\n",
    "    md = ImageData(PATH, ds, bs, num_workers=nw, classes=None)\n",
    "    return md"
   ]
  },
  {
   "cell_type": "code",
   "execution_count": 16,
   "metadata": {},
   "outputs": [],
   "source": [
    "bs = 16\n",
    "sz = 512\n",
    "md = get_data(sz,bs)"
   ]
  },
  {
   "cell_type": "code",
   "execution_count": 17,
   "metadata": {},
   "outputs": [],
   "source": [
    "# x_tot = np.zeros(3)\n",
    "# x2_tot = np.zeros(3)\n",
    "# for x,y in tqdm_notebook(iter(md.trn_dl)):\n",
    "#     x = md.trn_ds.denorm(x).reshape(-1,3)\n",
    "#     x_tot += x.mean(axis=0)\n",
    "#     x2_tot += (x**2).mean(axis=0)\n",
    "\n",
    "# channel_avr = x_tot/len(md.trn_dl)\n",
    "# channel_std = np.sqrt(x2_tot/len(md.trn_dl) - channel_avr**2)\n",
    "# channel_avr,channel_std\n",
    "# (array([0.0751 , 0.05909, 0.04364]), array([0.11428, 0.09856, 0.09925]))"
   ]
  },
  {
   "cell_type": "code",
   "execution_count": 18,
   "metadata": {},
   "outputs": [],
   "source": [
    "# mean = 0\n",
    "# x2_tot = 0\n",
    "# count = 0\n",
    "# M2 = 0\n",
    "# for name, labels in tqdm(zip(data['Id'], data['Target'].str.split(' '))):\n",
    "#     if name not in tr_n:\n",
    "#         continue\n",
    "#     file = os.path.join(path_to_train, name)\n",
    "#     image = load_image(file, (512, 512))/255.\n",
    "#     val = np.reshape(image[:,:,0], -1)\n",
    "#     img_mean = np.mean(val)\n",
    "#     img_std = np.std(val)\n",
    "#     count = count + 1\n",
    "#     mean = mean + img_mean\n",
    "#     M2 = M2 + img_std\n",
    "#     x2_tot += np.mean(val**2)\n",
    "# print('red mean', mean/(count))\n",
    "# print('red std', M2/(count))\n",
    "# channel_std = np.sqrt(x2_tot/count - ((mean/count)**2))\n",
    "\n",
    "# 31072it [05:35, 92.74it/s]\n",
    "# red mean 0.08052112660092407\n",
    "# red std 0.13001299317356493"
   ]
  },
  {
   "cell_type": "code",
   "execution_count": 19,
   "metadata": {},
   "outputs": [],
   "source": [
    "# x_tot = np.zeros(4)\n",
    "# x2_tot = np.zeros(4)\n",
    "# for x,y in iter(md.trn_dl):\n",
    "# #     print(x.shape)\n",
    "# #     tmp =  md.trn_ds.denorm(x).reshape(16,-1)\n",
    "#     x = md.trn_ds.denorm(x).reshape(-1,4)\n",
    "# #     print(x.shape)\n",
    "# #     x = x.cpu().numpy().reshape(-1,4)\n",
    "# #     print(x.shape)\n",
    "#     x_tot += x.mean(axis=0)\n",
    "#     x2_tot += (x**2).mean(axis=0)\n",
    "\n",
    "# channel_avr = x_tot/len(md.trn_dl)\n",
    "# channel_std = np.sqrt(x2_tot/len(md.trn_dl) - channel_avr**2)\n",
    "# channel_avr,channel_std\n",
    "\n",
    "# (array([0.08702, 0.06006, 0.06512, 0.08925]),\n",
    "#  array([0.14109, 0.1055 , 0.15163, 0.14201]))"
   ]
  },
  {
   "cell_type": "code",
   "execution_count": 20,
   "metadata": {},
   "outputs": [],
   "source": [
    "# ??md.trn_ds.denorm"
   ]
  },
  {
   "cell_type": "code",
   "execution_count": 21,
   "metadata": {},
   "outputs": [],
   "source": [
    "class FocalLoss(nn.Module):\n",
    "    def __init__(self, gamma=2):\n",
    "        super().__init__()\n",
    "        self.gamma = gamma\n",
    "        \n",
    "    def forward(self, input, target):\n",
    "        if not (target.size() == input.size()):\n",
    "            raise ValueError(\"Target size ({}) must be the same as input size ({})\"\n",
    "                             .format(target.size(), input.size()))\n",
    "\n",
    "        max_val = (-input).clamp(min=0)\n",
    "        loss = input - input * target + max_val + \\\n",
    "            ((-max_val).exp() + (-input - max_val).exp()).log()\n",
    "\n",
    "        invprobs = F.logsigmoid(-input * (target * 2.0 - 1.0))\n",
    "        loss = (invprobs * self.gamma).exp() * loss\n",
    "        \n",
    "        return loss.sum(dim=1).mean()"
   ]
  },
  {
   "cell_type": "code",
   "execution_count": 22,
   "metadata": {},
   "outputs": [],
   "source": [
    "def acc(preds,targs,th=0.0):\n",
    "    preds = (preds > th).int()\n",
    "    targs = targs.int()\n",
    "    return (preds==targs).float().mean()"
   ]
  },
  {
   "cell_type": "code",
   "execution_count": 23,
   "metadata": {},
   "outputs": [],
   "source": [
    "sz = 512 #image size\n",
    "bs = 16  #batch size\n",
    "\n",
    "md = get_data(sz,bs)\n",
    "learner = ConvLearner.pretrained(arch, md, ps=0.5) #dropout 50%\n",
    "learner.opt_fn = optim.Adam\n",
    "learner.clip = 1.0 #gradient clipping\n",
    "learner.crit = FocalLoss()\n",
    "learner.metrics = [acc]"
   ]
  },
  {
   "cell_type": "code",
   "execution_count": 24,
   "metadata": {},
   "outputs": [
    {
     "data": {
      "application/vnd.jupyter.widget-view+json": {
       "model_id": "dbdbe62ef8fb4bd8841309806e64a490",
       "version_major": 2,
       "version_minor": 0
      },
      "text/html": [
       "<p>Failed to display Jupyter Widget of type <code>HBox</code>.</p>\n",
       "<p>\n",
       "  If you're reading this message in the Jupyter Notebook or JupyterLab Notebook, it may mean\n",
       "  that the widgets JavaScript is still loading. If this message persists, it\n",
       "  likely means that the widgets JavaScript library is either not installed or\n",
       "  not enabled. See the <a href=\"https://ipywidgets.readthedocs.io/en/stable/user_install.html\">Jupyter\n",
       "  Widgets Documentation</a> for setup instructions.\n",
       "</p>\n",
       "<p>\n",
       "  If you're reading this message in another frontend (for example, a static\n",
       "  rendering on GitHub or <a href=\"https://nbviewer.jupyter.org/\">NBViewer</a>),\n",
       "  it may mean that your frontend doesn't currently support widgets.\n",
       "</p>\n"
      ],
      "text/plain": [
       "HBox(children=(IntProgress(value=0, description='Epoch', max=1, style=ProgressStyle(description_width='initial')), HTML(value='')))"
      ]
     },
     "metadata": {},
     "output_type": "display_data"
    },
    {
     "name": "stdout",
     "output_type": "stream",
     "text": [
      " 65%|██████▌   | 3877/5944 [29:40<23:47,  1.45it/s, loss=4.83]"
     ]
    },
    {
     "data": {
      "image/png": "[encoded data removed]",
      "text/plain": [
       "<matplotlib.figure.Figure at 0x7f95600675f8>"
      ]
     },
     "metadata": {},
     "output_type": "display_data"
    }
   ],
   "source": [
    "learner.lr_find()\n",
    "learner.sched.plot()"
   ]
  },
  {
   "cell_type": "code",
   "execution_count": 25,
   "metadata": {},
   "outputs": [
    {
     "data": {
      "application/vnd.jupyter.widget-view+json": {
       "model_id": "9098084b2ed84e35b52f7dd7afff588a",
       "version_major": 2,
       "version_minor": 0
      },
      "text/html": [
       "<p>Failed to display Jupyter Widget of type <code>HBox</code>.</p>\n",
       "<p>\n",
       "  If you're reading this message in the Jupyter Notebook or JupyterLab Notebook, it may mean\n",
       "  that the widgets JavaScript is still loading. If this message persists, it\n",
       "  likely means that the widgets JavaScript library is either not installed or\n",
       "  not enabled. See the <a href=\"https://ipywidgets.readthedocs.io/en/stable/user_install.html\">Jupyter\n",
       "  Widgets Documentation</a> for setup instructions.\n",
       "</p>\n",
       "<p>\n",
       "  If you're reading this message in another frontend (for example, a static\n",
       "  rendering on GitHub or <a href=\"https://nbviewer.jupyter.org/\">NBViewer</a>),\n",
       "  it may mean that your frontend doesn't currently support widgets.\n",
       "</p>\n"
      ],
      "text/plain": [
       "HBox(children=(IntProgress(value=0, description='Epoch', max=1, style=ProgressStyle(description_width='initial')), HTML(value='')))"
      ]
     },
     "metadata": {},
     "output_type": "display_data"
    },
    {
     "name": "stdout",
     "output_type": "stream",
     "text": [
      "epoch      trn_loss   val_loss   acc                           \n",
      "    0      1.076604   1.008069   0.956445  \n"
     ]
    },
    {
     "data": {
      "text/plain": [
       "[array([1.00807]), 0.9564453336797277]"
      ]
     },
     "execution_count": 25,
     "metadata": {},
     "output_type": "execute_result"
    }
   ],
   "source": [
    "lr = 8e-4\n",
    "learner.fit(lr,1)"
   ]
  },
  {
   "cell_type": "code",
   "execution_count": 26,
   "metadata": {},
   "outputs": [],
   "source": [
    "learner.unfreeze()\n",
    "lrs=np.array([lr/10,lr/3,lr])"
   ]
  },
  {
   "cell_type": "code",
   "execution_count": 27,
   "metadata": {},
   "outputs": [
    {
     "data": {
      "application/vnd.jupyter.widget-view+json": {
       "model_id": "d9190ab79c85458a9df655f9e0e692eb",
       "version_major": 2,
       "version_minor": 0
      },
      "text/html": [
       "<p>Failed to display Jupyter Widget of type <code>HBox</code>.</p>\n",
       "<p>\n",
       "  If you're reading this message in the Jupyter Notebook or JupyterLab Notebook, it may mean\n",
       "  that the widgets JavaScript is still loading. If this message persists, it\n",
       "  likely means that the widgets JavaScript library is either not installed or\n",
       "  not enabled. See the <a href=\"https://ipywidgets.readthedocs.io/en/stable/user_install.html\">Jupyter\n",
       "  Widgets Documentation</a> for setup instructions.\n",
       "</p>\n",
       "<p>\n",
       "  If you're reading this message in another frontend (for example, a static\n",
       "  rendering on GitHub or <a href=\"https://nbviewer.jupyter.org/\">NBViewer</a>),\n",
       "  it may mean that your frontend doesn't currently support widgets.\n",
       "</p>\n"
      ],
      "text/plain": [
       "HBox(children=(IntProgress(value=0, description='Epoch', max=8, style=ProgressStyle(description_width='initial')), HTML(value='')))"
      ]
     },
     "metadata": {},
     "output_type": "display_data"
    },
    {
     "name": "stdout",
     "output_type": "stream",
     "text": [
      "epoch      trn_loss   val_loss   acc                             \n",
      "    0      0.753416   0.691114   0.969777  \n",
      "    1      0.702316   0.651579   0.971369                        \n",
      "    2      0.748814   0.654872   0.971254                        \n",
      "    3      0.679828   0.622079   0.972511                        \n",
      "    4      0.696075   0.637335   0.971883                        \n",
      "    5      0.646604   0.613408   0.973045                        \n",
      "    6      0.653173   0.625272   0.972508                        \n",
      "    7      0.655555   0.601154   0.97338                         \n"
     ]
    },
    {
     "data": {
      "text/plain": [
       "[array([0.60115]), 0.9733798798514892]"
      ]
     },
     "execution_count": 27,
     "metadata": {},
     "output_type": "execute_result"
    }
   ],
   "source": [
    "learner.fit(lrs/4,4,cycle_len=2,use_clr=(10,20))"
   ]
  },
  {
   "cell_type": "code",
   "execution_count": 28,
   "metadata": {},
   "outputs": [
    {
     "data": {
      "application/vnd.jupyter.widget-view+json": {
       "model_id": "23cb7b251c8944e893931b08547a1bb5",
       "version_major": 2,
       "version_minor": 0
      },
      "text/html": [
       "<p>Failed to display Jupyter Widget of type <code>HBox</code>.</p>\n",
       "<p>\n",
       "  If you're reading this message in the Jupyter Notebook or JupyterLab Notebook, it may mean\n",
       "  that the widgets JavaScript is still loading. If this message persists, it\n",
       "  likely means that the widgets JavaScript library is either not installed or\n",
       "  not enabled. See the <a href=\"https://ipywidgets.readthedocs.io/en/stable/user_install.html\">Jupyter\n",
       "  Widgets Documentation</a> for setup instructions.\n",
       "</p>\n",
       "<p>\n",
       "  If you're reading this message in another frontend (for example, a static\n",
       "  rendering on GitHub or <a href=\"https://nbviewer.jupyter.org/\">NBViewer</a>),\n",
       "  it may mean that your frontend doesn't currently support widgets.\n",
       "</p>\n"
      ],
      "text/plain": [
       "HBox(children=(IntProgress(value=0, description='Epoch', max=8, style=ProgressStyle(description_width='initial')), HTML(value='')))"
      ]
     },
     "metadata": {},
     "output_type": "display_data"
    },
    {
     "name": "stdout",
     "output_type": "stream",
     "text": [
      "epoch      trn_loss   val_loss   acc                             \n",
      "    0      0.689312   0.627061   0.972528  \n",
      "    1      0.633418   0.616619   0.973086                        \n",
      "    2      0.620347   0.602689   0.973542                        \n",
      "    3      0.5978     0.589879   0.974059                        \n",
      "    4      0.64789    0.612528   0.972957                        \n",
      "    5      0.610331   0.601921   0.973464                        \n",
      "    6      0.583476   0.591609   0.973796                        \n",
      "    7      0.579374   0.584113   0.974191                        \n"
     ]
    },
    {
     "data": {
      "text/plain": [
       "[array([0.58411]), 0.974190953371653]"
      ]
     },
     "execution_count": 28,
     "metadata": {},
     "output_type": "execute_result"
    }
   ],
   "source": [
    "learner.fit(lrs/4,2,cycle_len=4,use_clr=(10,20))"
   ]
  },
  {
   "cell_type": "code",
   "execution_count": 29,
   "metadata": {},
   "outputs": [
    {
     "data": {
      "application/vnd.jupyter.widget-view+json": {
       "model_id": "1249167f4b3f43f9bf34c1a18a664ef4",
       "version_major": 2,
       "version_minor": 0
      },
      "text/html": [
       "<p>Failed to display Jupyter Widget of type <code>HBox</code>.</p>\n",
       "<p>\n",
       "  If you're reading this message in the Jupyter Notebook or JupyterLab Notebook, it may mean\n",
       "  that the widgets JavaScript is still loading. If this message persists, it\n",
       "  likely means that the widgets JavaScript library is either not installed or\n",
       "  not enabled. See the <a href=\"https://ipywidgets.readthedocs.io/en/stable/user_install.html\">Jupyter\n",
       "  Widgets Documentation</a> for setup instructions.\n",
       "</p>\n",
       "<p>\n",
       "  If you're reading this message in another frontend (for example, a static\n",
       "  rendering on GitHub or <a href=\"https://nbviewer.jupyter.org/\">NBViewer</a>),\n",
       "  it may mean that your frontend doesn't currently support widgets.\n",
       "</p>\n"
      ],
      "text/plain": [
       "HBox(children=(IntProgress(value=0, description='Epoch', max=8, style=ProgressStyle(description_width='initial')), HTML(value='')))"
      ]
     },
     "metadata": {},
     "output_type": "display_data"
    },
    {
     "name": "stdout",
     "output_type": "stream",
     "text": [
      "epoch      trn_loss   val_loss   acc                             \n",
      "    0      0.567063   0.586677   0.974252  \n",
      "    1      0.587139   0.583313   0.974289                        \n",
      "    2      0.564207   0.582343   0.974512                        \n",
      "    3      0.564695   0.577199   0.974583                        \n",
      "    4      0.566102   0.578606   0.974593                        \n",
      "    5      0.549107   0.580369   0.97458                         \n",
      "    6      0.555157   0.577438   0.974803                        \n",
      "    7      0.565096   0.58107    0.974752                        \n"
     ]
    },
    {
     "data": {
      "text/plain": [
       "[array([0.58107]), 0.9747519463323265]"
      ]
     },
     "execution_count": 29,
     "metadata": {},
     "output_type": "execute_result"
    }
   ],
   "source": [
    "learner.fit(lrs/16,1,cycle_len=8,use_clr=(5,20))"
   ]
  },
  {
   "cell_type": "code",
   "execution_count": 30,
   "metadata": {},
   "outputs": [],
   "source": [
    "learner.save('ResNet50_512_50Max')"
   ]
  },
  {
   "cell_type": "code",
   "execution_count": 10,
   "metadata": {},
   "outputs": [
    {
     "name": "stdout",
     "output_type": "stream",
     "text": [
      "Object `learner.TTA` not found.\n"
     ]
    }
   ],
   "source": [
    "# ??learner.TTA"
   ]
  },
  {
   "cell_type": "code",
   "execution_count": 27,
   "metadata": {},
   "outputs": [],
   "source": [
    "def sigmoid_np(x):\n",
    "    return 1.0/(1.0 + np.exp(-x))"
   ]
  },
  {
   "cell_type": "code",
   "execution_count": 31,
   "metadata": {},
   "outputs": [
    {
     "name": "stdout",
     "output_type": "stream",
     "text": [
      "                                                \r"
     ]
    }
   ],
   "source": [
    "\n",
    "\n",
    "preds,y = learner.TTA(n_aug=16)\n",
    "preds = np.stack(preds, axis=-1)\n",
    "preds = sigmoid_np(preds)\n",
    "pred = preds.max(axis=-1)"
   ]
  },
  {
   "cell_type": "code",
   "execution_count": 32,
   "metadata": {},
   "outputs": [],
   "source": [
    "def F1_soft(preds,targs,th=0.5,d=50.0):\n",
    "    preds = sigmoid_np(d*(preds - th))\n",
    "    targs = targs.astype(np.float)\n",
    "    score = 2.0*(preds*targs).sum(axis=0)/((preds+targs).sum(axis=0) + 1e-6)\n",
    "    return score\n",
    "\n",
    "def fit_val(x,y):\n",
    "    params = 0.5*np.ones(len(name_label_dict))\n",
    "    wd = 1e-5\n",
    "    error = lambda p: np.concatenate((F1_soft(x,y,p) - 1.0,\n",
    "                                      wd*(p - 0.5)), axis=None)\n",
    "    p, success = opt.leastsq(error, params)\n",
    "    return p"
   ]
  },
  {
   "cell_type": "code",
   "execution_count": 33,
   "metadata": {},
   "outputs": [
    {
     "name": "stderr",
     "output_type": "stream",
     "text": [
      "/home/watts/anaconda3/lib/python3.6/site-packages/ipykernel_launcher.py:2: RuntimeWarning: overflow encountered in exp\n",
      "  \n"
     ]
    },
    {
     "name": "stdout",
     "output_type": "stream",
     "text": [
      "Thresholds:  [0.54629 0.50232 0.51148 0.50899 0.53346 0.55995 0.55026 0.53009 0.68062 0.62436 0.57881 0.57268 0.57476\n",
      " 0.49415 0.53886 0.34376 0.57524 0.57835 0.47421 0.504   0.56678 0.48903 0.45607 0.56216 0.59767 0.49692\n",
      " 0.47134 0.31459]\n",
      "F1 macro:  0.6391818926242518\n",
      "F1 macro (th = 0.5):  0.6069224394970286\n",
      "F1 micro:  0.7615527950310559\n"
     ]
    }
   ],
   "source": [
    "th = fit_val(pred,y)\n",
    "th[th<0.1] = 0.1\n",
    "print('Thresholds: ',th)\n",
    "print('F1 macro: ',f1_score(y, pred>th, average='macro'))\n",
    "print('F1 macro (th = 0.5): ',f1_score(y, pred>0.5, average='macro'))\n",
    "print('F1 micro: ',f1_score(y, pred>th, average='micro'))"
   ]
  },
  {
   "cell_type": "code",
   "execution_count": 34,
   "metadata": {},
   "outputs": [
    {
     "name": "stdout",
     "output_type": "stream",
     "text": [
      "                                                \r"
     ]
    }
   ],
   "source": [
    "preds_t,y_t = learner.TTA(n_aug=16,is_test=True)\n",
    "preds_t = np.stack(preds_t, axis=-1)\n",
    "preds_t = sigmoid_np(preds_t)\n",
    "pred_t = preds_t.max(axis=-1) #max works better for F1 macro score"
   ]
  },
  {
   "cell_type": "code",
   "execution_count": 58,
   "metadata": {},
   "outputs": [],
   "source": [
    "np.save('../cache/preds_t_50_max', preds_t)"
   ]
  },
  {
   "cell_type": "code",
   "execution_count": 24,
   "metadata": {},
   "outputs": [],
   "source": [
    "learner.load('ResNet50_512_50Max')"
   ]
  },
  {
   "cell_type": "code",
   "execution_count": 67,
   "metadata": {},
   "outputs": [],
   "source": [
    "preds_t, y_t= learner.predict_with_targs(is_test=True)"
   ]
  },
  {
   "cell_type": "code",
   "execution_count": 68,
   "metadata": {},
   "outputs": [
    {
     "data": {
      "text/plain": [
       "(11702, 28)"
      ]
     },
     "execution_count": 68,
     "metadata": {},
     "output_type": "execute_result"
    }
   ],
   "source": [
    "preds_t.shape"
   ]
  },
  {
   "cell_type": "code",
   "execution_count": 69,
   "metadata": {},
   "outputs": [],
   "source": [
    "preds1_t = preds_t"
   ]
  },
  {
   "cell_type": "code",
   "execution_count": 70,
   "metadata": {},
   "outputs": [
    {
     "data": {
      "text/plain": [
       "array([ 1.05024, -3.77126, -2.67847, -2.95024, -3.37264, -1.93405, -3.13763, -1.96297, -6.17354, -5.69437,\n",
       "       -5.95168, -2.63831, -3.56306, -3.58782, -3.22382, -5.7628 , -2.17251, -2.68878, -2.66358, -0.92524,\n",
       "       -3.93674, -1.91435, -2.77443, -3.0279 , -3.21317, -0.46304, -3.23608, -4.84881], dtype=float32)"
      ]
     },
     "execution_count": 70,
     "metadata": {},
     "output_type": "execute_result"
    }
   ],
   "source": [
    "preds_t[0]"
   ]
  },
  {
   "cell_type": "code",
   "execution_count": 71,
   "metadata": {},
   "outputs": [],
   "source": [
    "# preds_t = np.stack(preds_t, axis=-1)\n",
    "preds_t = sigmoid_np(preds_t)\n",
    "pred_t = preds_t.max(axis=-1) #max works better for F1 macro score"
   ]
  },
  {
   "cell_type": "code",
   "execution_count": 72,
   "metadata": {},
   "outputs": [
    {
     "data": {
      "text/plain": [
       "array([0.74082, 0.0225 , 0.06426, 0.04972, 0.03316, 0.1263 , 0.04158, 0.12315, 0.00208, 0.00335, 0.00259,\n",
       "       0.06671, 0.02757, 0.02691, 0.03828, 0.00313, 0.10225, 0.06364, 0.06516, 0.28389, 0.01914, 0.12849,\n",
       "       0.05872, 0.04618, 0.03867, 0.38627, 0.03783, 0.00778], dtype=float32)"
      ]
     },
     "execution_count": 72,
     "metadata": {},
     "output_type": "execute_result"
    }
   ],
   "source": [
    "preds_t[0]"
   ]
  },
  {
   "cell_type": "code",
   "execution_count": 73,
   "metadata": {},
   "outputs": [],
   "source": [
    "np.save('../cache/preds_t_noTTA_50_max', preds_t)"
   ]
  },
  {
   "cell_type": "code",
   "execution_count": 35,
   "metadata": {},
   "outputs": [],
   "source": [
    "def save_pred(pred, th=0.5, fname='../submissions/sub50-max.csv'):\n",
    "    pred_list = []\n",
    "    for line in pred:\n",
    "        s = ' '.join(list([str(i) for i in np.nonzero(line>th)[0]]))\n",
    "        pred_list.append(s)\n",
    "        \n",
    "    sample_df = pd.read_csv(SAMPLE)\n",
    "    sample_list = list(sample_df.Id)\n",
    "    pred_dic = dict((key, value) for (key, value) \n",
    "                in zip(learner.data.test_ds.fnames,pred_list))\n",
    "    pred_list_cor = [pred_dic[id] for id in sample_list]\n",
    "    df = pd.DataFrame({'Id':sample_list,'Predicted':pred_list_cor})\n",
    "    df.to_csv(fname, header=True, index=False)"
   ]
  },
  {
   "cell_type": "code",
   "execution_count": 36,
   "metadata": {},
   "outputs": [
    {
     "name": "stdout",
     "output_type": "stream",
     "text": [
      "Fractions:  [0.43565 0.04991 0.07913 0.077   0.08366 0.12451 0.07349 0.1087  0.00111 0.00111 0.0012  0.05315 0.0429\n",
      " 0.02495 0.04794 0.      0.06486 0.04367 0.04298 0.0787  0.01222 0.15485 0.0411  0.11784 0.01453 0.28337\n",
      " 0.03863 0.0435 ]\n"
     ]
    }
   ],
   "source": [
    "th_t = np.array([0.565,0.39,0.55,0.345,0.33,0.39,0.33,0.45,0.38,0.39,\n",
    "               0.34,0.42,0.31,0.38,0.49,0.50,0.38,0.43,0.46,0.40,\n",
    "               0.39,0.505,0.37,0.47,0.41,0.545,0.32,0.1])\n",
    "print('Fractions: ',(pred_t > th_t).mean(axis=0))\n",
    "save_pred(pred_t,th_t)"
   ]
  },
  {
   "cell_type": "code",
   "execution_count": 37,
   "metadata": {},
   "outputs": [],
   "source": [
    "lb_prob = [\n",
    " 0.362397820,0.043841336,0.075268817,0.059322034,0.075268817,\n",
    " 0.075268817,0.043841336,0.075268817,0.010000000,0.010000000,\n",
    " 0.010000000,0.043841336,0.043841336,0.014198783,0.043841336,\n",
    " 0.010000000,0.028806584,0.014198783,0.028806584,0.059322034,\n",
    " 0.010000000,0.126126126,0.028806584,0.075268817,0.010000000,\n",
    " 0.222493880,0.028806584,0.010000000]"
   ]
  },
  {
   "cell_type": "code",
   "execution_count": 38,
   "metadata": {},
   "outputs": [],
   "source": [
    "def Count_soft(preds,th=0.5,d=50.0):\n",
    "    preds = sigmoid_np(d*(preds - th))\n",
    "    return preds.mean(axis=0)\n",
    "\n",
    "def fit_test(x,y):\n",
    "    params = 0.5*np.ones(len(name_label_dict))\n",
    "    wd = 1e-5\n",
    "    error = lambda p: np.concatenate((Count_soft(x,p) - y,\n",
    "                                      wd*(p - 0.5)), axis=None)\n",
    "    p, success = opt.leastsq(error, params)\n",
    "    return p"
   ]
  },
  {
   "cell_type": "code",
   "execution_count": 39,
   "metadata": {},
   "outputs": [
    {
     "name": "stdout",
     "output_type": "stream",
     "text": [
      "Thresholds:  [0.63296 0.46181 0.57307 0.40913 0.3563  0.49311 0.42073 0.552   0.1459  0.16103 0.1546  0.49037 0.3116\n",
      " 0.54685 0.54292 0.15627 0.5857  0.77269 0.52832 0.46315 0.43512 0.5528  0.45369 0.60869 0.5605  0.59079\n",
      " 0.37693 0.17616]\n",
      "Fractions:  [0.36498 0.0435  0.07426 0.05854 0.07289 0.07375 0.04256 0.07443 0.00701 0.00786 0.00735 0.04358 0.04247\n",
      " 0.01427 0.04392 0.00641 0.02897 0.01427 0.02854 0.05854 0.00974 0.12494 0.02794 0.07494 0.01    0.22193\n",
      " 0.02777 0.00573]\n",
      "Fractions (th = 0.5):  [0.49821 0.04127 0.09092 0.04444 0.04247 0.07195 0.02777 0.0899  0.00068 0.00068 0.00051 0.0423  0.02094\n",
      " 0.01564 0.04683 0.      0.03888 0.03521 0.03341 0.04905 0.00769 0.15775 0.0235  0.10716 0.01145 0.34498\n",
      " 0.01547 0.00026]\n"
     ]
    }
   ],
   "source": [
    "th_t = fit_test(pred_t,lb_prob)\n",
    "th_t[th_t<0.1] = 0.1\n",
    "print('Thresholds: ',th_t)\n",
    "print('Fractions: ',(pred_t > th_t).mean(axis=0))\n",
    "print('Fractions (th = 0.5): ',(pred_t > 0.5).mean(axis=0))"
   ]
  },
  {
   "cell_type": "code",
   "execution_count": 40,
   "metadata": {},
   "outputs": [],
   "source": [
    "save_pred(pred_t,th_t,'../submissions/sub50-max-f.csv')"
   ]
  },
  {
   "cell_type": "code",
   "execution_count": 41,
   "metadata": {},
   "outputs": [],
   "source": [
    "save_pred(pred_t,th,'../submissions/sub50-max-v.csv')\n",
    "save_pred(pred_t,0.5,'../submissions/sub50-max-05.csv')"
   ]
  },
  {
   "cell_type": "code",
   "execution_count": 56,
   "metadata": {},
   "outputs": [],
   "source": [
    "# save_pred(pred_t,0.5,'../submissions/sub50-max-05.csv')\n",
    "save_pred(pred_t,0.45,'../submissions/sub50-max-045.csv')\n",
    "save_pred(pred_t,0.40,'../submissions/sub50-max-040.csv')\n",
    "save_pred(pred_t,0.35,'../submissions/sub50-max-035.csv')\n",
    "save_pred(pred_t,0.30,'../submissions/sub50-max-030.csv')\n",
    "save_pred(pred_t,0.25,'../submissions/sub50-max-025.csv')"
   ]
  },
  {
   "cell_type": "code",
   "execution_count": 42,
   "metadata": {},
   "outputs": [],
   "source": [
    "class_list = [8,9,10,15,20,24,27]\n",
    "for i in class_list:\n",
    "    th_t[i] = th[i]\n",
    "save_pred(pred_t,th_t,'../submissions/sub50-max-c.csv')"
   ]
  },
  {
   "cell_type": "code",
   "execution_count": 43,
   "metadata": {},
   "outputs": [
    {
     "data": {
      "text/plain": [
       "(array([40958.,  3072., 10871.,  3329.,  5130.,  5938.,  3725.,  9405.,   217.,   197.,   182.,  2194.,\n",
       "         2233.,  1458.,  2692.,    63.,  1290.,   446.,  1893.,  3672.,   438., 13809.,  2729., 10345.,\n",
       "          428., 37366.,   706.,   127.]),\n",
       " array([0.38757, 0.02907, 0.10287, 0.0315 , 0.04854, 0.05619, 0.03525, 0.089  , 0.00205, 0.00186, 0.00172,\n",
       "        0.02076, 0.02113, 0.0138 , 0.02547, 0.0006 , 0.01221, 0.00422, 0.01791, 0.03475, 0.00414, 0.13067,\n",
       "        0.02582, 0.09789, 0.00405, 0.35358, 0.00668, 0.0012 ]))"
      ]
     },
     "execution_count": 43,
     "metadata": {},
     "output_type": "execute_result"
    }
   ],
   "source": [
    "labels = pd.read_csv(LABELS).set_index('Id')\n",
    "label_count = np.zeros(len(name_label_dict))\n",
    "for label in labels['Target']:\n",
    "    l = [int(i) for i in label.split()]\n",
    "    label_count += np.eye(len(name_label_dict))[l].sum(axis=0)\n",
    "label_fraction = label_count.astype(np.float)/len(labels)\n",
    "label_count, label_fraction"
   ]
  },
  {
   "cell_type": "code",
   "execution_count": 44,
   "metadata": {},
   "outputs": [
    {
     "name": "stdout",
     "output_type": "stream",
     "text": [
      "Thresholds:  [0.61031 0.69905 0.46599 0.605   0.46466 0.55995 0.45961 0.50596 0.28119 0.32072 0.30641 0.76949 0.50039\n",
      " 0.5588  0.77093 0.28936 0.79564 0.93314 0.60171 0.57444 0.62792 0.54489 0.4801  0.52909 0.8591  0.4939\n",
      " 0.66123 0.28138]\n",
      "Fractions:  [0.38908 0.02931 0.10195 0.03145 0.04794 0.0564  0.03401 0.08793 0.00197 0.00162 0.00171 0.02119 0.02094\n",
      " 0.01367 0.02555 0.0006  0.01222 0.00419 0.01743 0.03427 0.00436 0.12938 0.02504 0.09674 0.00419 0.35267\n",
      " 0.00641 0.00085]\n"
     ]
    }
   ],
   "source": [
    "th_t = fit_test(pred_t,label_fraction)\n",
    "th_t[th_t<0.05] = 0.05\n",
    "print('Thresholds: ',th_t)\n",
    "print('Fractions: ',(pred_t > th_t).mean(axis=0))\n",
    "save_pred(pred_t,th_t,'../submissions/sub50-max-t.csv')"
   ]
  },
  {
   "cell_type": "code",
   "execution_count": 45,
   "metadata": {},
   "outputs": [
    {
     "name": "stdout",
     "output_type": "stream",
     "text": [
      "100%|████████████████████████████████████████| 468k/468k [00:18<00:00, 25.5kB/s]\n",
      "Successfully submitted to Human Protein Atlas Image ClassificationfileName          date                 description  status    publicScore  privateScore  \n",
      "----------------  -------------------  -----------  --------  -----------  ------------  \n",
      "sub50-max-t.csv   2018-12-14 02:56:13               complete  0.507        None          \n",
      "sub48-max-b.csv   2018-12-12 06:57:44               complete  0.449        None          \n",
      "sub48-max-a.csv   2018-12-12 06:55:45               complete  0.457        None          \n",
      "sub44-max-t.csv   2018-12-10 20:51:55               complete  0.019        None          \n",
      "sub41-t-l.csv     2018-12-08 09:27:37               complete  0.541        None          \n",
      "sub41-max-b.csv   2018-12-08 08:04:32               complete  0.478        None          \n",
      "sub41-max-a.csv   2018-12-08 08:03:03               complete  0.479        None          \n",
      "sub41-c.csv       2018-12-07 01:29:14               complete  0.493        None          \n",
      "sub41-f.csv       2018-12-07 01:28:39               complete  0.481        None          \n",
      "sub41-t.csv       2018-12-07 01:27:50               complete  0.498        None          \n",
      "sub41-v.csv       2018-12-07 01:27:04               complete  0.484        None          \n",
      "sub41.csv         2018-12-07 01:26:29               complete  0.494        None          \n",
      "sub33-mag-05.csv  2018-12-06 12:29:28               complete  0.492        None          \n",
      "sub33-mag-c.csv   2018-12-06 12:28:48               complete  0.491        None          \n",
      "sub33-mag-f.csv   2018-12-06 12:28:08               complete  0.488        None          \n",
      "sub33-mag-t.csv   2018-12-06 12:27:36               complete  0.481        None          \n",
      "sub33-mag.csv     2018-12-06 12:26:29               complete  0.491        None          \n",
      "sub40-a.csv       2018-12-02 07:28:08               complete  0.447        None          \n",
      "sub40-a.csv       2018-12-02 07:18:27               complete  0.477        None          \n",
      "sub41-a.csv       2018-12-01 19:07:17               complete  0.477        None          \n",
      "CPU times: user 881 ms, sys: 431 ms, total: 1.31 s\n",
      "Wall time: 52 s\n"
     ]
    }
   ],
   "source": [
    "%%time\n",
    "!kaggle competitions submit -c human-protein-atlas-image-classification -f ../submissions/sub50-max-t.csv -m \"\"\n",
    "from time import sleep\n",
    "sleep(10)\n",
    "!kaggle competitions submissions -c human-protein-atlas-image-classification"
   ]
  },
  {
   "cell_type": "code",
   "execution_count": null,
   "metadata": {},
   "outputs": [],
   "source": []
  },
  {
   "cell_type": "code",
   "execution_count": 46,
   "metadata": {},
   "outputs": [],
   "source": [
    "leak_test = pd.read_csv('../cache/leak_test.csv')\n",
    "sub50 = pd.read_csv('../submissions/sub50-max-t.csv')\n",
    "for idx, row in leak_test.iterrows():\n",
    "    test_id = row['Id']\n",
    "    target = row['Target']\n",
    "    sub50.loc[sub50.Id == test_id, 'Predicted'] = target"
   ]
  },
  {
   "cell_type": "code",
   "execution_count": 47,
   "metadata": {},
   "outputs": [],
   "source": [
    "sub50.to_csv('../submissions/sub50-max-t-l.csv', index=False)"
   ]
  },
  {
   "cell_type": "code",
   "execution_count": 48,
   "metadata": {},
   "outputs": [
    {
     "name": "stdout",
     "output_type": "stream",
     "text": [
      "100%|████████████████████████████████████████| 468k/468k [00:15<00:00, 30.7kB/s]\n",
      "Successfully submitted to Human Protein Atlas Image ClassificationfileName           date                 description  status    publicScore  privateScore  \n",
      "-----------------  -------------------  -----------  --------  -----------  ------------  \n",
      "sub50-max-t-l.csv  2018-12-14 04:48:42               complete  0.533        None          \n",
      "sub50-max-t.csv    2018-12-14 02:56:13               complete  0.507        None          \n",
      "sub48-max-b.csv    2018-12-12 06:57:44               complete  0.449        None          \n",
      "sub48-max-a.csv    2018-12-12 06:55:45               complete  0.457        None          \n",
      "sub44-max-t.csv    2018-12-10 20:51:55               complete  0.019        None          \n",
      "sub41-t-l.csv      2018-12-08 09:27:37               complete  0.541        None          \n",
      "sub41-max-b.csv    2018-12-08 08:04:32               complete  0.478        None          \n",
      "sub41-max-a.csv    2018-12-08 08:03:03               complete  0.479        None          \n",
      "sub41-c.csv        2018-12-07 01:29:14               complete  0.493        None          \n",
      "sub41-f.csv        2018-12-07 01:28:39               complete  0.481        None          \n",
      "sub41-t.csv        2018-12-07 01:27:50               complete  0.498        None          \n",
      "sub41-v.csv        2018-12-07 01:27:04               complete  0.484        None          \n",
      "sub41.csv          2018-12-07 01:26:29               complete  0.494        None          \n",
      "sub33-mag-05.csv   2018-12-06 12:29:28               complete  0.492        None          \n",
      "sub33-mag-c.csv    2018-12-06 12:28:48               complete  0.491        None          \n",
      "sub33-mag-f.csv    2018-12-06 12:28:08               complete  0.488        None          \n",
      "sub33-mag-t.csv    2018-12-06 12:27:36               complete  0.481        None          \n",
      "sub33-mag.csv      2018-12-06 12:26:29               complete  0.491        None          \n",
      "sub40-a.csv        2018-12-02 07:28:08               complete  0.447        None          \n",
      "sub40-a.csv        2018-12-02 07:18:27               complete  0.477        None          \n",
      "CPU times: user 374 ms, sys: 365 ms, total: 739 ms\n",
      "Wall time: 31.6 s\n"
     ]
    }
   ],
   "source": [
    "%%time\n",
    "!kaggle competitions submit -c human-protein-atlas-image-classification -f ../submissions/sub50-max-t-l.csv -m \"\"\n",
    "from time import sleep\n",
    "sleep(10)\n",
    "!kaggle competitions submissions -c human-protein-atlas-image-classification"
   ]
  },
  {
   "cell_type": "code",
   "execution_count": 49,
   "metadata": {},
   "outputs": [
    {
     "name": "stdout",
     "output_type": "stream",
     "text": [
      "100%|████████████████████████████████████████| 468k/468k [00:08<00:00, 49.1kB/s]\n",
      "Successfully submitted to Human Protein Atlas Image ClassificationfileName           date                 description  status    publicScore  privateScore  \n",
      "-----------------  -------------------  -----------  --------  -----------  ------------  \n",
      "sub50-max-c.csv    2018-12-14 04:52:04               complete  0.523        None          \n",
      "sub50-max-t-l.csv  2018-12-14 04:48:42               complete  0.533        None          \n",
      "sub50-max-t.csv    2018-12-14 02:56:13               complete  0.507        None          \n",
      "sub48-max-b.csv    2018-12-12 06:57:44               complete  0.449        None          \n",
      "sub48-max-a.csv    2018-12-12 06:55:45               complete  0.457        None          \n",
      "sub44-max-t.csv    2018-12-10 20:51:55               complete  0.019        None          \n",
      "sub41-t-l.csv      2018-12-08 09:27:37               complete  0.541        None          \n",
      "sub41-max-b.csv    2018-12-08 08:04:32               complete  0.478        None          \n",
      "sub41-max-a.csv    2018-12-08 08:03:03               complete  0.479        None          \n",
      "sub41-c.csv        2018-12-07 01:29:14               complete  0.493        None          \n",
      "sub41-f.csv        2018-12-07 01:28:39               complete  0.481        None          \n",
      "sub41-t.csv        2018-12-07 01:27:50               complete  0.498        None          \n",
      "sub41-v.csv        2018-12-07 01:27:04               complete  0.484        None          \n",
      "sub41.csv          2018-12-07 01:26:29               complete  0.494        None          \n",
      "sub33-mag-05.csv   2018-12-06 12:29:28               complete  0.492        None          \n",
      "sub33-mag-c.csv    2018-12-06 12:28:48               complete  0.491        None          \n",
      "sub33-mag-f.csv    2018-12-06 12:28:08               complete  0.488        None          \n",
      "sub33-mag-t.csv    2018-12-06 12:27:36               complete  0.481        None          \n",
      "sub33-mag.csv      2018-12-06 12:26:29               complete  0.491        None          \n",
      "sub40-a.csv        2018-12-02 07:28:08               complete  0.447        None          \n",
      "CPU times: user 620 ms, sys: 228 ms, total: 849 ms\n",
      "Wall time: 34.3 s\n"
     ]
    }
   ],
   "source": [
    "%%time\n",
    "!kaggle competitions submit -c human-protein-atlas-image-classification -f ../submissions/sub50-max-c.csv -m \"\"\n",
    "from time import sleep\n",
    "sleep(10)\n",
    "!kaggle competitions submissions -c human-protein-atlas-image-classification"
   ]
  },
  {
   "cell_type": "code",
   "execution_count": 53,
   "metadata": {},
   "outputs": [],
   "source": [
    "leak_test = pd.read_csv('../cache/leak_test.csv')\n",
    "sub50 = pd.read_csv('../submissions/sub50-max-c.csv')\n",
    "for idx, row in leak_test.iterrows():\n",
    "    test_id = row['Id']\n",
    "    target = row['Target']\n",
    "    sub50.loc[sub50.Id == test_id, 'Predicted'] = target\n",
    "sub50.to_csv('../submissions/sub50-max-c-l.csv', index=False)"
   ]
  },
  {
   "cell_type": "code",
   "execution_count": 54,
   "metadata": {},
   "outputs": [
    {
     "name": "stdout",
     "output_type": "stream",
     "text": [
      "fileName           date                 description  status    publicScore  privateScore  \r\n",
      "-----------------  -------------------  -----------  --------  -----------  ------------  \r\n",
      "sub50-max-c-l.csv  2018-12-14 04:52:55               complete  0.557        None          \r\n",
      "sub50-max-c.csv    2018-12-14 04:52:04               complete  0.523        None          \r\n",
      "sub50-max-t-l.csv  2018-12-14 04:48:42               complete  0.533        None          \r\n",
      "sub50-max-t.csv    2018-12-14 02:56:13               complete  0.507        None          \r\n",
      "sub48-max-b.csv    2018-12-12 06:57:44               complete  0.449        None          \r\n",
      "sub48-max-a.csv    2018-12-12 06:55:45               complete  0.457        None          \r\n",
      "sub44-max-t.csv    2018-12-10 20:51:55               complete  0.019        None          \r\n",
      "sub41-t-l.csv      2018-12-08 09:27:37               complete  0.541        None          \r\n",
      "sub41-max-b.csv    2018-12-08 08:04:32               complete  0.478        None          \r\n",
      "sub41-max-a.csv    2018-12-08 08:03:03               complete  0.479        None          \r\n",
      "sub41-c.csv        2018-12-07 01:29:14               complete  0.493        None          \r\n",
      "sub41-f.csv        2018-12-07 01:28:39               complete  0.481        None          \r\n",
      "sub41-t.csv        2018-12-07 01:27:50               complete  0.498        None          \r\n",
      "sub41-v.csv        2018-12-07 01:27:04               complete  0.484        None          \r\n",
      "sub41.csv          2018-12-07 01:26:29               complete  0.494        None          \r\n",
      "sub33-mag-05.csv   2018-12-06 12:29:28               complete  0.492        None          \r\n",
      "sub33-mag-c.csv    2018-12-06 12:28:48               complete  0.491        None          \r\n",
      "sub33-mag-f.csv    2018-12-06 12:28:08               complete  0.488        None          \r\n",
      "sub33-mag-t.csv    2018-12-06 12:27:36               complete  0.481        None          \r\n",
      "sub33-mag.csv      2018-12-06 12:26:29               complete  0.491        None          \r\n"
     ]
    }
   ],
   "source": [
    "%%time\n",
    "!kaggle competitions submit -c human-protein-atlas-image-classification -f ../submissions/sub50-max-c-l.csv -m \"\"\n",
    "from time import sleep\n",
    "sleep(10)\n",
    "!kaggle competitions submissions -c human-protein-atlas-image-classification"
   ]
  },
  {
   "cell_type": "code",
   "execution_count": 55,
   "metadata": {},
   "outputs": [
    {
     "name": "stdout",
     "output_type": "stream",
     "text": [
      "100%|████████████████████████████████████████| 476k/476k [00:13<00:00, 37.1kB/s]\n",
      "Successfully submitted to Human Protein Atlas Image ClassificationfileName           date                 description  status    publicScore  privateScore  \n",
      "-----------------  -------------------  -----------  --------  -----------  ------------  \n",
      "sub50-max-05.csv   2018-12-14 04:56:42               complete  0.533        None          \n",
      "sub50-max-c-l.csv  2018-12-14 04:52:55               complete  0.557        None          \n",
      "sub50-max-c.csv    2018-12-14 04:52:04               complete  0.523        None          \n",
      "sub50-max-t-l.csv  2018-12-14 04:48:42               complete  0.533        None          \n",
      "sub50-max-t.csv    2018-12-14 02:56:13               complete  0.507        None          \n",
      "sub48-max-b.csv    2018-12-12 06:57:44               complete  0.449        None          \n",
      "sub48-max-a.csv    2018-12-12 06:55:45               complete  0.457        None          \n",
      "sub44-max-t.csv    2018-12-10 20:51:55               complete  0.019        None          \n",
      "sub41-t-l.csv      2018-12-08 09:27:37               complete  0.541        None          \n",
      "sub41-max-b.csv    2018-12-08 08:04:32               complete  0.478        None          \n",
      "sub41-max-a.csv    2018-12-08 08:03:03               complete  0.479        None          \n",
      "sub41-c.csv        2018-12-07 01:29:14               complete  0.493        None          \n",
      "sub41-f.csv        2018-12-07 01:28:39               complete  0.481        None          \n",
      "sub41-t.csv        2018-12-07 01:27:50               complete  0.498        None          \n",
      "sub41-v.csv        2018-12-07 01:27:04               complete  0.484        None          \n",
      "sub41.csv          2018-12-07 01:26:29               complete  0.494        None          \n",
      "sub33-mag-05.csv   2018-12-06 12:29:28               complete  0.492        None          \n",
      "sub33-mag-c.csv    2018-12-06 12:28:48               complete  0.491        None          \n",
      "sub33-mag-f.csv    2018-12-06 12:28:08               complete  0.488        None          \n",
      "sub33-mag-t.csv    2018-12-06 12:27:36               complete  0.481        None          \n",
      "CPU times: user 375 ms, sys: 398 ms, total: 772 ms\n",
      "Wall time: 31.7 s\n"
     ]
    }
   ],
   "source": [
    "%%time\n",
    "!kaggle competitions submit -c human-protein-atlas-image-classification -f ../submissions/sub50-max-05.csv -m \"\"\n",
    "from time import sleep\n",
    "sleep(10)\n",
    "!kaggle competitions submissions -c human-protein-atlas-image-classification"
   ]
  },
  {
   "cell_type": "code",
   "execution_count": 6,
   "metadata": {},
   "outputs": [
    {
     "name": "stdout",
     "output_type": "stream",
     "text": [
      "fileName           date                 description  status    publicScore  privateScore  \r\n",
      "-----------------  -------------------  -----------  --------  -----------  ------------  \r\n",
      "sub50-max-045.csv  2018-12-15 05:36:27               complete  0.528        None          \r\n",
      "sub50-max-05.csv   2018-12-14 04:56:42               complete  0.533        None          \r\n",
      "sub50-max-c-l.csv  2018-12-14 04:52:55               complete  0.557        None          \r\n",
      "sub50-max-c.csv    2018-12-14 04:52:04               complete  0.523        None          \r\n",
      "sub50-max-t-l.csv  2018-12-14 04:48:42               complete  0.533        None          \r\n",
      "sub50-max-t.csv    2018-12-14 02:56:13               complete  0.507        None          \r\n",
      "sub48-max-b.csv    2018-12-12 06:57:44               complete  0.449        None          \r\n",
      "sub48-max-a.csv    2018-12-12 06:55:45               complete  0.457        None          \r\n",
      "sub44-max-t.csv    2018-12-10 20:51:55               complete  0.019        None          \r\n",
      "sub41-t-l.csv      2018-12-08 09:27:37               complete  0.541        None          \r\n",
      "sub41-max-b.csv    2018-12-08 08:04:32               complete  0.478        None          \r\n",
      "sub41-max-a.csv    2018-12-08 08:03:03               complete  0.479        None          \r\n",
      "sub41-c.csv        2018-12-07 01:29:14               complete  0.493        None          \r\n",
      "sub41-f.csv        2018-12-07 01:28:39               complete  0.481        None          \r\n",
      "sub41-t.csv        2018-12-07 01:27:50               complete  0.498        None          \r\n",
      "sub41-v.csv        2018-12-07 01:27:04               complete  0.484        None          \r\n",
      "sub41.csv          2018-12-07 01:26:29               complete  0.494        None          \r\n",
      "sub33-mag-05.csv   2018-12-06 12:29:28               complete  0.492        None          \r\n",
      "sub33-mag-c.csv    2018-12-06 12:28:48               complete  0.491        None          \r\n",
      "sub33-mag-f.csv    2018-12-06 12:28:08               complete  0.488        None          \r\n"
     ]
    }
   ],
   "source": [
    "%%time\n",
    "!kaggle competitions submit -c human-protein-atlas-image-classification -f ../submissions/sub50-max-045.csv -m \"\"\n",
    "from time import sleep\n",
    "sleep(10)\n",
    "!kaggle competitions submissions -c human-protein-atlas-image-classification"
   ]
  },
  {
   "cell_type": "code",
   "execution_count": 7,
   "metadata": {},
   "outputs": [],
   "source": [
    "leak_test = pd.read_csv('../cache/leak_test.csv')\n",
    "sub50 = pd.read_csv('../submissions/sub50-max-05.csv')\n",
    "for idx, row in leak_test.iterrows():\n",
    "    test_id = row['Id']\n",
    "    target = row['Target']\n",
    "    sub50.loc[sub50.Id == test_id, 'Predicted'] = target\n",
    "sub50.to_csv('../submissions/sub50-max-05-l.csv', index=False)"
   ]
  },
  {
   "cell_type": "code",
   "execution_count": 9,
   "metadata": {},
   "outputs": [
    {
     "name": "stdout",
     "output_type": "stream",
     "text": [
      "100%|████████████████████████████████████████| 476k/476k [00:44<00:00, 10.8kB/s]\n",
      "Successfully submitted to Human Protein Atlas Image ClassificationfileName            date                 description  status    publicScore  privateScore  \n",
      "------------------  -------------------  -----------  --------  -----------  ------------  \n",
      "sub50-max-05-l.csv  2018-12-15 05:44:54               complete  0.578        None          \n",
      "sub50-max-045.csv   2018-12-15 05:36:27               complete  0.528        None          \n",
      "sub50-max-05.csv    2018-12-14 04:56:42               complete  0.533        None          \n",
      "sub50-max-c-l.csv   2018-12-14 04:52:55               complete  0.557        None          \n",
      "sub50-max-c.csv     2018-12-14 04:52:04               complete  0.523        None          \n",
      "sub50-max-t-l.csv   2018-12-14 04:48:42               complete  0.533        None          \n",
      "sub50-max-t.csv     2018-12-14 02:56:13               complete  0.507        None          \n",
      "sub48-max-b.csv     2018-12-12 06:57:44               complete  0.449        None          \n",
      "sub48-max-a.csv     2018-12-12 06:55:45               complete  0.457        None          \n",
      "sub44-max-t.csv     2018-12-10 20:51:55               complete  0.019        None          \n",
      "sub41-t-l.csv       2018-12-08 09:27:37               complete  0.541        None          \n",
      "sub41-max-b.csv     2018-12-08 08:04:32               complete  0.478        None          \n",
      "sub41-max-a.csv     2018-12-08 08:03:03               complete  0.479        None          \n",
      "sub41-c.csv         2018-12-07 01:29:14               complete  0.493        None          \n",
      "sub41-f.csv         2018-12-07 01:28:39               complete  0.481        None          \n",
      "sub41-t.csv         2018-12-07 01:27:50               complete  0.498        None          \n",
      "sub41-v.csv         2018-12-07 01:27:04               complete  0.484        None          \n",
      "sub41.csv           2018-12-07 01:26:29               complete  0.494        None          \n",
      "sub33-mag-05.csv    2018-12-06 12:29:28               complete  0.492        None          \n",
      "sub33-mag-c.csv     2018-12-06 12:28:48               complete  0.491        None          \n",
      "CPU times: user 2.03 s, sys: 591 ms, total: 2.63 s\n",
      "Wall time: 1min 41s\n"
     ]
    }
   ],
   "source": [
    "%%time\n",
    "!kaggle competitions submit -c human-protein-atlas-image-classification -f ../submissions/sub50-max-05-l.csv -m \"\"\n",
    "from time import sleep\n",
    "sleep(10)\n",
    "!kaggle competitions submissions -c human-protein-atlas-image-classification"
   ]
  },
  {
   "cell_type": "code",
   "execution_count": 75,
   "metadata": {},
   "outputs": [],
   "source": [
    "def save_pred(pred, th=0.5, fname='../submissions/sub50-max-notta.csv'):\n",
    "    pred_list = []\n",
    "    for line in pred:\n",
    "        s = ' '.join(list([str(i) for i in np.nonzero(line>th)[0]]))\n",
    "        pred_list.append(s)\n",
    "        \n",
    "    sample_df = pd.read_csv(SAMPLE)\n",
    "    sample_list = list(sample_df.Id)\n",
    "    pred_dic = dict((key, value) for (key, value) \n",
    "                in zip(learner.data.test_ds.fnames,pred_list))\n",
    "    pred_list_cor = [pred_dic[id] for id in sample_list]\n",
    "    df = pd.DataFrame({'Id':sample_list,'Predicted':pred_list_cor})\n",
    "    df.to_csv(fname, header=True, index=False)"
   ]
  },
  {
   "cell_type": "code",
   "execution_count": 76,
   "metadata": {},
   "outputs": [
    {
     "ename": "ValueError",
     "evalue": "operands could not be broadcast together with shapes (11702,) (28,) ",
     "output_type": "error",
     "traceback": [
      "\u001b[0;31m---------------------------------------------------------------------------\u001b[0m",
      "\u001b[0;31mValueError\u001b[0m                                Traceback (most recent call last)",
      "\u001b[0;32m<ipython-input-76-1f93002789fe>\u001b[0m in \u001b[0;36m<module>\u001b[0;34m()\u001b[0m\n\u001b[1;32m      2\u001b[0m                \u001b[0;36m0.34\u001b[0m\u001b[0;34m,\u001b[0m\u001b[0;36m0.42\u001b[0m\u001b[0;34m,\u001b[0m\u001b[0;36m0.31\u001b[0m\u001b[0;34m,\u001b[0m\u001b[0;36m0.38\u001b[0m\u001b[0;34m,\u001b[0m\u001b[0;36m0.49\u001b[0m\u001b[0;34m,\u001b[0m\u001b[0;36m0.50\u001b[0m\u001b[0;34m,\u001b[0m\u001b[0;36m0.38\u001b[0m\u001b[0;34m,\u001b[0m\u001b[0;36m0.43\u001b[0m\u001b[0;34m,\u001b[0m\u001b[0;36m0.46\u001b[0m\u001b[0;34m,\u001b[0m\u001b[0;36m0.40\u001b[0m\u001b[0;34m,\u001b[0m\u001b[0;34m\u001b[0m\u001b[0m\n\u001b[1;32m      3\u001b[0m                0.39,0.505,0.37,0.47,0.41,0.545,0.32,0.1])\n\u001b[0;32m----> 4\u001b[0;31m \u001b[0mprint\u001b[0m\u001b[0;34m(\u001b[0m\u001b[0;34m'Fractions: '\u001b[0m\u001b[0;34m,\u001b[0m\u001b[0;34m(\u001b[0m\u001b[0mpred_t\u001b[0m \u001b[0;34m>\u001b[0m \u001b[0mth_t\u001b[0m\u001b[0;34m)\u001b[0m\u001b[0;34m.\u001b[0m\u001b[0mmean\u001b[0m\u001b[0;34m(\u001b[0m\u001b[0maxis\u001b[0m\u001b[0;34m=\u001b[0m\u001b[0;36m0\u001b[0m\u001b[0;34m)\u001b[0m\u001b[0;34m)\u001b[0m\u001b[0;34m\u001b[0m\u001b[0m\n\u001b[0m\u001b[1;32m      5\u001b[0m \u001b[0msave_pred\u001b[0m\u001b[0;34m(\u001b[0m\u001b[0mpred_t\u001b[0m\u001b[0;34m,\u001b[0m\u001b[0mth_t\u001b[0m\u001b[0;34m)\u001b[0m\u001b[0;34m\u001b[0m\u001b[0m\n",
      "\u001b[0;31mValueError\u001b[0m: operands could not be broadcast together with shapes (11702,) (28,) "
     ]
    }
   ],
   "source": [
    "th_t = np.array([0.565,0.39,0.55,0.345,0.33,0.39,0.33,0.45,0.38,0.39,\n",
    "               0.34,0.42,0.31,0.38,0.49,0.50,0.38,0.43,0.46,0.40,\n",
    "               0.39,0.505,0.37,0.47,0.41,0.545,0.32,0.1])\n",
    "print('Fractions: ',(pred_t > th_t).mean(axis=0))\n",
    "save_pred(pred_t,th_t)"
   ]
  },
  {
   "cell_type": "code",
   "execution_count": 60,
   "metadata": {},
   "outputs": [],
   "source": [
    "# pred= preds_t\n",
    "# fname='../submissions/sub50-max-notta.csv'\n",
    "# th=0.5\n",
    "# pred_list = []\n",
    "# for line in pred:\n",
    "#     s = ' '.join(list([str(i) for i in np.nonzero(line>th)[0]]))\n",
    "#     pred_list.append(s)\n",
    "# sample_df = pd.read_csv(SAMPLE)\n",
    "# sample_list = list(sample_df.Id)\n",
    "# pred_dic = dict((key, value) for (key, value) \n",
    "#             in zip(learner.data.test_ds.fnames,pred_list))\n",
    "# pred_list_cor = [pred_dic[id] for id in sample_list]\n",
    "# df = pd.DataFrame({'Id':sample_list,'Predicted':pred_list_cor})\n",
    "# df.to_csv(fname, header=True, index=False)"
   ]
  },
  {
   "cell_type": "code",
   "execution_count": 61,
   "metadata": {},
   "outputs": [
    {
     "data": {
      "text/plain": [
       "(11702, 2)"
      ]
     },
     "execution_count": 61,
     "metadata": {},
     "output_type": "execute_result"
    }
   ],
   "source": [
    "df.shape"
   ]
  },
  {
   "cell_type": "code",
   "execution_count": 62,
   "metadata": {},
   "outputs": [
    {
     "data": {
      "text/html": [
       "<div>\n",
       "<style scoped>\n",
       "    .dataframe tbody tr th:only-of-type {\n",
       "        vertical-align: middle;\n",
       "    }\n",
       "\n",
       "    .dataframe tbody tr th {\n",
       "        vertical-align: top;\n",
       "    }\n",
       "\n",
       "    .dataframe thead th {\n",
       "        text-align: right;\n",
       "    }\n",
       "</style>\n",
       "<table border=\"1\" class=\"dataframe\">\n",
       "  <thead>\n",
       "    <tr style=\"text-align: right;\">\n",
       "      <th></th>\n",
       "      <th>Id</th>\n",
       "      <th>Predicted</th>\n",
       "    </tr>\n",
       "  </thead>\n",
       "  <tbody>\n",
       "    <tr>\n",
       "      <th>0</th>\n",
       "      <td>00008af0-bad0-11e8-b2b8-ac1f6b6435d0</td>\n",
       "      <td>2</td>\n",
       "    </tr>\n",
       "    <tr>\n",
       "      <th>1</th>\n",
       "      <td>0000a892-bacf-11e8-b2b8-ac1f6b6435d0</td>\n",
       "      <td>5</td>\n",
       "    </tr>\n",
       "    <tr>\n",
       "      <th>2</th>\n",
       "      <td>0006faa6-bac7-11e8-b2b7-ac1f6b6435d0</td>\n",
       "      <td>0 5 25</td>\n",
       "    </tr>\n",
       "    <tr>\n",
       "      <th>3</th>\n",
       "      <td>0008baca-bad7-11e8-b2b9-ac1f6b6435d0</td>\n",
       "      <td>0</td>\n",
       "    </tr>\n",
       "    <tr>\n",
       "      <th>4</th>\n",
       "      <td>000cce7e-bad4-11e8-b2b8-ac1f6b6435d0</td>\n",
       "      <td>23</td>\n",
       "    </tr>\n",
       "  </tbody>\n",
       "</table>\n",
       "</div>"
      ],
      "text/plain": [
       "                                     Id Predicted\n",
       "0  00008af0-bad0-11e8-b2b8-ac1f6b6435d0         2\n",
       "1  0000a892-bacf-11e8-b2b8-ac1f6b6435d0         5\n",
       "2  0006faa6-bac7-11e8-b2b7-ac1f6b6435d0    0 5 25\n",
       "3  0008baca-bad7-11e8-b2b9-ac1f6b6435d0         0\n",
       "4  000cce7e-bad4-11e8-b2b8-ac1f6b6435d0        23"
      ]
     },
     "execution_count": 62,
     "metadata": {},
     "output_type": "execute_result"
    }
   ],
   "source": [
    "df.head()"
   ]
  },
  {
   "cell_type": "code",
   "execution_count": 80,
   "metadata": {},
   "outputs": [],
   "source": [
    "save_pred(pred_t,0.5,'../submissions/sub50-max-05-notta.csv')"
   ]
  },
  {
   "cell_type": "code",
   "execution_count": 84,
   "metadata": {},
   "outputs": [
    {
     "name": "stdout",
     "output_type": "stream",
     "text": [
      "fileName                date                 description  status    publicScore  privateScore  \n",
      "----------------------  -------------------  -----------  --------  -----------  ------------  \n",
      "sub50-max-05-notta.csv  2018-12-15 08:41:36               complete  0.020        None          \n",
      "sub50-max-05-notta.csv  2018-12-15 08:22:48               complete  0.020        None          \n",
      "sub54-max-a.csv         2018-12-15 06:06:02               complete  0.365        None          \n",
      "sub50-max-05-l.csv      2018-12-15 05:44:54               complete  0.578        None          \n",
      "sub50-max-045.csv       2018-12-15 05:36:27               complete  0.528        None          \n",
      "sub50-max-05.csv        2018-12-14 04:56:42               complete  0.533        None          \n",
      "sub50-max-c-l.csv       2018-12-14 04:52:55               complete  0.557        None          \n",
      "sub50-max-c.csv         2018-12-14 04:52:04               complete  0.523        None          \n",
      "sub50-max-t-l.csv       2018-12-14 04:48:42               complete  0.533        None          \n",
      "sub50-max-t.csv         2018-12-14 02:56:13               complete  0.507        None          \n",
      "sub48-max-b.csv         2018-12-12 06:57:44               complete  0.449        None          \n",
      "sub48-max-a.csv         2018-12-12 06:55:45               complete  0.457        None          \n",
      "sub44-max-t.csv         2018-12-10 20:51:55               complete  0.019        None          \n",
      "sub41-t-l.csv           2018-12-08 09:27:37               complete  0.541        None          \n",
      "sub41-max-b.csv         2018-12-08 08:04:32               complete  0.478        None          \n",
      "sub41-max-a.csv         2018-12-08 08:03:03               complete  0.479        None          \n",
      "sub41-c.csv             2018-12-07 01:29:14               complete  0.493        None          \n",
      "sub41-f.csv             2018-12-07 01:28:39               complete  0.481        None          \n",
      "sub41-t.csv             2018-12-07 01:27:50               complete  0.498        None          \n",
      "sub41-v.csv             2018-12-07 01:27:04               complete  0.484        None          \n",
      "CPU times: user 319 ms, sys: 132 ms, total: 450 ms\n",
      "Wall time: 23 s\n"
     ]
    }
   ],
   "source": [
    "%%time\n",
    "!kaggle competitions submit -c human-protein-atlas-image-classification -f ../submissions/sub50-max-05-notta.csv -m \"\"\n",
    "from time import sleep\n",
    "sleep(10)\n",
    "!kaggle competitions submissions -c human-protein-atlas-image-classification"
   ]
  },
  {
   "cell_type": "code",
   "execution_count": 9,
   "metadata": {},
   "outputs": [
    {
     "name": "stdout",
     "output_type": "stream",
     "text": [
      "100%|████████████████████████████████████████| 476k/476k [00:12<00:00, 37.6kB/s]\n",
      "Successfully submitted to Human Protein Atlas Image ClassificationfileName                date                 description  status    publicScore  privateScore  \n",
      "----------------------  -------------------  -----------  --------  -----------  ------------  \n",
      "sub50_22.csv            2018-12-16 02:56:59               complete  0.579        None          \n",
      "sub50_22.csv            2018-12-16 02:32:16               complete  0.578        None          \n",
      "sub50_22.csv            2018-12-16 02:16:49               complete  0.059        None          \n",
      "sub50_22.csv            2018-12-16 02:00:57               complete  0.059        None          \n",
      "sub50-max-05-notta.csv  2018-12-15 08:41:36               complete  0.020        None          \n",
      "sub50-max-05-notta.csv  2018-12-15 08:22:48               complete  0.020        None          \n",
      "sub54-max-a.csv         2018-12-15 06:06:02               complete  0.365        None          \n",
      "sub50-max-05-l.csv      2018-12-15 05:44:54               complete  0.578        None          \n",
      "sub50-max-045.csv       2018-12-15 05:36:27               complete  0.528        None          \n",
      "sub50-max-05.csv        2018-12-14 04:56:42               complete  0.533        None          \n",
      "sub50-max-c-l.csv       2018-12-14 04:52:55               complete  0.557        None          \n",
      "sub50-max-c.csv         2018-12-14 04:52:04               complete  0.523        None          \n",
      "sub50-max-t-l.csv       2018-12-14 04:48:42               complete  0.533        None          \n",
      "sub50-max-t.csv         2018-12-14 02:56:13               complete  0.507        None          \n",
      "sub48-max-b.csv         2018-12-12 06:57:44               complete  0.449        None          \n",
      "sub48-max-a.csv         2018-12-12 06:55:45               complete  0.457        None          \n",
      "sub44-max-t.csv         2018-12-10 20:51:55               complete  0.019        None          \n",
      "sub41-t-l.csv           2018-12-08 09:27:37               complete  0.541        None          \n",
      "sub41-max-b.csv         2018-12-08 08:04:32               complete  0.478        None          \n",
      "sub41-max-a.csv         2018-12-08 08:03:03               complete  0.479        None          \n",
      "CPU times: user 366 ms, sys: 119 ms, total: 485 ms\n",
      "Wall time: 48.3 s\n"
     ]
    }
   ],
   "source": [
    "%%time\n",
    "!kaggle competitions submit -c human-protein-atlas-image-classification -f ../submissions/sub50_22.csv -m \"\"\n",
    "from time import sleep\n",
    "sleep(30)\n",
    "!kaggle competitions submissions -c human-protein-atlas-image-classification"
   ]
  },
  {
   "cell_type": "code",
   "execution_count": 11,
   "metadata": {},
   "outputs": [],
   "source": [
    "# !pip install imagehash"
   ]
  },
  {
   "cell_type": "code",
   "execution_count": 32,
   "metadata": {},
   "outputs": [],
   "source": [
    "import pickle\n",
    "import numpy as np\n",
    "from imagehash import phash\n",
    "from math import sqrt\n",
    "\n",
    "def match(h1,h2, h2ps, color):\n",
    "    for p1 in h2ps[h1]:\n",
    "        for p2 in h2ps[h2]:\n",
    "            i1 =  pil_image.open(expand_path(p1) + '_' + color + '.png')\n",
    "            i2 =  pil_image.open(expand_path(p2) + '_' + color + '.png')\n",
    "            if i1.mode != i2.mode or i1.size != i2.size: return False\n",
    "            a1 = np.array(i1)\n",
    "            a1 = a1 - a1.mean()\n",
    "            a1 = a1/sqrt((a1**2).mean())\n",
    "            a2 = np.array(i2)\n",
    "            a2 = a2 - a2.mean()\n",
    "            a2 = a2/sqrt((a2**2).mean())\n",
    "            a  = ((a1 - a2)**2).mean()\n",
    "            if a > 0.1: return False\n",
    "    return True"
   ]
  },
  {
   "cell_type": "code",
   "execution_count": 20,
   "metadata": {},
   "outputs": [
    {
     "data": {
      "text/plain": [
       "(105678,\n",
       " 11702,\n",
       " 117380,\n",
       " [('00070df0-bbc3-11e8-b2bc-ac1f6b6435d0', '16 0'),\n",
       "  ('000a6c98-bb9b-11e8-b2b9-ac1f6b6435d0', '7 1 2 0'),\n",
       "  ('000a9596-bbc4-11e8-b2bc-ac1f6b6435d0', '5'),\n",
       "  ('000c99ba-bba4-11e8-b2b9-ac1f6b6435d0', '1'),\n",
       "  ('001838f8-bbca-11e8-b2bc-ac1f6b6435d0', '18')],\n",
       " ['00008af0-bad0-11e8-b2b8-ac1f6b6435d0',\n",
       "  '0000a892-bacf-11e8-b2b8-ac1f6b6435d0',\n",
       "  '0006faa6-bac7-11e8-b2b7-ac1f6b6435d0',\n",
       "  '0008baca-bad7-11e8-b2b9-ac1f6b6435d0',\n",
       "  '000cce7e-bad4-11e8-b2b8-ac1f6b6435d0'])"
      ]
     },
     "execution_count": 20,
     "metadata": {},
     "output_type": "execute_result"
    }
   ],
   "source": [
    "tagged = dict([(p,w) for _,p,w in pd.read_csv('../data/train_combined_all.csv').to_records()])\n",
    "submit = [p for _,p,_ in pd.read_csv('../data/sample_submission.csv').to_records()]\n",
    "join   = list(tagged.keys()) + submit\n",
    "len(tagged),len(submit),len(join),list(tagged.items())[:5],submit[:5]\n"
   ]
  },
  {
   "cell_type": "code",
   "execution_count": 21,
   "metadata": {},
   "outputs": [],
   "source": [
    "from os.path import isfile\n",
    "from PIL import Image as pil_image\n",
    "from tqdm import tqdm_notebook"
   ]
  },
  {
   "cell_type": "code",
   "execution_count": 22,
   "metadata": {},
   "outputs": [],
   "source": [
    "def expand_path(p):\n",
    "    if isfile('../data/train_combined/' + p + '_green.png'): return '../data/train_combined/' + p\n",
    "    if isfile('../data/test/' + p + '_green.png'): return '../data/test/' + p\n",
    "    return p"
   ]
  },
  {
   "cell_type": "code",
   "execution_count": 25,
   "metadata": {},
   "outputs": [
    {
     "data": {
      "application/vnd.jupyter.widget-view+json": {
       "model_id": "6c9339c5b56e4a39808666d74090c391",
       "version_major": 2,
       "version_minor": 0
      },
      "text/html": [
       "<p>Failed to display Jupyter Widget of type <code>HBox</code>.</p>\n",
       "<p>\n",
       "  If you're reading this message in the Jupyter Notebook or JupyterLab Notebook, it may mean\n",
       "  that the widgets JavaScript is still loading. If this message persists, it\n",
       "  likely means that the widgets JavaScript library is either not installed or\n",
       "  not enabled. See the <a href=\"https://ipywidgets.readthedocs.io/en/stable/user_install.html\">Jupyter\n",
       "  Widgets Documentation</a> for setup instructions.\n",
       "</p>\n",
       "<p>\n",
       "  If you're reading this message in another frontend (for example, a static\n",
       "  rendering on GitHub or <a href=\"https://nbviewer.jupyter.org/\">NBViewer</a>),\n",
       "  it may mean that your frontend doesn't currently support widgets.\n",
       "</p>\n"
      ],
      "text/plain": [
       "HBox(children=(IntProgress(value=0, max=117380), HTML(value='')))"
      ]
     },
     "metadata": {},
     "output_type": "display_data"
    },
    {
     "name": "stdout",
     "output_type": "stream",
     "text": [
      "\n"
     ]
    }
   ],
   "source": [
    "p2h_red = {}\n",
    "p2h_green = {}\n",
    "p2h_blue = {}\n",
    "for p in tqdm_notebook(join):\n",
    "    img1    = pil_image.open(expand_path(p) + '_red.png')\n",
    "    img2    = pil_image.open(expand_path(p) + '_green.png')\n",
    "    img3    = pil_image.open(expand_path(p) + '_blue.png')\n",
    "    \n",
    "    h1      = phash(img1)\n",
    "    p2h_red[p] = h1\n",
    "\n",
    "    h2      = phash(img2)\n",
    "    p2h_green[p] = h2\n",
    "    \n",
    "    h3      = phash(img3)\n",
    "    p2h_blue[p] = h3"
   ]
  },
  {
   "cell_type": "code",
   "execution_count": 26,
   "metadata": {},
   "outputs": [
    {
     "data": {
      "application/vnd.jupyter.widget-view+json": {
       "model_id": "88d6f18fe37543be935da7a6f217b752",
       "version_major": 2,
       "version_minor": 0
      },
      "text/html": [
       "<p>Failed to display Jupyter Widget of type <code>HBox</code>.</p>\n",
       "<p>\n",
       "  If you're reading this message in the Jupyter Notebook or JupyterLab Notebook, it may mean\n",
       "  that the widgets JavaScript is still loading. If this message persists, it\n",
       "  likely means that the widgets JavaScript library is either not installed or\n",
       "  not enabled. See the <a href=\"https://ipywidgets.readthedocs.io/en/stable/user_install.html\">Jupyter\n",
       "  Widgets Documentation</a> for setup instructions.\n",
       "</p>\n",
       "<p>\n",
       "  If you're reading this message in another frontend (for example, a static\n",
       "  rendering on GitHub or <a href=\"https://nbviewer.jupyter.org/\">NBViewer</a>),\n",
       "  it may mean that your frontend doesn't currently support widgets.\n",
       "</p>\n"
      ],
      "text/plain": [
       "HBox(children=(IntProgress(value=0, max=117380), HTML(value='')))"
      ]
     },
     "metadata": {},
     "output_type": "display_data"
    },
    {
     "name": "stdout",
     "output_type": "stream",
     "text": [
      "\n"
     ]
    }
   ],
   "source": [
    "# Find all images associated with a given phash value.\n",
    "h2ps_red = {}\n",
    "for p,h in tqdm_notebook(p2h_red.items()):\n",
    "    if h not in h2ps_red: h2ps_red[h] = []\n",
    "    if p not in h2ps_red[h]: h2ps_red[h].append(p)\n",
    "\n",
    "# Find all distinct phash values\n",
    "hs_red = list(h2ps_red.keys())"
   ]
  },
  {
   "cell_type": "code",
   "execution_count": 27,
   "metadata": {},
   "outputs": [
    {
     "data": {
      "application/vnd.jupyter.widget-view+json": {
       "model_id": "c4cbf6ce9fd1404d88b65674b072a62d",
       "version_major": 2,
       "version_minor": 0
      },
      "text/html": [
       "<p>Failed to display Jupyter Widget of type <code>HBox</code>.</p>\n",
       "<p>\n",
       "  If you're reading this message in the Jupyter Notebook or JupyterLab Notebook, it may mean\n",
       "  that the widgets JavaScript is still loading. If this message persists, it\n",
       "  likely means that the widgets JavaScript library is either not installed or\n",
       "  not enabled. See the <a href=\"https://ipywidgets.readthedocs.io/en/stable/user_install.html\">Jupyter\n",
       "  Widgets Documentation</a> for setup instructions.\n",
       "</p>\n",
       "<p>\n",
       "  If you're reading this message in another frontend (for example, a static\n",
       "  rendering on GitHub or <a href=\"https://nbviewer.jupyter.org/\">NBViewer</a>),\n",
       "  it may mean that your frontend doesn't currently support widgets.\n",
       "</p>\n"
      ],
      "text/plain": [
       "HBox(children=(IntProgress(value=0, max=117380), HTML(value='')))"
      ]
     },
     "metadata": {},
     "output_type": "display_data"
    },
    {
     "name": "stdout",
     "output_type": "stream",
     "text": [
      "\n"
     ]
    }
   ],
   "source": [
    "h2ps_green = {}\n",
    "for p,h in tqdm_notebook(p2h_green.items()):\n",
    "    if h not in h2ps_green: h2ps_green[h] = []\n",
    "    if p not in h2ps_green[h]: h2ps_green[h].append(p)\n",
    "\n",
    "# Find all distinct phash values\n",
    "hs_green = list(h2ps_green.keys())"
   ]
  },
  {
   "cell_type": "code",
   "execution_count": 28,
   "metadata": {},
   "outputs": [
    {
     "data": {
      "application/vnd.jupyter.widget-view+json": {
       "model_id": "f0ffd572b5604870b6dd5576cf48f465",
       "version_major": 2,
       "version_minor": 0
      },
      "text/html": [
       "<p>Failed to display Jupyter Widget of type <code>HBox</code>.</p>\n",
       "<p>\n",
       "  If you're reading this message in the Jupyter Notebook or JupyterLab Notebook, it may mean\n",
       "  that the widgets JavaScript is still loading. If this message persists, it\n",
       "  likely means that the widgets JavaScript library is either not installed or\n",
       "  not enabled. See the <a href=\"https://ipywidgets.readthedocs.io/en/stable/user_install.html\">Jupyter\n",
       "  Widgets Documentation</a> for setup instructions.\n",
       "</p>\n",
       "<p>\n",
       "  If you're reading this message in another frontend (for example, a static\n",
       "  rendering on GitHub or <a href=\"https://nbviewer.jupyter.org/\">NBViewer</a>),\n",
       "  it may mean that your frontend doesn't currently support widgets.\n",
       "</p>\n"
      ],
      "text/plain": [
       "HBox(children=(IntProgress(value=0, max=117380), HTML(value='')))"
      ]
     },
     "metadata": {},
     "output_type": "display_data"
    },
    {
     "name": "stdout",
     "output_type": "stream",
     "text": [
      "\n"
     ]
    }
   ],
   "source": [
    "h2ps_blue= {}\n",
    "for p,h in tqdm_notebook(p2h_blue.items()):\n",
    "    if h not in h2ps_blue: h2ps_blue[h] = []\n",
    "    if p not in h2ps_blue[h]: h2ps_blue[h].append(p)\n",
    "\n",
    "# Find all distinct phash values\n",
    "hs_blue = list(h2ps_blue.keys())"
   ]
  },
  {
   "cell_type": "code",
   "execution_count": null,
   "metadata": {},
   "outputs": [
    {
     "data": {
      "application/vnd.jupyter.widget-view+json": {
       "model_id": "74d0e800264d4cdab37efb0b52f2fc50",
       "version_major": 2,
       "version_minor": 0
      },
      "text/html": [
       "<p>Failed to display Jupyter Widget of type <code>HBox</code>.</p>\n",
       "<p>\n",
       "  If you're reading this message in the Jupyter Notebook or JupyterLab Notebook, it may mean\n",
       "  that the widgets JavaScript is still loading. If this message persists, it\n",
       "  likely means that the widgets JavaScript library is either not installed or\n",
       "  not enabled. See the <a href=\"https://ipywidgets.readthedocs.io/en/stable/user_install.html\">Jupyter\n",
       "  Widgets Documentation</a> for setup instructions.\n",
       "</p>\n",
       "<p>\n",
       "  If you're reading this message in another frontend (for example, a static\n",
       "  rendering on GitHub or <a href=\"https://nbviewer.jupyter.org/\">NBViewer</a>),\n",
       "  it may mean that your frontend doesn't currently support widgets.\n",
       "</p>\n"
      ],
      "text/plain": [
       "HBox(children=(IntProgress(value=0, max=113281), HTML(value='')))"
      ]
     },
     "metadata": {},
     "output_type": "display_data"
    },
    {
     "name": "stdout",
     "output_type": "stream",
     "text": [
      "\n"
     ]
    }
   ],
   "source": [
    "# If the images are close enough, associate the two phash values (this is the slow part: n^2 algorithm)\n",
    "h2h_red = {}\n",
    "for i,h1 in enumerate(tqdm_notebook(hs_red)):\n",
    "    for h2 in hs_red[:i]:\n",
    "        if h1-h2 <= 6 and match(h1, h2, h2ps_red, 'red'):\n",
    "            s1 = str(h1)\n",
    "            s2 = str(h2)\n",
    "            if s1 < s2: s1,s2 = s2,s1\n",
    "            h2h_red[s1] = s2"
   ]
  },
  {
   "cell_type": "code",
   "execution_count": null,
   "metadata": {},
   "outputs": [
    {
     "data": {
      "application/vnd.jupyter.widget-view+json": {
       "model_id": "55ca51322c1b4aa89967296131c73873",
       "version_major": 2,
       "version_minor": 0
      },
      "text/html": [
       "<p>Failed to display Jupyter Widget of type <code>HBox</code>.</p>\n",
       "<p>\n",
       "  If you're reading this message in the Jupyter Notebook or JupyterLab Notebook, it may mean\n",
       "  that the widgets JavaScript is still loading. If this message persists, it\n",
       "  likely means that the widgets JavaScript library is either not installed or\n",
       "  not enabled. See the <a href=\"https://ipywidgets.readthedocs.io/en/stable/user_install.html\">Jupyter\n",
       "  Widgets Documentation</a> for setup instructions.\n",
       "</p>\n",
       "<p>\n",
       "  If you're reading this message in another frontend (for example, a static\n",
       "  rendering on GitHub or <a href=\"https://nbviewer.jupyter.org/\">NBViewer</a>),\n",
       "  it may mean that your frontend doesn't currently support widgets.\n",
       "</p>\n"
      ],
      "text/plain": [
       "HBox(children=(IntProgress(value=0, max=113063), HTML(value='')))"
      ]
     },
     "metadata": {},
     "output_type": "display_data"
    }
   ],
   "source": [
    "# If the images are close enough, associate the two phash values (this is the slow part: n^2 algorithm)\n",
    "h2h_green = {}\n",
    "for i,h1 in enumerate(tqdm_notebook(hs_green)):\n",
    "    for h2 in hs_green[:i]:\n",
    "        if h1-h2 <= 6 and match(h1, h2, h2ps_green, 'green'):\n",
    "            s1 = str(h1)\n",
    "            s2 = str(h2)\n",
    "            if s1 < s2: s1,s2 = s2,s1\n",
    "            h2h_green[s1] = s2"
   ]
  },
  {
   "cell_type": "code",
   "execution_count": null,
   "metadata": {},
   "outputs": [],
   "source": [
    "# If the images are close enough, associate the two phash values (this is the slow part: n^2 algorithm)\n",
    "h2h_blue = {}\n",
    "for i,h1 in enumerate(tqdm_notebook(hs_blue)):\n",
    "    for h2 in hs_blue[:i]:\n",
    "        if h1-h2 <= 6 and match(h1, h2, h2ps_blue, 'blue'):\n",
    "            s1 = str(h1)\n",
    "            s2 = str(h2)\n",
    "            if s1 < s2: s1,s2 = s2,s1\n",
    "            h2h_blue[s1] = s2"
   ]
  },
  {
   "cell_type": "code",
   "execution_count": null,
   "metadata": {},
   "outputs": [],
   "source": [
    "# Group together images with equivalent phash, and replace by string format of phash (faster and more readable)\n",
    "for p,h in tqdm_notebook(p2h_red.items()):\n",
    "    h = str(h)\n",
    "    if h in h2h_red: h = h2h_red[h]\n",
    "    p2h_red[p] = h\n",
    "\n",
    "len(p2h_red), list(p2h_red.items())[:5]"
   ]
  },
  {
   "cell_type": "code",
   "execution_count": null,
   "metadata": {},
   "outputs": [],
   "source": [
    "# Group together images with equivalent phash, and replace by string format of phash (faster and more readable)\n",
    "for p,h in tqdm_notebook(p2h_green.items()):\n",
    "    h = str(h)\n",
    "    if h in h2h_green: h = h2h_green[h]\n",
    "    p2h_green[p] = h\n",
    "\n",
    "len(p2h_green), list(p2h_green.items())[:5]"
   ]
  },
  {
   "cell_type": "code",
   "execution_count": null,
   "metadata": {},
   "outputs": [],
   "source": [
    "# Group together images with equivalent phash, and replace by string format of phash (faster and more readable)\n",
    "for p,h in tqdm_notebook(p2h_blue.items()):\n",
    "    h = str(h)\n",
    "    if h in h2h_blue: h = h2h_blue[h]\n",
    "    p2h_blue[p] = h\n",
    "\n",
    "len(p2h_blue), list(p2h_blue.items())[:5]"
   ]
  },
  {
   "cell_type": "code",
   "execution_count": 24,
   "metadata": {},
   "outputs": [],
   "source": [
    "learner.load('ResNet50_512_50Max')"
   ]
  },
  {
   "cell_type": "code",
   "execution_count": 26,
   "metadata": {},
   "outputs": [],
   "source": [
    "def sigmoid_np(x):\n",
    "    return 1.0/(1.0 + np.exp(-x))"
   ]
  },
  {
   "cell_type": "code",
   "execution_count": 27,
   "metadata": {},
   "outputs": [],
   "source": [
    "preds,y = learner.TTA(n_aug=16)\n",
    "preds = np.stack(preds, axis=-1)\n",
    "preds = sigmoid_np(preds)\n",
    "pred = preds.max(axis=-1)"
   ]
  },
  {
   "cell_type": "code",
   "execution_count": 28,
   "metadata": {},
   "outputs": [
    {
     "data": {
      "text/plain": [
       "(10568, 28)"
      ]
     },
     "execution_count": 28,
     "metadata": {},
     "output_type": "execute_result"
    }
   ],
   "source": [
    "pred.shape"
   ]
  },
  {
   "cell_type": "code",
   "execution_count": 32,
   "metadata": {},
   "outputs": [],
   "source": [
    "preds_y = pred\n",
    "valid_y = y"
   ]
  },
  {
   "cell_type": "code",
   "execution_count": 33,
   "metadata": {},
   "outputs": [
    {
     "name": "stderr",
     "output_type": "stream",
     "text": [
      "/home/watts/anaconda3/lib/python3.6/site-packages/sklearn/metrics/classification.py:1135: UndefinedMetricWarning: F-score is ill-defined and being set to 0.0 in labels with no predicted samples.\n",
      "  'precision', 'predicted', average, warn_for)\n"
     ]
    },
    {
     "name": "stdout",
     "output_type": "stream",
     "text": [
      "Threshold[0] 0.564565, F1: 0.613524\n",
      "Threshold[1] 0.578579, F1: 0.613827\n",
      "Threshold[2] 0.522523, F1: 0.613947\n",
      "Threshold[3] 0.508509, F1: 0.614109\n",
      "Threshold[4] 0.556557, F1: 0.614303\n",
      "Threshold[5] 0.546547, F1: 0.614791\n",
      "Threshold[6] 0.549550, F1: 0.615562\n",
      "Threshold[7] 0.524525, F1: 0.615918\n",
      "Threshold[8] 0.671672, F1: 0.619461\n",
      "Threshold[9] 0.630631, F1: 0.627703\n",
      "Threshold[10] 0.576577, F1: 0.634138\n",
      "Threshold[11] 0.568569, F1: 0.634515\n",
      "Threshold[12] 0.597598, F1: 0.634666\n",
      "Threshold[13] 0.494494, F1: 0.634779\n",
      "Threshold[14] 0.540541, F1: 0.635516\n",
      "Threshold[15] 0.269269, F1: 0.644063\n",
      "Threshold[16] 0.604605, F1: 0.644882\n",
      "Threshold[17] 0.609610, F1: 0.647033\n",
      "Threshold[18] 0.498498, F1: 0.647138\n",
      "Threshold[19] 0.525526, F1: 0.647413\n",
      "Threshold[20] 0.568569, F1: 0.649028\n",
      "Threshold[21] 0.483483, F1: 0.649145\n",
      "Threshold[22] 0.477477, F1: 0.649667\n",
      "Threshold[23] 0.543544, F1: 0.649885\n",
      "Threshold[24] 0.609610, F1: 0.650996\n",
      "Threshold[25] 0.506507, F1: 0.651021\n",
      "Threshold[26] 0.491491, F1: 0.651435\n",
      "Threshold[27] 0.281281, F1: 0.655494\n",
      "Best threshold: \n",
      "[0.56456 0.57858 0.52252 0.50851 0.55656 0.54655 0.54955 0.52452 0.67167 0.63063 0.57658 0.56857 0.5976\n",
      " 0.49449 0.54054 0.26927 0.6046  0.60961 0.4985  0.52553 0.56857 0.48348 0.47748 0.54354 0.60961 0.50651\n",
      " 0.49149 0.28128]\n",
      "Best f1:\n",
      "[0.61352 0.61383 0.61395 0.61411 0.6143  0.61479 0.61556 0.61592 0.61946 0.6277  0.63414 0.63452 0.63467\n",
      " 0.63478 0.63552 0.64406 0.64488 0.64703 0.64714 0.64741 0.64903 0.64915 0.64967 0.64989 0.651   0.65102\n",
      " 0.65144 0.65549]\n"
     ]
    }
   ],
   "source": [
    "thresholds = np.linspace(0, 1, 1000)\n",
    "score = 0.0\n",
    "test_threshold=0.5*np.ones(28)\n",
    "best_threshold=np.zeros(28)\n",
    "best_val = np.zeros(28)\n",
    "for i in range(28):\n",
    "    for threshold in thresholds:\n",
    "        test_threshold[i] = threshold\n",
    "        max_val = np.max(preds_y)\n",
    "        val_predict = (preds_y > test_threshold)\n",
    "        score = f1_score(valid_y > 0.5, val_predict, average='macro')\n",
    "        if score > best_val[i]:\n",
    "            best_threshold[i] = threshold\n",
    "            best_val[i] = score\n",
    "\n",
    "    print(\"Threshold[%d] %0.6f, F1: %0.6f\" % (i,best_threshold[i],best_val[i]))\n",
    "    test_threshold[i] = best_threshold[i]\n",
    "\n",
    "print(\"Best threshold: \")\n",
    "print(best_threshold)\n",
    "print(\"Best f1:\")\n",
    "print(best_val)"
   ]
  },
  {
   "cell_type": "code",
   "execution_count": 49,
   "metadata": {},
   "outputs": [],
   "source": [
    "# preds_t = np.load('../cache/preds_t_50_max.npy')"
   ]
  },
  {
   "cell_type": "code",
   "execution_count": 36,
   "metadata": {},
   "outputs": [],
   "source": [
    "def save_pred(pred, th=0.5, fname='../submissions/sub50-max.csv'):\n",
    "    pred_list = []\n",
    "    for line in pred:\n",
    "        s = ' '.join(list([str(i) for i in np.nonzero(line>th)[0]]))\n",
    "        pred_list.append(s)\n",
    "        \n",
    "    sample_df = pd.read_csv(SAMPLE)\n",
    "    sample_list = list(sample_df.Id)\n",
    "    pred_dic = dict((key, value) for (key, value) \n",
    "                in zip(learner.data.test_ds.fnames,pred_list))\n",
    "    pred_list_cor = [pred_dic[id] for id in sample_list]\n",
    "    df = pd.DataFrame({'Id':sample_list,'Predicted':pred_list_cor})\n",
    "    df.to_csv(fname, header=True, index=False)"
   ]
  },
  {
   "cell_type": "code",
   "execution_count": 50,
   "metadata": {},
   "outputs": [],
   "source": [
    "# preds_t = np.stack(preds_t, axis=-1)\n",
    "# preds_t = sigmoid_np(preds_t)\n",
    "# pred_t = preds_t.max(axis=-1) #max works better for F1 macro score"
   ]
  },
  {
   "cell_type": "code",
   "execution_count": 52,
   "metadata": {},
   "outputs": [
    {
     "name": "stdout",
     "output_type": "stream",
     "text": [
      "                                                \r"
     ]
    }
   ],
   "source": [
    "preds_t,y_t = learner.TTA(n_aug=16,is_test=True)\n",
    "preds_t = np.stack(preds_t, axis=-1)\n",
    "preds_t = sigmoid_np(preds_t)\n",
    "pred_t = preds_t.max(axis=-1) #max works better for F1 macro score"
   ]
  },
  {
   "cell_type": "code",
   "execution_count": 53,
   "metadata": {},
   "outputs": [
    {
     "data": {
      "text/plain": [
       "(11702, 28)"
      ]
     },
     "execution_count": 53,
     "metadata": {},
     "output_type": "execute_result"
    }
   ],
   "source": [
    "pred_t.shape"
   ]
  },
  {
   "cell_type": "code",
   "execution_count": 54,
   "metadata": {},
   "outputs": [],
   "source": [
    "th_t = np.array([0.56456, 0.57858, 0.52252, 0.50851, 0.55656, 0.54655, 0.54955, 0.52452, 0.67167, 0.63063,\n",
    "                 0.57658, 0.56857, 0.5976, 0.49449, 0.54054, 0.26927, 0.6046, 0.60961, 0.4985,  \n",
    "                 0.52553, 0.56857, 0.48348, 0.47748, 0.54354, 0.60961, 0.50651, 0.49149, 0.28128])\n",
    "save_pred(pred_t,th_t,'../submissions/sub50-max-f-1.csv')"
   ]
  },
  {
   "cell_type": "code",
   "execution_count": 55,
   "metadata": {},
   "outputs": [
    {
     "name": "stdout",
     "output_type": "stream",
     "text": [
      "100%|████████████████████████████████████████| 472k/472k [02:07<00:00, 3.79kB/s]\n",
      "Successfully submitted to Human Protein Atlas Image ClassificationfileName                date                 description  status    publicScore  privateScore  \n",
      "----------------------  -------------------  -----------  --------  -----------  ------------  \n",
      "sub50-max-f-1.csv       2018-12-18 16:38:26               complete  0.525        None          \n",
      "sub50-max-f-1.csv       2018-12-18 15:53:31               complete  0.061        None          \n",
      "sub55-max-045-l.csv     2018-12-17 20:34:48               complete  0.574        None          \n",
      "sub55-max-05-l.csv      2018-12-17 20:32:23               complete  0.581        None          \n",
      "sub55-max-045.csv       2018-12-17 20:31:53               complete  0.567        None          \n",
      "sub55-max-05.csv        2018-12-17 20:31:18               complete  0.559        None          \n",
      "sub55-max-05.csv        2018-12-17 20:30:37               complete  0.559        None          \n",
      "sub50_22.csv            2018-12-16 02:56:59               complete  0.579        None          \n",
      "sub50_22.csv            2018-12-16 02:32:16               complete  0.578        None          \n",
      "sub50_22.csv            2018-12-16 02:16:49               complete  0.059        None          \n",
      "sub50_22.csv            2018-12-16 02:00:57               complete  0.059        None          \n",
      "sub50-max-05-notta.csv  2018-12-15 08:41:36               complete  0.020        None          \n",
      "sub50-max-05-notta.csv  2018-12-15 08:22:48               complete  0.020        None          \n",
      "sub54-max-a.csv         2018-12-15 06:06:02               complete  0.365        None          \n",
      "sub50-max-05-l.csv      2018-12-15 05:44:54               complete  0.578        None          \n",
      "sub50-max-045.csv       2018-12-15 05:36:27               complete  0.528        None          \n",
      "sub50-max-05.csv        2018-12-14 04:56:42               complete  0.533        None          \n",
      "sub50-max-c-l.csv       2018-12-14 04:52:55               complete  0.557        None          \n",
      "sub50-max-c.csv         2018-12-14 04:52:04               complete  0.523        None          \n",
      "sub50-max-t-l.csv       2018-12-14 04:48:42               complete  0.533        None          \n",
      "CPU times: user 3.23 s, sys: 1.23 s, total: 4.46 s\n",
      "Wall time: 2min 40s\n"
     ]
    }
   ],
   "source": [
    "%%time\n",
    "!kaggle competitions submit -c human-protein-atlas-image-classification -f ../submissions/sub50-max-f-1.csv -m \"\"\n",
    "from time import sleep\n",
    "sleep(10)\n",
    "!kaggle competitions submissions -c human-protein-atlas-image-classification"
   ]
  },
  {
   "cell_type": "code",
   "execution_count": 56,
   "metadata": {},
   "outputs": [],
   "source": [
    "leak_test = pd.read_csv('../cache/leak_test.csv')\n",
    "sub50 = pd.read_csv('../submissions/sub50-max-f-1.csv')\n",
    "for idx, row in leak_test.iterrows():\n",
    "    test_id = row['Id']\n",
    "    target = row['Target']\n",
    "    sub50.loc[sub50.Id == test_id, 'Predicted'] = target\n",
    "sub50.to_csv('../submissions/sub50-max-f-1-l.csv', index=False)"
   ]
  },
  {
   "cell_type": "code",
   "execution_count": 57,
   "metadata": {},
   "outputs": [
    {
     "name": "stdout",
     "output_type": "stream",
     "text": [
      "100%|████████████████████████████████████████| 472k/472k [00:41<00:00, 11.7kB/s]\n",
      "Successfully submitted to Human Protein Atlas Image ClassificationfileName                date                 description  status    publicScore  privateScore  \n",
      "----------------------  -------------------  -----------  --------  -----------  ------------  \n",
      "sub50-max-f-1-l.csv     2018-12-18 16:40:56               complete  0.546        None          \n",
      "sub50-max-f-1.csv       2018-12-18 16:38:26               complete  0.525        None          \n",
      "sub50-max-f-1.csv       2018-12-18 15:53:31               complete  0.061        None          \n",
      "sub55-max-045-l.csv     2018-12-17 20:34:48               complete  0.574        None          \n",
      "sub55-max-05-l.csv      2018-12-17 20:32:23               complete  0.581        None          \n",
      "sub55-max-045.csv       2018-12-17 20:31:53               complete  0.567        None          \n",
      "sub55-max-05.csv        2018-12-17 20:31:18               complete  0.559        None          \n",
      "sub55-max-05.csv        2018-12-17 20:30:37               complete  0.559        None          \n",
      "sub50_22.csv            2018-12-16 02:56:59               complete  0.579        None          \n",
      "sub50_22.csv            2018-12-16 02:32:16               complete  0.578        None          \n",
      "sub50_22.csv            2018-12-16 02:16:49               complete  0.059        None          \n",
      "sub50_22.csv            2018-12-16 02:00:57               complete  0.059        None          \n",
      "sub50-max-05-notta.csv  2018-12-15 08:41:36               complete  0.020        None          \n",
      "sub50-max-05-notta.csv  2018-12-15 08:22:48               complete  0.020        None          \n",
      "sub54-max-a.csv         2018-12-15 06:06:02               complete  0.365        None          \n",
      "sub50-max-05-l.csv      2018-12-15 05:44:54               complete  0.578        None          \n",
      "sub50-max-045.csv       2018-12-15 05:36:27               complete  0.528        None          \n",
      "sub50-max-05.csv        2018-12-14 04:56:42               complete  0.533        None          \n",
      "sub50-max-c-l.csv       2018-12-14 04:52:55               complete  0.557        None          \n",
      "sub50-max-c.csv         2018-12-14 04:52:04               complete  0.523        None          \n",
      "CPU times: user 1.04 s, sys: 402 ms, total: 1.44 s\n",
      "Wall time: 59.8 s\n"
     ]
    }
   ],
   "source": [
    "%%time\n",
    "!kaggle competitions submit -c human-protein-atlas-image-classification -f ../submissions/sub50-max-f-1-l.csv -m \"\"\n",
    "from time import sleep\n",
    "sleep(10)\n",
    "!kaggle competitions submissions -c human-protein-atlas-image-classification"
   ]
  },
  {
   "cell_type": "code",
   "execution_count": 58,
   "metadata": {},
   "outputs": [
    {
     "data": {
      "text/plain": [
       "(11702, 28)"
      ]
     },
     "execution_count": 58,
     "metadata": {},
     "output_type": "execute_result"
    }
   ],
   "source": [
    "y_t.shape"
   ]
  },
  {
   "cell_type": "code",
   "execution_count": 59,
   "metadata": {},
   "outputs": [
    {
     "name": "stdout",
     "output_type": "stream",
     "text": [
      "100%|████████████████████████████████████████| 469k/469k [00:13<00:00, 36.8kB/s]\n",
      "Successfully submitted to Human Protein Atlas Image ClassificationfileName                date                 description  status    publicScore  privateScore  \n",
      "----------------------  -------------------  -----------  --------  -----------  ------------  \n",
      "sub50-max-f.csv         2018-12-18 20:15:51               complete  0.513        None          \n",
      "sub50-max-f-1-l.csv     2018-12-18 16:40:56               complete  0.546        None          \n",
      "sub50-max-f-1.csv       2018-12-18 16:38:26               complete  0.525        None          \n",
      "sub50-max-f-1.csv       2018-12-18 15:53:31               complete  0.061        None          \n",
      "sub55-max-045-l.csv     2018-12-17 20:34:48               complete  0.574        None          \n",
      "sub55-max-05-l.csv      2018-12-17 20:32:23               complete  0.581        None          \n",
      "sub55-max-045.csv       2018-12-17 20:31:53               complete  0.567        None          \n",
      "sub55-max-05.csv        2018-12-17 20:31:18               complete  0.559        None          \n",
      "sub55-max-05.csv        2018-12-17 20:30:37               complete  0.559        None          \n",
      "sub50_22.csv            2018-12-16 02:56:59               complete  0.579        None          \n",
      "sub50_22.csv            2018-12-16 02:32:16               complete  0.578        None          \n",
      "sub50_22.csv            2018-12-16 02:16:49               complete  0.059        None          \n",
      "sub50_22.csv            2018-12-16 02:00:57               complete  0.059        None          \n",
      "sub50-max-05-notta.csv  2018-12-15 08:41:36               complete  0.020        None          \n",
      "sub50-max-05-notta.csv  2018-12-15 08:22:48               complete  0.020        None          \n",
      "sub54-max-a.csv         2018-12-15 06:06:02               complete  0.365        None          \n",
      "sub50-max-05-l.csv      2018-12-15 05:44:54               complete  0.578        None          \n",
      "sub50-max-045.csv       2018-12-15 05:36:27               complete  0.528        None          \n",
      "sub50-max-05.csv        2018-12-14 04:56:42               complete  0.533        None          \n",
      "sub50-max-c-l.csv       2018-12-14 04:52:55               complete  0.557        None          \n",
      "CPU times: user 377 ms, sys: 251 ms, total: 628 ms\n",
      "Wall time: 28.3 s\n"
     ]
    }
   ],
   "source": [
    "%%time\n",
    "!kaggle competitions submit -c human-protein-atlas-image-classification -f ../submissions/sub50-max-f.csv -m \"\"\n",
    "from time import sleep\n",
    "sleep(10)\n",
    "!kaggle competitions submissions -c human-protein-atlas-image-classification"
   ]
  },
  {
   "cell_type": "code",
   "execution_count": 60,
   "metadata": {},
   "outputs": [],
   "source": [
    "save_pred(pred_t,0.55,'../submissions/sub50-max-055.csv')"
   ]
  },
  {
   "cell_type": "code",
   "execution_count": 61,
   "metadata": {},
   "outputs": [
    {
     "name": "stdout",
     "output_type": "stream",
     "text": [
      "100%|████████████████████████████████████████| 468k/468k [00:13<00:00, 36.3kB/s]\n",
      "Successfully submitted to Human Protein Atlas Image ClassificationfileName                date                 description  status    publicScore  privateScore  \n",
      "----------------------  -------------------  -----------  --------  -----------  ------------  \n",
      "sub50-max-055.csv       2018-12-18 20:29:16               complete  0.510        None          \n",
      "sub50-max-f.csv         2018-12-18 20:15:51               complete  0.513        None          \n",
      "sub50-max-f-1-l.csv     2018-12-18 16:40:56               complete  0.546        None          \n",
      "sub50-max-f-1.csv       2018-12-18 16:38:26               complete  0.525        None          \n",
      "sub50-max-f-1.csv       2018-12-18 15:53:31               complete  0.061        None          \n",
      "sub55-max-045-l.csv     2018-12-17 20:34:48               complete  0.574        None          \n",
      "sub55-max-05-l.csv      2018-12-17 20:32:23               complete  0.581        None          \n",
      "sub55-max-045.csv       2018-12-17 20:31:53               complete  0.567        None          \n",
      "sub55-max-05.csv        2018-12-17 20:31:18               complete  0.559        None          \n",
      "sub55-max-05.csv        2018-12-17 20:30:37               complete  0.559        None          \n",
      "sub50_22.csv            2018-12-16 02:56:59               complete  0.579        None          \n",
      "sub50_22.csv            2018-12-16 02:32:16               complete  0.578        None          \n",
      "sub50_22.csv            2018-12-16 02:16:49               complete  0.059        None          \n",
      "sub50_22.csv            2018-12-16 02:00:57               complete  0.059        None          \n",
      "sub50-max-05-notta.csv  2018-12-15 08:41:36               complete  0.020        None          \n",
      "sub50-max-05-notta.csv  2018-12-15 08:22:48               complete  0.020        None          \n",
      "sub54-max-a.csv         2018-12-15 06:06:02               complete  0.365        None          \n",
      "sub50-max-05-l.csv      2018-12-15 05:44:54               complete  0.578        None          \n",
      "sub50-max-045.csv       2018-12-15 05:36:27               complete  0.528        None          \n",
      "sub50-max-05.csv        2018-12-14 04:56:42               complete  0.533        None          \n",
      "CPU times: user 669 ms, sys: 245 ms, total: 914 ms\n",
      "Wall time: 37.8 s\n"
     ]
    }
   ],
   "source": [
    "%%time\n",
    "!kaggle competitions submit -c human-protein-atlas-image-classification -f ../submissions/sub50-max-055.csv -m \"\"\n",
    "from time import sleep\n",
    "sleep(10)\n",
    "!kaggle competitions submissions -c human-protein-atlas-image-classification"
   ]
  },
  {
   "cell_type": "code",
   "execution_count": 62,
   "metadata": {},
   "outputs": [
    {
     "data": {
      "text/plain": [
       "15"
      ]
     },
     "execution_count": 62,
     "metadata": {},
     "output_type": "execute_result"
    }
   ],
   "source": [
    "int('f', 16)"
   ]
  },
  {
   "cell_type": "code",
   "execution_count": null,
   "metadata": {},
   "outputs": [],
   "source": []
  }
 ],
 "metadata": {
  "kernelspec": {
   "display_name": "fastai0_7",
   "language": "python",
   "name": "fastai0_7"
  },
  "language_info": {
   "codemirror_mode": {
    "name": "ipython",
    "version": 3
   },
   "file_extension": ".py",
   "mimetype": "text/x-python",
   "name": "python",
   "nbconvert_exporter": "python",
   "pygments_lexer": "ipython3",
   "version": "3.6.4"
  }
 },
 "nbformat": 4,
 "nbformat_minor": 2
}

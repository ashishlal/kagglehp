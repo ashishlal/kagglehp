{
 "cells": [
  {
   "cell_type": "code",
   "execution_count": 1,
   "metadata": {},
   "outputs": [
    {
     "name": "stdout",
     "output_type": "stream",
     "text": [
      "0.3.1\n"
     ]
    }
   ],
   "source": [
    "# https://www.kaggle.com/iafoss/pretrained-resnet34-with-rgby-0-460-public-lb\n",
    "import torch\n",
    "print(torch.__version__)"
   ]
  },
  {
   "cell_type": "code",
   "execution_count": 2,
   "metadata": {},
   "outputs": [],
   "source": [
    "# 31072 * 4 + 298424\n",
    "\n",
    "# 422712\n",
    "\n",
    "# 469520\n",
    "\n",
    "# 117380 * 4"
   ]
  },
  {
   "cell_type": "code",
   "execution_count": 3,
   "metadata": {},
   "outputs": [],
   "source": [
    "from fastai.conv_learner import *\n",
    "from fastai.dataset import *\n",
    "\n",
    "import pandas as pd\n",
    "import numpy as np\n",
    "import os\n",
    "from sklearn.model_selection import train_test_split\n",
    "from sklearn.metrics import f1_score\n",
    "import scipy.optimize as opt\n",
    "from tqdm import tqdm_notebook, tqdm"
   ]
  },
  {
   "cell_type": "code",
   "execution_count": 4,
   "metadata": {},
   "outputs": [],
   "source": [
    "PATH = './'\n",
    "TRAIN = '../data/train_combined_all/'\n",
    "TEST = '../data/test/'\n",
    "LABELS = '../data/train_combined_all2.csv'\n",
    "SAMPLE = '../data/sample_submission.csv'"
   ]
  },
  {
   "cell_type": "code",
   "execution_count": 5,
   "metadata": {},
   "outputs": [],
   "source": [
    "name_label_dict = {\n",
    "0:  'Nucleoplasm',\n",
    "1:  'Nuclear membrane',\n",
    "2:  'Nucleoli',   \n",
    "3:  'Nucleoli fibrillar center',\n",
    "4:  'Nuclear speckles',\n",
    "5:  'Nuclear bodies',\n",
    "6:  'Endoplasmic reticulum',   \n",
    "7:  'Golgi apparatus',\n",
    "8:  'Peroxisomes',\n",
    "9:  'Endosomes',\n",
    "10:  'Lysosomes',\n",
    "11:  'Intermediate filaments',\n",
    "12:  'Actin filaments',\n",
    "13:  'Focal adhesion sites',   \n",
    "14:  'Microtubules',\n",
    "15:  'Microtubule ends',  \n",
    "16:  'Cytokinetic bridge',   \n",
    "17:  'Mitotic spindle',\n",
    "18:  'Microtubule organizing center',  \n",
    "19:  'Centrosome',\n",
    "20:  'Lipid droplets',\n",
    "21:  'Plasma membrane',   \n",
    "22:  'Cell junctions', \n",
    "23:  'Mitochondria',\n",
    "24:  'Aggresome',\n",
    "25:  'Cytosol',\n",
    "26:  'Cytoplasmic bodies',   \n",
    "27:  'Rods & rings' }"
   ]
  },
  {
   "cell_type": "code",
   "execution_count": 6,
   "metadata": {},
   "outputs": [],
   "source": [
    "nw = 2   #number of workers for data loader\n",
    "arch = resnet50 #specify target architecture"
   ]
  },
  {
   "cell_type": "code",
   "execution_count": 7,
   "metadata": {},
   "outputs": [],
   "source": [
    "# train_names_png = list({f[:36] for f in os.listdir(TRAIN) if 'png' in f})\n",
    "# train_names_jpg = []\n",
    "# for f in tqdm_notebook(os.listdir(TRAIN)):\n",
    "#     if 'png' in f:\n",
    "#         continue\n",
    "#     name = f.split('.')[0]\n",
    "#     name = name.split('_')\n",
    "#     if len(name) == 5:\n",
    "#         name = name[0]+'_'+name[1]+'_'+name[2]+'_'+name[3]\n",
    "#     else:\n",
    "#         name = name[0]+'_'+name[1]+'_'+name[2]+'_'+name[3]+'_'+name[4]\n",
    "#     if name not in train_names_jpg:\n",
    "#         train_names_jpg.append(name)\n",
    "\n",
    "# train_names = train_names_png + train_names_jpg\n",
    "# test_names = list({f[:36] for f in os.listdir(TEST)})\n",
    "\n",
    "\n",
    "# tr_n, val_n = train_test_split(train_names, test_size=0.1, random_state=42)"
   ]
  },
  {
   "cell_type": "code",
   "execution_count": 8,
   "metadata": {},
   "outputs": [
    {
     "name": "stdout",
     "output_type": "stream",
     "text": [
      "105678\n",
      "117380\n"
     ]
    }
   ],
   "source": [
    "import pickle\n",
    "with open('../cache/train_names', 'rb') as f:\n",
    "    train_names = pickle.load(f)\n",
    "print(len(train_names))\n",
    "test_names = list({f[:36] for f in os.listdir(TEST)})\n",
    "train_names = train_names + test_names\n",
    "print(len(train_names))\n",
    "tr_n, val_n = train_test_split(train_names, test_size=0.01, random_state=42)"
   ]
  },
  {
   "cell_type": "code",
   "execution_count": 9,
   "metadata": {},
   "outputs": [],
   "source": [
    "# import pickle\n",
    "# with open('../cache/train_names', 'wb') as f:\n",
    "#     pickle.dump(train_names, f)\n",
    "# with open('../cache/train_names_png1', 'wb') as f:\n",
    "#     pickle.dump(train_names_png, f)\n",
    "# with open('../cache/train_names_png2', 'wb') as f:\n",
    "#     pickle.dump(train_names_jpg, f)"
   ]
  },
  {
   "cell_type": "code",
   "execution_count": 10,
   "metadata": {},
   "outputs": [],
   "source": [
    "# len(train_names), len(train_names_jpg), len(train_names_png)\n",
    "# (105678, 74606, 31072)"
   ]
  },
  {
   "cell_type": "code",
   "execution_count": 11,
   "metadata": {},
   "outputs": [],
   "source": [
    "def open_rgby(path,id): #a function that reads RGBY image\n",
    "#     colors = ['red','green','blue','yellow']\n",
    "    colors = ['red','green','blue']\n",
    "    flags = cv2.IMREAD_GRAYSCALE\n",
    "    img = [cv2.imread(os.path.join(path, id+'_'+color+'.png'), flags).astype(np.float32)/255\n",
    "           for color in colors]\n",
    "    return np.stack(img, axis=-1)"
   ]
  },
  {
   "cell_type": "code",
   "execution_count": 12,
   "metadata": {},
   "outputs": [],
   "source": [
    "# ??FilesDataset"
   ]
  },
  {
   "cell_type": "code",
   "execution_count": 13,
   "metadata": {},
   "outputs": [],
   "source": [
    "class pdFilesDataset(FilesDataset):\n",
    "    def __init__(self, fnames, path, transform):\n",
    "        self.labels = pd.read_csv(LABELS).set_index('Id')\n",
    "        self.labels['Target'] = [[int(i) for i in s.split()] for s in self.labels['Target']]\n",
    "#         print(fnames)\n",
    "        super().__init__(fnames, transform, path)\n",
    "    \n",
    "    def get_x(self, i):\n",
    "        img = open_rgby(self.path,self.fnames[i])\n",
    "        if self.sz == 512: return img \n",
    "        else: return cv2.resize(img, (self.sz, self.sz),cv2.INTER_AREA)\n",
    "    \n",
    "    def get_y(self, i):\n",
    "        if(self.path == TEST): return np.zeros(len(name_label_dict),dtype=np.int)\n",
    "        else:\n",
    "            labels = self.labels.loc[self.fnames[i]]['Target']\n",
    "            return np.eye(len(name_label_dict),dtype=np.float)[labels].sum(axis=0)\n",
    "        \n",
    "    @property\n",
    "    def is_multi(self): return True\n",
    "    @property\n",
    "    def is_reg(self):return True\n",
    "    #this flag is set to remove the output sigmoid that allows log(sigmoid) optimization\n",
    "    #of the numerical stability of the loss function\n",
    "    \n",
    "    def get_c(self): return len(name_label_dict) #number of classes"
   ]
  },
  {
   "cell_type": "code",
   "execution_count": 14,
   "metadata": {
    "scrolled": true
   },
   "outputs": [],
   "source": [
    "# ??tfms_from_stats\n",
    "path_to_train = '../data/train_combined_all'\n",
    "data = pd.read_csv('../data/train_combined_all2.csv')"
   ]
  },
  {
   "cell_type": "code",
   "execution_count": 15,
   "metadata": {},
   "outputs": [],
   "source": [
    "def get_data(sz,bs):\n",
    "    #data augmentation\n",
    "    aug_tfms = [RandomRotate(30, tfm_y=TfmType.NO),\n",
    "                RandomDihedral(tfm_y=TfmType.NO),\n",
    "                RandomLighting(0.05, 0.05, tfm_y=TfmType.NO)]\n",
    "    #mean and std in of each channel in the train set\n",
    "#     stats = A([0.08069, 0.05258, 0.05487, 0.08282], [0.13704, 0.10145, 0.15313, 0.13814])\n",
    "#     stats = A([0.08069, 0.05258, 0.05487], [0.13704, 0.10145, 0.15313])\n",
    "#     stats = A([0.0751 , 0.05909, 0.04364], [0.11428, 0.09856, 0.09925])\n",
    "    stats = A([0.07426, 0.05844, 0.04441], [0.11508, 0.09855, 0.10259])\n",
    "    tfms = tfms_from_stats(stats, sz, crop_type=CropType.NO, tfm_y=TfmType.NO, \n",
    "                aug_tfms=aug_tfms)\n",
    "    ds = ImageData.get_ds(pdFilesDataset, (tr_n[:-(len(tr_n)%bs)],TRAIN), \n",
    "                (val_n,TRAIN), tfms, test=(test_names,TEST))\n",
    "    md = ImageData(PATH, ds, bs, num_workers=nw, classes=None)\n",
    "    return md"
   ]
  },
  {
   "cell_type": "code",
   "execution_count": 16,
   "metadata": {},
   "outputs": [],
   "source": [
    "# bs = 16\n",
    "# sz = 512\n",
    "# md = get_data(sz,bs)"
   ]
  },
  {
   "cell_type": "code",
   "execution_count": 17,
   "metadata": {},
   "outputs": [],
   "source": [
    "# x_tot = np.zeros(3)\n",
    "# x2_tot = np.zeros(3)\n",
    "# for x,y in tqdm_notebook(iter(md.trn_dl)):\n",
    "#     x = md.trn_ds.denorm(x).reshape(-1,3)\n",
    "#     x_tot += x.mean(axis=0)\n",
    "#     x2_tot += (x**2).mean(axis=0)\n",
    "\n",
    "# channel_avr = x_tot/len(md.trn_dl)\n",
    "# channel_std = np.sqrt(x2_tot/len(md.trn_dl) - channel_avr**2)\n",
    "# channel_avr,channel_std\n",
    "# (array([0.0751 , 0.05909, 0.04364]), array([0.11428, 0.09856, 0.09925])) # for data plus ext_data\n",
    "# (array([0.07426, 0.05844, 0.04441]), array([0.11508, 0.09855, 0.10259])) # train + ext_data + test"
   ]
  },
  {
   "cell_type": "code",
   "execution_count": 18,
   "metadata": {},
   "outputs": [],
   "source": [
    "# mean = 0\n",
    "# x2_tot = 0\n",
    "# count = 0\n",
    "# M2 = 0\n",
    "# for name, labels in tqdm(zip(data['Id'], data['Target'].str.split(' '))):\n",
    "#     if name not in tr_n:\n",
    "#         continue\n",
    "#     file = os.path.join(path_to_train, name)\n",
    "#     image = load_image(file, (512, 512))/255.\n",
    "#     val = np.reshape(image[:,:,0], -1)\n",
    "#     img_mean = np.mean(val)\n",
    "#     img_std = np.std(val)\n",
    "#     count = count + 1\n",
    "#     mean = mean + img_mean\n",
    "#     M2 = M2 + img_std\n",
    "#     x2_tot += np.mean(val**2)\n",
    "# print('red mean', mean/(count))\n",
    "# print('red std', M2/(count))\n",
    "# channel_std = np.sqrt(x2_tot/count - ((mean/count)**2))\n",
    "\n",
    "# 31072it [05:35, 92.74it/s]\n",
    "# red mean 0.08052112660092407\n",
    "# red std 0.13001299317356493"
   ]
  },
  {
   "cell_type": "code",
   "execution_count": 19,
   "metadata": {},
   "outputs": [],
   "source": [
    "# x_tot = np.zeros(4)\n",
    "# x2_tot = np.zeros(4)\n",
    "# for x,y in iter(md.trn_dl):\n",
    "# #     print(x.shape)\n",
    "# #     tmp =  md.trn_ds.denorm(x).reshape(16,-1)\n",
    "#     x = md.trn_ds.denorm(x).reshape(-1,4)\n",
    "# #     print(x.shape)\n",
    "# #     x = x.cpu().numpy().reshape(-1,4)\n",
    "# #     print(x.shape)\n",
    "#     x_tot += x.mean(axis=0)\n",
    "#     x2_tot += (x**2).mean(axis=0)\n",
    "\n",
    "# channel_avr = x_tot/len(md.trn_dl)\n",
    "# channel_std = np.sqrt(x2_tot/len(md.trn_dl) - channel_avr**2)\n",
    "# channel_avr,channel_std\n",
    "\n",
    "# (array([0.08702, 0.06006, 0.06512, 0.08925]),\n",
    "#  array([0.14109, 0.1055 , 0.15163, 0.14201]))"
   ]
  },
  {
   "cell_type": "code",
   "execution_count": 20,
   "metadata": {},
   "outputs": [],
   "source": [
    "# ??md.trn_ds.denorm"
   ]
  },
  {
   "cell_type": "code",
   "execution_count": 21,
   "metadata": {},
   "outputs": [],
   "source": [
    "class FocalLoss(nn.Module):\n",
    "    def __init__(self, gamma=2):\n",
    "        super().__init__()\n",
    "        self.gamma = gamma\n",
    "        \n",
    "    def forward(self, input, target):\n",
    "        if not (target.size() == input.size()):\n",
    "            raise ValueError(\"Target size ({}) must be the same as input size ({})\"\n",
    "                             .format(target.size(), input.size()))\n",
    "\n",
    "        max_val = (-input).clamp(min=0)\n",
    "        loss = input - input * target + max_val + \\\n",
    "            ((-max_val).exp() + (-input - max_val).exp()).log()\n",
    "\n",
    "        invprobs = F.logsigmoid(-input * (target * 2.0 - 1.0))\n",
    "        loss = (invprobs * self.gamma).exp() * loss\n",
    "        \n",
    "        return loss.sum(dim=1).mean()"
   ]
  },
  {
   "cell_type": "code",
   "execution_count": 22,
   "metadata": {},
   "outputs": [],
   "source": [
    "def acc(preds,targs,th=0.0):\n",
    "    preds = (preds > th).int()\n",
    "    targs = targs.int()\n",
    "    return (preds==targs).float().mean()"
   ]
  },
  {
   "cell_type": "code",
   "execution_count": 23,
   "metadata": {},
   "outputs": [],
   "source": [
    "sz = 512 #image size\n",
    "bs = 16  #batch size\n",
    "\n",
    "md = get_data(sz,bs)\n",
    "learner = ConvLearner.pretrained(arch, md, ps=0.5) #dropout 50%\n",
    "learner.opt_fn = optim.Adam\n",
    "learner.clip = 1.0 #gradient clipping\n",
    "learner.crit = FocalLoss()\n",
    "learner.metrics = [acc]"
   ]
  },
  {
   "cell_type": "code",
   "execution_count": 24,
   "metadata": {},
   "outputs": [
    {
     "data": {
      "application/vnd.jupyter.widget-view+json": {
       "model_id": "be8fd92f261a4fcab9da62e52ba56735",
       "version_major": 2,
       "version_minor": 0
      },
      "text/html": [
       "<p>Failed to display Jupyter Widget of type <code>HBox</code>.</p>\n",
       "<p>\n",
       "  If you're reading this message in the Jupyter Notebook or JupyterLab Notebook, it may mean\n",
       "  that the widgets JavaScript is still loading. If this message persists, it\n",
       "  likely means that the widgets JavaScript library is either not installed or\n",
       "  not enabled. See the <a href=\"https://ipywidgets.readthedocs.io/en/stable/user_install.html\">Jupyter\n",
       "  Widgets Documentation</a> for setup instructions.\n",
       "</p>\n",
       "<p>\n",
       "  If you're reading this message in another frontend (for example, a static\n",
       "  rendering on GitHub or <a href=\"https://nbviewer.jupyter.org/\">NBViewer</a>),\n",
       "  it may mean that your frontend doesn't currently support widgets.\n",
       "</p>\n"
      ],
      "text/plain": [
       "HBox(children=(IntProgress(value=0, description='Epoch', max=1, style=ProgressStyle(description_width='initial')), HTML(value='')))"
      ]
     },
     "metadata": {},
     "output_type": "display_data"
    },
    {
     "name": "stdout",
     "output_type": "stream",
     "text": [
      " 65%|██████▌   | 4321/6602 [48:50<39:03,  1.03s/it, loss=4.83]  "
     ]
    },
    {
     "data": {
      "image/png": "[encoded data removed]",
      "text/plain": [
       "<matplotlib.figure.Figure at 0x7f2c2c324828>"
      ]
     },
     "metadata": {},
     "output_type": "display_data"
    }
   ],
   "source": [
    "learner.lr_find()\n",
    "learner.sched.plot()"
   ]
  },
  {
   "cell_type": "code",
   "execution_count": 24,
   "metadata": {},
   "outputs": [
    {
     "data": {
      "application/vnd.jupyter.widget-view+json": {
       "model_id": "5d2de28e33ee432cba00cedb0495e64b",
       "version_major": 2,
       "version_minor": 0
      },
      "text/html": [
       "<p>Failed to display Jupyter Widget of type <code>HBox</code>.</p>\n",
       "<p>\n",
       "  If you're reading this message in the Jupyter Notebook or JupyterLab Notebook, it may mean\n",
       "  that the widgets JavaScript is still loading. If this message persists, it\n",
       "  likely means that the widgets JavaScript library is either not installed or\n",
       "  not enabled. See the <a href=\"https://ipywidgets.readthedocs.io/en/stable/user_install.html\">Jupyter\n",
       "  Widgets Documentation</a> for setup instructions.\n",
       "</p>\n",
       "<p>\n",
       "  If you're reading this message in another frontend (for example, a static\n",
       "  rendering on GitHub or <a href=\"https://nbviewer.jupyter.org/\">NBViewer</a>),\n",
       "  it may mean that your frontend doesn't currently support widgets.\n",
       "</p>\n"
      ],
      "text/plain": [
       "HBox(children=(IntProgress(value=0, description='Epoch', max=1, style=ProgressStyle(description_width='initial')), HTML(value='')))"
      ]
     },
     "metadata": {},
     "output_type": "display_data"
    },
    {
     "name": "stdout",
     "output_type": "stream",
     "text": [
      "epoch      trn_loss   val_loss   acc                            \n",
      "    0      1.081009   1.046351   0.955068  \n",
      "\n"
     ]
    },
    {
     "data": {
      "text/plain": [
       "[array([1.04635]), 0.9550681424912643]"
      ]
     },
     "execution_count": 24,
     "metadata": {},
     "output_type": "execute_result"
    }
   ],
   "source": [
    "lr = 8e-4\n",
    "learner.fit(lr,1)"
   ]
  },
  {
   "cell_type": "code",
   "execution_count": 25,
   "metadata": {},
   "outputs": [],
   "source": [
    "learner.unfreeze()\n",
    "lrs=np.array([lr/10,lr/3,lr])"
   ]
  },
  {
   "cell_type": "code",
   "execution_count": 26,
   "metadata": {},
   "outputs": [
    {
     "data": {
      "application/vnd.jupyter.widget-view+json": {
       "model_id": "095c0f096fde4236bf4e91751c351541",
       "version_major": 2,
       "version_minor": 0
      },
      "text/html": [
       "<p>Failed to display Jupyter Widget of type <code>HBox</code>.</p>\n",
       "<p>\n",
       "  If you're reading this message in the Jupyter Notebook or JupyterLab Notebook, it may mean\n",
       "  that the widgets JavaScript is still loading. If this message persists, it\n",
       "  likely means that the widgets JavaScript library is either not installed or\n",
       "  not enabled. See the <a href=\"https://ipywidgets.readthedocs.io/en/stable/user_install.html\">Jupyter\n",
       "  Widgets Documentation</a> for setup instructions.\n",
       "</p>\n",
       "<p>\n",
       "  If you're reading this message in another frontend (for example, a static\n",
       "  rendering on GitHub or <a href=\"https://nbviewer.jupyter.org/\">NBViewer</a>),\n",
       "  it may mean that your frontend doesn't currently support widgets.\n",
       "</p>\n"
      ],
      "text/plain": [
       "HBox(children=(IntProgress(value=0, description='Epoch', max=8, style=ProgressStyle(description_width='initial')), HTML(value='')))"
      ]
     },
     "metadata": {},
     "output_type": "display_data"
    },
    {
     "name": "stdout",
     "output_type": "stream",
     "text": [
      "epoch      trn_loss   val_loss   acc                             \n",
      "    0      0.755111   0.700008   0.969579  \n",
      "    1      0.691261   0.655222   0.971222                        \n",
      "    2      0.694762   0.655564   0.971252                        \n",
      "    3      0.651587   0.630344   0.972226                        \n",
      "    4      0.660772   0.642621   0.971313                          \n",
      "    5      0.625914   0.595909   0.973473                        \n",
      "    6      0.672179   0.603632   0.972591                        \n",
      "    7      0.625442   0.589698   0.973108                        \n",
      "\n"
     ]
    },
    {
     "data": {
      "text/plain": [
       "[array([0.5897]), 0.9731078125549134]"
      ]
     },
     "execution_count": 26,
     "metadata": {},
     "output_type": "execute_result"
    }
   ],
   "source": [
    "learner.fit(lrs/4,4,cycle_len=2,use_clr=(10,20))"
   ]
  },
  {
   "cell_type": "code",
   "execution_count": 27,
   "metadata": {},
   "outputs": [],
   "source": [
    "learner.save('ResNet50_512_55Max_1')"
   ]
  },
  {
   "cell_type": "code",
   "execution_count": 28,
   "metadata": {},
   "outputs": [
    {
     "data": {
      "application/vnd.jupyter.widget-view+json": {
       "model_id": "e87d03ff08014267af124701b58a7f58",
       "version_major": 2,
       "version_minor": 0
      },
      "text/html": [
       "<p>Failed to display Jupyter Widget of type <code>HBox</code>.</p>\n",
       "<p>\n",
       "  If you're reading this message in the Jupyter Notebook or JupyterLab Notebook, it may mean\n",
       "  that the widgets JavaScript is still loading. If this message persists, it\n",
       "  likely means that the widgets JavaScript library is either not installed or\n",
       "  not enabled. See the <a href=\"https://ipywidgets.readthedocs.io/en/stable/user_install.html\">Jupyter\n",
       "  Widgets Documentation</a> for setup instructions.\n",
       "</p>\n",
       "<p>\n",
       "  If you're reading this message in another frontend (for example, a static\n",
       "  rendering on GitHub or <a href=\"https://nbviewer.jupyter.org/\">NBViewer</a>),\n",
       "  it may mean that your frontend doesn't currently support widgets.\n",
       "</p>\n"
      ],
      "text/plain": [
       "HBox(children=(IntProgress(value=0, description='Epoch', max=8, style=ProgressStyle(description_width='initial')), HTML(value='')))"
      ]
     },
     "metadata": {},
     "output_type": "display_data"
    },
    {
     "name": "stdout",
     "output_type": "stream",
     "text": [
      "epoch      trn_loss   val_loss   acc                             \n",
      "    0      0.686651   0.61454    0.972469  \n",
      "    1      0.632972   0.600716   0.972864                        \n",
      "    2      0.587142   0.585826   0.973686                        \n",
      "    3      0.615188   0.571747   0.974112                        \n",
      "    4      0.650819   0.609595   0.972378                        \n",
      "    5      0.608153   0.585099   0.974051                        \n",
      "    6      0.615562   0.579247   0.97399                         \n",
      "    7      0.56599    0.554852   0.974994                        \n",
      "\n"
     ]
    },
    {
     "data": {
      "text/plain": [
       "[array([0.55485]), 0.9749939163458206]"
      ]
     },
     "execution_count": 28,
     "metadata": {},
     "output_type": "execute_result"
    }
   ],
   "source": [
    "learner.fit(lrs/4,2,cycle_len=4,use_clr=(10,20))"
   ]
  },
  {
   "cell_type": "code",
   "execution_count": 29,
   "metadata": {},
   "outputs": [],
   "source": [
    "learner.save('ResNet50_512_55Max_2')"
   ]
  },
  {
   "cell_type": "code",
   "execution_count": 30,
   "metadata": {},
   "outputs": [
    {
     "data": {
      "application/vnd.jupyter.widget-view+json": {
       "model_id": "4a134294bccc4b6282468fa03635a915",
       "version_major": 2,
       "version_minor": 0
      },
      "text/html": [
       "<p>Failed to display Jupyter Widget of type <code>HBox</code>.</p>\n",
       "<p>\n",
       "  If you're reading this message in the Jupyter Notebook or JupyterLab Notebook, it may mean\n",
       "  that the widgets JavaScript is still loading. If this message persists, it\n",
       "  likely means that the widgets JavaScript library is either not installed or\n",
       "  not enabled. See the <a href=\"https://ipywidgets.readthedocs.io/en/stable/user_install.html\">Jupyter\n",
       "  Widgets Documentation</a> for setup instructions.\n",
       "</p>\n",
       "<p>\n",
       "  If you're reading this message in another frontend (for example, a static\n",
       "  rendering on GitHub or <a href=\"https://nbviewer.jupyter.org/\">NBViewer</a>),\n",
       "  it may mean that your frontend doesn't currently support widgets.\n",
       "</p>\n"
      ],
      "text/plain": [
       "HBox(children=(IntProgress(value=0, description='Epoch', max=8, style=ProgressStyle(description_width='initial')), HTML(value='')))"
      ]
     },
     "metadata": {},
     "output_type": "display_data"
    },
    {
     "name": "stdout",
     "output_type": "stream",
     "text": [
      "epoch      trn_loss   val_loss   acc                             \n",
      "    0      0.553513   0.560411   0.975146  \n",
      "    1      0.541489   0.558586   0.974325                        \n",
      "    2      0.538525   0.55796    0.974872                        \n",
      "    3      0.544691   0.557769   0.974963                          \n",
      "    4      0.531812   0.553045   0.975055                          \n",
      "    5      0.507357   0.553215   0.975176                        \n",
      "    6      0.510817   0.546977   0.97542                         \n",
      "    7      0.522604   0.543653   0.975602                        \n",
      "\n"
     ]
    },
    {
     "data": {
      "text/plain": [
       "[array([0.54365]), 0.9756023386268031]"
      ]
     },
     "execution_count": 30,
     "metadata": {},
     "output_type": "execute_result"
    }
   ],
   "source": [
    "learner.fit(lrs/16,1,cycle_len=8,use_clr=(5,20))"
   ]
  },
  {
   "cell_type": "code",
   "execution_count": 31,
   "metadata": {},
   "outputs": [],
   "source": [
    "learner.save('ResNet50_512_55Max')"
   ]
  },
  {
   "cell_type": "code",
   "execution_count": 32,
   "metadata": {},
   "outputs": [],
   "source": [
    "# ??learner.TTA"
   ]
  },
  {
   "cell_type": "code",
   "execution_count": 33,
   "metadata": {},
   "outputs": [],
   "source": [
    "def sigmoid_np(x):\n",
    "    return 1.0/(1.0 + np.exp(-x))"
   ]
  },
  {
   "cell_type": "code",
   "execution_count": 34,
   "metadata": {},
   "outputs": [
    {
     "name": "stdout",
     "output_type": "stream",
     "text": [
      "                                               \r"
     ]
    }
   ],
   "source": [
    "preds,y = learner.TTA(n_aug=16)\n",
    "preds = np.stack(preds, axis=-1)\n",
    "preds = sigmoid_np(preds)\n",
    "pred = preds.max(axis=-1)"
   ]
  },
  {
   "cell_type": "code",
   "execution_count": 35,
   "metadata": {},
   "outputs": [],
   "source": [
    "def F1_soft(preds,targs,th=0.5,d=50.0):\n",
    "    preds = sigmoid_np(d*(preds - th))\n",
    "    targs = targs.astype(np.float)\n",
    "    score = 2.0*(preds*targs).sum(axis=0)/((preds+targs).sum(axis=0) + 1e-6)\n",
    "    return score\n",
    "\n",
    "def fit_val(x,y):\n",
    "    params = 0.5*np.ones(len(name_label_dict))\n",
    "    wd = 1e-5\n",
    "    error = lambda p: np.concatenate((F1_soft(x,y,p) - 1.0,\n",
    "                                      wd*(p - 0.5)), axis=None)\n",
    "    p, success = opt.leastsq(error, params)\n",
    "    return p"
   ]
  },
  {
   "cell_type": "code",
   "execution_count": 36,
   "metadata": {},
   "outputs": [
    {
     "name": "stdout",
     "output_type": "stream",
     "text": [
      "Thresholds:  [0.54303 0.60296 0.56924 0.42761 0.46502 0.45829 0.49615 0.54881 0.49584 0.59834 0.54025 0.56244 0.4653\n",
      " 0.46866 0.55344 0.53668 0.64387 0.5604  0.44206 0.56443 0.68629 0.54093 0.54559 0.50831 0.67425 0.51744\n",
      " 0.46602 0.44089]\n",
      "F1 macro:  0.7412795979033403\n",
      "F1 macro (th = 0.5):  0.7041589687497953\n",
      "F1 micro:  0.7767734867159682\n"
     ]
    },
    {
     "name": "stderr",
     "output_type": "stream",
     "text": [
      "/home/watts/anaconda3/lib/python3.6/site-packages/scipy/optimize/minpack.py:427: RuntimeWarning: Number of calls to function has reached maxfev = 5800.\n",
      "  warnings.warn(errors[info][0], RuntimeWarning)\n"
     ]
    }
   ],
   "source": [
    "th = fit_val(pred,y)\n",
    "th[th<0.1] = 0.1\n",
    "print('Thresholds: ',th)\n",
    "print('F1 macro: ',f1_score(y, pred>th, average='macro'))\n",
    "print('F1 macro (th = 0.5): ',f1_score(y, pred>0.5, average='macro'))\n",
    "print('F1 micro: ',f1_score(y, pred>th, average='micro'))"
   ]
  },
  {
   "cell_type": "code",
   "execution_count": 37,
   "metadata": {},
   "outputs": [
    {
     "name": "stdout",
     "output_type": "stream",
     "text": [
      "                                                \r"
     ]
    }
   ],
   "source": [
    "preds_t,y_t = learner.TTA(n_aug=16,is_test=True)\n",
    "preds_t = np.stack(preds_t, axis=-1)\n",
    "preds_t = sigmoid_np(preds_t)\n",
    "pred_t = preds_t.max(axis=-1) #max works better for F1 macro score"
   ]
  },
  {
   "cell_type": "code",
   "execution_count": 38,
   "metadata": {},
   "outputs": [],
   "source": [
    "np.save('../cache/preds_t_55_max', preds_t)"
   ]
  },
  {
   "cell_type": "code",
   "execution_count": 39,
   "metadata": {},
   "outputs": [],
   "source": [
    "def save_pred(pred, th=0.5, fname='../submissions/sub55-max.csv'):\n",
    "    pred_list = []\n",
    "    for line in pred:\n",
    "        s = ' '.join(list([str(i) for i in np.nonzero(line>th)[0]]))\n",
    "        pred_list.append(s)\n",
    "        \n",
    "    sample_df = pd.read_csv(SAMPLE)\n",
    "    sample_list = list(sample_df.Id)\n",
    "    pred_dic = dict((key, value) for (key, value) \n",
    "                in zip(learner.data.test_ds.fnames,pred_list))\n",
    "    pred_list_cor = [pred_dic[id] for id in sample_list]\n",
    "    df = pd.DataFrame({'Id':sample_list,'Predicted':pred_list_cor})\n",
    "    df.to_csv(fname, header=True, index=False)"
   ]
  },
  {
   "cell_type": "code",
   "execution_count": 40,
   "metadata": {},
   "outputs": [
    {
     "name": "stdout",
     "output_type": "stream",
     "text": [
      "Fractions:  [0.46992 0.0517  0.09588 0.06913 0.07657 0.11613 0.06913 0.10682 0.00077 0.00111 0.00145 0.05862 0.03999\n",
      " 0.02205 0.04991 0.00009 0.07272 0.0505  0.04341 0.08187 0.01333 0.16895 0.03504 0.12468 0.01589 0.34874\n",
      " 0.03905 0.04025]\n"
     ]
    }
   ],
   "source": [
    "th_t = np.array([0.565,0.39,0.55,0.345,0.33,0.39,0.33,0.45,0.38,0.39,\n",
    "               0.34,0.42,0.31,0.38,0.49,0.50,0.38,0.43,0.46,0.40,\n",
    "               0.39,0.505,0.37,0.47,0.41,0.545,0.32,0.1])\n",
    "print('Fractions: ',(pred_t > th_t).mean(axis=0))\n",
    "save_pred(pred_t,th_t)"
   ]
  },
  {
   "cell_type": "code",
   "execution_count": 41,
   "metadata": {},
   "outputs": [],
   "source": [
    "lb_prob = [\n",
    " 0.362397820,0.043841336,0.075268817,0.059322034,0.075268817,\n",
    " 0.075268817,0.043841336,0.075268817,0.010000000,0.010000000,\n",
    " 0.010000000,0.043841336,0.043841336,0.014198783,0.043841336,\n",
    " 0.010000000,0.028806584,0.014198783,0.028806584,0.059322034,\n",
    " 0.010000000,0.126126126,0.028806584,0.075268817,0.010000000,\n",
    " 0.222493880,0.028806584,0.010000000]"
   ]
  },
  {
   "cell_type": "code",
   "execution_count": 42,
   "metadata": {},
   "outputs": [],
   "source": [
    "def Count_soft(preds,th=0.5,d=50.0):\n",
    "    preds = sigmoid_np(d*(preds - th))\n",
    "    return preds.mean(axis=0)\n",
    "\n",
    "def fit_test(x,y):\n",
    "    params = 0.5*np.ones(len(name_label_dict))\n",
    "    wd = 1e-5\n",
    "    error = lambda p: np.concatenate((Count_soft(x,p) - y,\n",
    "                                      wd*(p - 0.5)), axis=None)\n",
    "    p, success = opt.leastsq(error, params)\n",
    "    return p"
   ]
  },
  {
   "cell_type": "code",
   "execution_count": 43,
   "metadata": {},
   "outputs": [
    {
     "name": "stdout",
     "output_type": "stream",
     "text": [
      "Thresholds:  [0.67575 0.53154 0.67217 0.39843 0.3396  0.51849 0.41997 0.59604 0.14096 0.1465  0.14296 0.5765  0.30004\n",
      " 0.60559 0.63028 0.14678 0.72331 0.89204 0.56793 0.49416 0.47036 0.60417 0.42837 0.65912 0.71892 0.66077\n",
      " 0.39911 0.17508]\n",
      "Fractions:  [0.36669 0.04367 0.0746  0.05914 0.07358 0.0752  0.04153 0.07512 0.0059  0.00709 0.00658 0.04392 0.0423\n",
      " 0.01427 0.04435 0.00624 0.02897 0.01453 0.02854 0.05931 0.01    0.12665 0.02837 0.07554 0.01    0.22278\n",
      " 0.02829 0.00658]\n",
      "Fractions (th = 0.5):  [0.51487 0.04504 0.10605 0.04666 0.04692 0.07862 0.03162 0.09451 0.00068 0.00077 0.00077 0.04939 0.02282\n",
      " 0.01641 0.04965 0.00009 0.05281 0.0441  0.03734 0.05802 0.00897 0.17185 0.02427 0.1163  0.01316 0.39139\n",
      " 0.02017 0.00043]\n"
     ]
    }
   ],
   "source": [
    "th_t = fit_test(pred_t,lb_prob)\n",
    "th_t[th_t<0.1] = 0.1\n",
    "print('Thresholds: ',th_t)\n",
    "print('Fractions: ',(pred_t > th_t).mean(axis=0))\n",
    "print('Fractions (th = 0.5): ',(pred_t > 0.5).mean(axis=0))"
   ]
  },
  {
   "cell_type": "code",
   "execution_count": 44,
   "metadata": {},
   "outputs": [],
   "source": [
    "save_pred(pred_t,th_t,'../submissions/sub55-max-f.csv')"
   ]
  },
  {
   "cell_type": "code",
   "execution_count": 45,
   "metadata": {},
   "outputs": [],
   "source": [
    "save_pred(pred_t,th,'../submissions/sub55-max-v.csv')\n",
    "save_pred(pred_t,0.5,'../submissions/sub55-max-05.csv')"
   ]
  },
  {
   "cell_type": "code",
   "execution_count": 46,
   "metadata": {},
   "outputs": [],
   "source": [
    "# save_pred(pred_t,0.5,'../submissions/sub50-max-05.csv')\n",
    "save_pred(pred_t,0.45,'../submissions/sub55-max-045.csv')\n",
    "save_pred(pred_t,0.40,'../submissions/sub55-max-040.csv')\n",
    "save_pred(pred_t,0.35,'../submissions/sub55-max-035.csv')\n",
    "save_pred(pred_t,0.30,'../submissions/sub55-max-030.csv')\n",
    "save_pred(pred_t,0.25,'../submissions/sub55-max-025.csv')"
   ]
  },
  {
   "cell_type": "code",
   "execution_count": 47,
   "metadata": {},
   "outputs": [],
   "source": [
    "class_list = [8,9,10,15,20,24,27]\n",
    "for i in class_list:\n",
    "    th_t[i] = th[i]\n",
    "save_pred(pred_t,th_t,'../submissions/sub55-max-c.csv')"
   ]
  },
  {
   "cell_type": "code",
   "execution_count": 48,
   "metadata": {},
   "outputs": [
    {
     "data": {
      "text/plain": [
       "(array([46764.,  3555., 11944.,  3855.,  5638.,  6784.,  4056., 10466.,   225.,   206.,   189.,  2694.,\n",
       "         2480.,  1642.,  3233.,    67.,  1727.,   861.,  2285.,  4254.,   530., 15668.,  3010., 11609.,\n",
       "          566., 41440.,   893.,   134.]),\n",
       " array([0.3984 , 0.03029, 0.10175, 0.03284, 0.04803, 0.0578 , 0.03455, 0.08916, 0.00192, 0.00175, 0.00161,\n",
       "        0.02295, 0.02113, 0.01399, 0.02754, 0.00057, 0.01471, 0.00734, 0.01947, 0.03624, 0.00452, 0.13348,\n",
       "        0.02564, 0.0989 , 0.00482, 0.35304, 0.00761, 0.00114]))"
      ]
     },
     "execution_count": 48,
     "metadata": {},
     "output_type": "execute_result"
    }
   ],
   "source": [
    "labels = pd.read_csv(LABELS).set_index('Id')\n",
    "label_count = np.zeros(len(name_label_dict))\n",
    "for label in labels['Target']:\n",
    "    l = [int(i) for i in label.split()]\n",
    "    label_count += np.eye(len(name_label_dict))[l].sum(axis=0)\n",
    "label_fraction = label_count.astype(np.float)/len(labels)\n",
    "label_count, label_fraction"
   ]
  },
  {
   "cell_type": "code",
   "execution_count": 49,
   "metadata": {},
   "outputs": [
    {
     "name": "stdout",
     "output_type": "stream",
     "text": [
      "Thresholds:  [0.64352 0.76453 0.52338 0.64807 0.49059 0.60363 0.47776 0.5262  0.23789 0.33225 0.32724 0.84386 0.56136\n",
      " 0.61566 0.7992  0.32063 0.85518 0.94767 0.64526 0.6269  0.7009  0.58721 0.46969 0.57094 0.89574 0.53948\n",
      " 0.74463 0.35426]\n",
      "Fractions:  [0.40138 0.03042 0.10118 0.03299 0.04777 0.05802 0.0335  0.0887  0.00171 0.00171 0.00154 0.02359 0.02102\n",
      " 0.01384 0.02803 0.00051 0.01453 0.00769 0.01957 0.03623 0.00453 0.13365 0.02521 0.09921 0.00504 0.35464\n",
      " 0.00769 0.00111]\n"
     ]
    }
   ],
   "source": [
    "th_t = fit_test(pred_t,label_fraction)\n",
    "th_t[th_t<0.05] = 0.05\n",
    "print('Thresholds: ',th_t)\n",
    "print('Fractions: ',(pred_t > th_t).mean(axis=0))\n",
    "save_pred(pred_t,th_t,'../submissions/sub55-max-t.csv')"
   ]
  },
  {
   "cell_type": "code",
   "execution_count": 50,
   "metadata": {},
   "outputs": [
    {
     "name": "stdout",
     "output_type": "stream",
     "text": [
      "100%|████████████████████████████████████████| 482k/482k [00:13<00:00, 37.3kB/s]\n",
      "Successfully submitted to Human Protein Atlas Image ClassificationfileName                date                 description  status    publicScore  privateScore  \n",
      "----------------------  -------------------  -----------  --------  -----------  ------------  \n",
      "sub55-max-05.csv        2018-12-17 20:30:37               complete  0.559        None          \n",
      "sub50_22.csv            2018-12-16 02:56:59               complete  0.579        None          \n",
      "sub50_22.csv            2018-12-16 02:32:16               complete  0.578        None          \n",
      "sub50_22.csv            2018-12-16 02:16:49               complete  0.059        None          \n",
      "sub50_22.csv            2018-12-16 02:00:57               complete  0.059        None          \n",
      "sub50-max-05-notta.csv  2018-12-15 08:41:36               complete  0.020        None          \n",
      "sub50-max-05-notta.csv  2018-12-15 08:22:48               complete  0.020        None          \n",
      "sub54-max-a.csv         2018-12-15 06:06:02               complete  0.365        None          \n",
      "sub50-max-05-l.csv      2018-12-15 05:44:54               complete  0.578        None          \n",
      "sub50-max-045.csv       2018-12-15 05:36:27               complete  0.528        None          \n",
      "sub50-max-05.csv        2018-12-14 04:56:42               complete  0.533        None          \n",
      "sub50-max-c-l.csv       2018-12-14 04:52:55               complete  0.557        None          \n",
      "sub50-max-c.csv         2018-12-14 04:52:04               complete  0.523        None          \n",
      "sub50-max-t-l.csv       2018-12-14 04:48:42               complete  0.533        None          \n",
      "sub50-max-t.csv         2018-12-14 02:56:13               complete  0.507        None          \n",
      "sub48-max-b.csv         2018-12-12 06:57:44               complete  0.449        None          \n",
      "sub48-max-a.csv         2018-12-12 06:55:45               complete  0.457        None          \n",
      "sub44-max-t.csv         2018-12-10 20:51:55               complete  0.019        None          \n",
      "sub41-t-l.csv           2018-12-08 09:27:37               complete  0.541        None          \n",
      "sub41-max-b.csv         2018-12-08 08:04:32               complete  0.478        None          \n",
      "CPU times: user 474 ms, sys: 125 ms, total: 599 ms\n",
      "Wall time: 29.8 s\n"
     ]
    }
   ],
   "source": [
    "%%time\n",
    "!kaggle competitions submit -c human-protein-atlas-image-classification -f ../submissions/sub55-max-05.csv -m \"\"\n",
    "from time import sleep\n",
    "sleep(10)\n",
    "!kaggle competitions submissions -c human-protein-atlas-image-classification"
   ]
  },
  {
   "cell_type": "code",
   "execution_count": 51,
   "metadata": {},
   "outputs": [],
   "source": [
    "leak_test = pd.read_csv('../cache/leak_test.csv')\n",
    "sub50 = pd.read_csv('../submissions/sub55-max-05.csv')\n",
    "for idx, row in leak_test.iterrows():\n",
    "    test_id = row['Id']\n",
    "    target = row['Target']\n",
    "    sub50.loc[sub50.Id == test_id, 'Predicted'] = target"
   ]
  },
  {
   "cell_type": "code",
   "execution_count": 52,
   "metadata": {},
   "outputs": [],
   "source": [
    "sub50.to_csv('../submissions/sub55-max-05-l.csv', index=False)"
   ]
  },
  {
   "cell_type": "code",
   "execution_count": 58,
   "metadata": {},
   "outputs": [
    {
     "name": "stdout",
     "output_type": "stream",
     "text": [
      " 17%|██████▍                                | 80.0k/482k [00:01<00:07, 52.7kB/s]^C\n"
     ]
    },
    {
     "ename": "KeyboardInterrupt",
     "evalue": "",
     "output_type": "error",
     "traceback": [
      "\u001b[0;31m---------------------------------------------------------------------------\u001b[0m",
      "\u001b[0;31mKeyboardInterrupt\u001b[0m                         Traceback (most recent call last)",
      "\u001b[0;32m<timed exec>\u001b[0m in \u001b[0;36m<module>\u001b[0;34m()\u001b[0m\n",
      "\u001b[0;31mKeyboardInterrupt\u001b[0m: "
     ]
    }
   ],
   "source": [
    "%%time\n",
    "!kaggle competitions submit -c human-protein-atlas-image-classification -f ../submissions/sub55-max-05-l.csv -m \"\"\n",
    "from time import sleep\n",
    "sleep(10)\n",
    "!kaggle competitions submissions -c human-protein-atlas-image-classification"
   ]
  },
  {
   "cell_type": "code",
   "execution_count": 54,
   "metadata": {},
   "outputs": [
    {
     "name": "stdout",
     "output_type": "stream",
     "text": [
      "100%|████████████████████████████████████████| 482k/482k [00:13<00:00, 36.9kB/s]\n",
      "Successfully submitted to Human Protein Atlas Image ClassificationfileName                date                 description  status    publicScore  privateScore  \n",
      "----------------------  -------------------  -----------  --------  -----------  ------------  \n",
      "sub55-max-05.csv        2018-12-17 20:31:18               complete  0.559        None          \n",
      "sub55-max-05.csv        2018-12-17 20:30:37               complete  0.559        None          \n",
      "sub50_22.csv            2018-12-16 02:56:59               complete  0.579        None          \n",
      "sub50_22.csv            2018-12-16 02:32:16               complete  0.578        None          \n",
      "sub50_22.csv            2018-12-16 02:16:49               complete  0.059        None          \n",
      "sub50_22.csv            2018-12-16 02:00:57               complete  0.059        None          \n",
      "sub50-max-05-notta.csv  2018-12-15 08:41:36               complete  0.020        None          \n",
      "sub50-max-05-notta.csv  2018-12-15 08:22:48               complete  0.020        None          \n",
      "sub54-max-a.csv         2018-12-15 06:06:02               complete  0.365        None          \n",
      "sub50-max-05-l.csv      2018-12-15 05:44:54               complete  0.578        None          \n",
      "sub50-max-045.csv       2018-12-15 05:36:27               complete  0.528        None          \n",
      "sub50-max-05.csv        2018-12-14 04:56:42               complete  0.533        None          \n",
      "sub50-max-c-l.csv       2018-12-14 04:52:55               complete  0.557        None          \n",
      "sub50-max-c.csv         2018-12-14 04:52:04               complete  0.523        None          \n",
      "sub50-max-t-l.csv       2018-12-14 04:48:42               complete  0.533        None          \n",
      "sub50-max-t.csv         2018-12-14 02:56:13               complete  0.507        None          \n",
      "sub48-max-b.csv         2018-12-12 06:57:44               complete  0.449        None          \n",
      "sub48-max-a.csv         2018-12-12 06:55:45               complete  0.457        None          \n",
      "sub44-max-t.csv         2018-12-10 20:51:55               complete  0.019        None          \n",
      "sub41-t-l.csv           2018-12-08 09:27:37               complete  0.541        None          \n",
      "CPU times: user 182 ms, sys: 454 ms, total: 636 ms\n",
      "Wall time: 28.5 s\n"
     ]
    }
   ],
   "source": [
    "%%time\n",
    "!kaggle competitions submit -c human-protein-atlas-image-classification -f ../submissions/sub55-max-05.csv -m \"\"\n",
    "from time import sleep\n",
    "sleep(10)\n",
    "!kaggle competitions submissions -c human-protein-atlas-image-classification"
   ]
  },
  {
   "cell_type": "code",
   "execution_count": 55,
   "metadata": {},
   "outputs": [
    {
     "name": "stdout",
     "output_type": "stream",
     "text": [
      "100%|████████████████████████████████████████| 489k/489k [00:18<00:00, 27.4kB/s]\n",
      "Successfully submitted to Human Protein Atlas Image ClassificationfileName                date                 description  status    publicScore  privateScore  \n",
      "----------------------  -------------------  -----------  --------  -----------  ------------  \n",
      "sub55-max-045.csv       2018-12-17 20:31:53               complete  0.567        None          \n",
      "sub55-max-05.csv        2018-12-17 20:31:18               complete  0.559        None          \n",
      "sub55-max-05.csv        2018-12-17 20:30:37               complete  0.559        None          \n",
      "sub50_22.csv            2018-12-16 02:56:59               complete  0.579        None          \n",
      "sub50_22.csv            2018-12-16 02:32:16               complete  0.578        None          \n",
      "sub50_22.csv            2018-12-16 02:16:49               complete  0.059        None          \n",
      "sub50_22.csv            2018-12-16 02:00:57               complete  0.059        None          \n",
      "sub50-max-05-notta.csv  2018-12-15 08:41:36               complete  0.020        None          \n",
      "sub50-max-05-notta.csv  2018-12-15 08:22:48               complete  0.020        None          \n",
      "sub54-max-a.csv         2018-12-15 06:06:02               complete  0.365        None          \n",
      "sub50-max-05-l.csv      2018-12-15 05:44:54               complete  0.578        None          \n",
      "sub50-max-045.csv       2018-12-15 05:36:27               complete  0.528        None          \n",
      "sub50-max-05.csv        2018-12-14 04:56:42               complete  0.533        None          \n",
      "sub50-max-c-l.csv       2018-12-14 04:52:55               complete  0.557        None          \n",
      "sub50-max-c.csv         2018-12-14 04:52:04               complete  0.523        None          \n",
      "sub50-max-t-l.csv       2018-12-14 04:48:42               complete  0.533        None          \n",
      "sub50-max-t.csv         2018-12-14 02:56:13               complete  0.507        None          \n",
      "sub48-max-b.csv         2018-12-12 06:57:44               complete  0.449        None          \n",
      "sub48-max-a.csv         2018-12-12 06:55:45               complete  0.457        None          \n",
      "sub44-max-t.csv         2018-12-10 20:51:55               complete  0.019        None          \n",
      "CPU times: user 613 ms, sys: 200 ms, total: 813 ms\n",
      "Wall time: 34.9 s\n"
     ]
    }
   ],
   "source": [
    "%%time\n",
    "!kaggle competitions submit -c human-protein-atlas-image-classification -f ../submissions/sub55-max-045.csv -m \"\"\n",
    "from time import sleep\n",
    "sleep(10)\n",
    "!kaggle competitions submissions -c human-protein-atlas-image-classification"
   ]
  },
  {
   "cell_type": "code",
   "execution_count": 56,
   "metadata": {},
   "outputs": [],
   "source": [
    "leak_test = pd.read_csv('../cache/leak_test.csv')\n",
    "sub50 = pd.read_csv('../submissions/sub55-max-05.csv')\n",
    "for idx, row in leak_test.iterrows():\n",
    "    test_id = row['Id']\n",
    "    target = row['Target']\n",
    "    sub50.loc[sub50.Id == test_id, 'Predicted'] = target\n",
    "sub50.to_csv('../submissions/sub55-max-05-l.csv', index=False)"
   ]
  },
  {
   "cell_type": "code",
   "execution_count": 57,
   "metadata": {},
   "outputs": [
    {
     "name": "stdout",
     "output_type": "stream",
     "text": [
      "100%|████████████████████████████████████████| 482k/482k [00:08<00:00, 45.6kB/s]\n",
      "Successfully submitted to Human Protein Atlas Image ClassificationfileName                date                 description  status    publicScore  privateScore  \n",
      "----------------------  -------------------  -----------  --------  -----------  ------------  \n",
      "sub55-max-05-l.csv      2018-12-17 20:32:23               complete  0.581        None          \n",
      "sub55-max-045.csv       2018-12-17 20:31:53               complete  0.567        None          \n",
      "sub55-max-05.csv        2018-12-17 20:31:18               complete  0.559        None          \n",
      "sub55-max-05.csv        2018-12-17 20:30:37               complete  0.559        None          \n",
      "sub50_22.csv            2018-12-16 02:56:59               complete  0.579        None          \n",
      "sub50_22.csv            2018-12-16 02:32:16               complete  0.578        None          \n",
      "sub50_22.csv            2018-12-16 02:16:49               complete  0.059        None          \n",
      "sub50_22.csv            2018-12-16 02:00:57               complete  0.059        None          \n",
      "sub50-max-05-notta.csv  2018-12-15 08:41:36               complete  0.020        None          \n",
      "sub50-max-05-notta.csv  2018-12-15 08:22:48               complete  0.020        None          \n",
      "sub54-max-a.csv         2018-12-15 06:06:02               complete  0.365        None          \n",
      "sub50-max-05-l.csv      2018-12-15 05:44:54               complete  0.578        None          \n",
      "sub50-max-045.csv       2018-12-15 05:36:27               complete  0.528        None          \n",
      "sub50-max-05.csv        2018-12-14 04:56:42               complete  0.533        None          \n",
      "sub50-max-c-l.csv       2018-12-14 04:52:55               complete  0.557        None          \n",
      "sub50-max-c.csv         2018-12-14 04:52:04               complete  0.523        None          \n",
      "sub50-max-t-l.csv       2018-12-14 04:48:42               complete  0.533        None          \n",
      "sub50-max-t.csv         2018-12-14 02:56:13               complete  0.507        None          \n",
      "sub48-max-b.csv         2018-12-12 06:57:44               complete  0.449        None          \n",
      "sub48-max-a.csv         2018-12-12 06:55:45               complete  0.457        None          \n",
      "CPU times: user 312 ms, sys: 360 ms, total: 672 ms\n",
      "Wall time: 31.1 s\n"
     ]
    }
   ],
   "source": [
    "%%time\n",
    "!kaggle competitions submit -c human-protein-atlas-image-classification -f ../submissions/sub55-max-05-l.csv -m \"\"\n",
    "from time import sleep\n",
    "sleep(10)\n",
    "!kaggle competitions submissions -c human-protein-atlas-image-classification"
   ]
  },
  {
   "cell_type": "code",
   "execution_count": 60,
   "metadata": {},
   "outputs": [],
   "source": [
    "leak_test = pd.read_csv('../cache/leak_test.csv')\n",
    "sub50 = pd.read_csv('../submissions/sub55-max-045.csv')\n",
    "for idx, row in leak_test.iterrows():\n",
    "    test_id = row['Id']\n",
    "    target = row['Target']\n",
    "    sub50.loc[sub50.Id == test_id, 'Predicted'] = target\n",
    "sub50.to_csv('../submissions/sub55-max-045-l.csv', index=False)"
   ]
  },
  {
   "cell_type": "code",
   "execution_count": 61,
   "metadata": {},
   "outputs": [
    {
     "name": "stdout",
     "output_type": "stream",
     "text": [
      "100%|████████████████████████████████████████| 488k/488k [00:13<00:00, 37.3kB/s]\n",
      "Successfully submitted to Human Protein Atlas Image ClassificationfileName                date                 description  status    publicScore  privateScore  \n",
      "----------------------  -------------------  -----------  --------  -----------  ------------  \n",
      "sub55-max-045-l.csv     2018-12-17 20:34:48               complete  0.574        None          \n",
      "sub55-max-05-l.csv      2018-12-17 20:32:23               complete  0.581        None          \n",
      "sub55-max-045.csv       2018-12-17 20:31:53               complete  0.567        None          \n",
      "sub55-max-05.csv        2018-12-17 20:31:18               complete  0.559        None          \n",
      "sub55-max-05.csv        2018-12-17 20:30:37               complete  0.559        None          \n",
      "sub50_22.csv            2018-12-16 02:56:59               complete  0.579        None          \n",
      "sub50_22.csv            2018-12-16 02:32:16               complete  0.578        None          \n",
      "sub50_22.csv            2018-12-16 02:16:49               complete  0.059        None          \n",
      "sub50_22.csv            2018-12-16 02:00:57               complete  0.059        None          \n",
      "sub50-max-05-notta.csv  2018-12-15 08:41:36               complete  0.020        None          \n",
      "sub50-max-05-notta.csv  2018-12-15 08:22:48               complete  0.020        None          \n",
      "sub54-max-a.csv         2018-12-15 06:06:02               complete  0.365        None          \n",
      "sub50-max-05-l.csv      2018-12-15 05:44:54               complete  0.578        None          \n",
      "sub50-max-045.csv       2018-12-15 05:36:27               complete  0.528        None          \n",
      "sub50-max-05.csv        2018-12-14 04:56:42               complete  0.533        None          \n",
      "sub50-max-c-l.csv       2018-12-14 04:52:55               complete  0.557        None          \n",
      "sub50-max-c.csv         2018-12-14 04:52:04               complete  0.523        None          \n",
      "sub50-max-t-l.csv       2018-12-14 04:48:42               complete  0.533        None          \n",
      "sub50-max-t.csv         2018-12-14 02:56:13               complete  0.507        None          \n",
      "sub48-max-b.csv         2018-12-12 06:57:44               complete  0.449        None          \n",
      "CPU times: user 335 ms, sys: 293 ms, total: 628 ms\n",
      "Wall time: 28.9 s\n"
     ]
    }
   ],
   "source": [
    "%%time\n",
    "!kaggle competitions submit -c human-protein-atlas-image-classification -f ../submissions/sub55-max-045-l.csv -m \"\"\n",
    "from time import sleep\n",
    "sleep(10)\n",
    "!kaggle competitions submissions -c human-protein-atlas-image-classification"
   ]
  },
  {
   "cell_type": "code",
   "execution_count": null,
   "metadata": {},
   "outputs": [],
   "source": [
    "%%time\n",
    "!kaggle competitions submit -c human-protein-atlas-image-classification -f ../submissions/sub55-max-040.csv -m \"\"\n",
    "from time import sleep\n",
    "sleep(10)\n",
    "!kaggle competitions submissions -c human-protein-atlas-image-classification"
   ]
  },
  {
   "cell_type": "code",
   "execution_count": 75,
   "metadata": {},
   "outputs": [],
   "source": [
    "def save_pred(pred, th=0.5, fname='../submissions/sub50-max-notta.csv'):\n",
    "    pred_list = []\n",
    "    for line in pred:\n",
    "        s = ' '.join(list([str(i) for i in np.nonzero(line>th)[0]]))\n",
    "        pred_list.append(s)\n",
    "        \n",
    "    sample_df = pd.read_csv(SAMPLE)\n",
    "    sample_list = list(sample_df.Id)\n",
    "    pred_dic = dict((key, value) for (key, value) \n",
    "                in zip(learner.data.test_ds.fnames,pred_list))\n",
    "    pred_list_cor = [pred_dic[id] for id in sample_list]\n",
    "    df = pd.DataFrame({'Id':sample_list,'Predicted':pred_list_cor})\n",
    "    df.to_csv(fname, header=True, index=False)"
   ]
  },
  {
   "cell_type": "code",
   "execution_count": 76,
   "metadata": {},
   "outputs": [
    {
     "ename": "ValueError",
     "evalue": "operands could not be broadcast together with shapes (11702,) (28,) ",
     "output_type": "error",
     "traceback": [
      "\u001b[0;31m---------------------------------------------------------------------------\u001b[0m",
      "\u001b[0;31mValueError\u001b[0m                                Traceback (most recent call last)",
      "\u001b[0;32m<ipython-input-76-1f93002789fe>\u001b[0m in \u001b[0;36m<module>\u001b[0;34m()\u001b[0m\n\u001b[1;32m      2\u001b[0m                \u001b[0;36m0.34\u001b[0m\u001b[0;34m,\u001b[0m\u001b[0;36m0.42\u001b[0m\u001b[0;34m,\u001b[0m\u001b[0;36m0.31\u001b[0m\u001b[0;34m,\u001b[0m\u001b[0;36m0.38\u001b[0m\u001b[0;34m,\u001b[0m\u001b[0;36m0.49\u001b[0m\u001b[0;34m,\u001b[0m\u001b[0;36m0.50\u001b[0m\u001b[0;34m,\u001b[0m\u001b[0;36m0.38\u001b[0m\u001b[0;34m,\u001b[0m\u001b[0;36m0.43\u001b[0m\u001b[0;34m,\u001b[0m\u001b[0;36m0.46\u001b[0m\u001b[0;34m,\u001b[0m\u001b[0;36m0.40\u001b[0m\u001b[0;34m,\u001b[0m\u001b[0;34m\u001b[0m\u001b[0m\n\u001b[1;32m      3\u001b[0m                0.39,0.505,0.37,0.47,0.41,0.545,0.32,0.1])\n\u001b[0;32m----> 4\u001b[0;31m \u001b[0mprint\u001b[0m\u001b[0;34m(\u001b[0m\u001b[0;34m'Fractions: '\u001b[0m\u001b[0;34m,\u001b[0m\u001b[0;34m(\u001b[0m\u001b[0mpred_t\u001b[0m \u001b[0;34m>\u001b[0m \u001b[0mth_t\u001b[0m\u001b[0;34m)\u001b[0m\u001b[0;34m.\u001b[0m\u001b[0mmean\u001b[0m\u001b[0;34m(\u001b[0m\u001b[0maxis\u001b[0m\u001b[0;34m=\u001b[0m\u001b[0;36m0\u001b[0m\u001b[0;34m)\u001b[0m\u001b[0;34m)\u001b[0m\u001b[0;34m\u001b[0m\u001b[0m\n\u001b[0m\u001b[1;32m      5\u001b[0m \u001b[0msave_pred\u001b[0m\u001b[0;34m(\u001b[0m\u001b[0mpred_t\u001b[0m\u001b[0;34m,\u001b[0m\u001b[0mth_t\u001b[0m\u001b[0;34m)\u001b[0m\u001b[0;34m\u001b[0m\u001b[0m\n",
      "\u001b[0;31mValueError\u001b[0m: operands could not be broadcast together with shapes (11702,) (28,) "
     ]
    }
   ],
   "source": [
    "th_t = np.array([0.565,0.39,0.55,0.345,0.33,0.39,0.33,0.45,0.38,0.39,\n",
    "               0.34,0.42,0.31,0.38,0.49,0.50,0.38,0.43,0.46,0.40,\n",
    "               0.39,0.505,0.37,0.47,0.41,0.545,0.32,0.1])\n",
    "print('Fractions: ',(pred_t > th_t).mean(axis=0))\n",
    "save_pred(pred_t,th_t)"
   ]
  },
  {
   "cell_type": "code",
   "execution_count": 60,
   "metadata": {},
   "outputs": [],
   "source": [
    "# pred= preds_t\n",
    "# fname='../submissions/sub50-max-notta.csv'\n",
    "# th=0.5\n",
    "# pred_list = []\n",
    "# for line in pred:\n",
    "#     s = ' '.join(list([str(i) for i in np.nonzero(line>th)[0]]))\n",
    "#     pred_list.append(s)\n",
    "# sample_df = pd.read_csv(SAMPLE)\n",
    "# sample_list = list(sample_df.Id)\n",
    "# pred_dic = dict((key, value) for (key, value) \n",
    "#             in zip(learner.data.test_ds.fnames,pred_list))\n",
    "# pred_list_cor = [pred_dic[id] for id in sample_list]\n",
    "# df = pd.DataFrame({'Id':sample_list,'Predicted':pred_list_cor})\n",
    "# df.to_csv(fname, header=True, index=False)"
   ]
  },
  {
   "cell_type": "code",
   "execution_count": 61,
   "metadata": {},
   "outputs": [
    {
     "data": {
      "text/plain": [
       "(11702, 2)"
      ]
     },
     "execution_count": 61,
     "metadata": {},
     "output_type": "execute_result"
    }
   ],
   "source": [
    "df.shape"
   ]
  },
  {
   "cell_type": "code",
   "execution_count": 62,
   "metadata": {},
   "outputs": [
    {
     "data": {
      "text/html": [
       "<div>\n",
       "<style scoped>\n",
       "    .dataframe tbody tr th:only-of-type {\n",
       "        vertical-align: middle;\n",
       "    }\n",
       "\n",
       "    .dataframe tbody tr th {\n",
       "        vertical-align: top;\n",
       "    }\n",
       "\n",
       "    .dataframe thead th {\n",
       "        text-align: right;\n",
       "    }\n",
       "</style>\n",
       "<table border=\"1\" class=\"dataframe\">\n",
       "  <thead>\n",
       "    <tr style=\"text-align: right;\">\n",
       "      <th></th>\n",
       "      <th>Id</th>\n",
       "      <th>Predicted</th>\n",
       "    </tr>\n",
       "  </thead>\n",
       "  <tbody>\n",
       "    <tr>\n",
       "      <th>0</th>\n",
       "      <td>00008af0-bad0-11e8-b2b8-ac1f6b6435d0</td>\n",
       "      <td>2</td>\n",
       "    </tr>\n",
       "    <tr>\n",
       "      <th>1</th>\n",
       "      <td>0000a892-bacf-11e8-b2b8-ac1f6b6435d0</td>\n",
       "      <td>5</td>\n",
       "    </tr>\n",
       "    <tr>\n",
       "      <th>2</th>\n",
       "      <td>0006faa6-bac7-11e8-b2b7-ac1f6b6435d0</td>\n",
       "      <td>0 5 25</td>\n",
       "    </tr>\n",
       "    <tr>\n",
       "      <th>3</th>\n",
       "      <td>0008baca-bad7-11e8-b2b9-ac1f6b6435d0</td>\n",
       "      <td>0</td>\n",
       "    </tr>\n",
       "    <tr>\n",
       "      <th>4</th>\n",
       "      <td>000cce7e-bad4-11e8-b2b8-ac1f6b6435d0</td>\n",
       "      <td>23</td>\n",
       "    </tr>\n",
       "  </tbody>\n",
       "</table>\n",
       "</div>"
      ],
      "text/plain": [
       "                                     Id Predicted\n",
       "0  00008af0-bad0-11e8-b2b8-ac1f6b6435d0         2\n",
       "1  0000a892-bacf-11e8-b2b8-ac1f6b6435d0         5\n",
       "2  0006faa6-bac7-11e8-b2b7-ac1f6b6435d0    0 5 25\n",
       "3  0008baca-bad7-11e8-b2b9-ac1f6b6435d0         0\n",
       "4  000cce7e-bad4-11e8-b2b8-ac1f6b6435d0        23"
      ]
     },
     "execution_count": 62,
     "metadata": {},
     "output_type": "execute_result"
    }
   ],
   "source": [
    "df.head()"
   ]
  },
  {
   "cell_type": "code",
   "execution_count": 80,
   "metadata": {},
   "outputs": [],
   "source": [
    "save_pred(pred_t,0.5,'../submissions/sub50-max-05-notta.csv')"
   ]
  },
  {
   "cell_type": "code",
   "execution_count": 84,
   "metadata": {},
   "outputs": [
    {
     "name": "stdout",
     "output_type": "stream",
     "text": [
      "fileName                date                 description  status    publicScore  privateScore  \n",
      "----------------------  -------------------  -----------  --------  -----------  ------------  \n",
      "sub50-max-05-notta.csv  2018-12-15 08:41:36               complete  0.020        None          \n",
      "sub50-max-05-notta.csv  2018-12-15 08:22:48               complete  0.020        None          \n",
      "sub54-max-a.csv         2018-12-15 06:06:02               complete  0.365        None          \n",
      "sub50-max-05-l.csv      2018-12-15 05:44:54               complete  0.578        None          \n",
      "sub50-max-045.csv       2018-12-15 05:36:27               complete  0.528        None          \n",
      "sub50-max-05.csv        2018-12-14 04:56:42               complete  0.533        None          \n",
      "sub50-max-c-l.csv       2018-12-14 04:52:55               complete  0.557        None          \n",
      "sub50-max-c.csv         2018-12-14 04:52:04               complete  0.523        None          \n",
      "sub50-max-t-l.csv       2018-12-14 04:48:42               complete  0.533        None          \n",
      "sub50-max-t.csv         2018-12-14 02:56:13               complete  0.507        None          \n",
      "sub48-max-b.csv         2018-12-12 06:57:44               complete  0.449        None          \n",
      "sub48-max-a.csv         2018-12-12 06:55:45               complete  0.457        None          \n",
      "sub44-max-t.csv         2018-12-10 20:51:55               complete  0.019        None          \n",
      "sub41-t-l.csv           2018-12-08 09:27:37               complete  0.541        None          \n",
      "sub41-max-b.csv         2018-12-08 08:04:32               complete  0.478        None          \n",
      "sub41-max-a.csv         2018-12-08 08:03:03               complete  0.479        None          \n",
      "sub41-c.csv             2018-12-07 01:29:14               complete  0.493        None          \n",
      "sub41-f.csv             2018-12-07 01:28:39               complete  0.481        None          \n",
      "sub41-t.csv             2018-12-07 01:27:50               complete  0.498        None          \n",
      "sub41-v.csv             2018-12-07 01:27:04               complete  0.484        None          \n",
      "CPU times: user 319 ms, sys: 132 ms, total: 450 ms\n",
      "Wall time: 23 s\n"
     ]
    }
   ],
   "source": [
    "%%time\n",
    "!kaggle competitions submit -c human-protein-atlas-image-classification -f ../submissions/sub50-max-05-notta.csv -m \"\"\n",
    "from time import sleep\n",
    "sleep(10)\n",
    "!kaggle competitions submissions -c human-protein-atlas-image-classification"
   ]
  },
  {
   "cell_type": "code",
   "execution_count": 30,
   "metadata": {},
   "outputs": [],
   "source": [
    "sub50_050 = pd.read_csv('../submissions/sub50-max-05-l.csv')\n",
    "sub50_045 = pd.read_csv('../submissions/sub41-t-l.csv')"
   ]
  },
  {
   "cell_type": "code",
   "execution_count": 31,
   "metadata": {},
   "outputs": [],
   "source": [
    "null_id = sub50_050.Id[sub50_050.Predicted.isnull() == True]"
   ]
  },
  {
   "cell_type": "code",
   "execution_count": 32,
   "metadata": {},
   "outputs": [
    {
     "data": {
      "text/plain": [
       "113"
      ]
     },
     "execution_count": 32,
     "metadata": {},
     "output_type": "execute_result"
    }
   ],
   "source": [
    "len(null_id)"
   ]
  },
  {
   "cell_type": "code",
   "execution_count": 33,
   "metadata": {},
   "outputs": [],
   "source": [
    "sub50_045_113 = sub50_045.loc[sub50_045.Id.isin(null_id)]"
   ]
  },
  {
   "cell_type": "code",
   "execution_count": 34,
   "metadata": {},
   "outputs": [],
   "source": [
    "sub50_050_notnull = sub50_050.loc[~sub50_050.Id.isin(null_id)]"
   ]
  },
  {
   "cell_type": "code",
   "execution_count": 35,
   "metadata": {},
   "outputs": [
    {
     "data": {
      "text/plain": [
       "(11589, 2)"
      ]
     },
     "execution_count": 35,
     "metadata": {},
     "output_type": "execute_result"
    }
   ],
   "source": [
    "sub50_050_notnull.shape"
   ]
  },
  {
   "cell_type": "code",
   "execution_count": 36,
   "metadata": {},
   "outputs": [
    {
     "data": {
      "text/plain": [
       "(113, 2)"
      ]
     },
     "execution_count": 36,
     "metadata": {},
     "output_type": "execute_result"
    }
   ],
   "source": [
    "sub50_045_113.shape"
   ]
  },
  {
   "cell_type": "code",
   "execution_count": 37,
   "metadata": {},
   "outputs": [
    {
     "data": {
      "text/html": [
       "<div>\n",
       "<style scoped>\n",
       "    .dataframe tbody tr th:only-of-type {\n",
       "        vertical-align: middle;\n",
       "    }\n",
       "\n",
       "    .dataframe tbody tr th {\n",
       "        vertical-align: top;\n",
       "    }\n",
       "\n",
       "    .dataframe thead th {\n",
       "        text-align: right;\n",
       "    }\n",
       "</style>\n",
       "<table border=\"1\" class=\"dataframe\">\n",
       "  <thead>\n",
       "    <tr style=\"text-align: right;\">\n",
       "      <th></th>\n",
       "      <th>Id</th>\n",
       "      <th>Predicted</th>\n",
       "    </tr>\n",
       "  </thead>\n",
       "  <tbody>\n",
       "    <tr>\n",
       "      <th>21</th>\n",
       "      <td>00763d66-bacd-11e8-b2b8-ac1f6b6435d0</td>\n",
       "      <td>NaN</td>\n",
       "    </tr>\n",
       "    <tr>\n",
       "      <th>198</th>\n",
       "      <td>03f4b0e8-bad3-11e8-b2b8-ac1f6b6435d0</td>\n",
       "      <td>23</td>\n",
       "    </tr>\n",
       "    <tr>\n",
       "      <th>283</th>\n",
       "      <td>06001d6c-bada-11e8-b2b9-ac1f6b6435d0</td>\n",
       "      <td>7</td>\n",
       "    </tr>\n",
       "    <tr>\n",
       "      <th>417</th>\n",
       "      <td>090c44f8-bad1-11e8-b2b8-ac1f6b6435d0</td>\n",
       "      <td>NaN</td>\n",
       "    </tr>\n",
       "    <tr>\n",
       "      <th>864</th>\n",
       "      <td>12cd54b4-bacc-11e8-b2b8-ac1f6b6435d0</td>\n",
       "      <td>3</td>\n",
       "    </tr>\n",
       "  </tbody>\n",
       "</table>\n",
       "</div>"
      ],
      "text/plain": [
       "                                       Id Predicted\n",
       "21   00763d66-bacd-11e8-b2b8-ac1f6b6435d0       NaN\n",
       "198  03f4b0e8-bad3-11e8-b2b8-ac1f6b6435d0        23\n",
       "283  06001d6c-bada-11e8-b2b9-ac1f6b6435d0         7\n",
       "417  090c44f8-bad1-11e8-b2b8-ac1f6b6435d0       NaN\n",
       "864  12cd54b4-bacc-11e8-b2b8-ac1f6b6435d0         3"
      ]
     },
     "execution_count": 37,
     "metadata": {},
     "output_type": "execute_result"
    }
   ],
   "source": [
    "sub50_045_113.head()"
   ]
  },
  {
   "cell_type": "code",
   "execution_count": 38,
   "metadata": {},
   "outputs": [],
   "source": [
    "sub50_050_notnull_sub50_045_113 = sub50_050_notnull.append(sub50_045_113)"
   ]
  },
  {
   "cell_type": "code",
   "execution_count": 39,
   "metadata": {},
   "outputs": [
    {
     "data": {
      "text/plain": [
       "(11702, 2)"
      ]
     },
     "execution_count": 39,
     "metadata": {},
     "output_type": "execute_result"
    }
   ],
   "source": [
    "sub50_050_notnull_sub50_045_113.shape"
   ]
  },
  {
   "cell_type": "code",
   "execution_count": 40,
   "metadata": {},
   "outputs": [],
   "source": [
    "null_id2 = sub50_050_notnull_sub50_045_113.Id[sub50_050_notnull_sub50_045_113.Predicted.isnull() == True]"
   ]
  },
  {
   "cell_type": "code",
   "execution_count": 41,
   "metadata": {},
   "outputs": [
    {
     "data": {
      "text/plain": [
       "52"
      ]
     },
     "execution_count": 41,
     "metadata": {},
     "output_type": "execute_result"
    }
   ],
   "source": [
    "len(null_id2)"
   ]
  },
  {
   "cell_type": "code",
   "execution_count": 55,
   "metadata": {},
   "outputs": [],
   "source": [
    "sub50_040 = pd.read_csv('../submissions/sub33-b.csv')"
   ]
  },
  {
   "cell_type": "code",
   "execution_count": 56,
   "metadata": {},
   "outputs": [],
   "source": [
    "sub50_50_045_notnull = sub50_050_notnull_sub50_045_113.loc[~sub50_050_notnull_sub50_045_113.Id.isin(null_id2)]"
   ]
  },
  {
   "cell_type": "code",
   "execution_count": 57,
   "metadata": {},
   "outputs": [
    {
     "data": {
      "text/plain": [
       "(11650, 2)"
      ]
     },
     "execution_count": 57,
     "metadata": {},
     "output_type": "execute_result"
    }
   ],
   "source": [
    "sub50_50_045_notnull.shape"
   ]
  },
  {
   "cell_type": "code",
   "execution_count": 58,
   "metadata": {},
   "outputs": [],
   "source": [
    "sub50_040_25 = sub50_040.loc[sub50_040.Id.isin(null_id2)]"
   ]
  },
  {
   "cell_type": "code",
   "execution_count": 59,
   "metadata": {},
   "outputs": [
    {
     "data": {
      "text/plain": [
       "(52, 2)"
      ]
     },
     "execution_count": 59,
     "metadata": {},
     "output_type": "execute_result"
    }
   ],
   "source": [
    "sub50_040_25.shape"
   ]
  },
  {
   "cell_type": "code",
   "execution_count": 60,
   "metadata": {},
   "outputs": [],
   "source": [
    "sub50_22 = sub50_50_045_notnull.append(sub50_040_25)"
   ]
  },
  {
   "cell_type": "code",
   "execution_count": 62,
   "metadata": {},
   "outputs": [
    {
     "data": {
      "text/html": [
       "<div>\n",
       "<style scoped>\n",
       "    .dataframe tbody tr th:only-of-type {\n",
       "        vertical-align: middle;\n",
       "    }\n",
       "\n",
       "    .dataframe tbody tr th {\n",
       "        vertical-align: top;\n",
       "    }\n",
       "\n",
       "    .dataframe thead th {\n",
       "        text-align: right;\n",
       "    }\n",
       "</style>\n",
       "<table border=\"1\" class=\"dataframe\">\n",
       "  <thead>\n",
       "    <tr style=\"text-align: right;\">\n",
       "      <th></th>\n",
       "      <th>Id</th>\n",
       "      <th>Predicted</th>\n",
       "    </tr>\n",
       "  </thead>\n",
       "  <tbody>\n",
       "    <tr>\n",
       "      <th>21</th>\n",
       "      <td>00763d66-bacd-11e8-b2b8-ac1f6b6435d0</td>\n",
       "      <td>NaN</td>\n",
       "    </tr>\n",
       "    <tr>\n",
       "      <th>1572</th>\n",
       "      <td>2298ed50-bac6-11e8-b2b7-ac1f6b6435d0</td>\n",
       "      <td>NaN</td>\n",
       "    </tr>\n",
       "    <tr>\n",
       "      <th>3596</th>\n",
       "      <td>4fdbbdac-bad9-11e8-b2b9-ac1f6b6435d0</td>\n",
       "      <td>NaN</td>\n",
       "    </tr>\n",
       "    <tr>\n",
       "      <th>3667</th>\n",
       "      <td>5169a1de-bacf-11e8-b2b8-ac1f6b6435d0</td>\n",
       "      <td>NaN</td>\n",
       "    </tr>\n",
       "    <tr>\n",
       "      <th>5111</th>\n",
       "      <td>70354ede-bad3-11e8-b2b8-ac1f6b6435d0</td>\n",
       "      <td>NaN</td>\n",
       "    </tr>\n",
       "    <tr>\n",
       "      <th>5944</th>\n",
       "      <td>8250f548-bad1-11e8-b2b8-ac1f6b6435d0</td>\n",
       "      <td>NaN</td>\n",
       "    </tr>\n",
       "    <tr>\n",
       "      <th>6689</th>\n",
       "      <td>924d8e12-bad0-11e8-b2b8-ac1f6b6435d0</td>\n",
       "      <td>NaN</td>\n",
       "    </tr>\n",
       "    <tr>\n",
       "      <th>8178</th>\n",
       "      <td>b29caf2c-bad0-11e8-b2b8-ac1f6b6435d0</td>\n",
       "      <td>NaN</td>\n",
       "    </tr>\n",
       "    <tr>\n",
       "      <th>11130</th>\n",
       "      <td>f35327bc-bad0-11e8-b2b8-ac1f6b6435d0</td>\n",
       "      <td>NaN</td>\n",
       "    </tr>\n",
       "  </tbody>\n",
       "</table>\n",
       "</div>"
      ],
      "text/plain": [
       "                                         Id Predicted\n",
       "21     00763d66-bacd-11e8-b2b8-ac1f6b6435d0       NaN\n",
       "1572   2298ed50-bac6-11e8-b2b7-ac1f6b6435d0       NaN\n",
       "3596   4fdbbdac-bad9-11e8-b2b9-ac1f6b6435d0       NaN\n",
       "3667   5169a1de-bacf-11e8-b2b8-ac1f6b6435d0       NaN\n",
       "5111   70354ede-bad3-11e8-b2b8-ac1f6b6435d0       NaN\n",
       "5944   8250f548-bad1-11e8-b2b8-ac1f6b6435d0       NaN\n",
       "6689   924d8e12-bad0-11e8-b2b8-ac1f6b6435d0       NaN\n",
       "8178   b29caf2c-bad0-11e8-b2b8-ac1f6b6435d0       NaN\n",
       "11130  f35327bc-bad0-11e8-b2b8-ac1f6b6435d0       NaN"
      ]
     },
     "execution_count": 62,
     "metadata": {},
     "output_type": "execute_result"
    }
   ],
   "source": [
    "sub50_22.loc[sub50_22.Predicted.isnull() == True]"
   ]
  },
  {
   "cell_type": "code",
   "execution_count": 63,
   "metadata": {},
   "outputs": [],
   "source": [
    "sub50_22.loc[sub50_22.Id == '00763d66-bacd-11e8-b2b8-ac1f6b6435d0', 'Predicted'] = '3 5 25'\n",
    "sub50_22.loc[sub50_22.Id == '2298ed50-bac6-11e8-b2b7-ac1f6b6435d0', 'Predicted'] = '5 26'\n",
    "sub50_22.loc[sub50_22.Id == '4fdbbdac-bad9-11e8-b2b9-ac1f6b6435d0', 'Predicted'] = '23 25'\n",
    "sub50_22.loc[sub50_22.Id == '5169a1de-bacf-11e8-b2b8-ac1f6b6435d0', 'Predicted'] = '0 7 23'\n",
    "sub50_22.loc[sub50_22.Id == '70354ede-bad3-11e8-b2b8-ac1f6b6435d0', 'Predicted'] = '0 19 25'\n",
    "sub50_22.loc[sub50_22.Id == '8250f548-bad1-11e8-b2b8-ac1f6b6435d0', 'Predicted'] = '2 7 23 25'\n",
    "sub50_22.loc[sub50_22.Id == '924d8e12-bad0-11e8-b2b8-ac1f6b6435d0', 'Predicted'] = '0 4 23 26'\n",
    "sub50_22.loc[sub50_22.Id == 'b29caf2c-bad0-11e8-b2b8-ac1f6b6435d0', 'Predicted'] = '0 5 11 19'\n",
    "sub50_22.loc[sub50_22.Id == 'f35327bc-bad0-11e8-b2b8-ac1f6b6435d0', 'Predicted'] = '0 25'"
   ]
  },
  {
   "cell_type": "code",
   "execution_count": 64,
   "metadata": {},
   "outputs": [],
   "source": [
    "sub = pd.read_csv('../data/sample_submission.csv')"
   ]
  },
  {
   "cell_type": "code",
   "execution_count": 65,
   "metadata": {},
   "outputs": [
    {
     "data": {
      "application/vnd.jupyter.widget-view+json": {
       "model_id": "0b0645202f5a43d1b6ba67f718081c72",
       "version_major": 2,
       "version_minor": 0
      },
      "text/html": [
       "<p>Failed to display Jupyter Widget of type <code>HBox</code>.</p>\n",
       "<p>\n",
       "  If you're reading this message in the Jupyter Notebook or JupyterLab Notebook, it may mean\n",
       "  that the widgets JavaScript is still loading. If this message persists, it\n",
       "  likely means that the widgets JavaScript library is either not installed or\n",
       "  not enabled. See the <a href=\"https://ipywidgets.readthedocs.io/en/stable/user_install.html\">Jupyter\n",
       "  Widgets Documentation</a> for setup instructions.\n",
       "</p>\n",
       "<p>\n",
       "  If you're reading this message in another frontend (for example, a static\n",
       "  rendering on GitHub or <a href=\"https://nbviewer.jupyter.org/\">NBViewer</a>),\n",
       "  it may mean that your frontend doesn't currently support widgets.\n",
       "</p>\n"
      ],
      "text/plain": [
       "HBox(children=(IntProgress(value=1, bar_style='info', max=1), HTML(value='')))"
      ]
     },
     "metadata": {},
     "output_type": "display_data"
    },
    {
     "name": "stdout",
     "output_type": "stream",
     "text": [
      "\n"
     ]
    }
   ],
   "source": [
    "for idx, row in tqdm_notebook(sub50_22.iterrows()):\n",
    "    iid = row['Id']\n",
    "    predicted = row[\"Predicted\"]\n",
    "    sub.loc[sub.Id == iid, 'Predicted'] = predicted"
   ]
  },
  {
   "cell_type": "code",
   "execution_count": 66,
   "metadata": {},
   "outputs": [],
   "source": [
    "sub.to_csv('../submissions/sub50_22.csv', index=False)"
   ]
  },
  {
   "cell_type": "code",
   "execution_count": 7,
   "metadata": {},
   "outputs": [],
   "source": [
    "preds_t = np.load('../cache/preds_t_50_max.npy')"
   ]
  },
  {
   "cell_type": "code",
   "execution_count": 8,
   "metadata": {},
   "outputs": [
    {
     "data": {
      "text/plain": [
       "(11702, 28, 20)"
      ]
     },
     "execution_count": 8,
     "metadata": {},
     "output_type": "execute_result"
    }
   ],
   "source": [
    "preds_t.shape"
   ]
  },
  {
   "cell_type": "code",
   "execution_count": null,
   "metadata": {},
   "outputs": [],
   "source": [
    "thresholds = np.linspace(0, 1, 1000)\n",
    "score = 0.0\n",
    "test_threshold=0.5*np.ones(28)\n",
    "best_threshold=np.zeros(28)\n",
    "best_val = np.zeros(28)\n",
    "for i in range(28):\n",
    "    for threshold in thresholds:\n",
    "        test_threshold[i] = threshold\n",
    "        max_val = np.max(preds_y)\n",
    "        val_predict = (preds_y > test_threshold)\n",
    "        score = f1_score(valid_y > 0.5, val_predict, average='macro')\n",
    "        if score > best_val[i]:\n",
    "            best_threshold[i] = threshold\n",
    "            best_val[i] = score\n",
    "\n",
    "    print(\"Threshold[%d] %0.6f, F1: %0.6f\" % (i,best_threshold[i],best_val[i]))\n",
    "    test_threshold[i] = best_threshold[i]\n",
    "\n",
    "print(\"Best threshold: \")\n",
    "print(best_threshold)\n",
    "print(\"Best f1:\")\n",
    "print(best_val)"
   ]
  }
 ],
 "metadata": {
  "kernelspec": {
   "display_name": "fastai0_7",
   "language": "python",
   "name": "fastai0_7"
  },
  "language_info": {
   "codemirror_mode": {
    "name": "ipython",
    "version": 3
   },
   "file_extension": ".py",
   "mimetype": "text/x-python",
   "name": "python",
   "nbconvert_exporter": "python",
   "pygments_lexer": "ipython3",
   "version": "3.6.4"
  }
 },
 "nbformat": 4,
 "nbformat_minor": 2
}

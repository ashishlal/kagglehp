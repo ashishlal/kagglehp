{
 "cells": [
  {
   "cell_type": "code",
   "execution_count": 1,
   "metadata": {},
   "outputs": [],
   "source": [
    "import numpy as np\n",
    "import pandas as pd"
   ]
  },
  {
   "cell_type": "code",
   "execution_count": 2,
   "metadata": {},
   "outputs": [],
   "source": [
    "leak = pd.read_csv('../cache/TestEtraMatchingUnder_259_R14_G12_B10.csv')"
   ]
  },
  {
   "cell_type": "code",
   "execution_count": 3,
   "metadata": {},
   "outputs": [
    {
     "data": {
      "text/html": [
       "<div>\n",
       "<style scoped>\n",
       "    .dataframe tbody tr th:only-of-type {\n",
       "        vertical-align: middle;\n",
       "    }\n",
       "\n",
       "    .dataframe tbody tr th {\n",
       "        vertical-align: top;\n",
       "    }\n",
       "\n",
       "    .dataframe thead th {\n",
       "        text-align: right;\n",
       "    }\n",
       "</style>\n",
       "<table border=\"1\" class=\"dataframe\">\n",
       "  <thead>\n",
       "    <tr style=\"text-align: right;\">\n",
       "      <th></th>\n",
       "      <th>Extra</th>\n",
       "      <th>Test</th>\n",
       "      <th>SimR</th>\n",
       "      <th>SimG</th>\n",
       "      <th>SimB</th>\n",
       "    </tr>\n",
       "  </thead>\n",
       "  <tbody>\n",
       "    <tr>\n",
       "      <th>0</th>\n",
       "      <td>ENSG00000001497_44431_556_B9_1</td>\n",
       "      <td>7729b27c-bacc-11e8-b2b8-ac1f6b6435d0</td>\n",
       "      <td>10</td>\n",
       "      <td>6</td>\n",
       "      <td>2</td>\n",
       "    </tr>\n",
       "    <tr>\n",
       "      <th>1</th>\n",
       "      <td>ENSG00000006194_35086_383_E8_7</td>\n",
       "      <td>5661665e-bacf-11e8-b2b8-ac1f6b6435d0</td>\n",
       "      <td>0</td>\n",
       "      <td>0</td>\n",
       "      <td>0</td>\n",
       "    </tr>\n",
       "    <tr>\n",
       "      <th>2</th>\n",
       "      <td>ENSG00000008324_47377_688_E7_10</td>\n",
       "      <td>b029f372-bad9-11e8-b2b9-ac1f6b6435d0</td>\n",
       "      <td>2</td>\n",
       "      <td>0</td>\n",
       "      <td>2</td>\n",
       "    </tr>\n",
       "    <tr>\n",
       "      <th>3</th>\n",
       "      <td>ENSG00000019186_63771_1414_D12_2</td>\n",
       "      <td>adc182fa-bad2-11e8-b2b8-ac1f6b6435d0</td>\n",
       "      <td>6</td>\n",
       "      <td>2</td>\n",
       "      <td>0</td>\n",
       "    </tr>\n",
       "    <tr>\n",
       "      <th>4</th>\n",
       "      <td>ENSG00000025770_67932_1255_A3_4</td>\n",
       "      <td>39508fe6-bad3-11e8-b2b8-ac1f6b6435d0</td>\n",
       "      <td>0</td>\n",
       "      <td>0</td>\n",
       "      <td>0</td>\n",
       "    </tr>\n",
       "  </tbody>\n",
       "</table>\n",
       "</div>"
      ],
      "text/plain": [
       "                              Extra                                  Test  \\\n",
       "0    ENSG00000001497_44431_556_B9_1  7729b27c-bacc-11e8-b2b8-ac1f6b6435d0   \n",
       "1    ENSG00000006194_35086_383_E8_7  5661665e-bacf-11e8-b2b8-ac1f6b6435d0   \n",
       "2   ENSG00000008324_47377_688_E7_10  b029f372-bad9-11e8-b2b9-ac1f6b6435d0   \n",
       "3  ENSG00000019186_63771_1414_D12_2  adc182fa-bad2-11e8-b2b8-ac1f6b6435d0   \n",
       "4   ENSG00000025770_67932_1255_A3_4  39508fe6-bad3-11e8-b2b8-ac1f6b6435d0   \n",
       "\n",
       "   SimR  SimG  SimB  \n",
       "0    10     6     2  \n",
       "1     0     0     0  \n",
       "2     2     0     2  \n",
       "3     6     2     0  \n",
       "4     0     0     0  "
      ]
     },
     "execution_count": 3,
     "metadata": {},
     "output_type": "execute_result"
    }
   ],
   "source": [
    "leak.head()"
   ]
  },
  {
   "cell_type": "code",
   "execution_count": 4,
   "metadata": {},
   "outputs": [],
   "source": [
    "hpav18 = pd.read_csv('../data/HPAv18RBGY_wodpl.csv')"
   ]
  },
  {
   "cell_type": "code",
   "execution_count": 5,
   "metadata": {},
   "outputs": [
    {
     "data": {
      "text/html": [
       "<div>\n",
       "<style scoped>\n",
       "    .dataframe tbody tr th:only-of-type {\n",
       "        vertical-align: middle;\n",
       "    }\n",
       "\n",
       "    .dataframe tbody tr th {\n",
       "        vertical-align: top;\n",
       "    }\n",
       "\n",
       "    .dataframe thead th {\n",
       "        text-align: right;\n",
       "    }\n",
       "</style>\n",
       "<table border=\"1\" class=\"dataframe\">\n",
       "  <thead>\n",
       "    <tr style=\"text-align: right;\">\n",
       "      <th></th>\n",
       "      <th>Id</th>\n",
       "      <th>Target</th>\n",
       "    </tr>\n",
       "  </thead>\n",
       "  <tbody>\n",
       "    <tr>\n",
       "      <th>0</th>\n",
       "      <td>10580_1610_C1_1</td>\n",
       "      <td>13 25 0 2 21</td>\n",
       "    </tr>\n",
       "    <tr>\n",
       "      <th>1</th>\n",
       "      <td>10580_1610_C1_2</td>\n",
       "      <td>13 25 0 2 21</td>\n",
       "    </tr>\n",
       "    <tr>\n",
       "      <th>2</th>\n",
       "      <td>10580_1756_B1_1</td>\n",
       "      <td>13 25 0 2 21</td>\n",
       "    </tr>\n",
       "    <tr>\n",
       "      <th>3</th>\n",
       "      <td>10580_1756_B1_2</td>\n",
       "      <td>13 25 0 2 21</td>\n",
       "    </tr>\n",
       "    <tr>\n",
       "      <th>4</th>\n",
       "      <td>10580_1758_B1_1</td>\n",
       "      <td>13 25 0 2 21</td>\n",
       "    </tr>\n",
       "  </tbody>\n",
       "</table>\n",
       "</div>"
      ],
      "text/plain": [
       "                Id        Target\n",
       "0  10580_1610_C1_1  13 25 0 2 21\n",
       "1  10580_1610_C1_2  13 25 0 2 21\n",
       "2  10580_1756_B1_1  13 25 0 2 21\n",
       "3  10580_1756_B1_2  13 25 0 2 21\n",
       "4  10580_1758_B1_1  13 25 0 2 21"
      ]
     },
     "execution_count": 5,
     "metadata": {},
     "output_type": "execute_result"
    }
   ],
   "source": [
    "hpav18.head()"
   ]
  },
  {
   "cell_type": "code",
   "execution_count": 17,
   "metadata": {},
   "outputs": [],
   "source": [
    "leak_test = pd.DataFrame(leak['Test'].values)"
   ]
  },
  {
   "cell_type": "code",
   "execution_count": 19,
   "metadata": {},
   "outputs": [],
   "source": [
    "leak_test.to_csv('../cache/leak_test.csv', index=False)"
   ]
  },
  {
   "cell_type": "code",
   "execution_count": 25,
   "metadata": {},
   "outputs": [
    {
     "data": {
      "text/html": [
       "<div>\n",
       "<style scoped>\n",
       "    .dataframe tbody tr th:only-of-type {\n",
       "        vertical-align: middle;\n",
       "    }\n",
       "\n",
       "    .dataframe tbody tr th {\n",
       "        vertical-align: top;\n",
       "    }\n",
       "\n",
       "    .dataframe thead th {\n",
       "        text-align: right;\n",
       "    }\n",
       "</style>\n",
       "<table border=\"1\" class=\"dataframe\">\n",
       "  <thead>\n",
       "    <tr style=\"text-align: right;\">\n",
       "      <th></th>\n",
       "      <th>Id</th>\n",
       "      <th>Target</th>\n",
       "    </tr>\n",
       "  </thead>\n",
       "  <tbody>\n",
       "    <tr>\n",
       "      <th>1784</th>\n",
       "      <td>44431_556_B9_1</td>\n",
       "      <td>25 18 0</td>\n",
       "    </tr>\n",
       "  </tbody>\n",
       "</table>\n",
       "</div>"
      ],
      "text/plain": [
       "                  Id   Target\n",
       "1784  44431_556_B9_1  25 18 0"
      ]
     },
     "execution_count": 25,
     "metadata": {},
     "output_type": "execute_result"
    }
   ],
   "source": [
    "hpav18.loc[hpav18.Id == '44431_556_B9_1']"
   ]
  },
  {
   "cell_type": "code",
   "execution_count": 32,
   "metadata": {},
   "outputs": [],
   "source": [
    "leak_id= []\n",
    "for name in leak['Extra']:\n",
    "    name = name.split('_')\n",
    "    name = name[1]+'_'+name[2]+'_'+name[3]+'_'+name[4]\n",
    "    leak_id.append(name)"
   ]
  },
  {
   "cell_type": "code",
   "execution_count": 33,
   "metadata": {},
   "outputs": [],
   "source": [
    "leak_hpav18 = hpav18.loc[hpav18.Id.isin(leak_id)]"
   ]
  },
  {
   "cell_type": "code",
   "execution_count": 34,
   "metadata": {},
   "outputs": [
    {
     "data": {
      "text/html": [
       "<div>\n",
       "<style scoped>\n",
       "    .dataframe tbody tr th:only-of-type {\n",
       "        vertical-align: middle;\n",
       "    }\n",
       "\n",
       "    .dataframe tbody tr th {\n",
       "        vertical-align: top;\n",
       "    }\n",
       "\n",
       "    .dataframe thead th {\n",
       "        text-align: right;\n",
       "    }\n",
       "</style>\n",
       "<table border=\"1\" class=\"dataframe\">\n",
       "  <thead>\n",
       "    <tr style=\"text-align: right;\">\n",
       "      <th></th>\n",
       "      <th>Id</th>\n",
       "      <th>Target</th>\n",
       "    </tr>\n",
       "  </thead>\n",
       "  <tbody>\n",
       "    <tr>\n",
       "      <th>269</th>\n",
       "      <td>31240_1645_E5_34</td>\n",
       "      <td>18 17</td>\n",
       "    </tr>\n",
       "    <tr>\n",
       "      <th>1784</th>\n",
       "      <td>44431_556_B9_1</td>\n",
       "      <td>25 18 0</td>\n",
       "    </tr>\n",
       "    <tr>\n",
       "      <th>2341</th>\n",
       "      <td>35086_383_E8_7</td>\n",
       "      <td>25 17 0</td>\n",
       "    </tr>\n",
       "    <tr>\n",
       "      <th>2688</th>\n",
       "      <td>47377_688_E7_10</td>\n",
       "      <td>23 2</td>\n",
       "    </tr>\n",
       "    <tr>\n",
       "      <th>3453</th>\n",
       "      <td>63771_1414_D12_2</td>\n",
       "      <td>23 0 21</td>\n",
       "    </tr>\n",
       "  </tbody>\n",
       "</table>\n",
       "</div>"
      ],
      "text/plain": [
       "                    Id   Target\n",
       "269   31240_1645_E5_34    18 17\n",
       "1784    44431_556_B9_1  25 18 0\n",
       "2341    35086_383_E8_7  25 17 0\n",
       "2688   47377_688_E7_10     23 2\n",
       "3453  63771_1414_D12_2  23 0 21"
      ]
     },
     "execution_count": 34,
     "metadata": {},
     "output_type": "execute_result"
    }
   ],
   "source": [
    "leak_hpav18.head()"
   ]
  },
  {
   "cell_type": "code",
   "execution_count": 60,
   "metadata": {},
   "outputs": [],
   "source": [
    "leak_test_id = []\n",
    "leak_test_target = []\n",
    "for ii, row in leak.iterrows():\n",
    "#     if ii != 0:\n",
    "#         continue\n",
    "#     print(row)\n",
    "    name = row['Extra']\n",
    "    test = row['Test']\n",
    "#     print(name, test)\n",
    "    name = name.split('_')\n",
    "    name = name[1]+'_'+name[2]+'_'+name[3]+'_'+name[4]\n",
    "    leak_hpav18 = hpav18.loc[hpav18.Id ==name]\n",
    "    target = leak_hpav18.iloc[0]['Target']\n",
    "    leak_test_id.append(test)\n",
    "    leak_test_target.append(target)"
   ]
  },
  {
   "cell_type": "code",
   "execution_count": 68,
   "metadata": {},
   "outputs": [],
   "source": [
    "leak_test = pd.DataFrame()\n",
    "leak_test['Id'] = leak_test_id\n",
    "leak_test['Target'] = leak_test_target"
   ]
  },
  {
   "cell_type": "code",
   "execution_count": 69,
   "metadata": {},
   "outputs": [
    {
     "data": {
      "text/html": [
       "<div>\n",
       "<style scoped>\n",
       "    .dataframe tbody tr th:only-of-type {\n",
       "        vertical-align: middle;\n",
       "    }\n",
       "\n",
       "    .dataframe tbody tr th {\n",
       "        vertical-align: top;\n",
       "    }\n",
       "\n",
       "    .dataframe thead th {\n",
       "        text-align: right;\n",
       "    }\n",
       "</style>\n",
       "<table border=\"1\" class=\"dataframe\">\n",
       "  <thead>\n",
       "    <tr style=\"text-align: right;\">\n",
       "      <th></th>\n",
       "      <th>Id</th>\n",
       "      <th>Target</th>\n",
       "    </tr>\n",
       "  </thead>\n",
       "  <tbody>\n",
       "    <tr>\n",
       "      <th>0</th>\n",
       "      <td>7729b27c-bacc-11e8-b2b8-ac1f6b6435d0</td>\n",
       "      <td>25 18 0</td>\n",
       "    </tr>\n",
       "    <tr>\n",
       "      <th>1</th>\n",
       "      <td>5661665e-bacf-11e8-b2b8-ac1f6b6435d0</td>\n",
       "      <td>25 17 0</td>\n",
       "    </tr>\n",
       "    <tr>\n",
       "      <th>2</th>\n",
       "      <td>b029f372-bad9-11e8-b2b9-ac1f6b6435d0</td>\n",
       "      <td>23 2</td>\n",
       "    </tr>\n",
       "    <tr>\n",
       "      <th>3</th>\n",
       "      <td>adc182fa-bad2-11e8-b2b8-ac1f6b6435d0</td>\n",
       "      <td>23 0 21</td>\n",
       "    </tr>\n",
       "    <tr>\n",
       "      <th>4</th>\n",
       "      <td>39508fe6-bad3-11e8-b2b8-ac1f6b6435d0</td>\n",
       "      <td>16 0</td>\n",
       "    </tr>\n",
       "  </tbody>\n",
       "</table>\n",
       "</div>"
      ],
      "text/plain": [
       "                                     Id   Target\n",
       "0  7729b27c-bacc-11e8-b2b8-ac1f6b6435d0  25 18 0\n",
       "1  5661665e-bacf-11e8-b2b8-ac1f6b6435d0  25 17 0\n",
       "2  b029f372-bad9-11e8-b2b9-ac1f6b6435d0     23 2\n",
       "3  adc182fa-bad2-11e8-b2b8-ac1f6b6435d0  23 0 21\n",
       "4  39508fe6-bad3-11e8-b2b8-ac1f6b6435d0     16 0"
      ]
     },
     "execution_count": 69,
     "metadata": {},
     "output_type": "execute_result"
    }
   ],
   "source": [
    "leak_test.head()"
   ]
  },
  {
   "cell_type": "code",
   "execution_count": 70,
   "metadata": {},
   "outputs": [
    {
     "data": {
      "text/plain": [
       "(259, 2)"
      ]
     },
     "execution_count": 70,
     "metadata": {},
     "output_type": "execute_result"
    }
   ],
   "source": [
    "leak_test.shape"
   ]
  },
  {
   "cell_type": "code",
   "execution_count": 71,
   "metadata": {},
   "outputs": [],
   "source": [
    "sub41 = pd.read_csv('../submissions/sub41-t.csv')"
   ]
  },
  {
   "cell_type": "code",
   "execution_count": 72,
   "metadata": {},
   "outputs": [
    {
     "data": {
      "text/plain": [
       "(11702, 2)"
      ]
     },
     "execution_count": 72,
     "metadata": {},
     "output_type": "execute_result"
    }
   ],
   "source": [
    "sub41.shape"
   ]
  },
  {
   "cell_type": "code",
   "execution_count": 73,
   "metadata": {},
   "outputs": [
    {
     "data": {
      "text/html": [
       "<div>\n",
       "<style scoped>\n",
       "    .dataframe tbody tr th:only-of-type {\n",
       "        vertical-align: middle;\n",
       "    }\n",
       "\n",
       "    .dataframe tbody tr th {\n",
       "        vertical-align: top;\n",
       "    }\n",
       "\n",
       "    .dataframe thead th {\n",
       "        text-align: right;\n",
       "    }\n",
       "</style>\n",
       "<table border=\"1\" class=\"dataframe\">\n",
       "  <thead>\n",
       "    <tr style=\"text-align: right;\">\n",
       "      <th></th>\n",
       "      <th>Id</th>\n",
       "      <th>Predicted</th>\n",
       "    </tr>\n",
       "  </thead>\n",
       "  <tbody>\n",
       "    <tr>\n",
       "      <th>0</th>\n",
       "      <td>00008af0-bad0-11e8-b2b8-ac1f6b6435d0</td>\n",
       "      <td>2</td>\n",
       "    </tr>\n",
       "    <tr>\n",
       "      <th>1</th>\n",
       "      <td>0000a892-bacf-11e8-b2b8-ac1f6b6435d0</td>\n",
       "      <td>5</td>\n",
       "    </tr>\n",
       "    <tr>\n",
       "      <th>2</th>\n",
       "      <td>0006faa6-bac7-11e8-b2b7-ac1f6b6435d0</td>\n",
       "      <td>0 5 25</td>\n",
       "    </tr>\n",
       "    <tr>\n",
       "      <th>3</th>\n",
       "      <td>0008baca-bad7-11e8-b2b9-ac1f6b6435d0</td>\n",
       "      <td>0</td>\n",
       "    </tr>\n",
       "    <tr>\n",
       "      <th>4</th>\n",
       "      <td>000cce7e-bad4-11e8-b2b8-ac1f6b6435d0</td>\n",
       "      <td>23</td>\n",
       "    </tr>\n",
       "  </tbody>\n",
       "</table>\n",
       "</div>"
      ],
      "text/plain": [
       "                                     Id Predicted\n",
       "0  00008af0-bad0-11e8-b2b8-ac1f6b6435d0         2\n",
       "1  0000a892-bacf-11e8-b2b8-ac1f6b6435d0         5\n",
       "2  0006faa6-bac7-11e8-b2b7-ac1f6b6435d0    0 5 25\n",
       "3  0008baca-bad7-11e8-b2b9-ac1f6b6435d0         0\n",
       "4  000cce7e-bad4-11e8-b2b8-ac1f6b6435d0        23"
      ]
     },
     "execution_count": 73,
     "metadata": {},
     "output_type": "execute_result"
    }
   ],
   "source": [
    "sub41.head()"
   ]
  },
  {
   "cell_type": "code",
   "execution_count": 75,
   "metadata": {},
   "outputs": [
    {
     "data": {
      "text/html": [
       "<div>\n",
       "<style scoped>\n",
       "    .dataframe tbody tr th:only-of-type {\n",
       "        vertical-align: middle;\n",
       "    }\n",
       "\n",
       "    .dataframe tbody tr th {\n",
       "        vertical-align: top;\n",
       "    }\n",
       "\n",
       "    .dataframe thead th {\n",
       "        text-align: right;\n",
       "    }\n",
       "</style>\n",
       "<table border=\"1\" class=\"dataframe\">\n",
       "  <thead>\n",
       "    <tr style=\"text-align: right;\">\n",
       "      <th></th>\n",
       "      <th>Id</th>\n",
       "      <th>Predicted</th>\n",
       "    </tr>\n",
       "  </thead>\n",
       "  <tbody>\n",
       "    <tr>\n",
       "      <th>8073</th>\n",
       "      <td>b029f372-bad9-11e8-b2b9-ac1f6b6435d0</td>\n",
       "      <td>23 25</td>\n",
       "    </tr>\n",
       "  </tbody>\n",
       "</table>\n",
       "</div>"
      ],
      "text/plain": [
       "                                        Id Predicted\n",
       "8073  b029f372-bad9-11e8-b2b9-ac1f6b6435d0     23 25"
      ]
     },
     "execution_count": 75,
     "metadata": {},
     "output_type": "execute_result"
    }
   ],
   "source": [
    "sub41.loc[sub41.Id == 'b029f372-bad9-11e8-b2b9-ac1f6b6435d0']"
   ]
  },
  {
   "cell_type": "code",
   "execution_count": 74,
   "metadata": {},
   "outputs": [],
   "source": [
    "leak_test.to_csv('../cache/leak_test.csv', index=False)"
   ]
  },
  {
   "cell_type": "code",
   "execution_count": 76,
   "metadata": {},
   "outputs": [],
   "source": [
    "for idx, row in leak_test.iterrows():\n",
    "    test_id = row['Id']\n",
    "    target = row['Target']\n",
    "    sub41.loc[sub41.Id == test_id, 'Predicted'] = target"
   ]
  },
  {
   "cell_type": "code",
   "execution_count": 77,
   "metadata": {},
   "outputs": [
    {
     "data": {
      "text/html": [
       "<div>\n",
       "<style scoped>\n",
       "    .dataframe tbody tr th:only-of-type {\n",
       "        vertical-align: middle;\n",
       "    }\n",
       "\n",
       "    .dataframe tbody tr th {\n",
       "        vertical-align: top;\n",
       "    }\n",
       "\n",
       "    .dataframe thead th {\n",
       "        text-align: right;\n",
       "    }\n",
       "</style>\n",
       "<table border=\"1\" class=\"dataframe\">\n",
       "  <thead>\n",
       "    <tr style=\"text-align: right;\">\n",
       "      <th></th>\n",
       "      <th>Id</th>\n",
       "      <th>Predicted</th>\n",
       "    </tr>\n",
       "  </thead>\n",
       "  <tbody>\n",
       "    <tr>\n",
       "      <th>8073</th>\n",
       "      <td>b029f372-bad9-11e8-b2b9-ac1f6b6435d0</td>\n",
       "      <td>23 2</td>\n",
       "    </tr>\n",
       "  </tbody>\n",
       "</table>\n",
       "</div>"
      ],
      "text/plain": [
       "                                        Id Predicted\n",
       "8073  b029f372-bad9-11e8-b2b9-ac1f6b6435d0      23 2"
      ]
     },
     "execution_count": 77,
     "metadata": {},
     "output_type": "execute_result"
    }
   ],
   "source": [
    "sub41.loc[sub41.Id == 'b029f372-bad9-11e8-b2b9-ac1f6b6435d0']"
   ]
  },
  {
   "cell_type": "code",
   "execution_count": 78,
   "metadata": {},
   "outputs": [],
   "source": [
    "sub41.to_csv('../submissions/sub41-t-l.csv', index=False)"
   ]
  },
  {
   "cell_type": "code",
   "execution_count": 79,
   "metadata": {},
   "outputs": [
    {
     "name": "stdout",
     "output_type": "stream",
     "text": [
      "100%|████████████████████████████████████████| 469k/469k [00:12<00:00, 39.1kB/s]\n",
      "Successfully submitted to Human Protein Atlas Image ClassificationCPU times: user 346 ms, sys: 93.8 ms, total: 440 ms\n",
      "Wall time: 15.2 s\n"
     ]
    }
   ],
   "source": [
    "%%time\n",
    "!kaggle competitions submit -c human-protein-atlas-image-classification -f ../submissions/sub41-t-l.csv -m \"\""
   ]
  },
  {
   "cell_type": "code",
   "execution_count": 80,
   "metadata": {},
   "outputs": [
    {
     "name": "stdout",
     "output_type": "stream",
     "text": [
      "fileName          date                 description  status    publicScore  privateScore  \r\n",
      "----------------  -------------------  -----------  --------  -----------  ------------  \r\n",
      "sub41-t-l.csv     2018-12-08 09:27:37               complete  0.541        None          \r\n",
      "sub41-max-b.csv   2018-12-08 08:04:32               complete  0.478        None          \r\n",
      "sub41-max-a.csv   2018-12-08 08:03:03               complete  0.479        None          \r\n",
      "sub41-c.csv       2018-12-07 01:29:14               complete  0.493        None          \r\n",
      "sub41-f.csv       2018-12-07 01:28:39               complete  0.481        None          \r\n",
      "sub41-t.csv       2018-12-07 01:27:50               complete  0.498        None          \r\n",
      "sub41-v.csv       2018-12-07 01:27:04               complete  0.484        None          \r\n",
      "sub41.csv         2018-12-07 01:26:29               complete  0.494        None          \r\n",
      "sub33-mag-05.csv  2018-12-06 12:29:28               complete  0.492        None          \r\n",
      "sub33-mag-c.csv   2018-12-06 12:28:48               complete  0.491        None          \r\n",
      "sub33-mag-f.csv   2018-12-06 12:28:08               complete  0.488        None          \r\n",
      "sub33-mag-t.csv   2018-12-06 12:27:36               complete  0.481        None          \r\n",
      "sub33-mag.csv     2018-12-06 12:26:29               complete  0.491        None          \r\n",
      "sub40-a.csv       2018-12-02 07:28:08               complete  0.447        None          \r\n",
      "sub40-a.csv       2018-12-02 07:18:27               complete  0.477        None          \r\n",
      "sub41-a.csv       2018-12-01 19:07:17               complete  0.477        None          \r\n",
      "sub40-a.csv       2018-11-29 14:06:01               complete  0.417        None          \r\n",
      "sub38-a.csv       2018-11-29 02:08:54               complete  0.356        None          \r\n",
      "sub39-c.csv       2018-11-29 02:08:16               complete  0.471        None          \r\n",
      "sub39-d.csv       2018-11-28 18:32:15               complete  0.469        None          \r\n"
     ]
    }
   ],
   "source": [
    "from time import sleep\n",
    "sleep(20)\n",
    "!kaggle competitions submissions -c human-protein-atlas-image-classification"
   ]
  },
  {
   "cell_type": "code",
   "execution_count": 6,
   "metadata": {},
   "outputs": [],
   "source": [
    "submit = pd.read_csv('../data/sample_submission.csv')"
   ]
  },
  {
   "cell_type": "code",
   "execution_count": 7,
   "metadata": {},
   "outputs": [
    {
     "data": {
      "text/html": [
       "<div>\n",
       "<style scoped>\n",
       "    .dataframe tbody tr th:only-of-type {\n",
       "        vertical-align: middle;\n",
       "    }\n",
       "\n",
       "    .dataframe tbody tr th {\n",
       "        vertical-align: top;\n",
       "    }\n",
       "\n",
       "    .dataframe thead th {\n",
       "        text-align: right;\n",
       "    }\n",
       "</style>\n",
       "<table border=\"1\" class=\"dataframe\">\n",
       "  <thead>\n",
       "    <tr style=\"text-align: right;\">\n",
       "      <th></th>\n",
       "      <th>Id</th>\n",
       "      <th>Predicted</th>\n",
       "    </tr>\n",
       "  </thead>\n",
       "  <tbody>\n",
       "    <tr>\n",
       "      <th>0</th>\n",
       "      <td>00008af0-bad0-11e8-b2b8-ac1f6b6435d0</td>\n",
       "      <td>0</td>\n",
       "    </tr>\n",
       "    <tr>\n",
       "      <th>1</th>\n",
       "      <td>0000a892-bacf-11e8-b2b8-ac1f6b6435d0</td>\n",
       "      <td>0</td>\n",
       "    </tr>\n",
       "    <tr>\n",
       "      <th>2</th>\n",
       "      <td>0006faa6-bac7-11e8-b2b7-ac1f6b6435d0</td>\n",
       "      <td>0</td>\n",
       "    </tr>\n",
       "    <tr>\n",
       "      <th>3</th>\n",
       "      <td>0008baca-bad7-11e8-b2b9-ac1f6b6435d0</td>\n",
       "      <td>0</td>\n",
       "    </tr>\n",
       "    <tr>\n",
       "      <th>4</th>\n",
       "      <td>000cce7e-bad4-11e8-b2b8-ac1f6b6435d0</td>\n",
       "      <td>0</td>\n",
       "    </tr>\n",
       "  </tbody>\n",
       "</table>\n",
       "</div>"
      ],
      "text/plain": [
       "                                     Id  Predicted\n",
       "0  00008af0-bad0-11e8-b2b8-ac1f6b6435d0          0\n",
       "1  0000a892-bacf-11e8-b2b8-ac1f6b6435d0          0\n",
       "2  0006faa6-bac7-11e8-b2b7-ac1f6b6435d0          0\n",
       "3  0008baca-bad7-11e8-b2b9-ac1f6b6435d0          0\n",
       "4  000cce7e-bad4-11e8-b2b8-ac1f6b6435d0          0"
      ]
     },
     "execution_count": 7,
     "metadata": {},
     "output_type": "execute_result"
    }
   ],
   "source": [
    "submit.head()"
   ]
  },
  {
   "cell_type": "code",
   "execution_count": 9,
   "metadata": {},
   "outputs": [],
   "source": [
    "from tqdm import tqdm_notebook\n",
    "import pickle"
   ]
  },
  {
   "cell_type": "code",
   "execution_count": 38,
   "metadata": {},
   "outputs": [
    {
     "data": {
      "text/plain": [
       "(105678, 2)"
      ]
     },
     "execution_count": 38,
     "metadata": {},
     "output_type": "execute_result"
    }
   ],
   "source": [
    "train = pd.read_csv('../data/train_combined_all.csv')\n",
    "train.shape"
   ]
  },
  {
   "cell_type": "code",
   "execution_count": 39,
   "metadata": {},
   "outputs": [],
   "source": [
    "train = train.set_index('Id')"
   ]
  },
  {
   "cell_type": "code",
   "execution_count": 40,
   "metadata": {},
   "outputs": [
    {
     "data": {
      "text/plain": [
       "'19 0'"
      ]
     },
     "execution_count": 40,
     "metadata": {},
     "output_type": "execute_result"
    }
   ],
   "source": [
    "train.loc['23e76e20-bbc5-11e8-b2bc-ac1f6b6435d0']['Target']"
   ]
  },
  {
   "cell_type": "code",
   "execution_count": 42,
   "metadata": {},
   "outputs": [
    {
     "data": {
      "application/vnd.jupyter.widget-view+json": {
       "model_id": "80533450a5ec4ab39e7d8a1662eaf4a3",
       "version_major": 2,
       "version_minor": 0
      },
      "text/html": [
       "<p>Failed to display Jupyter Widget of type <code>HBox</code>.</p>\n",
       "<p>\n",
       "  If you're reading this message in the Jupyter Notebook or JupyterLab Notebook, it may mean\n",
       "  that the widgets JavaScript is still loading. If this message persists, it\n",
       "  likely means that the widgets JavaScript library is either not installed or\n",
       "  not enabled. See the <a href=\"https://ipywidgets.readthedocs.io/en/stable/user_install.html\">Jupyter\n",
       "  Widgets Documentation</a> for setup instructions.\n",
       "</p>\n",
       "<p>\n",
       "  If you're reading this message in another frontend (for example, a static\n",
       "  rendering on GitHub or <a href=\"https://nbviewer.jupyter.org/\">NBViewer</a>),\n",
       "  it may mean that your frontend doesn't currently support widgets.\n",
       "</p>\n"
      ],
      "text/plain": [
       "HBox(children=(IntProgress(value=1, bar_style='info', max=1), HTML(value='')))"
      ]
     },
     "metadata": {},
     "output_type": "display_data"
    },
    {
     "name": "stdout",
     "output_type": "stream",
     "text": [
      "\n"
     ]
    }
   ],
   "source": [
    "Id = []\n",
    "Predicted = []\n",
    "for idx, name in tqdm_notebook(enumerate(list(submit['Id'].values))):\n",
    "#     if idx != 0:\n",
    "#         continue\n",
    "    Id.append(name)\n",
    "    fn = '../cache/pkl/{}.pkl'.format(name)\n",
    "    with open(fn, 'rb') as f:\n",
    "        top10 = pickle.load(f)\n",
    "#     print(top10, top10[0], top10[0][0])\n",
    "    Predicted.append(train.loc[top10[0][0]]['Target'])"
   ]
  },
  {
   "cell_type": "code",
   "execution_count": 17,
   "metadata": {},
   "outputs": [
    {
     "name": "stdout",
     "output_type": "stream",
     "text": [
      "                                        Id Target\n",
      "4325  23e76e20-bbc5-11e8-b2bc-ac1f6b6435d0   19 0\n",
      "                                        Id Target\n",
      "5536  2ded4a66-bbb6-11e8-b2ba-ac1f6b6435d0   18 0\n",
      "                                         Id   Target\n",
      "17480  90871204-bbbd-11e8-b2ba-ac1f6b6435d0  19 11 0\n",
      "                   Id Target\n",
      "35685  28053_918_B3_4     14\n",
      "                   Id Target\n",
      "37714  24596_303_D9_1     23\n",
      "                    Id Target\n",
      "39503  68187_1539_G7_4      6\n",
      "                   Id Target\n",
      "47137  41231_516_C1_1     25\n",
      "                   Id Target\n",
      "56990  13210_99_C11_1      6\n",
      "                   Id Target\n",
      "61147  41741_557_G6_2     25\n",
      "                   Id Target\n",
      "77764  39477_557_E2_1     25\n"
     ]
    }
   ],
   "source": [
    "print(train.loc[train.Id == '23e76e20-bbc5-11e8-b2bc-ac1f6b6435d0'])\n",
    "print(train.loc[train.Id == '2ded4a66-bbb6-11e8-b2ba-ac1f6b6435d0'])\n",
    "print(train.loc[train.Id == '90871204-bbbd-11e8-b2ba-ac1f6b6435d0'])\n",
    "print(train.loc[train.Id == '28053_918_B3_4'])\n",
    "print(train.loc[train.Id == '24596_303_D9_1'])\n",
    "print(train.loc[train.Id == '68187_1539_G7_4'])\n",
    "print(train.loc[train.Id == '41231_516_C1_1'])\n",
    "print(train.loc[train.Id == '13210_99_C11_1'])\n",
    "print(train.loc[train.Id == '41741_557_G6_2'])\n",
    "print(train.loc[train.Id == '39477_557_E2_1'])"
   ]
  },
  {
   "cell_type": "code",
   "execution_count": 44,
   "metadata": {},
   "outputs": [
    {
     "data": {
      "text/html": [
       "<div>\n",
       "<style scoped>\n",
       "    .dataframe tbody tr th:only-of-type {\n",
       "        vertical-align: middle;\n",
       "    }\n",
       "\n",
       "    .dataframe tbody tr th {\n",
       "        vertical-align: top;\n",
       "    }\n",
       "\n",
       "    .dataframe thead th {\n",
       "        text-align: right;\n",
       "    }\n",
       "</style>\n",
       "<table border=\"1\" class=\"dataframe\">\n",
       "  <thead>\n",
       "    <tr style=\"text-align: right;\">\n",
       "      <th></th>\n",
       "      <th>Id</th>\n",
       "      <th>Predicted</th>\n",
       "    </tr>\n",
       "  </thead>\n",
       "  <tbody>\n",
       "    <tr>\n",
       "      <th>0</th>\n",
       "      <td>00008af0-bad0-11e8-b2b8-ac1f6b6435d0</td>\n",
       "      <td>19 0</td>\n",
       "    </tr>\n",
       "    <tr>\n",
       "      <th>1</th>\n",
       "      <td>0000a892-bacf-11e8-b2b8-ac1f6b6435d0</td>\n",
       "      <td>25 21</td>\n",
       "    </tr>\n",
       "    <tr>\n",
       "      <th>2</th>\n",
       "      <td>0006faa6-bac7-11e8-b2b7-ac1f6b6435d0</td>\n",
       "      <td>1 2 0</td>\n",
       "    </tr>\n",
       "    <tr>\n",
       "      <th>3</th>\n",
       "      <td>0008baca-bad7-11e8-b2b9-ac1f6b6435d0</td>\n",
       "      <td>0</td>\n",
       "    </tr>\n",
       "    <tr>\n",
       "      <th>4</th>\n",
       "      <td>000cce7e-bad4-11e8-b2b8-ac1f6b6435d0</td>\n",
       "      <td>0</td>\n",
       "    </tr>\n",
       "  </tbody>\n",
       "</table>\n",
       "</div>"
      ],
      "text/plain": [
       "                                     Id Predicted\n",
       "0  00008af0-bad0-11e8-b2b8-ac1f6b6435d0      19 0\n",
       "1  0000a892-bacf-11e8-b2b8-ac1f6b6435d0     25 21\n",
       "2  0006faa6-bac7-11e8-b2b7-ac1f6b6435d0     1 2 0\n",
       "3  0008baca-bad7-11e8-b2b9-ac1f6b6435d0         0\n",
       "4  000cce7e-bad4-11e8-b2b8-ac1f6b6435d0         0"
      ]
     },
     "execution_count": 44,
     "metadata": {},
     "output_type": "execute_result"
    }
   ],
   "source": [
    "df = pd.DataFrame()\n",
    "df['Id'] = Id\n",
    "df['Predicted'] = Predicted\n",
    "df.head()"
   ]
  },
  {
   "cell_type": "code",
   "execution_count": 46,
   "metadata": {},
   "outputs": [
    {
     "data": {
      "text/html": [
       "<div>\n",
       "<style scoped>\n",
       "    .dataframe tbody tr th:only-of-type {\n",
       "        vertical-align: middle;\n",
       "    }\n",
       "\n",
       "    .dataframe tbody tr th {\n",
       "        vertical-align: top;\n",
       "    }\n",
       "\n",
       "    .dataframe thead th {\n",
       "        text-align: right;\n",
       "    }\n",
       "</style>\n",
       "<table border=\"1\" class=\"dataframe\">\n",
       "  <thead>\n",
       "    <tr style=\"text-align: right;\">\n",
       "      <th></th>\n",
       "      <th>Id</th>\n",
       "      <th>Predicted</th>\n",
       "    </tr>\n",
       "  </thead>\n",
       "  <tbody>\n",
       "    <tr>\n",
       "      <th>0</th>\n",
       "      <td>00008af0-bad0-11e8-b2b8-ac1f6b6435d0</td>\n",
       "      <td>19 0</td>\n",
       "    </tr>\n",
       "    <tr>\n",
       "      <th>1</th>\n",
       "      <td>0000a892-bacf-11e8-b2b8-ac1f6b6435d0</td>\n",
       "      <td>25 21</td>\n",
       "    </tr>\n",
       "    <tr>\n",
       "      <th>2</th>\n",
       "      <td>0006faa6-bac7-11e8-b2b7-ac1f6b6435d0</td>\n",
       "      <td>1 2 0</td>\n",
       "    </tr>\n",
       "    <tr>\n",
       "      <th>3</th>\n",
       "      <td>0008baca-bad7-11e8-b2b9-ac1f6b6435d0</td>\n",
       "      <td>0</td>\n",
       "    </tr>\n",
       "    <tr>\n",
       "      <th>4</th>\n",
       "      <td>000cce7e-bad4-11e8-b2b8-ac1f6b6435d0</td>\n",
       "      <td>0</td>\n",
       "    </tr>\n",
       "    <tr>\n",
       "      <th>5</th>\n",
       "      <td>00109f6a-bac8-11e8-b2b7-ac1f6b6435d0</td>\n",
       "      <td>19 25 21</td>\n",
       "    </tr>\n",
       "    <tr>\n",
       "      <th>6</th>\n",
       "      <td>001765de-bacd-11e8-b2b8-ac1f6b6435d0</td>\n",
       "      <td>25 0</td>\n",
       "    </tr>\n",
       "    <tr>\n",
       "      <th>7</th>\n",
       "      <td>0018641a-bac9-11e8-b2b8-ac1f6b6435d0</td>\n",
       "      <td>5 0</td>\n",
       "    </tr>\n",
       "    <tr>\n",
       "      <th>8</th>\n",
       "      <td>00200f22-bad7-11e8-b2b9-ac1f6b6435d0</td>\n",
       "      <td>0</td>\n",
       "    </tr>\n",
       "    <tr>\n",
       "      <th>9</th>\n",
       "      <td>0026f154-bac6-11e8-b2b7-ac1f6b6435d0</td>\n",
       "      <td>25</td>\n",
       "    </tr>\n",
       "    <tr>\n",
       "      <th>10</th>\n",
       "      <td>002729d2-bace-11e8-b2b8-ac1f6b6435d0</td>\n",
       "      <td>23</td>\n",
       "    </tr>\n",
       "    <tr>\n",
       "      <th>11</th>\n",
       "      <td>002c1a7c-bad4-11e8-b2b8-ac1f6b6435d0</td>\n",
       "      <td>6</td>\n",
       "    </tr>\n",
       "    <tr>\n",
       "      <th>12</th>\n",
       "      <td>003170fa-bacd-11e8-b2b8-ac1f6b6435d0</td>\n",
       "      <td>18 0</td>\n",
       "    </tr>\n",
       "    <tr>\n",
       "      <th>13</th>\n",
       "      <td>0031820a-baca-11e8-b2b8-ac1f6b6435d0</td>\n",
       "      <td>25</td>\n",
       "    </tr>\n",
       "    <tr>\n",
       "      <th>14</th>\n",
       "      <td>00407c16-bad3-11e8-b2b8-ac1f6b6435d0</td>\n",
       "      <td>25 2 0</td>\n",
       "    </tr>\n",
       "    <tr>\n",
       "      <th>15</th>\n",
       "      <td>005ce2ea-bacc-11e8-b2b8-ac1f6b6435d0</td>\n",
       "      <td>23 2</td>\n",
       "    </tr>\n",
       "    <tr>\n",
       "      <th>16</th>\n",
       "      <td>00631ec8-bad9-11e8-b2b9-ac1f6b6435d0</td>\n",
       "      <td>0</td>\n",
       "    </tr>\n",
       "    <tr>\n",
       "      <th>17</th>\n",
       "      <td>00673f64-bad2-11e8-b2b8-ac1f6b6435d0</td>\n",
       "      <td>25 0</td>\n",
       "    </tr>\n",
       "    <tr>\n",
       "      <th>18</th>\n",
       "      <td>0070171c-bad0-11e8-b2b8-ac1f6b6435d0</td>\n",
       "      <td>21</td>\n",
       "    </tr>\n",
       "    <tr>\n",
       "      <th>19</th>\n",
       "      <td>007290b6-bad8-11e8-b2b9-ac1f6b6435d0</td>\n",
       "      <td>19 25 0</td>\n",
       "    </tr>\n",
       "    <tr>\n",
       "      <th>20</th>\n",
       "      <td>0075ee26-bacb-11e8-b2b8-ac1f6b6435d0</td>\n",
       "      <td>4</td>\n",
       "    </tr>\n",
       "    <tr>\n",
       "      <th>21</th>\n",
       "      <td>00763d66-bacd-11e8-b2b8-ac1f6b6435d0</td>\n",
       "      <td>12</td>\n",
       "    </tr>\n",
       "    <tr>\n",
       "      <th>22</th>\n",
       "      <td>007eca68-bac7-11e8-b2b7-ac1f6b6435d0</td>\n",
       "      <td>25 0</td>\n",
       "    </tr>\n",
       "    <tr>\n",
       "      <th>23</th>\n",
       "      <td>008ab0b8-bad5-11e8-b2b8-ac1f6b6435d0</td>\n",
       "      <td>25 5 3</td>\n",
       "    </tr>\n",
       "    <tr>\n",
       "      <th>24</th>\n",
       "      <td>008e8c3e-bad4-11e8-b2b8-ac1f6b6435d0</td>\n",
       "      <td>0</td>\n",
       "    </tr>\n",
       "  </tbody>\n",
       "</table>\n",
       "</div>"
      ],
      "text/plain": [
       "                                      Id Predicted\n",
       "0   00008af0-bad0-11e8-b2b8-ac1f6b6435d0      19 0\n",
       "1   0000a892-bacf-11e8-b2b8-ac1f6b6435d0     25 21\n",
       "2   0006faa6-bac7-11e8-b2b7-ac1f6b6435d0     1 2 0\n",
       "3   0008baca-bad7-11e8-b2b9-ac1f6b6435d0         0\n",
       "4   000cce7e-bad4-11e8-b2b8-ac1f6b6435d0         0\n",
       "5   00109f6a-bac8-11e8-b2b7-ac1f6b6435d0  19 25 21\n",
       "6   001765de-bacd-11e8-b2b8-ac1f6b6435d0      25 0\n",
       "7   0018641a-bac9-11e8-b2b8-ac1f6b6435d0       5 0\n",
       "8   00200f22-bad7-11e8-b2b9-ac1f6b6435d0         0\n",
       "9   0026f154-bac6-11e8-b2b7-ac1f6b6435d0        25\n",
       "10  002729d2-bace-11e8-b2b8-ac1f6b6435d0        23\n",
       "11  002c1a7c-bad4-11e8-b2b8-ac1f6b6435d0         6\n",
       "12  003170fa-bacd-11e8-b2b8-ac1f6b6435d0      18 0\n",
       "13  0031820a-baca-11e8-b2b8-ac1f6b6435d0        25\n",
       "14  00407c16-bad3-11e8-b2b8-ac1f6b6435d0    25 2 0\n",
       "15  005ce2ea-bacc-11e8-b2b8-ac1f6b6435d0      23 2\n",
       "16  00631ec8-bad9-11e8-b2b9-ac1f6b6435d0         0\n",
       "17  00673f64-bad2-11e8-b2b8-ac1f6b6435d0      25 0\n",
       "18  0070171c-bad0-11e8-b2b8-ac1f6b6435d0        21\n",
       "19  007290b6-bad8-11e8-b2b9-ac1f6b6435d0   19 25 0\n",
       "20  0075ee26-bacb-11e8-b2b8-ac1f6b6435d0         4\n",
       "21  00763d66-bacd-11e8-b2b8-ac1f6b6435d0        12\n",
       "22  007eca68-bac7-11e8-b2b7-ac1f6b6435d0      25 0\n",
       "23  008ab0b8-bad5-11e8-b2b8-ac1f6b6435d0    25 5 3\n",
       "24  008e8c3e-bad4-11e8-b2b8-ac1f6b6435d0         0"
      ]
     },
     "execution_count": 46,
     "metadata": {},
     "output_type": "execute_result"
    }
   ],
   "source": [
    "df.head(25)"
   ]
  },
  {
   "cell_type": "code",
   "execution_count": 45,
   "metadata": {},
   "outputs": [
    {
     "data": {
      "text/plain": [
       "(11702, 2)"
      ]
     },
     "execution_count": 45,
     "metadata": {},
     "output_type": "execute_result"
    }
   ],
   "source": [
    "df.shape"
   ]
  },
  {
   "cell_type": "code",
   "execution_count": 47,
   "metadata": {},
   "outputs": [],
   "source": [
    "df.to_csv('../submissions/sub_43max_test1.csv', index=False)"
   ]
  },
  {
   "cell_type": "code",
   "execution_count": 48,
   "metadata": {},
   "outputs": [
    {
     "name": "stdout",
     "output_type": "stream",
     "text": [
      "100%|████████████████████████████████████████| 468k/468k [00:12<00:00, 37.1kB/s]\n",
      "Successfully submitted to Human Protein Atlas Image ClassificationfileName             date                 description  status    publicScore  privateScore  \n",
      "-------------------  -------------------  -----------  --------  -----------  ------------  \n",
      "sub_43max_test1.csv  2018-12-24 14:32:34               complete  0.110        None          \n",
      "sub58-max-a.csv      2018-12-22 21:48:49               complete  0.446        None          \n",
      "sub57-max-e.csv      2018-12-22 02:08:14               complete  0.075        None          \n",
      "sub57-max-d.csv      2018-12-22 01:57:31               complete  0.464        None          \n",
      "sub57-max-c.csv      2018-12-22 01:47:16               complete  0.463        None          \n",
      "sub57-max-b.csv      2018-12-22 01:45:44               complete  0.456        None          \n",
      "sub57-max-a.csv      2018-12-21 23:46:32               complete  0.455        None          \n",
      "sub57-max.csv        2018-12-21 08:43:25               complete  0.000        None          \n",
      "sub50-max-055.csv    2018-12-18 20:29:16               complete  0.510        None          \n",
      "sub50-max-f.csv      2018-12-18 20:15:51               complete  0.513        None          \n",
      "sub50-max-f-1-l.csv  2018-12-18 16:40:56               complete  0.546        None          \n",
      "sub50-max-f-1.csv    2018-12-18 16:38:26               complete  0.525        None          \n",
      "sub50-max-f-1.csv    2018-12-18 15:53:31               complete  0.061        None          \n",
      "sub55-max-045-l.csv  2018-12-17 20:34:48               complete  0.574        None          \n",
      "sub55-max-05-l.csv   2018-12-17 20:32:23               complete  0.581        None          \n",
      "sub55-max-045.csv    2018-12-17 20:31:53               complete  0.567        None          \n",
      "sub55-max-05.csv     2018-12-17 20:31:18               complete  0.559        None          \n",
      "sub55-max-05.csv     2018-12-17 20:30:37               complete  0.559        None          \n",
      "sub50_22.csv         2018-12-16 02:56:59               complete  0.579        None          \n",
      "sub50_22.csv         2018-12-16 02:32:16               complete  0.578        None          \n",
      "CPU times: user 357 ms, sys: 162 ms, total: 519 ms\n",
      "Wall time: 42.1 s\n"
     ]
    }
   ],
   "source": [
    "%%time\n",
    "!kaggle competitions submit -c human-protein-atlas-image-classification -f ../submissions/sub_43max_test1.csv -m \"\"\n",
    "\n",
    "from time import sleep\n",
    "sleep(20)\n",
    "!kaggle competitions submissions -c human-protein-atlas-image-classification"
   ]
  },
  {
   "cell_type": "code",
   "execution_count": null,
   "metadata": {},
   "outputs": [],
   "source": [
    "Id = []\n",
    "Predicted = []\n",
    "for idx, name in tqdm_notebook(enumerate(list(submit['Id'].values))):\n",
    "#     if idx != 0:\n",
    "#         continue\n",
    "    \n",
    "    fn = '../cache/pkl/{}.pkl'.format(name)\n",
    "    with open(fn, 'rb') as f:\n",
    "        top10 = pickle.load(f)\n",
    "#     print(top10, top10[0], top10[0][0])\n",
    "    if top10[0][1] <= 10:\n",
    "        Id.append(name)\n",
    "        Predicted.append(train.loc[top10[0][0]]['Target'])"
   ]
  }
 ],
 "metadata": {
  "kernelspec": {
   "display_name": "hpg",
   "language": "python",
   "name": "hpg"
  },
  "language_info": {
   "codemirror_mode": {
    "name": "ipython",
    "version": 3
   },
   "file_extension": ".py",
   "mimetype": "text/x-python",
   "name": "python",
   "nbconvert_exporter": "python",
   "pygments_lexer": "ipython3",
   "version": "3.6.4"
  }
 },
 "nbformat": 4,
 "nbformat_minor": 2
}

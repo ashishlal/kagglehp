{
 "cells": [
  {
   "cell_type": "code",
   "execution_count": 1,
   "metadata": {},
   "outputs": [],
   "source": [
    "# https://www.kaggle.com/mathormad/inceptionv3-baseline-lb-0-379/code\n",
    "# for of sub23, change model + 5 folds"
   ]
  },
  {
   "cell_type": "code",
   "execution_count": 2,
   "metadata": {},
   "outputs": [],
   "source": [
    "import os, sys\n",
    "import numpy as np\n",
    "import pandas as pd\n",
    "import matplotlib.pyplot as plt\n",
    "import skimage.io\n",
    "from skimage.transform import resize\n",
    "from imgaug import augmenters as iaa\n",
    "from tqdm import tqdm\n",
    "import PIL\n",
    "from PIL import Image\n",
    "import cv2\n",
    "from sklearn.utils import class_weight, shuffle\n",
    "from sklearn.model_selection import KFold\n",
    "\n",
    "import warnings\n",
    "warnings.filterwarnings(\"ignore\")\n",
    "SIZE = 299"
   ]
  },
  {
   "cell_type": "code",
   "execution_count": 3,
   "metadata": {},
   "outputs": [],
   "source": [
    "# https://www.kaggle.com/rejpalcz/best-loss-function-for-f1-score-metric/notebook\n",
    "import tensorflow as tf\n",
    "\n",
    "def f1(y_true, y_pred):\n",
    "    y_pred = K.round(y_pred)\n",
    "    tp = K.sum(K.cast(y_true*y_pred, 'float'), axis=0)\n",
    "    tn = K.sum(K.cast((1-y_true)*(1-y_pred), 'float'), axis=0)\n",
    "    fp = K.sum(K.cast((1-y_true)*y_pred, 'float'), axis=0)\n",
    "    fn = K.sum(K.cast(y_true*(1-y_pred), 'float'), axis=0)\n",
    "\n",
    "    p = tp / (tp + fp + K.epsilon())\n",
    "    r = tp / (tp + fn + K.epsilon())\n",
    "\n",
    "    f1 = 2*p*r / (p+r+K.epsilon())\n",
    "    f1 = tf.where(tf.is_nan(f1), tf.zeros_like(f1), f1)\n",
    "    return K.mean(f1)\n",
    "\n",
    "def f1_loss(y_true, y_pred):\n",
    "    \n",
    "    tp = K.sum(K.cast(y_true*y_pred, 'float'), axis=0)\n",
    "    tn = K.sum(K.cast((1-y_true)*(1-y_pred), 'float'), axis=0)\n",
    "    fp = K.sum(K.cast((1-y_true)*y_pred, 'float'), axis=0)\n",
    "    fn = K.sum(K.cast(y_true*(1-y_pred), 'float'), axis=0)\n",
    "\n",
    "    p = tp / (tp + fp + K.epsilon())\n",
    "    r = tp / (tp + fn + K.epsilon())\n",
    "\n",
    "    f1 = 2*p*r / (p+r+K.epsilon())\n",
    "    f1 = tf.where(tf.is_nan(f1), tf.zeros_like(f1), f1)\n",
    "    return K.mean(K.binary_crossentropy(y_true, y_pred), axis=-1) + (1 - K.mean(f1))"
   ]
  },
  {
   "cell_type": "code",
   "execution_count": 4,
   "metadata": {},
   "outputs": [],
   "source": [
    "# Load dataset info\n",
    "path_to_train = '../data/train/'\n",
    "data = pd.read_csv('../data/train.csv')"
   ]
  },
  {
   "cell_type": "code",
   "execution_count": 5,
   "metadata": {},
   "outputs": [
    {
     "data": {
      "text/html": [
       "<div>\n",
       "<style scoped>\n",
       "    .dataframe tbody tr th:only-of-type {\n",
       "        vertical-align: middle;\n",
       "    }\n",
       "\n",
       "    .dataframe tbody tr th {\n",
       "        vertical-align: top;\n",
       "    }\n",
       "\n",
       "    .dataframe thead th {\n",
       "        text-align: right;\n",
       "    }\n",
       "</style>\n",
       "<table border=\"1\" class=\"dataframe\">\n",
       "  <thead>\n",
       "    <tr style=\"text-align: right;\">\n",
       "      <th></th>\n",
       "      <th>Id</th>\n",
       "      <th>Target</th>\n",
       "    </tr>\n",
       "  </thead>\n",
       "  <tbody>\n",
       "    <tr>\n",
       "      <th>0</th>\n",
       "      <td>00070df0-bbc3-11e8-b2bc-ac1f6b6435d0</td>\n",
       "      <td>16 0</td>\n",
       "    </tr>\n",
       "    <tr>\n",
       "      <th>1</th>\n",
       "      <td>000a6c98-bb9b-11e8-b2b9-ac1f6b6435d0</td>\n",
       "      <td>7 1 2 0</td>\n",
       "    </tr>\n",
       "    <tr>\n",
       "      <th>2</th>\n",
       "      <td>000a9596-bbc4-11e8-b2bc-ac1f6b6435d0</td>\n",
       "      <td>5</td>\n",
       "    </tr>\n",
       "    <tr>\n",
       "      <th>3</th>\n",
       "      <td>000c99ba-bba4-11e8-b2b9-ac1f6b6435d0</td>\n",
       "      <td>1</td>\n",
       "    </tr>\n",
       "    <tr>\n",
       "      <th>4</th>\n",
       "      <td>001838f8-bbca-11e8-b2bc-ac1f6b6435d0</td>\n",
       "      <td>18</td>\n",
       "    </tr>\n",
       "  </tbody>\n",
       "</table>\n",
       "</div>"
      ],
      "text/plain": [
       "                                     Id   Target\n",
       "0  00070df0-bbc3-11e8-b2bc-ac1f6b6435d0     16 0\n",
       "1  000a6c98-bb9b-11e8-b2b9-ac1f6b6435d0  7 1 2 0\n",
       "2  000a9596-bbc4-11e8-b2bc-ac1f6b6435d0        5\n",
       "3  000c99ba-bba4-11e8-b2b9-ac1f6b6435d0        1\n",
       "4  001838f8-bbca-11e8-b2bc-ac1f6b6435d0       18"
      ]
     },
     "execution_count": 5,
     "metadata": {},
     "output_type": "execute_result"
    }
   ],
   "source": [
    "data.head()"
   ]
  },
  {
   "cell_type": "code",
   "execution_count": 6,
   "metadata": {},
   "outputs": [],
   "source": [
    "train_dataset_info = []\n",
    "for name, labels in zip(data['Id'], data['Target'].str.split(' ')):\n",
    "    train_dataset_info.append({\n",
    "        'path':os.path.join(path_to_train, name),\n",
    "        'labels':np.array([int(label) for label in labels])})\n",
    "train_dataset_info = np.array(train_dataset_info)"
   ]
  },
  {
   "cell_type": "code",
   "execution_count": 7,
   "metadata": {},
   "outputs": [
    {
     "data": {
      "text/plain": [
       "array([{'path': '../data/train/00070df0-bbc3-11e8-b2bc-ac1f6b6435d0', 'labels': array([16,  0])},\n",
       "       {'path': '../data/train/000a6c98-bb9b-11e8-b2b9-ac1f6b6435d0', 'labels': array([7, 1, 2, 0])},\n",
       "       {'path': '../data/train/000a9596-bbc4-11e8-b2bc-ac1f6b6435d0', 'labels': array([5])},\n",
       "       ...,\n",
       "       {'path': '../data/train/fff189d8-bbab-11e8-b2ba-ac1f6b6435d0', 'labels': array([7])},\n",
       "       {'path': '../data/train/fffdf7e0-bbc4-11e8-b2bc-ac1f6b6435d0', 'labels': array([25,  2, 21])},\n",
       "       {'path': '../data/train/fffe0ffe-bbc0-11e8-b2bb-ac1f6b6435d0', 'labels': array([2, 0])}],\n",
       "      dtype=object)"
      ]
     },
     "execution_count": 7,
     "metadata": {},
     "output_type": "execute_result"
    }
   ],
   "source": [
    "train_dataset_info"
   ]
  },
  {
   "cell_type": "code",
   "execution_count": 8,
   "metadata": {},
   "outputs": [],
   "source": [
    "class data_generator:\n",
    "    \n",
    "    def create_train(dataset_info, batch_size, shape, augument=True):\n",
    "        assert shape[2] == 3\n",
    "        while True:\n",
    "            dataset_info = shuffle(dataset_info)\n",
    "            for start in range(0, len(dataset_info), batch_size):\n",
    "                end = min(start + batch_size, len(dataset_info))\n",
    "                batch_images = []\n",
    "                X_train_batch = dataset_info[start:end]\n",
    "                batch_labels = np.zeros((len(X_train_batch), 28))\n",
    "                for i in range(len(X_train_batch)):\n",
    "                    image = data_generator.load_image(\n",
    "                        X_train_batch[i]['path'], shape)   \n",
    "                    if augument:\n",
    "                        image = data_generator.augment2(image)\n",
    "                    batch_images.append(image/255.)\n",
    "                    batch_labels[i][X_train_batch[i]['labels']] = 1\n",
    "                yield np.array(batch_images, np.float32), batch_labels\n",
    "\n",
    "    def load_image(path, shape):\n",
    "        image_red_ch = Image.open(path+'_red.png')\n",
    "        image_yellow_ch = Image.open(path+'_yellow.png')\n",
    "        image_green_ch = Image.open(path+'_green.png')\n",
    "        image_blue_ch = Image.open(path+'_blue.png')\n",
    "        image = np.stack((\n",
    "            np.array(image_red_ch),\n",
    "            np.array(image_green_ch), \n",
    "            np.array(image_blue_ch)), -1)\n",
    "        w, h = 512, 512\n",
    "        zero_data = np.zeros((h, w), dtype=np.uint8)\n",
    "#         image2 = np.stack((\n",
    "#             np.array(image_yellow_ch),\n",
    "#             zero_data, zero_data), -1)\n",
    "#         print(image1.shape, image2.shape)\n",
    "#         image = np.vstack((image1, image2))\n",
    "        image = cv2.resize(image, (shape[0], shape[1]))\n",
    "        return image\n",
    "\n",
    "    def augment(image):\n",
    "        augment_img = iaa.Sequential([\n",
    "            iaa.OneOf([\n",
    "                iaa.Affine(rotate=0),\n",
    "                iaa.Affine(rotate=90),\n",
    "                iaa.Affine(rotate=180),\n",
    "                iaa.Affine(rotate=270),\n",
    "                iaa.Fliplr(0.5),\n",
    "                iaa.Flipud(0.5),\n",
    "            ])], random_order=True)\n",
    "\n",
    "        image_aug = augment_img.augment_image(image)\n",
    "        return image_aug\n",
    "    def augment2(image):\n",
    "        augment_img = iaa.Sequential([\n",
    "            iaa.SomeOf((0,5),[\n",
    "                iaa.Affine(rotate=0),\n",
    "                iaa.Affine(rotate=90),\n",
    "                iaa.Affine(rotate=180),\n",
    "                iaa.Affine(rotate=270),\n",
    "                iaa.Fliplr(0.5),\n",
    "                iaa.Flipud(0.5),\n",
    "            ])], random_order=True)\n",
    "\n",
    "        image_aug = augment_img.augment_image(image)\n",
    "        return image_aug\n"
   ]
  },
  {
   "cell_type": "code",
   "execution_count": 9,
   "metadata": {},
   "outputs": [],
   "source": [
    "%matplotlib inline"
   ]
  },
  {
   "cell_type": "code",
   "execution_count": 10,
   "metadata": {},
   "outputs": [],
   "source": [
    "img = data_generator.load_image(train_dataset_info[0]['path'], (SIZE, SIZE, 3))"
   ]
  },
  {
   "cell_type": "code",
   "execution_count": 11,
   "metadata": {},
   "outputs": [
    {
     "data": {
      "text/plain": [
       "(299, 299, 3)"
      ]
     },
     "execution_count": 11,
     "metadata": {},
     "output_type": "execute_result"
    }
   ],
   "source": [
    "img.shape"
   ]
  },
  {
   "cell_type": "code",
   "execution_count": 12,
   "metadata": {},
   "outputs": [
    {
     "data": {
      "text/plain": [
       "<matplotlib.image.AxesImage at 0x7f5b490c2278>"
      ]
     },
     "execution_count": 12,
     "metadata": {},
     "output_type": "execute_result"
    },
    {
     "data": {
      "image/png": "[encoded data removed]",
      "text/plain": [
       "<matplotlib.figure.Figure at 0x7f5b48bc1438>"
      ]
     },
     "metadata": {},
     "output_type": "display_data"
    }
   ],
   "source": [
    "plt.imshow(img)"
   ]
  },
  {
   "cell_type": "code",
   "execution_count": 13,
   "metadata": {},
   "outputs": [],
   "source": [
    "img2 = data_generator.augment(img)"
   ]
  },
  {
   "cell_type": "code",
   "execution_count": 14,
   "metadata": {},
   "outputs": [
    {
     "data": {
      "text/plain": [
       "<matplotlib.image.AxesImage at 0x7f5b48fde048>"
      ]
     },
     "execution_count": 14,
     "metadata": {},
     "output_type": "execute_result"
    },
    {
     "data": {
      "image/png": "[encoded data removed]",
      "text/plain": [
       "<matplotlib.figure.Figure at 0x7f5b4919c630>"
      ]
     },
     "metadata": {},
     "output_type": "display_data"
    }
   ],
   "source": [
    "plt.imshow(img2)"
   ]
  },
  {
   "cell_type": "code",
   "execution_count": 15,
   "metadata": {},
   "outputs": [
    {
     "data": {
      "text/plain": [
       "<matplotlib.image.AxesImage at 0x7f5b48fc5390>"
      ]
     },
     "execution_count": 15,
     "metadata": {},
     "output_type": "execute_result"
    },
    {
     "data": {
      "image/png": "[encoded data removed]",
      "text/plain": [
       "<matplotlib.figure.Figure at 0x7f5b4902b668>"
      ]
     },
     "metadata": {},
     "output_type": "display_data"
    }
   ],
   "source": [
    "img2 = data_generator.augment2(img)\n",
    "plt.imshow(img2)"
   ]
  },
  {
   "cell_type": "code",
   "execution_count": 16,
   "metadata": {},
   "outputs": [
    {
     "name": "stderr",
     "output_type": "stream",
     "text": [
      "Using TensorFlow backend.\n"
     ]
    }
   ],
   "source": [
    "from keras.preprocessing.image import ImageDataGenerator\n",
    "from keras.models import Sequential, load_model\n",
    "from keras.layers import Activation, Dropout, Flatten, Dense, GlobalMaxPooling2D, BatchNormalization, Input, Conv2D\n",
    "from keras.applications.inception_v3 import InceptionV3\n",
    "from keras.callbacks import ModelCheckpoint\n",
    "from keras import metrics\n",
    "from keras.optimizers import Adam \n",
    "from keras import backend as K\n",
    "import keras\n",
    "from keras.models import Model"
   ]
  },
  {
   "cell_type": "code",
   "execution_count": 17,
   "metadata": {},
   "outputs": [],
   "source": [
    "def create_model(input_shape, n_out):\n",
    "    input_tensor = Input(shape=input_shape)\n",
    "    base_model = InceptionV3(include_top=False,\n",
    "                   weights='imagenet',\n",
    "                   input_shape=input_shape)\n",
    "    bn = BatchNormalization()(input_tensor)\n",
    "    x = base_model(bn)\n",
    "#     x = Conv2D(32, kernel_size=(1,1), activation='relu')(x)\n",
    "    x = Flatten()(x)\n",
    "#     x = Dropout(0.5)(x)\n",
    "    x = Dense(1024, activation='relu')(x)\n",
    "    x = Dropout(0.5)(x)\n",
    "    output = Dense(n_out, activation='sigmoid')(x)\n",
    "    model = Model(input_tensor, output)\n",
    "    \n",
    "    return model"
   ]
  },
  {
   "cell_type": "code",
   "execution_count": 18,
   "metadata": {},
   "outputs": [],
   "source": [
    "import tensorflow as tf\n",
    "from tensorflow.python.ops import array_ops\n",
    "\n",
    "# https://github.com/ailias/Focal-Loss-implement-on-Tensorflow/blob/master/focal_loss.py\n",
    "def focal_loss_org(prediction_tensor, target_tensor, weights=None, alpha=0.25, gamma=2):\n",
    "    r\"\"\"Compute focal loss for predictions.\n",
    "        Multi-labels Focal loss formula:\n",
    "            FL = -alpha * (z-p)^gamma * log(p) -(1-alpha) * p^gamma * log(1-p)\n",
    "                 ,which alpha = 0.25, gamma = 2, p = sigmoid(x), z = target_tensor.\n",
    "    Args:\n",
    "     prediction_tensor: A float tensor of shape [batch_size, num_anchors,\n",
    "        num_classes] representing the predicted logits for each class\n",
    "     target_tensor: A float tensor of shape [batch_size, num_anchors,\n",
    "        num_classes] representing one-hot encoded classification targets\n",
    "     weights: A float tensor of shape [batch_size, num_anchors]\n",
    "     alpha: A scalar tensor for focal loss alpha hyper-parameter\n",
    "     gamma: A scalar tensor for focal loss gamma hyper-parameter\n",
    "    Returns:\n",
    "        loss: A (scalar) tensor representing the value of the loss function\n",
    "    \"\"\"\n",
    "    sigmoid_p = tf.nn.sigmoid(prediction_tensor)\n",
    "    zeros = array_ops.zeros_like(sigmoid_p, dtype=sigmoid_p.dtype)\n",
    "    \n",
    "    # For poitive prediction, only need consider front part loss, back part is 0;\n",
    "    # target_tensor > zeros <=> z=1, so poitive coefficient = z - p.\n",
    "    pos_p_sub = array_ops.where(target_tensor > zeros, target_tensor - sigmoid_p, zeros)\n",
    "    \n",
    "    # For negative prediction, only need consider back part loss, front part is 0;\n",
    "    # target_tensor > zeros <=> z=1, so negative coefficient = 0.\n",
    "    neg_p_sub = array_ops.where(target_tensor > zeros, zeros, sigmoid_p)\n",
    "    per_entry_cross_ent = - alpha * (pos_p_sub ** gamma) * tf.log(tf.clip_by_value(sigmoid_p, 1e-8, 1.0)) \\\n",
    "                          - (1 - alpha) * (neg_p_sub ** gamma) * tf.log(tf.clip_by_value(1.0 - sigmoid_p, 1e-8, 1.0))\n",
    "    return tf.reduce_sum(per_entry_cross_ent)\n"
   ]
  },
  {
   "cell_type": "code",
   "execution_count": 19,
   "metadata": {},
   "outputs": [],
   "source": [
    "def focal_loss(weights=None, alpha=0.25, gamma=2):\n",
    "    def focal_loss_my(target_tensor, prediction_tensor, ):\n",
    "        r\"\"\"Compute focal loss for predictions.\n",
    "            Multi-labels Focal loss formula:\n",
    "                FL = -alpha * (z-p)^gamma * log(p) -(1-alpha) * p^gamma * log(1-p)\n",
    "                     ,which alpha = 0.25, gamma = 2, p = sigmoid(x), z = target_tensor.\n",
    "        Args:\n",
    "         prediction_tensor: A float tensor of shape [batch_size, num_anchors,\n",
    "            num_classes] representing the predicted logits for each class\n",
    "         target_tensor: A float tensor of shape [batch_size, num_anchors,\n",
    "            num_classes] representing one-hot encoded classification targets\n",
    "         weights: A float tensor of shape [batch_size, num_anchors]\n",
    "         alpha: A scalar tensor for focal loss alpha hyper-parameter\n",
    "         gamma: A scalar tensor for focal loss gamma hyper-parameter\n",
    "        Returns:\n",
    "            loss: A (scalar) tensor representing the value of the loss function\n",
    "        \"\"\"\n",
    "        sigmoid_p = tf.nn.sigmoid(prediction_tensor)\n",
    "        zeros = array_ops.zeros_like(sigmoid_p, dtype=sigmoid_p.dtype)\n",
    "\n",
    "        # For poitive prediction, only need consider front part loss, back part is 0;\n",
    "        # target_tensor > zeros <=> z=1, so poitive coefficient = z - p.\n",
    "        pos_p_sub = array_ops.where(target_tensor > zeros, target_tensor - sigmoid_p, zeros)\n",
    "\n",
    "        # For negative prediction, only need consider back part loss, front part is 0;\n",
    "        # target_tensor > zeros <=> z=1, so negative coefficient = 0.\n",
    "        neg_p_sub = array_ops.where(target_tensor > zeros, zeros, sigmoid_p)\n",
    "        per_entry_cross_ent = - alpha * (pos_p_sub ** gamma) * tf.log(tf.clip_by_value(sigmoid_p, 1e-8, 1.0)) \\\n",
    "                              - (1 - alpha) * (neg_p_sub ** gamma) * tf.log(tf.clip_by_value(1.0 - sigmoid_p, 1e-8, 1.0))\n",
    "        return tf.reduce_sum(per_entry_cross_ent)\n",
    "#         return K.mean(K.binary_crossentropy(target_tensor, prediction_tensor), axis=-1) + tf.reduce_sum(per_entry_cross_ent)\n",
    "    return focal_loss_my"
   ]
  },
  {
   "cell_type": "code",
   "execution_count": 20,
   "metadata": {},
   "outputs": [],
   "source": [
    "def focal_loss_fixed(y_true, y_pred):\n",
    "    gamma = 2.\n",
    "    alpha = 0.25\n",
    "    print(y_pred)\n",
    "    print(y_true)\n",
    "    pt_1 = tf.where(tf.equal(y_true, 1), y_pred, tf.ones_like(y_pred))\n",
    "    pt_0 = tf.where(tf.equal(y_true, 0), y_pred, tf.zeros_like(y_pred))\n",
    "\n",
    "#     pt_1 = K.clip(pt_1, 1e-3, .999)\n",
    "#     pt_0 = K.clip(pt_0, 1e-3, .999)\n",
    "\n",
    "    return -K.sum(alpha * K.pow(1. - pt_1, gamma) * K.log(pt_1))-K.sum((1-alpha) * K.pow( pt_0, gamma) * K.log(1. - pt_0))\n"
   ]
  },
  {
   "cell_type": "code",
   "execution_count": 21,
   "metadata": {},
   "outputs": [],
   "source": [
    "# def focal_loss(gamma=2., alpha=.25):\n",
    "#     def focal_loss_fixed(y_true, y_pred):\n",
    "#         pt_1 = tf.where(tf.equal(y_true, 1), y_pred, tf.ones_like(y_pred))\n",
    "#         pt_0 = tf.where(tf.equal(y_true, 0), y_pred, tf.zeros_like(y_pred))\n",
    "\n",
    "#         pt_1 = K.clip(pt_1, 1e-3, .999)\n",
    "#         pt_0 = K.clip(pt_0, 1e-3, .999)\n",
    "\n",
    "#         return -K.sum(alpha * K.pow(1. - pt_1, gamma) * K.log(pt_1))-K.sum((1-alpha) * K.pow( pt_0, gamma) * K.log(1. - pt_0))\n",
    "#     return focal_loss_fixed"
   ]
  },
  {
   "cell_type": "code",
   "execution_count": 22,
   "metadata": {},
   "outputs": [],
   "source": [
    "# create callbacks list\n",
    "from keras.callbacks import ModelCheckpoint, LearningRateScheduler, EarlyStopping, ReduceLROnPlateau\n",
    "from sklearn.model_selection import train_test_split\n",
    "\n"
   ]
  },
  {
   "cell_type": "code",
   "execution_count": 23,
   "metadata": {},
   "outputs": [
    {
     "data": {
      "text/plain": [
       "(31072,)"
      ]
     },
     "execution_count": 23,
     "metadata": {},
     "output_type": "execute_result"
    }
   ],
   "source": [
    "train_dataset_info.shape"
   ]
  },
  {
   "cell_type": "code",
   "execution_count": 24,
   "metadata": {},
   "outputs": [
    {
     "name": "stdout",
     "output_type": "stream",
     "text": [
      "Epoch 1/120\n",
      "1554/1554 [==============================] - 569s 366ms/step - loss: 1.0254 - f1: 0.1446 - val_loss: 0.8960 - val_f1: 0.2508\n",
      "\n",
      "Epoch 00001: val_loss improved from inf to 0.89595, saving model to ../cache/InceptionV3-32-4.h5\n",
      "Epoch 2/120\n",
      "1554/1554 [==============================] - 546s 351ms/step - loss: 0.9217 - f1: 0.2215 - val_loss: 0.9109 - val_f1: 0.2401\n",
      "\n",
      "Epoch 00002: val_loss did not improve from 0.89595\n",
      "Epoch 3/120\n",
      "1554/1554 [==============================] - 553s 356ms/step - loss: 0.8909 - f1: 0.2428 - val_loss: 0.8687 - val_f1: 0.2679\n",
      "\n",
      "Epoch 00003: val_loss improved from 0.89595 to 0.86869, saving model to ../cache/InceptionV3-32-4.h5\n",
      "Epoch 4/120\n",
      "1554/1554 [==============================] - 537s 345ms/step - loss: 0.8733 - f1: 0.2534 - val_loss: 0.8183 - val_f1: 0.3127\n",
      "\n",
      "Epoch 00004: val_loss improved from 0.86869 to 0.81826, saving model to ../cache/InceptionV3-32-4.h5\n",
      "Epoch 5/120\n",
      "1554/1554 [==============================] - 536s 345ms/step - loss: 0.8582 - f1: 0.2644 - val_loss: 0.8059 - val_f1: 0.3234\n",
      "\n",
      "Epoch 00005: val_loss improved from 0.81826 to 0.80594, saving model to ../cache/InceptionV3-32-4.h5\n",
      "Epoch 6/120\n",
      "1554/1554 [==============================] - 532s 343ms/step - loss: 0.8508 - f1: 0.2691 - val_loss: 0.8037 - val_f1: 0.3235\n",
      "\n",
      "Epoch 00006: val_loss improved from 0.80594 to 0.80374, saving model to ../cache/InceptionV3-32-4.h5\n",
      "Epoch 7/120\n",
      "1554/1554 [==============================] - 532s 342ms/step - loss: 0.8397 - f1: 0.2752 - val_loss: 0.7989 - val_f1: 0.3276\n",
      "\n",
      "Epoch 00007: val_loss improved from 0.80374 to 0.79895, saving model to ../cache/InceptionV3-32-4.h5\n",
      "Epoch 8/120\n",
      "1554/1554 [==============================] - 539s 347ms/step - loss: 0.8298 - f1: 0.2824 - val_loss: 0.8156 - val_f1: 0.3231\n",
      "\n",
      "Epoch 00008: val_loss did not improve from 0.79895\n",
      "Epoch 9/120\n",
      "1554/1554 [==============================] - 533s 343ms/step - loss: 0.8223 - f1: 0.2870 - val_loss: 0.7765 - val_f1: 0.3422\n",
      "\n",
      "Epoch 00009: val_loss improved from 0.79895 to 0.77649, saving model to ../cache/InceptionV3-32-4.h5\n",
      "Epoch 10/120\n",
      "1554/1554 [==============================] - 535s 344ms/step - loss: 0.8149 - f1: 0.2913 - val_loss: 0.8024 - val_f1: 0.3307\n",
      "\n",
      "Epoch 00010: val_loss did not improve from 0.77649\n",
      "Epoch 11/120\n",
      "1554/1554 [==============================] - 535s 344ms/step - loss: 0.8058 - f1: 0.2971 - val_loss: 0.7827 - val_f1: 0.3386\n",
      "\n",
      "Epoch 00011: val_loss did not improve from 0.77649\n",
      "Epoch 12/120\n",
      "1554/1554 [==============================] - 532s 342ms/step - loss: 0.8018 - f1: 0.2998 - val_loss: 0.7862 - val_f1: 0.3464\n",
      "\n",
      "Epoch 00012: val_loss did not improve from 0.77649\n",
      "\n",
      "Epoch 00012: ReduceLROnPlateau reducing learning rate to 9.999999747378752e-06.\n",
      "Epoch 13/120\n",
      "1554/1554 [==============================] - 529s 341ms/step - loss: 0.7834 - f1: 0.3118 - val_loss: 0.7355 - val_f1: 0.3775\n",
      "\n",
      "Epoch 00013: val_loss improved from 0.77649 to 0.73550, saving model to ../cache/InceptionV3-32-4.h5\n",
      "Epoch 14/120\n",
      "1554/1554 [==============================] - 530s 341ms/step - loss: 0.7699 - f1: 0.3190 - val_loss: 0.7331 - val_f1: 0.3792\n",
      "\n",
      "Epoch 00014: val_loss improved from 0.73550 to 0.73307, saving model to ../cache/InceptionV3-32-4.h5\n",
      "Epoch 15/120\n",
      "1554/1554 [==============================] - 532s 342ms/step - loss: 0.7644 - f1: 0.3225 - val_loss: 0.7315 - val_f1: 0.3800\n",
      "\n",
      "Epoch 00015: val_loss improved from 0.73307 to 0.73153, saving model to ../cache/InceptionV3-32-4.h5\n",
      "Epoch 16/120\n",
      "1554/1554 [==============================] - 531s 341ms/step - loss: 0.7585 - f1: 0.3255 - val_loss: 0.7319 - val_f1: 0.3824\n",
      "\n",
      "Epoch 00016: val_loss did not improve from 0.73153\n",
      "Epoch 17/120\n",
      "1554/1554 [==============================] - 531s 342ms/step - loss: 0.7551 - f1: 0.3271 - val_loss: 0.7282 - val_f1: 0.3850\n",
      "\n",
      "Epoch 00017: val_loss improved from 0.73153 to 0.72818, saving model to ../cache/InceptionV3-32-4.h5\n",
      "Epoch 18/120\n",
      "1554/1554 [==============================] - 534s 343ms/step - loss: 0.7489 - f1: 0.3321 - val_loss: 0.7273 - val_f1: 0.3874\n",
      "\n",
      "Epoch 00018: val_loss improved from 0.72818 to 0.72733, saving model to ../cache/InceptionV3-32-4.h5\n",
      "Epoch 19/120\n",
      "1554/1554 [==============================] - 530s 341ms/step - loss: 0.7470 - f1: 0.3323 - val_loss: 0.7295 - val_f1: 0.3838\n",
      "\n",
      "Epoch 00019: val_loss did not improve from 0.72733\n",
      "Epoch 20/120\n",
      "1554/1554 [==============================] - 531s 342ms/step - loss: 0.7453 - f1: 0.3341 - val_loss: 0.7289 - val_f1: 0.3835\n",
      "\n",
      "Epoch 00020: val_loss did not improve from 0.72733\n",
      "Epoch 21/120\n",
      "1554/1554 [==============================] - 532s 342ms/step - loss: 0.7423 - f1: 0.3350 - val_loss: 0.7324 - val_f1: 0.3829\n",
      "\n",
      "Epoch 00021: val_loss did not improve from 0.72733\n",
      "\n",
      "Epoch 00021: ReduceLROnPlateau reducing learning rate to 9.999999747378752e-07.\n",
      "Epoch 22/120\n",
      "1554/1554 [==============================] - 521s 335ms/step - loss: 0.7369 - f1: 0.3378 - val_loss: 0.7288 - val_f1: 0.3878\n",
      "\n",
      "Epoch 00022: val_loss did not improve from 0.72733\n",
      "Epoch 23/120\n",
      "1554/1554 [==============================] - 523s 336ms/step - loss: 0.7381 - f1: 0.3377 - val_loss: 0.7316 - val_f1: 0.3846\n",
      "\n",
      "Epoch 00023: val_loss did not improve from 0.72733\n",
      "Epoch 24/120\n",
      "1554/1554 [==============================] - 526s 339ms/step - loss: 0.7359 - f1: 0.3387 - val_loss: 0.7295 - val_f1: 0.3854\n",
      "\n",
      "Epoch 00024: val_loss did not improve from 0.72733\n",
      "\n",
      "Epoch 00024: ReduceLROnPlateau reducing learning rate to 9.999999974752428e-08.\n"
     ]
    },
    {
     "name": "stderr",
     "output_type": "stream",
     "text": [
      "100%|██████████| 6214/6214 [05:57<00:00, 17.37it/s]\n",
      "11702it [08:49, 22.11it/s]\n"
     ]
    }
   ],
   "source": [
    "\n",
    "# split data into train, valid\n",
    "indexes = np.arange(train_dataset_info.shape[0])\n",
    "# np.random.shuffle(indexes)\n",
    "# train_indexes, valid_indexes = train_test_split(indexes, test_size=0.15, random_state=8)\n",
    "n_splits = 5\n",
    "kf = KFold(n_splits=n_splits, random_state=42, shuffle=True)\n",
    "submit = pd.read_csv('../data/sample_submission.csv')\n",
    "\n",
    "# train_generator = data_generator.create_train(\n",
    "#     train_dataset_info[train_indexes], batch_size, (SIZE,SIZE,3), augument=True)\n",
    "# validation_generator = data_generator.create_train(\n",
    "#     train_dataset_info[valid_indexes], 32, (SIZE,SIZE,3), augument=False)\n",
    "\n",
    "# oof_class_preds = np.zeros((train_dataset_info.shape[0], 28))\n",
    "# sub_class_preds = np.zeros((submit.shape[0], 28))\n",
    "\n",
    "oof_class_preds = np.load('../cache/oof_class_preds-32.npy')\n",
    "sub_class_preds = np.load('../cache/sub_class_preds-32.npy')\n",
    "\n",
    "fold_ = 0\n",
    "epochs = 10; batch_size = 16\n",
    "for train_indexes, valid_indexes in kf.split(indexes):\n",
    "    if fold_ < 4:\n",
    "        fold_ += 1\n",
    "        continue\n",
    "    chk_name = '../cache/InceptionV3-32-{}.h5'.format(fold_)\n",
    "    checkpoint = ModelCheckpoint(chk_name, monitor='val_loss', verbose=1, \n",
    "                                 save_best_only=True, mode='min', save_weights_only = True)\n",
    "    reduceLROnPlat = ReduceLROnPlateau(monitor='val_loss', factor=0.1, patience=3, \n",
    "                                       verbose=1, mode='auto', epsilon=0.0001)\n",
    "    early = EarlyStopping(monitor=\"val_loss\", \n",
    "                          mode=\"min\", \n",
    "                          patience=6)\n",
    "    callbacks_list = [checkpoint, early, reduceLROnPlat]\n",
    "\n",
    "\n",
    "    _preds = []\n",
    "    # create train and valid datagens\n",
    "    train_generator = data_generator.create_train(\n",
    "        train_dataset_info[train_indexes], batch_size, (SIZE,SIZE,3), augument=True)\n",
    "    validation_generator = data_generator.create_train(\n",
    "        train_dataset_info[valid_indexes], 32, (SIZE,SIZE,3), augument=True)\n",
    "\n",
    "    # warm up model\n",
    "    model = create_model(\n",
    "        input_shape=(SIZE,SIZE,3), \n",
    "        n_out=28)\n",
    "    \n",
    "    # train all layers\n",
    "    epochs=120\n",
    "    for layer in model.layers:\n",
    "        layer.trainable = True\n",
    "    model.compile(loss=f1_loss,\n",
    "                optimizer=Adam(lr=1e-4),\n",
    "                metrics=[f1])\n",
    "    model.fit_generator(\n",
    "        train_generator,\n",
    "        steps_per_epoch=np.ceil(float(len(train_indexes)) / float(batch_size)),\n",
    "        validation_data=validation_generator,\n",
    "        validation_steps=np.ceil(float(len(valid_indexes)) / float(batch_size)),\n",
    "        epochs=epochs, \n",
    "        verbose=1,\n",
    "        callbacks=callbacks_list)\n",
    "    \n",
    "    model_name = '../cache/my_model_weights-32-{}.h5'.format(fold_)\n",
    "    model.save_weights(model_name)\n",
    "    model.load_weights(chk_name)\n",
    "    for idx in tqdm(valid_indexes):\n",
    "        item = train_dataset_info[idx]\n",
    "        path = item['path']\n",
    "        labels = item['labels']\n",
    "        image = data_generator.load_image(path, (SIZE,SIZE,3))\n",
    "        image = data_generator.augment2(image)\n",
    "        image = image / 255.\n",
    "        score_predict = model.predict(image[np.newaxis])[0]\n",
    "        oof_class_preds[idx] = score_predict\n",
    "        np.save('../cache/oof_class_preds-32.npy', oof_class_preds)\n",
    "        \n",
    "    for idx, name in tqdm(enumerate(submit['Id'])):\n",
    "        path = os.path.join('../data/test/', name)\n",
    "        image = data_generator.load_image(path, (SIZE,SIZE,3))\n",
    "        image = data_generator.augment2(image)\n",
    "        image = image / 255.\n",
    "        score_predict = model.predict(image[np.newaxis])[0]\n",
    "        sub_class_preds[idx] += score_predict\n",
    "        np.save('../cache/sub_class_preds-32.npy', sub_class_preds)\n",
    "    fold_ += 1\n",
    "sub_class_preds /= n_splits"
   ]
  },
  {
   "cell_type": "code",
   "execution_count": 25,
   "metadata": {},
   "outputs": [],
   "source": [
    "# for idx in tqdm(valid_indexes):\n",
    "#     item = train_dataset_info[idx]\n",
    "#     path = item['path']\n",
    "#     labels = item['labels']\n",
    "#     image = data_generator.load_image(path, (SIZE,SIZE,3))\n",
    "#     image = data_generator.augment(image)\n",
    "#     image = image / 255.\n",
    "#     score_predict = model.predict(image[np.newaxis])[0]\n",
    "#     oof_class_preds[idx] = score_predict\n",
    "#     np.save('../cache/oof_class_preds-20.npy', oof_class_preds)\n",
    "        "
   ]
  },
  {
   "cell_type": "code",
   "execution_count": 26,
   "metadata": {},
   "outputs": [],
   "source": [
    "np.save('../cache/oof_class_preds-23-1.npy', oof_class_preds)\n",
    "np.save('../cache/sub_class_preds-23-1.npy', sub_class_preds)"
   ]
  },
  {
   "cell_type": "code",
   "execution_count": 27,
   "metadata": {},
   "outputs": [],
   "source": [
    "np.save('../cache/oof_class_preds-32-1.npy', oof_class_preds)\n",
    "np.save('../cache/sub_class_preds-32-1.npy', sub_class_preds)"
   ]
  },
  {
   "cell_type": "code",
   "execution_count": 28,
   "metadata": {},
   "outputs": [],
   "source": [
    "# oof_class_preds = np.zeros((train_dataset_info.shape[0], 28))\n",
    "# sub_class_preds = np.zeros((submit.shape[0], 28))\n",
    "# score_predict = model.predict(image[np.newaxis])[0]\n",
    "# oof_class_preds[idx] = score_predict"
   ]
  },
  {
   "cell_type": "code",
   "execution_count": 29,
   "metadata": {},
   "outputs": [],
   "source": [
    "# for train_index, test_index in kf.split(indexes):\n",
    "# ...    print(\"TRAIN:\", train_index, \"TEST:\", test_index)"
   ]
  },
  {
   "cell_type": "code",
   "execution_count": 30,
   "metadata": {},
   "outputs": [
    {
     "data": {
      "text/plain": [
       "(11702, 28)"
      ]
     },
     "execution_count": 30,
     "metadata": {},
     "output_type": "execute_result"
    }
   ],
   "source": [
    "sub_class_preds.shape"
   ]
  },
  {
   "cell_type": "code",
   "execution_count": 31,
   "metadata": {},
   "outputs": [
    {
     "name": "stderr",
     "output_type": "stream",
     "text": [
      "100%|██████████| 11702/11702 [00:00<00:00, 111938.66it/s]\n"
     ]
    }
   ],
   "source": [
    "predicted = []\n",
    "for line in tqdm(sub_class_preds):\n",
    "    label_predict = np.arange(28)[line>=0.5]\n",
    "    str_predict_label = ' '.join(str(l) for l in label_predict)\n",
    "    predicted.append(str_predict_label)"
   ]
  },
  {
   "cell_type": "code",
   "execution_count": 32,
   "metadata": {},
   "outputs": [
    {
     "data": {
      "text/plain": [
       "11702"
      ]
     },
     "execution_count": 32,
     "metadata": {},
     "output_type": "execute_result"
    }
   ],
   "source": [
    "len(predicted)"
   ]
  },
  {
   "cell_type": "code",
   "execution_count": 33,
   "metadata": {},
   "outputs": [
    {
     "data": {
      "text/plain": [
       "['2',\n",
       " '5',\n",
       " '0 5 25',\n",
       " '0',\n",
       " '25',\n",
       " '4',\n",
       " '4 25',\n",
       " '0 25',\n",
       " '0',\n",
       " '25',\n",
       " '18 25',\n",
       " '3 5',\n",
       " '25',\n",
       " '',\n",
       " '23',\n",
       " '4',\n",
       " '2 14',\n",
       " '0 5',\n",
       " '14 21',\n",
       " '5',\n",
       " '6',\n",
       " '3 5',\n",
       " '0',\n",
       " '0',\n",
       " '0',\n",
       " '12 25',\n",
       " '0',\n",
       " '0',\n",
       " '0 25',\n",
       " '0',\n",
       " '21',\n",
       " '0',\n",
       " '17 18',\n",
       " '5',\n",
       " '0 7',\n",
       " '13',\n",
       " '',\n",
       " '0 3',\n",
       " '0 21',\n",
       " '1',\n",
       " '0 25',\n",
       " '25',\n",
       " '0',\n",
       " '19 25',\n",
       " '',\n",
       " '6',\n",
       " '0',\n",
       " '',\n",
       " '',\n",
       " '0',\n",
       " '0 25',\n",
       " '0 5',\n",
       " '',\n",
       " '25',\n",
       " '3',\n",
       " '0 25',\n",
       " '0 25',\n",
       " '',\n",
       " '0 25',\n",
       " '21 25',\n",
       " '2',\n",
       " '0 5',\n",
       " '14',\n",
       " '',\n",
       " '23',\n",
       " '0 25',\n",
       " '3 25',\n",
       " '',\n",
       " '0',\n",
       " '21',\n",
       " '2',\n",
       " '0 2',\n",
       " '14',\n",
       " '4',\n",
       " '21',\n",
       " '0',\n",
       " '4',\n",
       " '0 1',\n",
       " '0 25',\n",
       " '0',\n",
       " '',\n",
       " '0 25',\n",
       " '0 21',\n",
       " '21 25',\n",
       " '18',\n",
       " '0',\n",
       " '23',\n",
       " '0 21',\n",
       " '25',\n",
       " '14',\n",
       " '25',\n",
       " '',\n",
       " '23',\n",
       " '13',\n",
       " '16 17 25',\n",
       " '0 25',\n",
       " '18 25',\n",
       " '0 7',\n",
       " '24',\n",
       " '25',\n",
       " '0 25',\n",
       " '23',\n",
       " '21',\n",
       " '0 23',\n",
       " '7',\n",
       " '19 21 25',\n",
       " '0 14 16',\n",
       " '0 24',\n",
       " '20 26',\n",
       " '0',\n",
       " '2',\n",
       " '1',\n",
       " '17 25',\n",
       " '0 22',\n",
       " '25',\n",
       " '23',\n",
       " '0',\n",
       " '4',\n",
       " '25',\n",
       " '26',\n",
       " '0 18 19 25',\n",
       " '21',\n",
       " '2 21',\n",
       " '20',\n",
       " '4',\n",
       " '0',\n",
       " '0 25',\n",
       " '25',\n",
       " '0 4',\n",
       " '19',\n",
       " '25',\n",
       " '0 21',\n",
       " '0',\n",
       " '0',\n",
       " '0 11',\n",
       " '5',\n",
       " '0 14 16',\n",
       " '0',\n",
       " '21',\n",
       " '25',\n",
       " '0 19',\n",
       " '21 25',\n",
       " '1',\n",
       " '5',\n",
       " '25',\n",
       " '',\n",
       " '',\n",
       " '0 6 25',\n",
       " '0',\n",
       " '25',\n",
       " '0',\n",
       " '16 17 18',\n",
       " '0 7',\n",
       " '0 25',\n",
       " '6 7',\n",
       " '6',\n",
       " '0',\n",
       " '0 25',\n",
       " '25',\n",
       " '25',\n",
       " '0 19 25',\n",
       " '25',\n",
       " '0 11 25',\n",
       " '4',\n",
       " '5',\n",
       " '',\n",
       " '0 25',\n",
       " '19',\n",
       " '21 25',\n",
       " '25',\n",
       " '5 25',\n",
       " '6 25',\n",
       " '25',\n",
       " '21',\n",
       " '0 2',\n",
       " '11',\n",
       " '21',\n",
       " '0 7 25',\n",
       " '0 12',\n",
       " '2 25',\n",
       " '0',\n",
       " '23',\n",
       " '0',\n",
       " '0',\n",
       " '14',\n",
       " '0 16',\n",
       " '0 25',\n",
       " '',\n",
       " '23',\n",
       " '14 21',\n",
       " '25',\n",
       " '0 25',\n",
       " '',\n",
       " '25',\n",
       " '5 25',\n",
       " '13 22',\n",
       " '0 25',\n",
       " '16',\n",
       " '25',\n",
       " '0 4 25',\n",
       " '2 21',\n",
       " '0 3',\n",
       " '0 25',\n",
       " '0 25',\n",
       " '0 3 19',\n",
       " '21',\n",
       " '0 25',\n",
       " '5',\n",
       " '0',\n",
       " '21',\n",
       " '0 14 21',\n",
       " '0',\n",
       " '7',\n",
       " '0',\n",
       " '',\n",
       " '0',\n",
       " '24',\n",
       " '7',\n",
       " '21 22',\n",
       " '2 3',\n",
       " '0 3',\n",
       " '14 25',\n",
       " '',\n",
       " '3',\n",
       " '20',\n",
       " '23',\n",
       " '21',\n",
       " '12 25',\n",
       " '0 19',\n",
       " '0 5',\n",
       " '25',\n",
       " '0 11',\n",
       " '0 2',\n",
       " '23',\n",
       " '0 23 25',\n",
       " '11',\n",
       " '20 26',\n",
       " '0 12',\n",
       " '',\n",
       " '17 18',\n",
       " '21',\n",
       " '7',\n",
       " '21',\n",
       " '0 25',\n",
       " '4 11',\n",
       " '12 23',\n",
       " '25',\n",
       " '4',\n",
       " '13',\n",
       " '0',\n",
       " '0 25',\n",
       " '0 25',\n",
       " '2 25',\n",
       " '0',\n",
       " '0 25',\n",
       " '11',\n",
       " '23',\n",
       " '3 5',\n",
       " '',\n",
       " '21',\n",
       " '14 17 25',\n",
       " '19',\n",
       " '4',\n",
       " '0',\n",
       " '13',\n",
       " '0',\n",
       " '12',\n",
       " '0',\n",
       " '23',\n",
       " '0 25',\n",
       " '0 19',\n",
       " '25',\n",
       " '0 12',\n",
       " '2 25',\n",
       " '2',\n",
       " '0 18 19 25',\n",
       " '0 2',\n",
       " '11',\n",
       " '0',\n",
       " '0',\n",
       " '0 25',\n",
       " '2',\n",
       " '3',\n",
       " '20 26',\n",
       " '0 19',\n",
       " '0 12 21',\n",
       " '0',\n",
       " '7',\n",
       " '1 2',\n",
       " '7',\n",
       " '0 5',\n",
       " '0 14',\n",
       " '21',\n",
       " '7',\n",
       " '19',\n",
       " '0 21',\n",
       " '25',\n",
       " '0 2 25',\n",
       " '0 5',\n",
       " '0 2',\n",
       " '',\n",
       " '5',\n",
       " '11 25',\n",
       " '14',\n",
       " '25',\n",
       " '0',\n",
       " '1',\n",
       " '14',\n",
       " '21',\n",
       " '0',\n",
       " '',\n",
       " '11',\n",
       " '0 7',\n",
       " '0',\n",
       " '0',\n",
       " '21',\n",
       " '14 16 17',\n",
       " '0',\n",
       " '0',\n",
       " '0 16 17 25',\n",
       " '19',\n",
       " '6',\n",
       " '25',\n",
       " '0 2',\n",
       " '0',\n",
       " '0',\n",
       " '21',\n",
       " '0 2',\n",
       " '0 2 3',\n",
       " '14',\n",
       " '5',\n",
       " '',\n",
       " '25',\n",
       " '0 1',\n",
       " '21 25',\n",
       " '7',\n",
       " '24',\n",
       " '25',\n",
       " '0 25',\n",
       " '6',\n",
       " '',\n",
       " '0 7',\n",
       " '0 2',\n",
       " '14',\n",
       " '4 12 21 25',\n",
       " '0 3 25',\n",
       " '18 24',\n",
       " '3 7',\n",
       " '2 21 25',\n",
       " '0 25',\n",
       " '0 7',\n",
       " '26',\n",
       " '25',\n",
       " '5',\n",
       " '25',\n",
       " '3',\n",
       " '24',\n",
       " '0 5',\n",
       " '25',\n",
       " '4',\n",
       " '11 25',\n",
       " '2 6 25',\n",
       " '0 25',\n",
       " '0 25',\n",
       " '7',\n",
       " '11',\n",
       " '11',\n",
       " '0',\n",
       " '0 18',\n",
       " '0',\n",
       " '16 17 18',\n",
       " '0',\n",
       " '0 25',\n",
       " '25',\n",
       " '0 23',\n",
       " '21',\n",
       " '0',\n",
       " '0 3',\n",
       " '12 21',\n",
       " '4 21 25',\n",
       " '0 21',\n",
       " '7',\n",
       " '0',\n",
       " '',\n",
       " '',\n",
       " '14',\n",
       " '0',\n",
       " '3',\n",
       " '18 19',\n",
       " '25',\n",
       " '16 17 18',\n",
       " '25',\n",
       " '0 14',\n",
       " '21 25',\n",
       " '0',\n",
       " '0',\n",
       " '0 21',\n",
       " '0 11',\n",
       " '14 17',\n",
       " '0',\n",
       " '21 23',\n",
       " '0',\n",
       " '21',\n",
       " '0 14 21',\n",
       " '0 22 25',\n",
       " '0 2 23',\n",
       " '23',\n",
       " '',\n",
       " '0 21 25',\n",
       " '1',\n",
       " '6 25',\n",
       " '0',\n",
       " '23',\n",
       " '7',\n",
       " '0',\n",
       " '0',\n",
       " '21',\n",
       " '',\n",
       " '0 21 25',\n",
       " '0 7 24',\n",
       " '0',\n",
       " '0 5',\n",
       " '',\n",
       " '0 25',\n",
       " '0',\n",
       " '0 7 25',\n",
       " '25',\n",
       " '19',\n",
       " '0 24',\n",
       " '4 25',\n",
       " '0 12',\n",
       " '0',\n",
       " '23',\n",
       " '0 14',\n",
       " '25',\n",
       " '0',\n",
       " '0 4',\n",
       " '0',\n",
       " '2',\n",
       " '7',\n",
       " '1',\n",
       " '21',\n",
       " '',\n",
       " '0 2',\n",
       " '0 25',\n",
       " '22',\n",
       " '0',\n",
       " '21',\n",
       " '17 25',\n",
       " '17 18 21',\n",
       " '12',\n",
       " '2',\n",
       " '0 4 21 25',\n",
       " '0',\n",
       " '0',\n",
       " '0',\n",
       " '25',\n",
       " '25',\n",
       " '',\n",
       " '4',\n",
       " '0',\n",
       " '21 25',\n",
       " '2',\n",
       " '2 25',\n",
       " '7',\n",
       " '21',\n",
       " '23',\n",
       " '23',\n",
       " '0 2 11',\n",
       " '7',\n",
       " '3',\n",
       " '23',\n",
       " '0 2',\n",
       " '0 25',\n",
       " '25',\n",
       " '3',\n",
       " '0 25',\n",
       " '0 25',\n",
       " '6',\n",
       " '4',\n",
       " '14',\n",
       " '0 25',\n",
       " '4',\n",
       " '0',\n",
       " '0 22',\n",
       " '0 21 25',\n",
       " '25',\n",
       " '0 13',\n",
       " '4',\n",
       " '0 1',\n",
       " '0',\n",
       " '25',\n",
       " '0 25',\n",
       " '2 25',\n",
       " '0 25',\n",
       " '7',\n",
       " '25',\n",
       " '0 7',\n",
       " '0 23',\n",
       " '23',\n",
       " '25',\n",
       " '2',\n",
       " '0',\n",
       " '21 25',\n",
       " '21',\n",
       " '0',\n",
       " '0 21',\n",
       " '7',\n",
       " '0',\n",
       " '0 7',\n",
       " '',\n",
       " '0 7 25',\n",
       " '12 13',\n",
       " '0 2',\n",
       " '21 25',\n",
       " '21',\n",
       " '7',\n",
       " '0',\n",
       " '25',\n",
       " '3',\n",
       " '',\n",
       " '0 25',\n",
       " '1',\n",
       " '0',\n",
       " '',\n",
       " '19 25',\n",
       " '4',\n",
       " '7',\n",
       " '0 25',\n",
       " '23',\n",
       " '18 19',\n",
       " '0',\n",
       " '0 25',\n",
       " '0 17 21',\n",
       " '4 25',\n",
       " '0 14',\n",
       " '2 25',\n",
       " '19',\n",
       " '0 25',\n",
       " '19',\n",
       " '12',\n",
       " '0 21',\n",
       " '',\n",
       " '0',\n",
       " '0',\n",
       " '7',\n",
       " '4',\n",
       " '0',\n",
       " '2 7 21',\n",
       " '2',\n",
       " '23',\n",
       " '14',\n",
       " '0 2 25',\n",
       " '0 11',\n",
       " '2 21',\n",
       " '21',\n",
       " '21',\n",
       " '0 25',\n",
       " '21 25',\n",
       " '0',\n",
       " '7',\n",
       " '0',\n",
       " '21 23',\n",
       " '7',\n",
       " '25',\n",
       " '0',\n",
       " '',\n",
       " '0 25',\n",
       " '25',\n",
       " '25',\n",
       " '',\n",
       " '0 25',\n",
       " '14 16 25',\n",
       " '0',\n",
       " '25',\n",
       " '',\n",
       " '16 25',\n",
       " '7',\n",
       " '0',\n",
       " '25',\n",
       " '0 25',\n",
       " '',\n",
       " '25',\n",
       " '5 25',\n",
       " '21',\n",
       " '0 25',\n",
       " '21',\n",
       " '4',\n",
       " '23',\n",
       " '21',\n",
       " '0 7',\n",
       " '23',\n",
       " '0 22',\n",
       " '6 25',\n",
       " '21 25',\n",
       " '0 25',\n",
       " '19',\n",
       " '3',\n",
       " '2 14',\n",
       " '',\n",
       " '',\n",
       " '1',\n",
       " '23',\n",
       " '0 25',\n",
       " '25',\n",
       " '21',\n",
       " '0',\n",
       " '19',\n",
       " '4',\n",
       " '0 12 21',\n",
       " '0 25',\n",
       " '7 25',\n",
       " '',\n",
       " '21',\n",
       " '5 19',\n",
       " '21',\n",
       " '23',\n",
       " '',\n",
       " '0 25',\n",
       " '7',\n",
       " '',\n",
       " '5',\n",
       " '0',\n",
       " '14',\n",
       " '',\n",
       " '0 21',\n",
       " '5 21 22',\n",
       " '21',\n",
       " '0 25',\n",
       " '25',\n",
       " '12 21',\n",
       " '0 25',\n",
       " '0 7',\n",
       " '0 25',\n",
       " '5 25',\n",
       " '14',\n",
       " '7 18',\n",
       " '0 19',\n",
       " '5',\n",
       " '',\n",
       " '21',\n",
       " '13',\n",
       " '0',\n",
       " '23',\n",
       " '0 7',\n",
       " '',\n",
       " '0 1 25',\n",
       " '25',\n",
       " '5',\n",
       " '',\n",
       " '21 25',\n",
       " '25',\n",
       " '0 25',\n",
       " '3',\n",
       " '2',\n",
       " '5 21',\n",
       " '',\n",
       " '1 4',\n",
       " '0 1 18 19',\n",
       " '25',\n",
       " '0 19',\n",
       " '0',\n",
       " '0 19',\n",
       " '0 16',\n",
       " '25',\n",
       " '',\n",
       " '7',\n",
       " '5 25',\n",
       " '5 25',\n",
       " '21',\n",
       " '14 16 17',\n",
       " '0 21 22',\n",
       " '0 25',\n",
       " '7',\n",
       " '5 25',\n",
       " '19',\n",
       " '0 1 25',\n",
       " '0 21',\n",
       " '26',\n",
       " '18 19',\n",
       " '23',\n",
       " '1 25',\n",
       " '0 14',\n",
       " '22',\n",
       " '25',\n",
       " '0 25',\n",
       " '0 22',\n",
       " '0',\n",
       " '0',\n",
       " '0 16 25',\n",
       " '0 25',\n",
       " '23',\n",
       " '0 21',\n",
       " '4',\n",
       " '13',\n",
       " '0 25',\n",
       " '',\n",
       " '0 12',\n",
       " '1',\n",
       " '5 14',\n",
       " '5',\n",
       " '',\n",
       " '23',\n",
       " '14',\n",
       " '0 2 11 25',\n",
       " '5',\n",
       " '11',\n",
       " '7',\n",
       " '0',\n",
       " '3',\n",
       " '0 21',\n",
       " '0 25',\n",
       " '21',\n",
       " '1 25',\n",
       " '25',\n",
       " '0 21',\n",
       " '22',\n",
       " '2',\n",
       " '5',\n",
       " '21',\n",
       " '0 18',\n",
       " '21',\n",
       " '25',\n",
       " '0 25',\n",
       " '19',\n",
       " '0',\n",
       " '0 2',\n",
       " '0',\n",
       " '0',\n",
       " '0',\n",
       " '0 25',\n",
       " '0 22 25',\n",
       " '5',\n",
       " '21',\n",
       " '0 2 7',\n",
       " '0 1',\n",
       " '',\n",
       " '0 25',\n",
       " '25',\n",
       " '23',\n",
       " '',\n",
       " '0 25',\n",
       " '',\n",
       " '',\n",
       " '21',\n",
       " '21',\n",
       " '0 13',\n",
       " '',\n",
       " '',\n",
       " '0 21 25',\n",
       " '0',\n",
       " '23',\n",
       " '0 2 21',\n",
       " '0',\n",
       " '0 25',\n",
       " '0 5',\n",
       " '25',\n",
       " '0',\n",
       " '0 25',\n",
       " '23',\n",
       " '13 25',\n",
       " '25',\n",
       " '0 2 21',\n",
       " '14',\n",
       " '7',\n",
       " '14 21 25',\n",
       " '7 21',\n",
       " '18 19',\n",
       " '7',\n",
       " '7',\n",
       " '7',\n",
       " '18',\n",
       " '23',\n",
       " '0 25',\n",
       " '25',\n",
       " '0',\n",
       " '14 16 25',\n",
       " '25',\n",
       " '0 2 16',\n",
       " '21 25',\n",
       " '0 25',\n",
       " '11',\n",
       " '14 17',\n",
       " '0 16',\n",
       " '14 16',\n",
       " '14 25',\n",
       " '0 18 19 25',\n",
       " '23',\n",
       " '5',\n",
       " '7',\n",
       " '7 23',\n",
       " '0',\n",
       " '0',\n",
       " '0 26',\n",
       " '0 25',\n",
       " '25',\n",
       " '',\n",
       " '0',\n",
       " '21 22 25',\n",
       " '0 25',\n",
       " '0 18 25',\n",
       " '12',\n",
       " '0',\n",
       " '0 25',\n",
       " '0 21',\n",
       " '0 21',\n",
       " '23',\n",
       " '18 25',\n",
       " '0 25',\n",
       " '0',\n",
       " '23',\n",
       " '11',\n",
       " '2',\n",
       " '0',\n",
       " '0 7',\n",
       " '5',\n",
       " '0',\n",
       " '14 17 18',\n",
       " '0 25',\n",
       " '0 25',\n",
       " '21',\n",
       " '0 13 14',\n",
       " '0 25',\n",
       " '25',\n",
       " '0 21',\n",
       " '25',\n",
       " '',\n",
       " '25',\n",
       " '25',\n",
       " '21',\n",
       " '25',\n",
       " '21',\n",
       " '0 25',\n",
       " '0',\n",
       " '0',\n",
       " '0 25',\n",
       " '3',\n",
       " '0',\n",
       " '0 5',\n",
       " '2 21',\n",
       " '0 25',\n",
       " '0',\n",
       " '0',\n",
       " '0 5',\n",
       " '7',\n",
       " '26',\n",
       " '0 25',\n",
       " '21',\n",
       " '19 21',\n",
       " '21',\n",
       " '0 25',\n",
       " '25',\n",
       " '16',\n",
       " '14 21',\n",
       " '0 21',\n",
       " '0 19',\n",
       " '25',\n",
       " '0',\n",
       " '21',\n",
       " '18 19',\n",
       " '21',\n",
       " '0',\n",
       " '0 18',\n",
       " '0 1 16',\n",
       " '',\n",
       " '0 25',\n",
       " '0 12 21',\n",
       " '0 25',\n",
       " '0 16',\n",
       " '0 5',\n",
       " '11',\n",
       " '5',\n",
       " '0',\n",
       " '0 5',\n",
       " '11',\n",
       " '0',\n",
       " '0',\n",
       " '',\n",
       " '23',\n",
       " '6',\n",
       " '0',\n",
       " '0 2',\n",
       " '21',\n",
       " '0',\n",
       " '0',\n",
       " '21',\n",
       " '0 23',\n",
       " '0 23',\n",
       " '0 25',\n",
       " '',\n",
       " '',\n",
       " '5',\n",
       " '23',\n",
       " '21',\n",
       " '2 7',\n",
       " '1 7',\n",
       " '6',\n",
       " '26',\n",
       " '25',\n",
       " '0 25',\n",
       " '0 7',\n",
       " '21',\n",
       " '0 22',\n",
       " '23',\n",
       " '',\n",
       " '14 25',\n",
       " '4',\n",
       " '0',\n",
       " '0 5',\n",
       " '19',\n",
       " '0 3',\n",
       " '19 25',\n",
       " '',\n",
       " '',\n",
       " '26',\n",
       " '0 7',\n",
       " '14',\n",
       " '25',\n",
       " '7',\n",
       " '2 25',\n",
       " '7',\n",
       " '25',\n",
       " '0',\n",
       " '23',\n",
       " '25',\n",
       " '0 5',\n",
       " '0 25',\n",
       " '25',\n",
       " '2 7 25',\n",
       " '0 25',\n",
       " '6',\n",
       " '11 19 25',\n",
       " '4',\n",
       " '4',\n",
       " '21',\n",
       " '14',\n",
       " '21',\n",
       " '0 21 22 25',\n",
       " '19',\n",
       " '',\n",
       " '',\n",
       " '0 21 25',\n",
       " '21',\n",
       " '21',\n",
       " '1 21 25',\n",
       " '25',\n",
       " '0 2 16',\n",
       " '7',\n",
       " '0 1 25',\n",
       " '21',\n",
       " '',\n",
       " '0 25',\n",
       " '14 25',\n",
       " '0',\n",
       " '25',\n",
       " '4 21',\n",
       " '21',\n",
       " '0 25',\n",
       " '0',\n",
       " '0',\n",
       " '0',\n",
       " '0 11',\n",
       " '25',\n",
       " '',\n",
       " '12',\n",
       " '7',\n",
       " '0 23',\n",
       " '0 25',\n",
       " '0 7',\n",
       " '7',\n",
       " '21 25',\n",
       " '25',\n",
       " '4',\n",
       " '0',\n",
       " '0 22',\n",
       " '0',\n",
       " '0',\n",
       " '0 16 17 25',\n",
       " '0 25',\n",
       " '21',\n",
       " '11',\n",
       " '0 14',\n",
       " '',\n",
       " '3',\n",
       " '6 21 25',\n",
       " '0 3',\n",
       " '3',\n",
       " '25',\n",
       " '23',\n",
       " '5',\n",
       " '',\n",
       " '0 2',\n",
       " '0',\n",
       " '0 2',\n",
       " '0 2',\n",
       " '5 25',\n",
       " '0',\n",
       " '0 21',\n",
       " '0',\n",
       " '25',\n",
       " ...]"
      ]
     },
     "execution_count": 33,
     "metadata": {},
     "output_type": "execute_result"
    }
   ],
   "source": [
    "predicted"
   ]
  },
  {
   "cell_type": "code",
   "execution_count": 34,
   "metadata": {},
   "outputs": [],
   "source": [
    "submit['Predicted'] = predicted"
   ]
  },
  {
   "cell_type": "code",
   "execution_count": 35,
   "metadata": {},
   "outputs": [],
   "source": [
    "# Create submit\n",
    "# submit = pd.read_csv('../data/sample_submission.csv')\n",
    "# predicted = []\n",
    "# draw_predict = []\n",
    "# # model.load_weights('../cache/InceptionV3.h5')\n",
    "# for name in tqdm(submit['Id']):\n",
    "#     path = os.path.join('../data/test/', name)\n",
    "#     image = data_generator.load_image(path, (SIZE,SIZE,3))/255.\n",
    "#     score_predict = model.predict(image[np.newaxis])[0]\n",
    "#     draw_predict.append(score_predict)\n",
    "#     label_predict = np.arange(28)[score_predict>=0.2]\n",
    "#     str_predict_label = ' '.join(str(l) for l in label_predict)\n",
    "#     predicted.append(str_predict_label)\n",
    "\n",
    "# submit['Predicted'] = predicted\n",
    "# np.save('../cache/draw_predict_InceptionV3-8.npy', score_predict)\n",
    "# submit.to_csv('../submissions/submit_InceptionV3.csv', index=False)"
   ]
  },
  {
   "cell_type": "code",
   "execution_count": 36,
   "metadata": {},
   "outputs": [],
   "source": [
    "submit.to_csv('../submissions/sub32-a.csv', index=False)"
   ]
  },
  {
   "cell_type": "code",
   "execution_count": 37,
   "metadata": {},
   "outputs": [],
   "source": [
    "#https://stackoverflow.com/questions/1855095/how-to-create-a-zip-archive-of-a-directory\n",
    "def backup_project_as_zip(project_dir, zip_file):\n",
    "    assert(os.path.isdir(project_dir))\n",
    "    assert(os.path.isdir(os.path.dirname(zip_file)))\n",
    "    shutil.make_archive(zip_file.replace('.zip',''), 'zip', project_dir)\n",
    "    pass"
   ]
  },
  {
   "cell_type": "code",
   "execution_count": 38,
   "metadata": {},
   "outputs": [
    {
     "name": "stdout",
     "output_type": "stream",
     "text": [
      "2018-11-15 17:12:46.387453\n"
     ]
    }
   ],
   "source": [
    "import datetime, shutil\n",
    "now = datetime.datetime.now()\n",
    "print(now)\n",
    "PROJECT_PATH = '/home/watts/lal/Kaggle/kagglehp/scripts_nbs'\n",
    "backup_project_as_zip(PROJECT_PATH, '../cache/code.scripts_nbs.%s.zip'%now)"
   ]
  },
  {
   "cell_type": "code",
   "execution_count": 39,
   "metadata": {},
   "outputs": [
    {
     "name": "stdout",
     "output_type": "stream",
     "text": [
      "100%|████████████████████████████████████████| 465k/465k [00:12<00:00, 37.1kB/s]\n",
      "Successfully submitted to Human Protein Atlas Image ClassificationCPU times: user 383 ms, sys: 128 ms, total: 510 ms\n",
      "Wall time: 15.8 s\n"
     ]
    }
   ],
   "source": [
    "%%time\n",
    "!kaggle competitions submit -c human-protein-atlas-image-classification -f ../submissions/sub32-a.csv -m \"\""
   ]
  },
  {
   "cell_type": "code",
   "execution_count": 40,
   "metadata": {},
   "outputs": [
    {
     "name": "stdout",
     "output_type": "stream",
     "text": [
      "fileName      date                 description  status    publicScore  privateScore  \r\n",
      "------------  -------------------  -----------  --------  -----------  ------------  \r\n",
      "sub32-a.csv   2018-11-15 11:43:12               complete  0.449        None          \r\n",
      "sub8f-1.csv   2018-11-14 12:36:46               complete  0.398        None          \r\n",
      "sub8j.csv     2018-11-14 08:48:31               complete  0.063        None          \r\n",
      "sub8i.csv     2018-11-14 04:28:35               complete  0.443        None          \r\n",
      "sub8h.csv     2018-11-13 23:48:00               complete  0.434        None          \r\n",
      "sub8g.csv     2018-11-13 07:17:59               complete  0.389        None          \r\n",
      "sub8c.csv     2018-11-11 14:31:02               complete  0.429        None          \r\n",
      "sub30.csv     2018-11-09 07:02:56               complete  0.033        None          \r\n",
      "sub29.csv     2018-11-08 22:07:11               complete  0.389        None          \r\n",
      "sub28-c.csv   2018-11-08 15:47:08               complete  0.457        None          \r\n",
      "sub28-bb.csv  2018-11-08 15:46:13               complete  0.458        None          \r\n",
      "sub28-b.csv   2018-11-08 15:45:28               complete  0.454        None          \r\n",
      "sub28-a.csv   2018-11-08 15:44:27               complete  0.454        None          \r\n",
      "sub25.csv     2018-11-07 10:45:12               complete  0.421        None          \r\n",
      "sub25.csv     2018-11-07 10:26:20               complete  0.421        None          \r\n",
      "sub8a.csv     2018-11-07 05:53:08               complete  0.425        None          \r\n",
      "sub24.csv     2018-11-07 05:09:26               complete  0.410        None          \r\n",
      "sub23-d.csv   2018-11-07 00:21:06               complete  0.469        None          \r\n",
      "sub23-c.csv   2018-11-06 14:34:37               complete  0.472        None          \r\n",
      "sub23-bb.csv  2018-11-06 14:33:35               complete  0.466        None          \r\n"
     ]
    }
   ],
   "source": [
    "from time import sleep\n",
    "sleep(60)\n",
    "!kaggle competitions submissions -c human-protein-atlas-image-classification"
   ]
  },
  {
   "cell_type": "code",
   "execution_count": 41,
   "metadata": {},
   "outputs": [
    {
     "name": "stderr",
     "output_type": "stream",
     "text": [
      "100%|██████████| 11702/11702 [00:00<00:00, 123993.27it/s]\n"
     ]
    }
   ],
   "source": [
    "predicted = []\n",
    "for line in tqdm(sub_class_preds):\n",
    "    label_predict = np.arange(28)[line>=0.45]\n",
    "    str_predict_label = ' '.join(str(l) for l in label_predict)\n",
    "    predicted.append(str_predict_label)"
   ]
  },
  {
   "cell_type": "code",
   "execution_count": 42,
   "metadata": {},
   "outputs": [],
   "source": [
    "submit['Predicted'] = predicted\n",
    "submit.to_csv('../submissions/sub32-b.csv', index=False)"
   ]
  },
  {
   "cell_type": "code",
   "execution_count": 43,
   "metadata": {},
   "outputs": [
    {
     "name": "stdout",
     "output_type": "stream",
     "text": [
      "2018-11-15 17:14:16.717746\n"
     ]
    }
   ],
   "source": [
    "import datetime, shutil\n",
    "now = datetime.datetime.now()\n",
    "print(now)\n",
    "PROJECT_PATH = '/home/watts/lal/Kaggle/kagglehp/scripts_nbs'\n",
    "backup_project_as_zip(PROJECT_PATH, '../cache/code.scripts_nbs.%s.zip'%now)"
   ]
  },
  {
   "cell_type": "code",
   "execution_count": 44,
   "metadata": {},
   "outputs": [
    {
     "name": "stdout",
     "output_type": "stream",
     "text": [
      "100%|████████████████████████████████████████| 467k/467k [00:12<00:00, 37.0kB/s]\n",
      "Successfully submitted to Human Protein Atlas Image ClassificationCPU times: user 345 ms, sys: 194 ms, total: 538 ms\n",
      "Wall time: 16.4 s\n"
     ]
    }
   ],
   "source": [
    "%%time\n",
    "!kaggle competitions submit -c human-protein-atlas-image-classification -f ../submissions/sub32-b.csv -m \"\""
   ]
  },
  {
   "cell_type": "code",
   "execution_count": 45,
   "metadata": {},
   "outputs": [
    {
     "name": "stdout",
     "output_type": "stream",
     "text": [
      "fileName      date                 description  status    publicScore  privateScore  \r\n",
      "------------  -------------------  -----------  --------  -----------  ------------  \r\n",
      "sub32-b.csv   2018-11-15 11:44:43               complete  0.456        None          \r\n",
      "sub32-a.csv   2018-11-15 11:43:12               complete  0.449        None          \r\n",
      "sub8f-1.csv   2018-11-14 12:36:46               complete  0.398        None          \r\n",
      "sub8j.csv     2018-11-14 08:48:31               complete  0.063        None          \r\n",
      "sub8i.csv     2018-11-14 04:28:35               complete  0.443        None          \r\n",
      "sub8h.csv     2018-11-13 23:48:00               complete  0.434        None          \r\n",
      "sub8g.csv     2018-11-13 07:17:59               complete  0.389        None          \r\n",
      "sub8c.csv     2018-11-11 14:31:02               complete  0.429        None          \r\n",
      "sub30.csv     2018-11-09 07:02:56               complete  0.033        None          \r\n",
      "sub29.csv     2018-11-08 22:07:11               complete  0.389        None          \r\n",
      "sub28-c.csv   2018-11-08 15:47:08               complete  0.457        None          \r\n",
      "sub28-bb.csv  2018-11-08 15:46:13               complete  0.458        None          \r\n",
      "sub28-b.csv   2018-11-08 15:45:28               complete  0.454        None          \r\n",
      "sub28-a.csv   2018-11-08 15:44:27               complete  0.454        None          \r\n",
      "sub25.csv     2018-11-07 10:45:12               complete  0.421        None          \r\n",
      "sub25.csv     2018-11-07 10:26:20               complete  0.421        None          \r\n",
      "sub8a.csv     2018-11-07 05:53:08               complete  0.425        None          \r\n",
      "sub24.csv     2018-11-07 05:09:26               complete  0.410        None          \r\n",
      "sub23-d.csv   2018-11-07 00:21:06               complete  0.469        None          \r\n",
      "sub23-c.csv   2018-11-06 14:34:37               complete  0.472        None          \r\n"
     ]
    }
   ],
   "source": [
    "from time import sleep\n",
    "sleep(60)\n",
    "!kaggle competitions submissions -c human-protein-atlas-image-classification"
   ]
  },
  {
   "cell_type": "code",
   "execution_count": 46,
   "metadata": {},
   "outputs": [],
   "source": [
    "d = {0.4:'bb', 0.35:'c', 0.3:'d', 0.25:'e', 0.2:'f'}"
   ]
  },
  {
   "cell_type": "code",
   "execution_count": 47,
   "metadata": {},
   "outputs": [
    {
     "name": "stderr",
     "output_type": "stream",
     "text": [
      "100%|██████████| 11702/11702 [00:00<00:00, 130164.07it/s]\n",
      "100%|██████████| 11702/11702 [00:00<00:00, 120802.93it/s]\n",
      "  0%|          | 0/11702 [00:00<?, ?it/s]"
     ]
    },
    {
     "name": "stdout",
     "output_type": "stream",
     "text": [
      "../submissions/sub32-bb.csv\n",
      "../submissions/sub32-c.csv\n"
     ]
    },
    {
     "name": "stderr",
     "output_type": "stream",
     "text": [
      "100%|██████████| 11702/11702 [00:00<00:00, 122088.12it/s]\n",
      "100%|██████████| 11702/11702 [00:00<00:00, 124979.94it/s]\n",
      "  0%|          | 0/11702 [00:00<?, ?it/s]"
     ]
    },
    {
     "name": "stdout",
     "output_type": "stream",
     "text": [
      "../submissions/sub32-d.csv\n",
      "../submissions/sub32-e.csv\n"
     ]
    },
    {
     "name": "stderr",
     "output_type": "stream",
     "text": [
      "\r",
      "100%|██████████| 11702/11702 [00:00<00:00, 125247.83it/s]"
     ]
    },
    {
     "name": "stdout",
     "output_type": "stream",
     "text": [
      "../submissions/sub32-f.csv\n"
     ]
    },
    {
     "name": "stderr",
     "output_type": "stream",
     "text": [
      "\n"
     ]
    }
   ],
   "source": [
    "for alpha in [0.4, 0.35, 0.3, 0.25, 0.2]:\n",
    "    predicted = []\n",
    "    for line in tqdm(sub_class_preds):\n",
    "        label_predict = np.arange(28)[line>=alpha]\n",
    "        str_predict_label = ' '.join(str(l) for l in label_predict)\n",
    "        predicted.append(str_predict_label)\n",
    "    submit['Predicted'] = predicted\n",
    "    name = '../submissions/sub32-' + d[alpha] + '.csv'\n",
    "    print(name)\n",
    "    submit.to_csv(name, index=False)"
   ]
  },
  {
   "cell_type": "code",
   "execution_count": 48,
   "metadata": {},
   "outputs": [
    {
     "name": "stdout",
     "output_type": "stream",
     "text": [
      "100%|████████████████████████████████████████| 470k/470k [00:12<00:00, 39.5kB/s]\n",
      "Successfully submitted to Human Protein Atlas Image ClassificationCPU times: user 357 ms, sys: 142 ms, total: 500 ms\n",
      "Wall time: 15.2 s\n"
     ]
    }
   ],
   "source": [
    "%%time\n",
    "!kaggle competitions submit -c human-protein-atlas-image-classification -f ../submissions/sub32-bb.csv -m \"\""
   ]
  },
  {
   "cell_type": "code",
   "execution_count": 49,
   "metadata": {},
   "outputs": [
    {
     "name": "stdout",
     "output_type": "stream",
     "text": [
      "fileName      date                 description  status    publicScore  privateScore  \r\n",
      "------------  -------------------  -----------  --------  -----------  ------------  \r\n",
      "sub32-bb.csv  2018-11-15 11:46:01               complete  0.465        None          \r\n",
      "sub32-b.csv   2018-11-15 11:44:43               complete  0.456        None          \r\n",
      "sub32-a.csv   2018-11-15 11:43:12               complete  0.449        None          \r\n",
      "sub8f-1.csv   2018-11-14 12:36:46               complete  0.398        None          \r\n",
      "sub8j.csv     2018-11-14 08:48:31               complete  0.063        None          \r\n",
      "sub8i.csv     2018-11-14 04:28:35               complete  0.443        None          \r\n",
      "sub8h.csv     2018-11-13 23:48:00               complete  0.434        None          \r\n",
      "sub8g.csv     2018-11-13 07:17:59               complete  0.389        None          \r\n",
      "sub8c.csv     2018-11-11 14:31:02               complete  0.429        None          \r\n",
      "sub30.csv     2018-11-09 07:02:56               complete  0.033        None          \r\n",
      "sub29.csv     2018-11-08 22:07:11               complete  0.389        None          \r\n",
      "sub28-c.csv   2018-11-08 15:47:08               complete  0.457        None          \r\n",
      "sub28-bb.csv  2018-11-08 15:46:13               complete  0.458        None          \r\n",
      "sub28-b.csv   2018-11-08 15:45:28               complete  0.454        None          \r\n",
      "sub28-a.csv   2018-11-08 15:44:27               complete  0.454        None          \r\n",
      "sub25.csv     2018-11-07 10:45:12               complete  0.421        None          \r\n",
      "sub25.csv     2018-11-07 10:26:20               complete  0.421        None          \r\n",
      "sub8a.csv     2018-11-07 05:53:08               complete  0.425        None          \r\n",
      "sub24.csv     2018-11-07 05:09:26               complete  0.410        None          \r\n",
      "sub23-d.csv   2018-11-07 00:21:06               complete  0.469        None          \r\n"
     ]
    }
   ],
   "source": [
    "from time import sleep\n",
    "sleep(60)\n",
    "!kaggle competitions submissions -c human-protein-atlas-image-classification"
   ]
  },
  {
   "cell_type": "code",
   "execution_count": 50,
   "metadata": {},
   "outputs": [
    {
     "name": "stdout",
     "output_type": "stream",
     "text": [
      "100%|████████████████████████████████████████| 473k/473k [00:08<00:00, 40.4kB/s]\n",
      "Successfully submitted to Human Protein Atlas Image ClassificationfileName      date                 description  status    publicScore  privateScore  \n",
      "------------  -------------------  -----------  --------  -----------  ------------  \n",
      "sub32-c.csv   2018-11-15 11:47:19               complete  0.463        None          \n",
      "sub32-bb.csv  2018-11-15 11:46:01               complete  0.465        None          \n",
      "sub32-b.csv   2018-11-15 11:44:43               complete  0.456        None          \n",
      "sub32-a.csv   2018-11-15 11:43:12               complete  0.449        None          \n",
      "sub8f-1.csv   2018-11-14 12:36:46               complete  0.398        None          \n",
      "sub8j.csv     2018-11-14 08:48:31               complete  0.063        None          \n",
      "sub8i.csv     2018-11-14 04:28:35               complete  0.443        None          \n",
      "sub8h.csv     2018-11-13 23:48:00               complete  0.434        None          \n",
      "sub8g.csv     2018-11-13 07:17:59               complete  0.389        None          \n",
      "sub8c.csv     2018-11-11 14:31:02               complete  0.429        None          \n",
      "sub30.csv     2018-11-09 07:02:56               complete  0.033        None          \n",
      "sub29.csv     2018-11-08 22:07:11               complete  0.389        None          \n",
      "sub28-c.csv   2018-11-08 15:47:08               complete  0.457        None          \n",
      "sub28-bb.csv  2018-11-08 15:46:13               complete  0.458        None          \n",
      "sub28-b.csv   2018-11-08 15:45:28               complete  0.454        None          \n",
      "sub28-a.csv   2018-11-08 15:44:27               complete  0.454        None          \n",
      "sub25.csv     2018-11-07 10:45:12               complete  0.421        None          \n",
      "sub25.csv     2018-11-07 10:26:20               complete  0.421        None          \n",
      "sub8a.csv     2018-11-07 05:53:08               complete  0.425        None          \n",
      "sub24.csv     2018-11-07 05:09:26               complete  0.410        None          \n",
      "CPU times: user 491 ms, sys: 309 ms, total: 800 ms\n",
      "Wall time: 42.9 s\n"
     ]
    }
   ],
   "source": [
    "%%time\n",
    "!kaggle competitions submit -c human-protein-atlas-image-classification -f ../submissions/sub32-c.csv -m \"\"\n",
    "from time import sleep\n",
    "sleep(20)\n",
    "!kaggle competitions submissions -c human-protein-atlas-image-classification"
   ]
  },
  {
   "cell_type": "code",
   "execution_count": 1,
   "metadata": {},
   "outputs": [
    {
     "name": "stdout",
     "output_type": "stream",
     "text": [
      "100%|████████████████████████████████████████| 481k/481k [00:13<00:00, 36.6kB/s]\n",
      "Successfully submitted to Human Protein Atlas Image ClassificationfileName      date                 description  status    publicScore  privateScore  \n",
      "------------  -------------------  -----------  --------  -----------  ------------  \n",
      "sub23-d.csv   2018-11-07 00:21:06               complete  0.469        None          \n",
      "sub23-c.csv   2018-11-06 14:34:37               complete  0.472        None          \n",
      "sub23-bb.csv  2018-11-06 14:33:35               complete  0.466        None          \n",
      "sub23-b.csv   2018-11-06 14:32:47               complete  0.463        None          \n",
      "sub23-a.csv   2018-11-06 14:31:57               complete  0.461        None          \n",
      "sub22-a.csv   2018-11-06 14:30:53               complete  0.467        None          \n",
      "sub22-b.csv   2018-11-05 16:50:03               complete  0.467        None          \n",
      "sub22-a.csv   2018-11-05 16:48:26               complete  0.467        None          \n",
      "sub21-g.csv   2018-11-05 00:29:22               complete  0.462        None          \n",
      "sub21-f.csv   2018-11-05 00:24:13               complete  0.471        None          \n",
      "sub21-e.csv   2018-11-05 00:23:01               complete  0.469        None          \n",
      "sub21-d.csv   2018-11-04 13:43:13               complete  0.468        None          \n",
      "sub21-c.csv   2018-11-04 13:42:36               complete  0.465        None          \n",
      "sub21-bb.csv  2018-11-04 13:41:58               complete  0.462        None          \n",
      "sub21-b.csv   2018-11-04 13:41:21               complete  0.456        None          \n",
      "sub21-a.csv   2018-11-04 13:40:31               complete  0.447        None          \n",
      "sub20-d.csv   2018-11-03 16:29:16               complete  0.463        None          \n",
      "sub20-c.csv   2018-11-03 16:28:02               complete  0.466        None          \n",
      "sub20-bb.csv  2018-11-03 16:27:02               complete  0.464        None          \n",
      "sub20-b.csv   2018-11-03 16:26:10               complete  0.459        None          \n",
      "CPU times: user 492 ms, sys: 103 ms, total: 596 ms\n",
      "Wall time: 42.9 s\n"
     ]
    }
   ],
   "source": [
    "%%time\n",
    "!kaggle competitions submit -c human-protein-atlas-image-classification -f ../submissions/sub23-d.csv -m \"\"\n",
    "from time import sleep\n",
    "sleep(60)\n",
    "!kaggle competitions submissions -c human-protein-atlas-image-classification"
   ]
  },
  {
   "cell_type": "code",
   "execution_count": null,
   "metadata": {},
   "outputs": [],
   "source": [
    "%%time\n",
    "!kaggle competitions submit -c human-protein-atlas-image-classification -f ../submissions/sub21-e.csv -m \"\"\n",
    "from time import sleep\n",
    "sleep(20)\n",
    "!kaggle competitions submissions -c human-protein-atlas-image-classification"
   ]
  },
  {
   "cell_type": "code",
   "execution_count": null,
   "metadata": {},
   "outputs": [],
   "source": [
    "%%time\n",
    "!kaggle competitions submit -c human-protein-atlas-image-classification -f ../submissions/sub21-f.csv -m \"\"\n",
    "from time import sleep\n",
    "sleep(20)\n",
    "!kaggle competitions submissions -c human-protein-atlas-image-classification"
   ]
  },
  {
   "cell_type": "code",
   "execution_count": 46,
   "metadata": {},
   "outputs": [
    {
     "data": {
      "text/plain": [
       "(31072, 28)"
      ]
     },
     "execution_count": 46,
     "metadata": {},
     "output_type": "execute_result"
    }
   ],
   "source": [
    "oof_class_preds.shape"
   ]
  },
  {
   "cell_type": "code",
   "execution_count": 47,
   "metadata": {},
   "outputs": [
    {
     "data": {
      "text/html": [
       "<div>\n",
       "<style scoped>\n",
       "    .dataframe tbody tr th:only-of-type {\n",
       "        vertical-align: middle;\n",
       "    }\n",
       "\n",
       "    .dataframe tbody tr th {\n",
       "        vertical-align: top;\n",
       "    }\n",
       "\n",
       "    .dataframe thead th {\n",
       "        text-align: right;\n",
       "    }\n",
       "</style>\n",
       "<table border=\"1\" class=\"dataframe\">\n",
       "  <thead>\n",
       "    <tr style=\"text-align: right;\">\n",
       "      <th></th>\n",
       "      <th>Id</th>\n",
       "      <th>Target</th>\n",
       "    </tr>\n",
       "  </thead>\n",
       "  <tbody>\n",
       "    <tr>\n",
       "      <th>0</th>\n",
       "      <td>00070df0-bbc3-11e8-b2bc-ac1f6b6435d0</td>\n",
       "      <td>16 0</td>\n",
       "    </tr>\n",
       "    <tr>\n",
       "      <th>1</th>\n",
       "      <td>000a6c98-bb9b-11e8-b2b9-ac1f6b6435d0</td>\n",
       "      <td>7 1 2 0</td>\n",
       "    </tr>\n",
       "    <tr>\n",
       "      <th>2</th>\n",
       "      <td>000a9596-bbc4-11e8-b2bc-ac1f6b6435d0</td>\n",
       "      <td>5</td>\n",
       "    </tr>\n",
       "    <tr>\n",
       "      <th>3</th>\n",
       "      <td>000c99ba-bba4-11e8-b2b9-ac1f6b6435d0</td>\n",
       "      <td>1</td>\n",
       "    </tr>\n",
       "    <tr>\n",
       "      <th>4</th>\n",
       "      <td>001838f8-bbca-11e8-b2bc-ac1f6b6435d0</td>\n",
       "      <td>18</td>\n",
       "    </tr>\n",
       "  </tbody>\n",
       "</table>\n",
       "</div>"
      ],
      "text/plain": [
       "                                     Id   Target\n",
       "0  00070df0-bbc3-11e8-b2bc-ac1f6b6435d0     16 0\n",
       "1  000a6c98-bb9b-11e8-b2b9-ac1f6b6435d0  7 1 2 0\n",
       "2  000a9596-bbc4-11e8-b2bc-ac1f6b6435d0        5\n",
       "3  000c99ba-bba4-11e8-b2b9-ac1f6b6435d0        1\n",
       "4  001838f8-bbca-11e8-b2bc-ac1f6b6435d0       18"
      ]
     },
     "execution_count": 47,
     "metadata": {},
     "output_type": "execute_result"
    }
   ],
   "source": [
    "data.head()"
   ]
  },
  {
   "cell_type": "code",
   "execution_count": 48,
   "metadata": {},
   "outputs": [
    {
     "data": {
      "text/plain": [
       "(31072, 2)"
      ]
     },
     "execution_count": 48,
     "metadata": {},
     "output_type": "execute_result"
    }
   ],
   "source": [
    "data.shape"
   ]
  },
  {
   "cell_type": "code",
   "execution_count": 49,
   "metadata": {},
   "outputs": [
    {
     "data": {
      "text/plain": [
       "(31072, 28)"
      ]
     },
     "execution_count": 49,
     "metadata": {},
     "output_type": "execute_result"
    }
   ],
   "source": [
    "n_classes = 28\n",
    "y_train = np.zeros(oof_class_preds.shape)\n",
    "y_train.shape"
   ]
  },
  {
   "cell_type": "code",
   "execution_count": 50,
   "metadata": {},
   "outputs": [
    {
     "name": "stderr",
     "output_type": "stream",
     "text": [
      "100%|██████████| 31072/31072 [00:00<00:00, 741901.66it/s]\n"
     ]
    }
   ],
   "source": [
    "idx = 0\n",
    "for labels in tqdm(data['Target'].str.split(' ')):\n",
    "#     print(labels)\n",
    "    for label in labels:\n",
    "        y_train[idx][int(label)] = 1\n",
    "    idx += 1"
   ]
  },
  {
   "cell_type": "code",
   "execution_count": 51,
   "metadata": {},
   "outputs": [
    {
     "data": {
      "text/plain": [
       "array([[1., 0., 0., ..., 0., 0., 0.],\n",
       "       [1., 1., 1., ..., 0., 0., 0.],\n",
       "       [0., 0., 0., ..., 0., 0., 0.],\n",
       "       ...,\n",
       "       [0., 0., 0., ..., 0., 0., 0.],\n",
       "       [0., 0., 1., ..., 1., 0., 0.],\n",
       "       [1., 0., 1., ..., 0., 0., 0.]])"
      ]
     },
     "execution_count": 51,
     "metadata": {},
     "output_type": "execute_result"
    }
   ],
   "source": [
    "y_train"
   ]
  },
  {
   "cell_type": "code",
   "execution_count": 52,
   "metadata": {},
   "outputs": [
    {
     "data": {
      "text/plain": [
       "array([1., 0., 0., 0., 0., 0., 0., 0., 0., 0., 0., 0., 0., 0., 0., 0., 1.,\n",
       "       0., 0., 0., 0., 0., 0., 0., 0., 0., 0., 0.])"
      ]
     },
     "execution_count": 52,
     "metadata": {},
     "output_type": "execute_result"
    }
   ],
   "source": [
    "y_train[0]"
   ]
  },
  {
   "cell_type": "code",
   "execution_count": 54,
   "metadata": {},
   "outputs": [
    {
     "name": "stdout",
     "output_type": "stream",
     "text": [
      "0.001 0.6174081518752018\n",
      "0.01 0.6174081494907646\n",
      "0.1 0.6174079419635514\n",
      "0.5 0.6174049197331472\n",
      "0.75 0.6174023910597577\n",
      "1.0 0.6173997536697944\n",
      "------------------\n",
      "0.001 0.7042131450176463\n",
      "0.01 0.7042131449021258\n",
      "0.1 0.7042131341504188\n",
      "0.5 0.7042129258072632\n",
      "0.75 0.7042126913081677\n",
      "1.0 0.7042123865546952\n",
      "------------------\n",
      "0.001 0.6405293650278552\n",
      "0.01 0.6405293643199262\n",
      "0.1 0.6405293035770623\n",
      "0.5 0.6405284696126301\n",
      "0.75 0.6405278129689744\n",
      "1.0 0.6405271539313317\n",
      "------------------\n",
      "0.001 0.5206868082561187\n",
      "0.01 0.5206868064937693\n",
      "0.1 0.5206866550090807\n",
      "0.5 0.5206845661735036\n",
      "0.75 0.5206829204240566\n",
      "1.0 0.5206812723936773\n",
      "------------------\n",
      "0.001 0.6225629182679313\n",
      "0.01 0.6225628870674288\n",
      "0.1 0.6225602493284829\n",
      "0.5 0.6225265347174933\n",
      "0.75 0.6225024258166685\n",
      "1.0 0.6224802007531789\n",
      "------------------\n",
      "0.001 0.47625033808763034\n",
      "0.01 0.4762503310360723\n",
      "0.1 0.47624973372408597\n",
      "0.5 0.4762420258070793\n",
      "0.75 0.4762364393569697\n",
      "1.0 0.47623122503579396\n",
      "------------------\n",
      "0.001 0.37015383088158105\n",
      "0.01 0.37015383051625794\n",
      "0.1 0.37015379589885844\n",
      "0.5 0.370153120483382\n",
      "0.75 0.3701523989904022\n",
      "1.0 0.3701515220047934\n",
      "------------------\n",
      "0.001 0.6278499957612576\n",
      "0.01 0.6278499933196181\n",
      "0.1 0.6278497675145762\n",
      "0.5 0.6278457789099899\n",
      "0.75 0.6278419420023433\n",
      "1.0 0.627837666925348\n",
      "------------------\n",
      "0.001 0.23972549325385814\n",
      "0.01 0.23972546015299\n",
      "0.1 0.23972230652354265\n",
      "0.5 0.2396593031542591\n",
      "0.75 0.23959034757832143\n",
      "1.0 0.23950497349498\n",
      "------------------\n",
      "0.001 0.31331172323399825\n",
      "0.01 0.3133113149919019\n",
      "0.1 0.3132732609784179\n",
      "0.5 0.3125863700441769\n",
      "0.75 0.3119170265340445\n",
      "1.0 0.31116713928425954\n",
      "------------------\n",
      "0.001 0.2558623247962669\n",
      "0.01 0.255861948626774\n",
      "0.1 0.2558268879333644\n",
      "0.5 0.2551944259969803\n",
      "0.75 0.254578676028139\n",
      "1.0 0.2538894622998168\n",
      "------------------\n",
      "0.001 0.5968983087672983\n",
      "0.01 0.5968983084398413\n",
      "0.1 0.5968982782239397\n",
      "0.5 0.5968977292368627\n",
      "0.75 0.5968971633273094\n",
      "1.0 0.5968964809073818\n",
      "------------------\n",
      "0.001 0.49290871329017727\n",
      "0.01 0.49290871298539585\n",
      "0.1 0.4929086845398815\n",
      "0.5 0.49290813804804207\n",
      "0.75 0.49290753815710786\n",
      "1.0 0.49290677775529046\n",
      "------------------\n",
      "0.001 0.3787539379466851\n",
      "0.01 0.37875392012227116\n",
      "0.1 0.37875241060554954\n",
      "0.5 0.3787329277123833\n",
      "0.75 0.37871876766614176\n",
      "1.0 0.37870547804838306\n",
      "------------------\n",
      "0.001 0.7506973147934757\n",
      "0.01 0.7506973136319354\n",
      "0.1 0.7506972086330781\n",
      "0.5 0.7506954269694857\n",
      "0.75 0.7506936901241192\n",
      "1.0 0.7506916736611128\n",
      "------------------\n",
      "0.001 0.01983763392161686\n",
      "0.01 0.019837535325928135\n",
      "0.1 0.019828450862805713\n",
      "0.5 0.019665777176268495\n",
      "0.75 0.01950321718332293\n",
      "1.0 0.019314882518966292\n",
      "------------------\n",
      "0.001 0.1751297622786967\n",
      "0.01 0.17512974759033484\n",
      "0.1 0.17512846022244855\n",
      "0.5 0.17510915339406974\n",
      "0.75 0.17509248192232651\n",
      "1.0 0.17507468614395694\n",
      "------------------\n",
      "0.001 0.1667931781498947\n",
      "0.01 0.16679317509693092\n",
      "0.1 0.1667928880710675\n",
      "0.5 0.1667873460571777\n",
      "0.75 0.1667814074139947\n",
      "1.0 0.16677415822966601\n",
      "------------------\n",
      "0.001 0.3087568657202341\n",
      "0.01 0.3087568642759011\n",
      "0.1 0.3087567290489941\n",
      "0.5 0.3087542387474458\n",
      "0.75 0.30875175512550346\n",
      "1.0 0.3087489153085835\n",
      "------------------\n",
      "0.001 0.38082130482961174\n",
      "0.01 0.380821304671176\n",
      "0.1 0.38082128970689655\n",
      "0.5 0.38082100099719085\n",
      "0.75 0.38082069536892904\n",
      "1.0 0.3808203259166289\n",
      "------------------\n",
      "0.001 0.1538312914148493\n",
      "0.01 0.15383122528024018\n",
      "0.1 0.1538250686849436\n",
      "0.5 0.15371444612700225\n",
      "0.75 0.15360709884995571\n",
      "1.0 0.15348721808287602\n",
      "------------------\n",
      "0.001 0.48557824579010384\n",
      "0.01 0.48557824528334803\n",
      "0.1 0.4855781985932974\n",
      "0.5 0.48557738349917456\n",
      "0.75 0.48557660601055197\n",
      "1.0 0.48557574340418097\n",
      "------------------\n",
      "0.001 0.3646582386899322\n",
      "0.01 0.3646582372378981\n",
      "0.1 0.364658112376793\n",
      "0.5 0.36465637881526125\n",
      "0.75 0.3646549894024714\n",
      "1.0 0.364653566661458\n",
      "------------------\n",
      "0.001 0.6577178864298491\n",
      "0.01 0.6577178855069651\n",
      "0.1 0.6577177994042775\n",
      "0.5 0.6577162388191071\n",
      "0.75 0.657714710592422\n",
      "1.0 0.6577129906824652\n",
      "------------------\n",
      "0.001 0.48347736718545864\n",
      "0.01 0.4834773624770783\n",
      "0.1 0.4834769405428032\n",
      "0.5 0.4834700745036658\n",
      "0.75 0.48346367708679355\n",
      "1.0 0.483456474479732\n",
      "------------------\n",
      "0.001 0.43786458026883995\n",
      "0.01 0.43786457972979137\n",
      "0.1 0.4378645337127519\n",
      "0.5 0.4378639170133599\n",
      "0.75 0.4378634463465395\n",
      "1.0 0.43786298621777675\n",
      "------------------\n",
      "0.001 0.21837253521077882\n",
      "0.01 0.2183724949425644\n",
      "0.1 0.21836905357883252\n",
      "0.5 0.21832290898991366\n",
      "0.75 0.21828791269733872\n",
      "1.0 0.21825408221249284\n",
      "------------------\n",
      "0.001 0.0019063946880274463\n",
      "0.01 0.0019063937044974109\n",
      "0.1 0.0019063073388934093\n",
      "0.5 0.0019050204660372438\n",
      "0.75 0.0019039365114243976\n",
      "1.0 0.0019028140324179876\n",
      "------------------\n"
     ]
    }
   ],
   "source": [
    "sub_ridge_preds = np.zeros(sub_class_preds.shape)\n",
    "from sklearn.linear_model import Ridge\n",
    "for cls in np.arange(n_classes):\n",
    "    for alpha in [0.001, 0.01, 0.1, 0.5, 0.75, 1.0]:\n",
    "        y = y_train[:, cls]\n",
    "        X = oof_class_preds\n",
    "        clf = Ridge(alpha=alpha)\n",
    "        clf.fit(X,y)\n",
    "        score_ = clf.score(X, y)\n",
    "        print(alpha, score_)\n",
    "    print('------------------')\n",
    "#         X_test = sub_class_preds[:, cls]\n",
    "#         preds_ = clf.predict(X_test)\n",
    "#         sub_ridge_preds[:,cls] = preds_"
   ]
  },
  {
   "cell_type": "code",
   "execution_count": 55,
   "metadata": {},
   "outputs": [],
   "source": [
    "sub_ridge_preds = np.zeros(sub_class_preds.shape)\n",
    "from sklearn.linear_model import Ridge\n",
    "for cls in np.arange(n_classes):\n",
    "    y = y_train[:, cls]\n",
    "    X = oof_class_preds\n",
    "    clf = Ridge(alpha=0.1)\n",
    "    clf.fit(X,y)\n",
    "    X_test = sub_class_preds\n",
    "    preds_ = clf.predict(X_test)\n",
    "    sub_ridge_preds[:,cls] = preds_"
   ]
  },
  {
   "cell_type": "code",
   "execution_count": 56,
   "metadata": {},
   "outputs": [
    {
     "data": {
      "text/plain": [
       "array([[9.38001867e-02, 1.59430779e-04, 9.98871672e-01, ...,\n",
       "        1.77784316e-03, 1.12266340e-04, 5.20836841e-09],\n",
       "       [2.47062426e-02, 2.68127583e-04, 7.85995722e-04, ...,\n",
       "        6.51888692e-01, 8.71524611e-04, 3.26655725e-05],\n",
       "       [8.41529155e-01, 2.72278007e-04, 3.96186303e-03, ...,\n",
       "        9.23864961e-01, 2.01543609e-03, 1.92988443e-05],\n",
       "       ...,\n",
       "       [6.59056642e-04, 5.12143007e-05, 3.49444263e-05, ...,\n",
       "        1.77463120e-03, 5.20864920e-08, 5.91902866e-09],\n",
       "       [5.01914832e-01, 9.99162483e-01, 2.73049554e-03, ...,\n",
       "        1.16331837e-02, 1.53418808e-04, 1.20560289e-06],\n",
       "       [5.07521251e-01, 3.52088286e-04, 3.01849514e-03, ...,\n",
       "        6.92711103e-01, 1.99362053e-03, 1.05607675e-06]])"
      ]
     },
     "execution_count": 56,
     "metadata": {},
     "output_type": "execute_result"
    }
   ],
   "source": [
    "sub_class_preds"
   ]
  },
  {
   "cell_type": "code",
   "execution_count": 57,
   "metadata": {},
   "outputs": [
    {
     "data": {
      "text/plain": [
       "array([ 0,  1,  2,  3,  4,  5,  6,  7,  8,  9, 10, 11, 12, 13, 14, 15, 16,\n",
       "       17, 18, 19, 20, 21, 22, 23, 24, 25, 26, 27])"
      ]
     },
     "execution_count": 57,
     "metadata": {},
     "output_type": "execute_result"
    }
   ],
   "source": [
    "np.arange(n_classes)"
   ]
  },
  {
   "cell_type": "code",
   "execution_count": 58,
   "metadata": {},
   "outputs": [
    {
     "data": {
      "text/plain": [
       "(11702,)"
      ]
     },
     "execution_count": 58,
     "metadata": {},
     "output_type": "execute_result"
    }
   ],
   "source": [
    "sub_class_preds[:, 0].shape"
   ]
  },
  {
   "cell_type": "code",
   "execution_count": 59,
   "metadata": {},
   "outputs": [
    {
     "data": {
      "text/plain": [
       "array([[ 1.26424064e-01,  8.84581981e-03,  8.85833838e-01, ...,\n",
       "         3.20592330e-02,  4.54385428e-03, -6.92529375e-05],\n",
       "       [ 5.51528260e-02,  2.13827355e-03,  1.63897473e-02, ...,\n",
       "         5.38178358e-01,  1.06812025e-03,  1.39571143e-03],\n",
       "       [ 7.77233272e-01, -1.67743788e-03,  1.87791802e-02, ...,\n",
       "         7.51411388e-01, -1.45306321e-03,  1.27131495e-03],\n",
       "       ...,\n",
       "       [ 2.62432560e-02,  4.66381707e-04,  7.97892029e-03, ...,\n",
       "         2.92185935e-02,  3.12140745e-03,  1.76712611e-04],\n",
       "       [ 4.95625470e-01,  8.71181686e-01,  1.99755452e-02, ...,\n",
       "         3.70837162e-02,  3.03441473e-03,  3.03600332e-05],\n",
       "       [ 4.96285545e-01,  1.04218405e-02,  2.67882221e-02, ...,\n",
       "         5.85205684e-01,  4.37290352e-03,  1.52204091e-06]])"
      ]
     },
     "execution_count": 59,
     "metadata": {},
     "output_type": "execute_result"
    }
   ],
   "source": [
    "sub_ridge_preds"
   ]
  },
  {
   "cell_type": "code",
   "execution_count": 60,
   "metadata": {},
   "outputs": [
    {
     "name": "stderr",
     "output_type": "stream",
     "text": [
      "100%|██████████| 11702/11702 [00:00<00:00, 88242.24it/s]"
     ]
    },
    {
     "name": "stdout",
     "output_type": "stream",
     "text": [
      "../submissions/sub12-g.csv\n"
     ]
    },
    {
     "name": "stderr",
     "output_type": "stream",
     "text": [
      "\n"
     ]
    }
   ],
   "source": [
    "predicted = []\n",
    "alpha = 0.35\n",
    "for line in tqdm(sub_ridge_preds):\n",
    "    label_predict = np.arange(28)[line>=alpha]\n",
    "    str_predict_label = ' '.join(str(l) for l in label_predict)\n",
    "    predicted.append(str_predict_label)\n",
    "submit['Predicted'] = predicted\n",
    "name = '../submissions/sub12-g.csv'\n",
    "print(name)\n",
    "submit.to_csv(name, index=False)"
   ]
  },
  {
   "cell_type": "code",
   "execution_count": 61,
   "metadata": {},
   "outputs": [
    {
     "name": "stdout",
     "output_type": "stream",
     "text": [
      "Warning: Looks like you're using an outdated API Version, please consider updating (server 1.4.7.1 / client 1.3.8)\n",
      "Successfully submitted to Human Protein Atlas Image ClassificationCPU times: user 372 ms, sys: 201 ms, total: 573 ms\n",
      "Wall time: 17.3 s\n"
     ]
    }
   ],
   "source": [
    "%%time\n",
    "!kaggle competitions submit -c human-protein-atlas-image-classification -f ../submissions/sub12-g.csv -m \"\""
   ]
  },
  {
   "cell_type": "code",
   "execution_count": 62,
   "metadata": {},
   "outputs": [
    {
     "name": "stdout",
     "output_type": "stream",
     "text": [
      "Warning: Looks like you're using an outdated API Version, please consider updating (server 1.4.7.1 / client 1.3.8)\r\n",
      "fileName      date                 description  status    publicScore  privateScore  \r\n",
      "------------  -------------------  -----------  --------  -----------  ------------  \r\n",
      "sub12-g.csv   2018-10-25 00:55:10               complete  0.433        None          \r\n",
      "sub12-c.csv   2018-10-25 00:45:32               complete  0.469        None          \r\n",
      "sub12-bb.csv  2018-10-25 00:43:34               complete  0.466        None          \r\n",
      "sub12-b.csv   2018-10-25 00:41:50               complete  0.457        None          \r\n",
      "sub12-a.csv   2018-10-25 00:40:56               complete  0.449        None          \r\n",
      "sub11-k.csv   2018-10-24 00:35:39               complete  0.346        None          \r\n",
      "sub11-j.csv   2018-10-24 00:34:46               complete  0.366        None          \r\n",
      "sub11-j.csv   2018-10-24 00:33:17               complete  0.000        None          \r\n",
      "sub11-i.csv   2018-10-24 00:24:24               complete  0.389        None          \r\n",
      "sub11-h.csv   2018-10-24 00:21:18               complete  0.371        None          \r\n",
      "sub11-g.csv   2018-10-23 09:13:19               complete  0.347        None          \r\n",
      "sub11-f.csv   2018-10-23 09:11:15               complete  0.358        None          \r\n",
      "sub11-b.csv   2018-10-23 05:25:32               complete  0.437        None          \r\n",
      "sub12.csv     2018-10-23 05:18:36               complete  0.436        None          \r\n",
      "sub11.csv     2018-10-23 01:07:18               complete  0.431        None          \r\n",
      "sub10.csv     2018-10-22 17:16:40               complete  0.336        None          \r\n",
      "sub9.csv      2018-10-21 20:04:09               complete  0.098        None          \r\n",
      "sub9.csv      2018-10-21 19:44:17               complete  0.073        None          \r\n",
      "sub9.csv      2018-10-21 19:37:30               complete  0.043        None          \r\n",
      "sub9.csv      2018-10-21 19:27:51               complete  0.000        None          \r\n"
     ]
    }
   ],
   "source": [
    "from time import sleep\n",
    "sleep(10)\n",
    "!kaggle competitions submissions -c human-protein-atlas-image-classification"
   ]
  },
  {
   "cell_type": "code",
   "execution_count": 63,
   "metadata": {},
   "outputs": [
    {
     "name": "stderr",
     "output_type": "stream",
     "text": [
      "100%|██████████| 11702/11702 [00:00<00:00, 79991.76it/s]"
     ]
    },
    {
     "name": "stdout",
     "output_type": "stream",
     "text": [
      "../submissions/sub12-h.csv\n"
     ]
    },
    {
     "name": "stderr",
     "output_type": "stream",
     "text": [
      "\n"
     ]
    }
   ],
   "source": [
    "predicted = []\n",
    "alpha = 0.4\n",
    "for line in tqdm(sub_ridge_preds):\n",
    "    label_predict = np.arange(28)[line>=alpha]\n",
    "    str_predict_label = ' '.join(str(l) for l in label_predict)\n",
    "    predicted.append(str_predict_label)\n",
    "submit['Predicted'] = predicted\n",
    "name = '../submissions/sub12-h.csv'\n",
    "print(name)\n",
    "submit.to_csv(name, index=False)"
   ]
  },
  {
   "cell_type": "code",
   "execution_count": 64,
   "metadata": {},
   "outputs": [
    {
     "name": "stdout",
     "output_type": "stream",
     "text": [
      "Warning: Looks like you're using an outdated API Version, please consider updating (server 1.5.0 / client 1.3.8)\n",
      "Successfully submitted to Human Protein Atlas Image ClassificationWarning: Looks like you're using an outdated API Version, please consider updating (server 1.5.0 / client 1.3.8)\n",
      "fileName      date                 description  status    publicScore  privateScore  \n",
      "------------  -------------------  -----------  --------  -----------  ------------  \n",
      "sub12-h.csv   2018-10-26 02:07:56               complete  0.389        None          \n",
      "sub12-g.csv   2018-10-25 00:55:10               complete  0.433        None          \n",
      "sub12-c.csv   2018-10-25 00:45:32               complete  0.469        None          \n",
      "sub12-bb.csv  2018-10-25 00:43:34               complete  0.466        None          \n",
      "sub12-b.csv   2018-10-25 00:41:50               complete  0.457        None          \n",
      "sub12-a.csv   2018-10-25 00:40:56               complete  0.449        None          \n",
      "sub11-k.csv   2018-10-24 00:35:39               complete  0.346        None          \n",
      "sub11-j.csv   2018-10-24 00:34:46               complete  0.366        None          \n",
      "sub11-j.csv   2018-10-24 00:33:17               complete  0.000        None          \n",
      "sub11-i.csv   2018-10-24 00:24:24               complete  0.389        None          \n",
      "sub11-h.csv   2018-10-24 00:21:18               complete  0.371        None          \n",
      "sub11-g.csv   2018-10-23 09:13:19               complete  0.347        None          \n",
      "sub11-f.csv   2018-10-23 09:11:15               complete  0.358        None          \n",
      "sub11-b.csv   2018-10-23 05:25:32               complete  0.437        None          \n",
      "sub12.csv     2018-10-23 05:18:36               complete  0.436        None          \n",
      "sub11.csv     2018-10-23 01:07:18               complete  0.431        None          \n",
      "sub10.csv     2018-10-22 17:16:40               complete  0.336        None          \n",
      "sub9.csv      2018-10-21 20:04:09               complete  0.098        None          \n",
      "sub9.csv      2018-10-21 19:44:17               complete  0.073        None          \n",
      "sub9.csv      2018-10-21 19:37:30               complete  0.043        None          \n",
      "CPU times: user 328 ms, sys: 282 ms, total: 610 ms\n",
      "Wall time: 24.8 s\n"
     ]
    }
   ],
   "source": [
    "%%time\n",
    "!kaggle competitions submit -c human-protein-atlas-image-classification -f ../submissions/sub12-h.csv -m \"\"\n",
    "from time import sleep\n",
    "sleep(10)\n",
    "!kaggle competitions submissions -c human-protein-atlas-image-classification"
   ]
  },
  {
   "cell_type": "code",
   "execution_count": 65,
   "metadata": {},
   "outputs": [
    {
     "name": "stdout",
     "output_type": "stream",
     "text": [
      "Warning: Looks like you're using an outdated API Version, please consider updating (server 1.5.0 / client 1.3.8)\n",
      "Successfully submitted to Human Protein Atlas Image ClassificationWarning: Looks like you're using an outdated API Version, please consider updating (server 1.5.0 / client 1.3.8)\n",
      "fileName      date                 description  status    publicScore  privateScore  \n",
      "------------  -------------------  -----------  --------  -----------  ------------  \n",
      "sub12-d.csv   2018-10-26 02:09:32               complete  0.466        None          \n",
      "sub12-h.csv   2018-10-26 02:07:56               complete  0.389        None          \n",
      "sub12-g.csv   2018-10-25 00:55:10               complete  0.433        None          \n",
      "sub12-c.csv   2018-10-25 00:45:32               complete  0.469        None          \n",
      "sub12-bb.csv  2018-10-25 00:43:34               complete  0.466        None          \n",
      "sub12-b.csv   2018-10-25 00:41:50               complete  0.457        None          \n",
      "sub12-a.csv   2018-10-25 00:40:56               complete  0.449        None          \n",
      "sub11-k.csv   2018-10-24 00:35:39               complete  0.346        None          \n",
      "sub11-j.csv   2018-10-24 00:34:46               complete  0.366        None          \n",
      "sub11-j.csv   2018-10-24 00:33:17               complete  0.000        None          \n",
      "sub11-i.csv   2018-10-24 00:24:24               complete  0.389        None          \n",
      "sub11-h.csv   2018-10-24 00:21:18               complete  0.371        None          \n",
      "sub11-g.csv   2018-10-23 09:13:19               complete  0.347        None          \n",
      "sub11-f.csv   2018-10-23 09:11:15               complete  0.358        None          \n",
      "sub11-b.csv   2018-10-23 05:25:32               complete  0.437        None          \n",
      "sub12.csv     2018-10-23 05:18:36               complete  0.436        None          \n",
      "sub11.csv     2018-10-23 01:07:18               complete  0.431        None          \n",
      "sub10.csv     2018-10-22 17:16:40               complete  0.336        None          \n",
      "sub9.csv      2018-10-21 20:04:09               complete  0.098        None          \n",
      "sub9.csv      2018-10-21 19:44:17               complete  0.073        None          \n",
      "CPU times: user 352 ms, sys: 328 ms, total: 680 ms\n",
      "Wall time: 26.9 s\n"
     ]
    }
   ],
   "source": [
    "%%time\n",
    "!kaggle competitions submit -c human-protein-atlas-image-classification -f ../submissions/sub12-d.csv -m \"\"\n",
    "from time import sleep\n",
    "sleep(10)\n",
    "!kaggle competitions submissions -c human-protein-atlas-image-classification"
   ]
  },
  {
   "cell_type": "code",
   "execution_count": null,
   "metadata": {},
   "outputs": [],
   "source": []
  }
 ],
 "metadata": {
  "kernelspec": {
   "display_name": "hpg",
   "language": "python",
   "name": "hpg"
  },
  "language_info": {
   "codemirror_mode": {
    "name": "ipython",
    "version": 3
   },
   "file_extension": ".py",
   "mimetype": "text/x-python",
   "name": "python",
   "nbconvert_exporter": "python",
   "pygments_lexer": "ipython3",
   "version": "3.6.4"
  }
 },
 "nbformat": 4,
 "nbformat_minor": 2
}

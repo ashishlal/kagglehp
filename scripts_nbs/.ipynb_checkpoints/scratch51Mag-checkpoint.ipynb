{
 "cells": [
  {
   "cell_type": "code",
   "execution_count": 1,
   "metadata": {},
   "outputs": [
    {
     "name": "stdout",
     "output_type": "stream",
     "text": [
      "0.3.1\n"
     ]
    }
   ],
   "source": [
    "# https://www.kaggle.com/iafoss/pretrained-resnet34-with-rgby-0-460-public-lb\n",
    "import torch\n",
    "print(torch.__version__)"
   ]
  },
  {
   "cell_type": "code",
   "execution_count": 2,
   "metadata": {},
   "outputs": [],
   "source": [
    "# 31072 * 4 + 298424\n",
    "\n",
    "# 422712\n",
    "\n",
    "# 422712/4 = 105678"
   ]
  },
  {
   "cell_type": "code",
   "execution_count": 3,
   "metadata": {},
   "outputs": [],
   "source": [
    "from fastai.conv_learner import *\n",
    "from fastai.dataset import *\n",
    "\n",
    "import pandas as pd\n",
    "import numpy as np\n",
    "import os\n",
    "from sklearn.model_selection import train_test_split\n",
    "from sklearn.metrics import f1_score\n",
    "import scipy.optimize as opt\n",
    "from tqdm import tqdm_notebook, tqdm"
   ]
  },
  {
   "cell_type": "code",
   "execution_count": 4,
   "metadata": {},
   "outputs": [],
   "source": [
    "PATH = './'\n",
    "TRAIN = '../data/train_combined/'\n",
    "TEST = '../data/test/'\n",
    "LABELS = '../data/train_combined_all.csv'\n",
    "SAMPLE = '../data/sample_submission.csv'"
   ]
  },
  {
   "cell_type": "code",
   "execution_count": 5,
   "metadata": {},
   "outputs": [],
   "source": [
    "name_label_dict = {\n",
    "0:  'Nucleoplasm',\n",
    "1:  'Nuclear membrane',\n",
    "2:  'Nucleoli',   \n",
    "3:  'Nucleoli fibrillar center',\n",
    "4:  'Nuclear speckles',\n",
    "5:  'Nuclear bodies',\n",
    "6:  'Endoplasmic reticulum',   \n",
    "7:  'Golgi apparatus',\n",
    "8:  'Peroxisomes',\n",
    "9:  'Endosomes',\n",
    "10:  'Lysosomes',\n",
    "11:  'Intermediate filaments',\n",
    "12:  'Actin filaments',\n",
    "13:  'Focal adhesion sites',   \n",
    "14:  'Microtubules',\n",
    "15:  'Microtubule ends',  \n",
    "16:  'Cytokinetic bridge',   \n",
    "17:  'Mitotic spindle',\n",
    "18:  'Microtubule organizing center',  \n",
    "19:  'Centrosome',\n",
    "20:  'Lipid droplets',\n",
    "21:  'Plasma membrane',   \n",
    "22:  'Cell junctions', \n",
    "23:  'Mitochondria',\n",
    "24:  'Aggresome',\n",
    "25:  'Cytosol',\n",
    "26:  'Cytoplasmic bodies',   \n",
    "27:  'Rods & rings' }"
   ]
  },
  {
   "cell_type": "code",
   "execution_count": 6,
   "metadata": {},
   "outputs": [],
   "source": [
    "nw = 2   #number of workers for data loader\n",
    "# arch = resnet50 #specify target architecture"
   ]
  },
  {
   "cell_type": "code",
   "execution_count": 7,
   "metadata": {},
   "outputs": [],
   "source": [
    "# train_names_png = list({f[:36] for f in os.listdir(TRAIN) if 'png' in f})\n",
    "# train_names_jpg = []\n",
    "# for f in tqdm_notebook(os.listdir(TRAIN)):\n",
    "#     if 'png' in f:\n",
    "#         continue\n",
    "#     name = f.split('.')[0]\n",
    "#     name = name.split('_')\n",
    "#     if len(name) == 5:\n",
    "#         name = name[0]+'_'+name[1]+'_'+name[2]+'_'+name[3]\n",
    "#     else:\n",
    "#         name = name[0]+'_'+name[1]+'_'+name[2]+'_'+name[3]+'_'+name[4]\n",
    "#     if name not in train_names_jpg:\n",
    "#         train_names_jpg.append(name)\n",
    "\n",
    "# train_names = train_names_png + train_names_jpg\n",
    "# test_names = list({f[:36] for f in os.listdir(TEST)})\n",
    "\n",
    "\n",
    "# tr_n, val_n = train_test_split(train_names, test_size=0.1, random_state=42)"
   ]
  },
  {
   "cell_type": "code",
   "execution_count": 8,
   "metadata": {},
   "outputs": [
    {
     "name": "stdout",
     "output_type": "stream",
     "text": [
      "105678\n"
     ]
    }
   ],
   "source": [
    "import pickle\n",
    "with open('../cache/train_names', 'rb') as f:\n",
    "    train_names = pickle.load(f)\n",
    "print(len(train_names))\n",
    "test_names = list({f[:36] for f in os.listdir(TEST)})\n",
    "tr_n, val_n = train_test_split(train_names, test_size=0.1, random_state=42)"
   ]
  },
  {
   "cell_type": "code",
   "execution_count": 9,
   "metadata": {},
   "outputs": [],
   "source": [
    "# import pickle\n",
    "# with open('../cache/train_names', 'wb') as f:\n",
    "#     pickle.dump(train_names, f)\n",
    "# with open('../cache/train_names_png1', 'wb') as f:\n",
    "#     pickle.dump(train_names_png, f)\n",
    "# with open('../cache/train_names_png2', 'wb') as f:\n",
    "#     pickle.dump(train_names_jpg, f)"
   ]
  },
  {
   "cell_type": "code",
   "execution_count": 10,
   "metadata": {},
   "outputs": [],
   "source": [
    "# len(train_names), len(train_names_jpg), len(train_names_png)\n",
    "# (105678, 74606, 31072)"
   ]
  },
  {
   "cell_type": "code",
   "execution_count": 11,
   "metadata": {},
   "outputs": [],
   "source": [
    "def open_rgby(path,id): #a function that reads RGBY image\n",
    "#     colors = ['red','green','blue','yellow']\n",
    "    colors = ['red','green','blue']\n",
    "    flags = cv2.IMREAD_GRAYSCALE\n",
    "    img = [cv2.imread(os.path.join(path, id+'_'+color+'.png'), flags).astype(np.float32)/255\n",
    "           for color in colors]\n",
    "    return np.stack(img, axis=-1)"
   ]
  },
  {
   "cell_type": "code",
   "execution_count": 12,
   "metadata": {},
   "outputs": [],
   "source": [
    "# ??FilesDataset"
   ]
  },
  {
   "cell_type": "code",
   "execution_count": 13,
   "metadata": {},
   "outputs": [],
   "source": [
    "class pdFilesDataset(FilesDataset):\n",
    "    def __init__(self, fnames, path, transform):\n",
    "        self.labels = pd.read_csv(LABELS).set_index('Id')\n",
    "        self.labels['Target'] = [[int(i) for i in s.split()] for s in self.labels['Target']]\n",
    "#         print(fnames)\n",
    "        super().__init__(fnames, transform, path)\n",
    "    \n",
    "    def get_x(self, i):\n",
    "        img = open_rgby(self.path,self.fnames[i])\n",
    "        if self.sz == 512: return img \n",
    "        else: return cv2.resize(img, (self.sz, self.sz),cv2.INTER_AREA)\n",
    "    \n",
    "    def get_y(self, i):\n",
    "        if(self.path == TEST): return np.zeros(len(name_label_dict),dtype=np.int)\n",
    "        else:\n",
    "            labels = self.labels.loc[self.fnames[i]]['Target']\n",
    "            return np.eye(len(name_label_dict),dtype=np.float)[labels].sum(axis=0)\n",
    "        \n",
    "    @property\n",
    "    def is_multi(self): return True\n",
    "    @property\n",
    "    def is_reg(self):return True\n",
    "    #this flag is set to remove the output sigmoid that allows log(sigmoid) optimization\n",
    "    #of the numerical stability of the loss function\n",
    "    \n",
    "    def get_c(self): return len(name_label_dict) #number of classes"
   ]
  },
  {
   "cell_type": "code",
   "execution_count": 14,
   "metadata": {},
   "outputs": [],
   "source": [
    "# ??tfms_from_stats\n",
    "path_to_train = '../data/train_combined'\n",
    "data = pd.read_csv('../data/train_combined_all.csv')"
   ]
  },
  {
   "cell_type": "code",
   "execution_count": 15,
   "metadata": {},
   "outputs": [],
   "source": [
    "def get_data(sz,bs):\n",
    "    #data augmentation\n",
    "    aug_tfms = [RandomRotate(30, tfm_y=TfmType.NO),\n",
    "                RandomDihedral(tfm_y=TfmType.NO),\n",
    "                RandomLighting(0.05, 0.05, tfm_y=TfmType.NO)]\n",
    "    #mean and std in of each channel in the train set\n",
    "#     stats = A([0.08069, 0.05258, 0.05487, 0.08282], [0.13704, 0.10145, 0.15313, 0.13814])\n",
    "#     stats = A([0.08069, 0.05258, 0.05487], [0.13704, 0.10145, 0.15313])\n",
    "    stats = A([0.0751 , 0.05909, 0.04364], [0.11428, 0.09856, 0.09925])\n",
    "    tfms = tfms_from_stats(stats, sz, crop_type=CropType.NO, tfm_y=TfmType.NO, \n",
    "                aug_tfms=aug_tfms)\n",
    "    ds = ImageData.get_ds(pdFilesDataset, (tr_n[:-(len(tr_n)%bs)],TRAIN), \n",
    "                (val_n,TRAIN), tfms, test=(test_names,TEST))\n",
    "    md = ImageData(PATH, ds, bs, num_workers=nw, classes=None)\n",
    "    return md"
   ]
  },
  {
   "cell_type": "code",
   "execution_count": 16,
   "metadata": {},
   "outputs": [],
   "source": [
    "# bs = 16\n",
    "# sz = 512\n",
    "# md = get_data(sz,bs)"
   ]
  },
  {
   "cell_type": "code",
   "execution_count": 17,
   "metadata": {},
   "outputs": [],
   "source": [
    "# ??md.trn_ds.denorm"
   ]
  },
  {
   "cell_type": "code",
   "execution_count": 18,
   "metadata": {},
   "outputs": [],
   "source": [
    "class FocalLoss(nn.Module):\n",
    "    def __init__(self, gamma=2):\n",
    "        super().__init__()\n",
    "        self.gamma = gamma\n",
    "        \n",
    "    def forward(self, input, target):\n",
    "        if not (target.size() == input.size()):\n",
    "            raise ValueError(\"Target size ({}) must be the same as input size ({})\"\n",
    "                             .format(target.size(), input.size()))\n",
    "\n",
    "        max_val = (-input).clamp(min=0)\n",
    "        loss = input - input * target + max_val + \\\n",
    "            ((-max_val).exp() + (-input - max_val).exp()).log()\n",
    "\n",
    "        invprobs = F.logsigmoid(-input * (target * 2.0 - 1.0))\n",
    "        loss = (invprobs * self.gamma).exp() * loss\n",
    "        \n",
    "        return loss.sum(dim=1).mean()"
   ]
  },
  {
   "cell_type": "code",
   "execution_count": 19,
   "metadata": {},
   "outputs": [],
   "source": [
    "def acc(preds,targs,th=0.0):\n",
    "    preds = (preds > th).int()\n",
    "    targs = targs.int()\n",
    "    return (preds==targs).float().mean()"
   ]
  },
  {
   "cell_type": "code",
   "execution_count": 20,
   "metadata": {},
   "outputs": [],
   "source": [
    "# def create_model(input_shape, n_out):\n",
    "#     in_lay = Input(input_shape)\n",
    "#     base_pretrained_model = ResNet50(input_shape =  input_shape, include_top = False, weights = 'imagenet')\n",
    "#     base_pretrained_model.trainable = False\n",
    "#     pt_depth = base_pretrained_model.get_output_shape_at(0)[-1]\n",
    "#     pt_features = base_pretrained_model(in_lay)\n",
    "#     from keras.layers import BatchNormalization\n",
    "#     bn_features = BatchNormalization()(pt_features)\n",
    "\n",
    "#     # here we do an attention mechanism to turn pixels in the GAP on an off\n",
    "\n",
    "#     attn_layer = Conv2D(64, kernel_size = (1,1), padding = 'same', activation = 'relu')(Dropout(0.5)(bn_features))\n",
    "#     attn_layer = Conv2D(16, kernel_size = (1,1), padding = 'same', activation = 'relu')(attn_layer)\n",
    "#     attn_layer = Conv2D(8, kernel_size = (1,1), padding = 'same', activation = 'relu')(attn_layer)\n",
    "#     attn_layer = Conv2D(1, kernel_size = (1,1), padding = 'valid', activation = 'sigmoid')(attn_layer)\n",
    "#     # fan it out to all of the channels\n",
    "#     up_c2_w = np.ones((1, 1, 1, pt_depth))\n",
    "#     up_c2 = Conv2D(pt_depth, kernel_size = (1,1), padding = 'same', \n",
    "#                    activation = 'linear', use_bias = False, weights = [up_c2_w])\n",
    "#     up_c2.trainable = False\n",
    "#     attn_layer = up_c2(attn_layer)\n",
    "\n",
    "#     mask_features = multiply([attn_layer, bn_features])\n",
    "#     gap_features = GlobalAveragePooling2D()(mask_features)\n",
    "#     gap_mask = GlobalAveragePooling2D()(attn_layer)\n",
    "#     # to account for missing values from the attention model\n",
    "#     gap = Lambda(lambda x: x[0]/x[1], name = 'RescaleGAP')([gap_features, gap_mask])\n",
    "#     gap_dr = Dropout(0.25)(gap)\n",
    "#     dr_steps = Dropout(0.25)(Dense(128, activation = 'relu')(gap_dr))\n",
    "#     out_layer = Dense(n_out, activation = 'sigmoid')(dr_steps)\n",
    "#     model = Model(inputs = [in_lay], outputs = [out_layer])\n",
    "    \n",
    "#     return model"
   ]
  },
  {
   "cell_type": "code",
   "execution_count": 21,
   "metadata": {},
   "outputs": [
    {
     "name": "stdout",
     "output_type": "stream",
     "text": [
      "h1\n",
      "<class 'fastai.conv_learner.ConvLearner'>\n",
      "<function fa_resnet50 at 0x7f793a111950>\n",
      "Inside Resnet\n",
      "h1-a\n"
     ]
    }
   ],
   "source": [
    "sz = 512 #image size\n",
    "bs = 16  #batch size\n",
    "\n",
    "md = get_data(sz,bs)\n",
    "arch = fa_resnet50\n",
    "learner = ConvLearner.pretrained(arch, md, ps=0.5) #dropout 50%\n",
    "learner.opt_fn = optim.Adam\n",
    "learner.clip = 1.0 #gradient clipping\n",
    "learner.crit = FocalLoss()\n",
    "learner.metrics = [acc]"
   ]
  },
  {
   "cell_type": "code",
   "execution_count": 22,
   "metadata": {},
   "outputs": [
    {
     "data": {
      "text/plain": [
       "Sequential(\n",
       "  (0): ResNet2(\n",
       "    (features): Sequential(\n",
       "      (0): Conv2d(3, 64, kernel_size=(7, 7), stride=(2, 2), padding=(3, 3), bias=False)\n",
       "      (1): BatchNorm2d(64, eps=1e-05, momentum=0.1, affine=True)\n",
       "      (2): ReLU(inplace)\n",
       "      (3): MaxPool2d(kernel_size=(3, 3), stride=(2, 2), padding=(1, 1), dilation=(1, 1), ceil_mode=False)\n",
       "      (4): Sequential(\n",
       "        (0): Bottleneck(\n",
       "          (conv1): Conv2d(64, 64, kernel_size=(1, 1), stride=(1, 1), bias=False)\n",
       "          (bn1): BatchNorm2d(64, eps=1e-05, momentum=0.1, affine=True)\n",
       "          (conv2): Conv2d(64, 64, kernel_size=(3, 3), stride=(1, 1), padding=(1, 1), bias=False)\n",
       "          (bn2): BatchNorm2d(64, eps=1e-05, momentum=0.1, affine=True)\n",
       "          (conv3): Conv2d(64, 256, kernel_size=(1, 1), stride=(1, 1), bias=False)\n",
       "          (bn3): BatchNorm2d(256, eps=1e-05, momentum=0.1, affine=True)\n",
       "          (relu): ReLU(inplace)\n",
       "          (downsample): Sequential(\n",
       "            (0): Conv2d(64, 256, kernel_size=(1, 1), stride=(1, 1), bias=False)\n",
       "            (1): BatchNorm2d(256, eps=1e-05, momentum=0.1, affine=True)\n",
       "          )\n",
       "        )\n",
       "        (1): Bottleneck(\n",
       "          (conv1): Conv2d(256, 64, kernel_size=(1, 1), stride=(1, 1), bias=False)\n",
       "          (bn1): BatchNorm2d(64, eps=1e-05, momentum=0.1, affine=True)\n",
       "          (conv2): Conv2d(64, 64, kernel_size=(3, 3), stride=(1, 1), padding=(1, 1), bias=False)\n",
       "          (bn2): BatchNorm2d(64, eps=1e-05, momentum=0.1, affine=True)\n",
       "          (conv3): Conv2d(64, 256, kernel_size=(1, 1), stride=(1, 1), bias=False)\n",
       "          (bn3): BatchNorm2d(256, eps=1e-05, momentum=0.1, affine=True)\n",
       "          (relu): ReLU(inplace)\n",
       "        )\n",
       "        (2): Bottleneck(\n",
       "          (conv1): Conv2d(256, 64, kernel_size=(1, 1), stride=(1, 1), bias=False)\n",
       "          (bn1): BatchNorm2d(64, eps=1e-05, momentum=0.1, affine=True)\n",
       "          (conv2): Conv2d(64, 64, kernel_size=(3, 3), stride=(1, 1), padding=(1, 1), bias=False)\n",
       "          (bn2): BatchNorm2d(64, eps=1e-05, momentum=0.1, affine=True)\n",
       "          (conv3): Conv2d(64, 256, kernel_size=(1, 1), stride=(1, 1), bias=False)\n",
       "          (bn3): BatchNorm2d(256, eps=1e-05, momentum=0.1, affine=True)\n",
       "          (relu): ReLU(inplace)\n",
       "        )\n",
       "      )\n",
       "      (5): Sequential(\n",
       "        (0): Bottleneck(\n",
       "          (conv1): Conv2d(256, 128, kernel_size=(1, 1), stride=(1, 1), bias=False)\n",
       "          (bn1): BatchNorm2d(128, eps=1e-05, momentum=0.1, affine=True)\n",
       "          (conv2): Conv2d(128, 128, kernel_size=(3, 3), stride=(2, 2), padding=(1, 1), bias=False)\n",
       "          (bn2): BatchNorm2d(128, eps=1e-05, momentum=0.1, affine=True)\n",
       "          (conv3): Conv2d(128, 512, kernel_size=(1, 1), stride=(1, 1), bias=False)\n",
       "          (bn3): BatchNorm2d(512, eps=1e-05, momentum=0.1, affine=True)\n",
       "          (relu): ReLU(inplace)\n",
       "          (downsample): Sequential(\n",
       "            (0): Conv2d(256, 512, kernel_size=(1, 1), stride=(2, 2), bias=False)\n",
       "            (1): BatchNorm2d(512, eps=1e-05, momentum=0.1, affine=True)\n",
       "          )\n",
       "        )\n",
       "        (1): Bottleneck(\n",
       "          (conv1): Conv2d(512, 128, kernel_size=(1, 1), stride=(1, 1), bias=False)\n",
       "          (bn1): BatchNorm2d(128, eps=1e-05, momentum=0.1, affine=True)\n",
       "          (conv2): Conv2d(128, 128, kernel_size=(3, 3), stride=(1, 1), padding=(1, 1), bias=False)\n",
       "          (bn2): BatchNorm2d(128, eps=1e-05, momentum=0.1, affine=True)\n",
       "          (conv3): Conv2d(128, 512, kernel_size=(1, 1), stride=(1, 1), bias=False)\n",
       "          (bn3): BatchNorm2d(512, eps=1e-05, momentum=0.1, affine=True)\n",
       "          (relu): ReLU(inplace)\n",
       "        )\n",
       "        (2): Bottleneck(\n",
       "          (conv1): Conv2d(512, 128, kernel_size=(1, 1), stride=(1, 1), bias=False)\n",
       "          (bn1): BatchNorm2d(128, eps=1e-05, momentum=0.1, affine=True)\n",
       "          (conv2): Conv2d(128, 128, kernel_size=(3, 3), stride=(1, 1), padding=(1, 1), bias=False)\n",
       "          (bn2): BatchNorm2d(128, eps=1e-05, momentum=0.1, affine=True)\n",
       "          (conv3): Conv2d(128, 512, kernel_size=(1, 1), stride=(1, 1), bias=False)\n",
       "          (bn3): BatchNorm2d(512, eps=1e-05, momentum=0.1, affine=True)\n",
       "          (relu): ReLU(inplace)\n",
       "        )\n",
       "        (3): Bottleneck(\n",
       "          (conv1): Conv2d(512, 128, kernel_size=(1, 1), stride=(1, 1), bias=False)\n",
       "          (bn1): BatchNorm2d(128, eps=1e-05, momentum=0.1, affine=True)\n",
       "          (conv2): Conv2d(128, 128, kernel_size=(3, 3), stride=(1, 1), padding=(1, 1), bias=False)\n",
       "          (bn2): BatchNorm2d(128, eps=1e-05, momentum=0.1, affine=True)\n",
       "          (conv3): Conv2d(128, 512, kernel_size=(1, 1), stride=(1, 1), bias=False)\n",
       "          (bn3): BatchNorm2d(512, eps=1e-05, momentum=0.1, affine=True)\n",
       "          (relu): ReLU(inplace)\n",
       "        )\n",
       "      )\n",
       "      (6): Sequential(\n",
       "        (0): Bottleneck(\n",
       "          (conv1): Conv2d(512, 256, kernel_size=(1, 1), stride=(1, 1), bias=False)\n",
       "          (bn1): BatchNorm2d(256, eps=1e-05, momentum=0.1, affine=True)\n",
       "          (conv2): Conv2d(256, 256, kernel_size=(3, 3), stride=(2, 2), padding=(1, 1), bias=False)\n",
       "          (bn2): BatchNorm2d(256, eps=1e-05, momentum=0.1, affine=True)\n",
       "          (conv3): Conv2d(256, 1024, kernel_size=(1, 1), stride=(1, 1), bias=False)\n",
       "          (bn3): BatchNorm2d(1024, eps=1e-05, momentum=0.1, affine=True)\n",
       "          (relu): ReLU(inplace)\n",
       "          (downsample): Sequential(\n",
       "            (0): Conv2d(512, 1024, kernel_size=(1, 1), stride=(2, 2), bias=False)\n",
       "            (1): BatchNorm2d(1024, eps=1e-05, momentum=0.1, affine=True)\n",
       "          )\n",
       "        )\n",
       "        (1): Bottleneck(\n",
       "          (conv1): Conv2d(1024, 256, kernel_size=(1, 1), stride=(1, 1), bias=False)\n",
       "          (bn1): BatchNorm2d(256, eps=1e-05, momentum=0.1, affine=True)\n",
       "          (conv2): Conv2d(256, 256, kernel_size=(3, 3), stride=(1, 1), padding=(1, 1), bias=False)\n",
       "          (bn2): BatchNorm2d(256, eps=1e-05, momentum=0.1, affine=True)\n",
       "          (conv3): Conv2d(256, 1024, kernel_size=(1, 1), stride=(1, 1), bias=False)\n",
       "          (bn3): BatchNorm2d(1024, eps=1e-05, momentum=0.1, affine=True)\n",
       "          (relu): ReLU(inplace)\n",
       "        )\n",
       "        (2): Bottleneck(\n",
       "          (conv1): Conv2d(1024, 256, kernel_size=(1, 1), stride=(1, 1), bias=False)\n",
       "          (bn1): BatchNorm2d(256, eps=1e-05, momentum=0.1, affine=True)\n",
       "          (conv2): Conv2d(256, 256, kernel_size=(3, 3), stride=(1, 1), padding=(1, 1), bias=False)\n",
       "          (bn2): BatchNorm2d(256, eps=1e-05, momentum=0.1, affine=True)\n",
       "          (conv3): Conv2d(256, 1024, kernel_size=(1, 1), stride=(1, 1), bias=False)\n",
       "          (bn3): BatchNorm2d(1024, eps=1e-05, momentum=0.1, affine=True)\n",
       "          (relu): ReLU(inplace)\n",
       "        )\n",
       "        (3): Bottleneck(\n",
       "          (conv1): Conv2d(1024, 256, kernel_size=(1, 1), stride=(1, 1), bias=False)\n",
       "          (bn1): BatchNorm2d(256, eps=1e-05, momentum=0.1, affine=True)\n",
       "          (conv2): Conv2d(256, 256, kernel_size=(3, 3), stride=(1, 1), padding=(1, 1), bias=False)\n",
       "          (bn2): BatchNorm2d(256, eps=1e-05, momentum=0.1, affine=True)\n",
       "          (conv3): Conv2d(256, 1024, kernel_size=(1, 1), stride=(1, 1), bias=False)\n",
       "          (bn3): BatchNorm2d(1024, eps=1e-05, momentum=0.1, affine=True)\n",
       "          (relu): ReLU(inplace)\n",
       "        )\n",
       "        (4): Bottleneck(\n",
       "          (conv1): Conv2d(1024, 256, kernel_size=(1, 1), stride=(1, 1), bias=False)\n",
       "          (bn1): BatchNorm2d(256, eps=1e-05, momentum=0.1, affine=True)\n",
       "          (conv2): Conv2d(256, 256, kernel_size=(3, 3), stride=(1, 1), padding=(1, 1), bias=False)\n",
       "          (bn2): BatchNorm2d(256, eps=1e-05, momentum=0.1, affine=True)\n",
       "          (conv3): Conv2d(256, 1024, kernel_size=(1, 1), stride=(1, 1), bias=False)\n",
       "          (bn3): BatchNorm2d(1024, eps=1e-05, momentum=0.1, affine=True)\n",
       "          (relu): ReLU(inplace)\n",
       "        )\n",
       "        (5): Bottleneck(\n",
       "          (conv1): Conv2d(1024, 256, kernel_size=(1, 1), stride=(1, 1), bias=False)\n",
       "          (bn1): BatchNorm2d(256, eps=1e-05, momentum=0.1, affine=True)\n",
       "          (conv2): Conv2d(256, 256, kernel_size=(3, 3), stride=(1, 1), padding=(1, 1), bias=False)\n",
       "          (bn2): BatchNorm2d(256, eps=1e-05, momentum=0.1, affine=True)\n",
       "          (conv3): Conv2d(256, 1024, kernel_size=(1, 1), stride=(1, 1), bias=False)\n",
       "          (bn3): BatchNorm2d(1024, eps=1e-05, momentum=0.1, affine=True)\n",
       "          (relu): ReLU(inplace)\n",
       "        )\n",
       "      )\n",
       "      (7): Sequential(\n",
       "        (0): Bottleneck2(\n",
       "          (conv1): Conv2d(1024, 512, kernel_size=(1, 1), stride=(1, 1), bias=False)\n",
       "          (bn1): BatchNorm2d(512, eps=1e-05, momentum=0.1, affine=True)\n",
       "          (conv2): Conv2d(512, 512, kernel_size=(3, 3), stride=(2, 2), padding=(1, 1), bias=False)\n",
       "          (bn2): BatchNorm2d(512, eps=1e-05, momentum=0.1, affine=True)\n",
       "          (conv3): Conv2d(512, 2048, kernel_size=(1, 1), stride=(1, 1), bias=False)\n",
       "          (bn3): BatchNorm2d(2048, eps=1e-05, momentum=0.1, affine=True)\n",
       "          (relu): ReLU(inplace)\n",
       "          (calayer): CALayer(\n",
       "            (avg_pool): AdaptiveAvgPool2d(output_size=1)\n",
       "            (conv_du): Sequential(\n",
       "              (0): Conv2d(2048, 128, kernel_size=(1, 1), stride=(1, 1))\n",
       "              (1): ReLU(inplace)\n",
       "              (2): Conv2d(128, 2048, kernel_size=(1, 1), stride=(1, 1))\n",
       "              (3): Sigmoid()\n",
       "            )\n",
       "          )\n",
       "          (downsample): Sequential(\n",
       "            (0): Conv2d(1024, 2048, kernel_size=(1, 1), stride=(2, 2), bias=False)\n",
       "            (1): BatchNorm2d(2048, eps=1e-05, momentum=0.1, affine=True)\n",
       "          )\n",
       "        )\n",
       "        (1): Bottleneck2(\n",
       "          (conv1): Conv2d(2048, 512, kernel_size=(1, 1), stride=(1, 1), bias=False)\n",
       "          (bn1): BatchNorm2d(512, eps=1e-05, momentum=0.1, affine=True)\n",
       "          (conv2): Conv2d(512, 512, kernel_size=(3, 3), stride=(1, 1), padding=(1, 1), bias=False)\n",
       "          (bn2): BatchNorm2d(512, eps=1e-05, momentum=0.1, affine=True)\n",
       "          (conv3): Conv2d(512, 2048, kernel_size=(1, 1), stride=(1, 1), bias=False)\n",
       "          (bn3): BatchNorm2d(2048, eps=1e-05, momentum=0.1, affine=True)\n",
       "          (relu): ReLU(inplace)\n",
       "          (calayer): CALayer(\n",
       "            (avg_pool): AdaptiveAvgPool2d(output_size=1)\n",
       "            (conv_du): Sequential(\n",
       "              (0): Conv2d(2048, 128, kernel_size=(1, 1), stride=(1, 1))\n",
       "              (1): ReLU(inplace)\n",
       "              (2): Conv2d(128, 2048, kernel_size=(1, 1), stride=(1, 1))\n",
       "              (3): Sigmoid()\n",
       "            )\n",
       "          )\n",
       "        )\n",
       "        (2): Bottleneck2(\n",
       "          (conv1): Conv2d(2048, 512, kernel_size=(1, 1), stride=(1, 1), bias=False)\n",
       "          (bn1): BatchNorm2d(512, eps=1e-05, momentum=0.1, affine=True)\n",
       "          (conv2): Conv2d(512, 512, kernel_size=(3, 3), stride=(1, 1), padding=(1, 1), bias=False)\n",
       "          (bn2): BatchNorm2d(512, eps=1e-05, momentum=0.1, affine=True)\n",
       "          (conv3): Conv2d(512, 2048, kernel_size=(1, 1), stride=(1, 1), bias=False)\n",
       "          (bn3): BatchNorm2d(2048, eps=1e-05, momentum=0.1, affine=True)\n",
       "          (relu): ReLU(inplace)\n",
       "          (calayer): CALayer(\n",
       "            (avg_pool): AdaptiveAvgPool2d(output_size=1)\n",
       "            (conv_du): Sequential(\n",
       "              (0): Conv2d(2048, 128, kernel_size=(1, 1), stride=(1, 1))\n",
       "              (1): ReLU(inplace)\n",
       "              (2): Conv2d(128, 2048, kernel_size=(1, 1), stride=(1, 1))\n",
       "              (3): Sigmoid()\n",
       "            )\n",
       "          )\n",
       "        )\n",
       "      )\n",
       "    )\n",
       "  )\n",
       "  (1): AdaptiveConcatPool2d(\n",
       "    (ap): AdaptiveAvgPool2d(output_size=(1, 1))\n",
       "    (mp): AdaptiveMaxPool2d(output_size=(1, 1))\n",
       "  )\n",
       "  (2): Flatten(\n",
       "  )\n",
       "  (3): BatchNorm1d(4096, eps=1e-05, momentum=0.1, affine=True)\n",
       "  (4): Dropout(p=0.5)\n",
       "  (5): Linear(in_features=4096, out_features=512, bias=True)\n",
       "  (6): ReLU()\n",
       "  (7): BatchNorm1d(512, eps=1e-05, momentum=0.1, affine=True)\n",
       "  (8): Dropout(p=0.5)\n",
       "  (9): Linear(in_features=512, out_features=28, bias=True)\n",
       ")"
      ]
     },
     "execution_count": 22,
     "metadata": {},
     "output_type": "execute_result"
    }
   ],
   "source": [
    "learner.model"
   ]
  },
  {
   "cell_type": "code",
   "execution_count": 24,
   "metadata": {},
   "outputs": [
    {
     "data": {
      "application/vnd.jupyter.widget-view+json": {
       "model_id": "4fc03571dc6a4ff6917c30eedffe6950",
       "version_major": 2,
       "version_minor": 0
      },
      "text/plain": [
       "HBox(children=(IntProgress(value=0, description='Epoch', max=1), HTML(value='')))"
      ]
     },
     "metadata": {},
     "output_type": "display_data"
    },
    {
     "name": "stdout",
     "output_type": "stream",
     "text": [
      " 67%|██████▋   | 4007/5944 [21:58<10:37,  3.04it/s, loss=5.16]"
     ]
    },
    {
     "data": {
      "image/png": "[encoded data removed]",
      "text/plain": [
       "<matplotlib.figure.Figure at 0x7f7932eb98d0>"
      ]
     },
     "metadata": {},
     "output_type": "display_data"
    }
   ],
   "source": [
    "learner.lr_find()\n",
    "learner.sched.plot()"
   ]
  },
  {
   "cell_type": "code",
   "execution_count": 23,
   "metadata": {
    "scrolled": true
   },
   "outputs": [
    {
     "data": {
      "application/vnd.jupyter.widget-view+json": {
       "model_id": "522449f665044779807415ed5fd77401",
       "version_major": 2,
       "version_minor": 0
      },
      "text/plain": [
       "HBox(children=(IntProgress(value=0, description='Epoch', max=1), HTML(value='')))"
      ]
     },
     "metadata": {},
     "output_type": "display_data"
    },
    {
     "name": "stdout",
     "output_type": "stream",
     "text": [
      " 67%|██████▋   | 3996/5944 [1:07:05<32:42,  1.01s/it, loss=5.12]"
     ]
    },
    {
     "data": {
      "image/png": "[encoded data removed]",
      "text/plain": [
       "<matplotlib.figure.Figure at 0x7f4635d22d30>"
      ]
     },
     "metadata": {},
     "output_type": "display_data"
    }
   ],
   "source": [
    "learner.lr_find()\n",
    "learner.sched.plot()"
   ]
  },
  {
   "cell_type": "code",
   "execution_count": 25,
   "metadata": {},
   "outputs": [
    {
     "data": {
      "application/vnd.jupyter.widget-view+json": {
       "model_id": "1f808c66e3e64fc9aa761df34b3d5b39",
       "version_major": 2,
       "version_minor": 0
      },
      "text/plain": [
       "HBox(children=(IntProgress(value=0, description='Epoch', max=1), HTML(value='')))"
      ]
     },
     "metadata": {},
     "output_type": "display_data"
    },
    {
     "name": "stdout",
     "output_type": "stream",
     "text": [
      "epoch      trn_loss   val_loss   acc                          \n",
      "    0      1.223835   1.182765   0.948304  \n"
     ]
    },
    {
     "data": {
      "text/plain": [
       "[array([1.18276]), 0.9483041798499928]"
      ]
     },
     "execution_count": 25,
     "metadata": {},
     "output_type": "execute_result"
    }
   ],
   "source": [
    "lr = 7.5e-4\n",
    "learner.fit(lr,1)"
   ]
  },
  {
   "cell_type": "code",
   "execution_count": 23,
   "metadata": {},
   "outputs": [
    {
     "data": {
      "application/vnd.jupyter.widget-view+json": {
       "model_id": "e3decd1c4b2843aab2e5747ac38171a7",
       "version_major": 2,
       "version_minor": 0
      },
      "text/plain": [
       "HBox(children=(IntProgress(value=0, description='Epoch', max=1), HTML(value='')))"
      ]
     },
     "metadata": {},
     "output_type": "display_data"
    },
    {
     "name": "stdout",
     "output_type": "stream",
     "text": [
      "epoch      trn_loss   val_loss   acc                            \n",
      "    0      1.234601   1.201479   0.946787  \n",
      "\n"
     ]
    },
    {
     "data": {
      "text/plain": [
       "[array([1.20148]), 0.9467867958013259]"
      ]
     },
     "execution_count": 23,
     "metadata": {},
     "output_type": "execute_result"
    }
   ],
   "source": [
    "lr = 7.5e-4\n",
    "learner.fit(lr,1)"
   ]
  },
  {
   "cell_type": "code",
   "execution_count": 24,
   "metadata": {},
   "outputs": [],
   "source": [
    "learner.save('ResNet50_512_50Mag-00')"
   ]
  },
  {
   "cell_type": "code",
   "execution_count": 23,
   "metadata": {},
   "outputs": [],
   "source": [
    "lr = 7.5e-4\n",
    "learner.load('ResNet50_512_50Mag-00')"
   ]
  },
  {
   "cell_type": "code",
   "execution_count": 24,
   "metadata": {},
   "outputs": [
    {
     "data": {
      "application/vnd.jupyter.widget-view+json": {
       "model_id": "a63fc88abc3d40839f313b0a0368e39e",
       "version_major": 2,
       "version_minor": 0
      },
      "text/plain": [
       "HBox(children=(IntProgress(value=0, description='Epoch', max=1), HTML(value='')))"
      ]
     },
     "metadata": {},
     "output_type": "display_data"
    },
    {
     "name": "stdout",
     "output_type": "stream",
     "text": [
      "epoch      trn_loss   val_loss   acc                            \n",
      "    0      1.242476   1.209196   0.945378  \n"
     ]
    },
    {
     "data": {
      "text/plain": [
       "[array([1.2092]), 0.9453775535290391]"
      ]
     },
     "execution_count": 24,
     "metadata": {},
     "output_type": "execute_result"
    }
   ],
   "source": [
    "lr = 1e-3\n",
    "learner.fit(lr,1)\n",
    "# epoch      trn_loss   val_loss   acc                            \n",
    "#     0      1.242476   1.209196   0.945378  "
   ]
  },
  {
   "cell_type": "code",
   "execution_count": null,
   "metadata": {},
   "outputs": [],
   "source": [
    "learner.save('ResNet50_512_50Mag-01')"
   ]
  },
  {
   "cell_type": "code",
   "execution_count": null,
   "metadata": {},
   "outputs": [],
   "source": [
    "lr = 7e-3\n",
    "learner.fit(lr,1)"
   ]
  },
  {
   "cell_type": "code",
   "execution_count": null,
   "metadata": {},
   "outputs": [],
   "source": [
    "learner.save('ResNet50_512_50Mag-02')"
   ]
  },
  {
   "cell_type": "code",
   "execution_count": 24,
   "metadata": {},
   "outputs": [],
   "source": [
    "learner.unfreeze()\n",
    "lrs=np.array([lr/10,lr/3,lr])"
   ]
  },
  {
   "cell_type": "code",
   "execution_count": 25,
   "metadata": {},
   "outputs": [
    {
     "data": {
      "application/vnd.jupyter.widget-view+json": {
       "model_id": "726dde198a694149b5b787649bd65089",
       "version_major": 2,
       "version_minor": 0
      },
      "text/plain": [
       "HBox(children=(IntProgress(value=0, description='Epoch', max=8), HTML(value='')))"
      ]
     },
     "metadata": {},
     "output_type": "display_data"
    },
    {
     "name": "stdout",
     "output_type": "stream",
     "text": [
      "epoch      trn_loss   val_loss   acc                             \n",
      "    0      1.012164   0.994185   0.957206  \n",
      "    1      0.946844   0.903883   0.960927                        \n",
      "    2      0.875986   0.854735   0.962758                        \n",
      "    3      0.849915   0.788274   0.965479                        \n",
      "    4      0.806538   0.767144   0.966641                        \n",
      "    5      0.789737   0.733082   0.967554                        \n",
      "    6      0.755561   0.745572   0.96681                         \n",
      "    7      0.742879   0.709195   0.969149                        \n",
      "\n"
     ]
    },
    {
     "data": {
      "text/plain": [
       "[array([0.70919]), 0.9691487784010275]"
      ]
     },
     "execution_count": 25,
     "metadata": {},
     "output_type": "execute_result"
    }
   ],
   "source": [
    "learner.fit(lrs/4,4,cycle_len=2,use_clr=(10,20))"
   ]
  },
  {
   "cell_type": "code",
   "execution_count": 26,
   "metadata": {},
   "outputs": [],
   "source": [
    "learner.save('ResNet50_512_50Mag-a')"
   ]
  },
  {
   "cell_type": "code",
   "execution_count": 27,
   "metadata": {},
   "outputs": [
    {
     "data": {
      "application/vnd.jupyter.widget-view+json": {
       "model_id": "c68759dafad04b39b7332cb5ffd75bfd",
       "version_major": 2,
       "version_minor": 0
      },
      "text/plain": [
       "HBox(children=(IntProgress(value=0, description='Epoch', max=8), HTML(value='')))"
      ]
     },
     "metadata": {},
     "output_type": "display_data"
    },
    {
     "name": "stdout",
     "output_type": "stream",
     "text": [
      "epoch      trn_loss   val_loss   acc                             \n",
      "    0      0.780994   0.723269   0.96824   \n",
      "    1      0.766151   0.697605   0.969673                        \n",
      "    2      0.741449   0.682612   0.970183                        \n",
      "    3      0.726764   0.669987   0.970551                        \n",
      "    4      0.729988   0.707415   0.969095                        \n",
      "    5      0.709365   0.696948   0.969203                        \n",
      "    6      0.713025   0.672778   0.970453                        \n",
      "    7      0.666186   0.652166   0.9714                          \n",
      "\n"
     ]
    },
    {
     "data": {
      "text/plain": [
       "[array([0.65217]), 0.9713995085802157]"
      ]
     },
     "execution_count": 27,
     "metadata": {},
     "output_type": "execute_result"
    }
   ],
   "source": [
    "learner.fit(lrs/4,2,cycle_len=4,use_clr=(10,20))"
   ]
  },
  {
   "cell_type": "code",
   "execution_count": 28,
   "metadata": {},
   "outputs": [],
   "source": [
    "learner.save('ResNet50_512_50Mag-b')"
   ]
  },
  {
   "cell_type": "code",
   "execution_count": 29,
   "metadata": {},
   "outputs": [
    {
     "data": {
      "application/vnd.jupyter.widget-view+json": {
       "model_id": "f4eaaee3610f481894522a77888e0b03",
       "version_major": 2,
       "version_minor": 0
      },
      "text/plain": [
       "HBox(children=(IntProgress(value=0, description='Epoch', max=8), HTML(value='')))"
      ]
     },
     "metadata": {},
     "output_type": "display_data"
    },
    {
     "name": "stdout",
     "output_type": "stream",
     "text": [
      "epoch      trn_loss   val_loss   acc                             \n",
      "    0      0.667237   0.658097   0.971146  \n",
      "    1      0.697092   0.650648   0.971484                        \n",
      "    2      0.702932   0.652345   0.971562                        \n",
      "    3      0.651488   0.644762   0.971619                        \n",
      "    4      0.642389   0.642365   0.971876                        \n",
      "    5      0.694722   0.640814   0.971974                        \n",
      "    6      0.670543   0.638931   0.971964                        \n",
      "    7      0.655936   0.634701   0.972129                        \n",
      "\n"
     ]
    },
    {
     "data": {
      "text/plain": [
       "[array([0.6347]), 0.9721294750687212]"
      ]
     },
     "execution_count": 29,
     "metadata": {},
     "output_type": "execute_result"
    }
   ],
   "source": [
    "learner.fit(lrs/16,1,cycle_len=8,use_clr=(5,20))"
   ]
  },
  {
   "cell_type": "code",
   "execution_count": 30,
   "metadata": {},
   "outputs": [],
   "source": [
    "learner.save('ResNet50_512_50Mag')"
   ]
  },
  {
   "cell_type": "code",
   "execution_count": 31,
   "metadata": {},
   "outputs": [],
   "source": [
    "# ??learner.TTA"
   ]
  },
  {
   "cell_type": "code",
   "execution_count": 32,
   "metadata": {},
   "outputs": [],
   "source": [
    "def sigmoid_np(x):\n",
    "    return 1.0/(1.0 + np.exp(-x))"
   ]
  },
  {
   "cell_type": "code",
   "execution_count": 33,
   "metadata": {},
   "outputs": [
    {
     "name": "stdout",
     "output_type": "stream",
     "text": [
      "                                                \r"
     ]
    }
   ],
   "source": [
    "\n",
    "\n",
    "preds,y = learner.TTA(n_aug=16)\n",
    "preds = np.stack(preds, axis=-1)\n",
    "preds = sigmoid_np(preds)\n",
    "pred = preds.max(axis=-1)"
   ]
  },
  {
   "cell_type": "code",
   "execution_count": 34,
   "metadata": {},
   "outputs": [],
   "source": [
    "def F1_soft(preds,targs,th=0.5,d=50.0):\n",
    "    preds = sigmoid_np(d*(preds - th))\n",
    "    targs = targs.astype(np.float)\n",
    "    score = 2.0*(preds*targs).sum(axis=0)/((preds+targs).sum(axis=0) + 1e-6)\n",
    "    return score\n",
    "\n",
    "def fit_val(x,y):\n",
    "    params = 0.5*np.ones(len(name_label_dict))\n",
    "    wd = 1e-5\n",
    "    error = lambda p: np.concatenate((F1_soft(x,y,p) - 1.0,\n",
    "                                      wd*(p - 0.5)), axis=None)\n",
    "    p, success = opt.leastsq(error, params)\n",
    "    return p"
   ]
  },
  {
   "cell_type": "code",
   "execution_count": 35,
   "metadata": {},
   "outputs": [
    {
     "name": "stderr",
     "output_type": "stream",
     "text": [
      "/home/watts/anaconda3/envs/fastai0_7/lib/python3.6/site-packages/scipy/optimize/minpack.py:427: RuntimeWarning: Number of calls to function has reached maxfev = 5800.\n",
      "  warnings.warn(errors[info][0], RuntimeWarning)\n",
      "/home/watts/anaconda3/envs/fastai0_7/lib/python3.6/site-packages/sklearn/metrics/classification.py:1143: UndefinedMetricWarning: F-score is ill-defined and being set to 0.0 in labels with no predicted samples.\n",
      "  'precision', 'predicted', average, warn_for)\n"
     ]
    },
    {
     "name": "stdout",
     "output_type": "stream",
     "text": [
      "Thresholds:  [0.52129 0.50687 0.54792 0.47941 0.50406 0.48965 0.50955 0.50707 0.48554 0.4871  0.45765 0.52192 0.47079\n",
      " 0.47384 0.55348 0.35228 0.39894 0.3377  0.41558 0.48386 0.35234 0.45673 0.45088 0.53006 0.47087 0.51099\n",
      " 0.39859 0.1    ]\n",
      "F1 macro:  0.5511663329681807\n",
      "F1 macro (th = 0.5):  0.5157239855807585\n",
      "F1 micro:  0.705000295176811\n"
     ]
    }
   ],
   "source": [
    "th = fit_val(pred,y)\n",
    "th[th<0.1] = 0.1\n",
    "print('Thresholds: ',th)\n",
    "print('F1 macro: ',f1_score(y, pred>th, average='macro'))\n",
    "print('F1 macro (th = 0.5): ',f1_score(y, pred>0.5, average='macro'))\n",
    "print('F1 micro: ',f1_score(y, pred>th, average='micro'))"
   ]
  },
  {
   "cell_type": "code",
   "execution_count": 36,
   "metadata": {},
   "outputs": [
    {
     "name": "stdout",
     "output_type": "stream",
     "text": [
      "                                                \r"
     ]
    }
   ],
   "source": [
    "preds_t,y_t = learner.TTA(n_aug=16,is_test=True)\n",
    "preds_t = np.stack(preds_t, axis=-1)\n",
    "preds_t = sigmoid_np(preds_t)\n",
    "pred_t = preds_t.max(axis=-1) #max works better for F1 macro score"
   ]
  },
  {
   "cell_type": "code",
   "execution_count": 37,
   "metadata": {},
   "outputs": [],
   "source": [
    "np.save('../cache/preds_t_50_mag', pred_t)"
   ]
  },
  {
   "cell_type": "code",
   "execution_count": 38,
   "metadata": {},
   "outputs": [],
   "source": [
    "def save_pred(pred, th=0.5, fname='../submissions/sub50-max.csv'):\n",
    "    pred_list = []\n",
    "    for line in pred:\n",
    "        s = ' '.join(list([str(i) for i in np.nonzero(line>th)[0]]))\n",
    "        pred_list.append(s)\n",
    "        \n",
    "    sample_df = pd.read_csv(SAMPLE)\n",
    "    sample_list = list(sample_df.Id)\n",
    "    pred_dic = dict((key, value) for (key, value) \n",
    "                in zip(learner.data.test_ds.fnames,pred_list))\n",
    "    pred_list_cor = [pred_dic[id] for id in sample_list]\n",
    "    df = pd.DataFrame({'Id':sample_list,'Predicted':pred_list_cor})\n",
    "    df.to_csv(fname, header=True, index=False)"
   ]
  },
  {
   "cell_type": "code",
   "execution_count": 39,
   "metadata": {},
   "outputs": [
    {
     "name": "stdout",
     "output_type": "stream",
     "text": [
      "Fractions:  [0.40984 0.05888 0.08785 0.08229 0.10152 0.1128  0.09315 0.09904 0.00239 0.00068 0.00137 0.04375 0.05358\n",
      " 0.02299 0.04461 0.      0.0423  0.0141  0.02717 0.08127 0.00709 0.09947 0.04025 0.11844 0.01376 0.29542\n",
      " 0.03264 0.12921]\n"
     ]
    }
   ],
   "source": [
    "th_t = np.array([0.565,0.39,0.55,0.345,0.33,0.39,0.33,0.45,0.38,0.39,\n",
    "               0.34,0.42,0.31,0.38,0.49,0.50,0.38,0.43,0.46,0.40,\n",
    "               0.39,0.505,0.37,0.47,0.41,0.545,0.32,0.1])\n",
    "print('Fractions: ',(pred_t > th_t).mean(axis=0))\n",
    "save_pred(pred_t,th_t)"
   ]
  },
  {
   "cell_type": "code",
   "execution_count": 40,
   "metadata": {},
   "outputs": [],
   "source": [
    "lb_prob = [\n",
    " 0.362397820,0.043841336,0.075268817,0.059322034,0.075268817,\n",
    " 0.075268817,0.043841336,0.075268817,0.010000000,0.010000000,\n",
    " 0.010000000,0.043841336,0.043841336,0.014198783,0.043841336,\n",
    " 0.010000000,0.028806584,0.014198783,0.028806584,0.059322034,\n",
    " 0.010000000,0.126126126,0.028806584,0.075268817,0.010000000,\n",
    " 0.222493880,0.028806584,0.010000000]"
   ]
  },
  {
   "cell_type": "code",
   "execution_count": 41,
   "metadata": {},
   "outputs": [],
   "source": [
    "def Count_soft(preds,th=0.5,d=50.0):\n",
    "    preds = sigmoid_np(d*(preds - th))\n",
    "    return preds.mean(axis=0)\n",
    "\n",
    "def fit_test(x,y):\n",
    "    params = 0.5*np.ones(len(name_label_dict))\n",
    "    wd = 1e-5\n",
    "    error = lambda p: np.concatenate((Count_soft(x,p) - y,\n",
    "                                      wd*(p - 0.5)), axis=None)\n",
    "    p, success = opt.leastsq(error, params)\n",
    "    return p"
   ]
  },
  {
   "cell_type": "code",
   "execution_count": 42,
   "metadata": {},
   "outputs": [
    {
     "name": "stdout",
     "output_type": "stream",
     "text": [
      "Thresholds:  [0.59885 0.4963  0.59481 0.4069  0.39262 0.45978 0.42362 0.51118 0.22592 0.23109 0.21644 0.42783 0.34251\n",
      " 0.47264 0.49529 0.18916 0.42956 0.43374 0.45942 0.45669 0.36895 0.48023 0.42326 0.56977 0.48301 0.58152\n",
      " 0.34313 0.19662]\n",
      "Fractions:  [0.36079 0.04375 0.0746  0.05717 0.07281 0.0723  0.04145 0.07452 0.00803 0.00795 0.00769 0.0423  0.04076\n",
      " 0.01376 0.04401 0.00479 0.02735 0.0135  0.02735 0.05743 0.00949 0.12314 0.02735 0.074   0.01017 0.21962\n",
      " 0.02692 0.00299]\n",
      "Fractions (th = 0.5):  [0.5012  0.04341 0.10391 0.03709 0.04786 0.05982 0.02359 0.07751 0.00068 0.00034 0.00034 0.03162 0.01513\n",
      " 0.01273 0.0435  0.      0.01513 0.00743 0.0153  0.04427 0.00085 0.10426 0.01777 0.10502 0.0088  0.39617\n",
      " 0.00974 0.     ]\n"
     ]
    }
   ],
   "source": [
    "th_t = fit_test(pred_t,lb_prob)\n",
    "th_t[th_t<0.1] = 0.1\n",
    "print('Thresholds: ',th_t)\n",
    "print('Fractions: ',(pred_t > th_t).mean(axis=0))\n",
    "print('Fractions (th = 0.5): ',(pred_t > 0.5).mean(axis=0))"
   ]
  },
  {
   "cell_type": "code",
   "execution_count": 43,
   "metadata": {},
   "outputs": [],
   "source": [
    "save_pred(pred_t,th_t,'../submissions/sub50-mag-f.csv')"
   ]
  },
  {
   "cell_type": "code",
   "execution_count": 44,
   "metadata": {},
   "outputs": [],
   "source": [
    "save_pred(pred_t,th,'../submissions/sub50-mag-v.csv')\n",
    "save_pred(pred_t,0.5,'../submissions/sub50-mag-05.csv')"
   ]
  },
  {
   "cell_type": "code",
   "execution_count": 45,
   "metadata": {},
   "outputs": [],
   "source": [
    "# save_pred(pred_t,0.5,'../submissions/sub50-max-05.csv')\n",
    "save_pred(pred_t,0.49,'../submissions/sub50-mag-049.csv')\n",
    "save_pred(pred_t,0.51,'../submissions/sub50-mag-051.csv')\n",
    "save_pred(pred_t,0.45,'../submissions/sub50-mag-045.csv')\n",
    "save_pred(pred_t,0.40,'../submissions/sub50-mag-040.csv')\n",
    "save_pred(pred_t,0.35,'../submissions/sub50-mag-035.csv')\n",
    "save_pred(pred_t,0.30,'../submissions/sub50-mag-030.csv')\n",
    "save_pred(pred_t,0.25,'../submissions/sub50-mag-025.csv')"
   ]
  },
  {
   "cell_type": "code",
   "execution_count": 46,
   "metadata": {},
   "outputs": [],
   "source": [
    "class_list = [8,9,10,15,20,24,27]\n",
    "for i in class_list:\n",
    "    th_t[i] = th[i]\n",
    "save_pred(pred_t,th_t,'../submissions/sub50-mag-c.csv')"
   ]
  },
  {
   "cell_type": "code",
   "execution_count": 47,
   "metadata": {},
   "outputs": [
    {
     "data": {
      "text/plain": [
       "(array([40958.,  3072., 10871.,  3329.,  5130.,  5938.,  3725.,  9405.,   217.,   197.,   182.,  2194.,\n",
       "         2233.,  1458.,  2692.,    63.,  1290.,   446.,  1893.,  3672.,   438., 13809.,  2729., 10345.,\n",
       "          428., 37366.,   706.,   127.]),\n",
       " array([0.38757, 0.02907, 0.10287, 0.0315 , 0.04854, 0.05619, 0.03525, 0.089  , 0.00205, 0.00186, 0.00172,\n",
       "        0.02076, 0.02113, 0.0138 , 0.02547, 0.0006 , 0.01221, 0.00422, 0.01791, 0.03475, 0.00414, 0.13067,\n",
       "        0.02582, 0.09789, 0.00405, 0.35358, 0.00668, 0.0012 ]))"
      ]
     },
     "execution_count": 47,
     "metadata": {},
     "output_type": "execute_result"
    }
   ],
   "source": [
    "labels = pd.read_csv(LABELS).set_index('Id')\n",
    "label_count = np.zeros(len(name_label_dict))\n",
    "for label in labels['Target']:\n",
    "    l = [int(i) for i in label.split()]\n",
    "    label_count += np.eye(len(name_label_dict))[l].sum(axis=0)\n",
    "label_fraction = label_count.astype(np.float)/len(labels)\n",
    "label_count, label_fraction"
   ]
  },
  {
   "cell_type": "code",
   "execution_count": 48,
   "metadata": {},
   "outputs": [
    {
     "name": "stdout",
     "output_type": "stream",
     "text": [
      "Thresholds:  [0.58086 0.64618 0.50658 0.54496 0.49852 0.51569 0.45057 0.47587 0.39696 0.35036 0.33563 0.59832 0.45072\n",
      " 0.47974 0.67713 0.27879 0.53363 0.54818 0.49364 0.5401  0.42934 0.47575 0.44018 0.51709 0.66221 0.51869\n",
      " 0.54346 0.24951]\n",
      "Fractions:  [0.38908 0.02914 0.10178 0.03128 0.04837 0.05538 0.03307 0.08751 0.00231 0.00162 0.00145 0.02008 0.02068\n",
      " 0.01359 0.02589 0.00026 0.01213 0.00376 0.01675 0.0341  0.00325 0.12699 0.02478 0.09827 0.00393 0.35122\n",
      " 0.00641 0.00009]\n"
     ]
    }
   ],
   "source": [
    "th_t = fit_test(pred_t,label_fraction)\n",
    "th_t[th_t<0.05] = 0.05\n",
    "print('Thresholds: ',th_t)\n",
    "print('Fractions: ',(pred_t > th_t).mean(axis=0))\n",
    "save_pred(pred_t,th_t,'../submissions/sub50-mag-t.csv')"
   ]
  },
  {
   "cell_type": "code",
   "execution_count": 50,
   "metadata": {},
   "outputs": [
    {
     "name": "stdout",
     "output_type": "stream",
     "text": [
      "100%|████████████████████████████████████████| 472k/472k [00:04<00:00, 99.4kB/s]\n",
      "Successfully submitted to Human Protein Atlas Image ClassificationfileName             date                 description  status    publicScore  privateScore  \n",
      "-------------------  -------------------  -----------  --------  -----------  ------------  \n",
      "sub50-mag-05.csv     2018-12-29 06:10:25               complete  0.445        None          \n",
      "sub_43max_test5.csv  2018-12-24 15:30:31               complete  0.568        None          \n",
      "sub_43max_test4.csv  2018-12-24 15:27:46               complete  0.475        None          \n",
      "sub_43max_test3.csv  2018-12-24 15:22:17               complete  0.101        None          \n",
      "sub_43max_test2.csv  2018-12-24 15:18:02               complete  0.088        None          \n",
      "sub_43max_test1.csv  2018-12-24 14:32:34               complete  0.110        None          \n",
      "sub58-max-a.csv      2018-12-22 21:48:49               complete  0.446        None          \n",
      "sub57-max-e.csv      2018-12-22 02:08:14               complete  0.075        None          \n",
      "sub57-max-d.csv      2018-12-22 01:57:31               complete  0.464        None          \n",
      "sub57-max-c.csv      2018-12-22 01:47:16               complete  0.463        None          \n",
      "sub57-max-b.csv      2018-12-22 01:45:44               complete  0.456        None          \n",
      "sub57-max-a.csv      2018-12-21 23:46:32               complete  0.455        None          \n",
      "sub57-max.csv        2018-12-21 08:43:25               complete  0.000        None          \n",
      "sub50-max-055.csv    2018-12-18 20:29:16               complete  0.510        None          \n",
      "sub50-max-f.csv      2018-12-18 20:15:51               complete  0.513        None          \n",
      "sub50-max-f-1-l.csv  2018-12-18 16:40:56               complete  0.546        None          \n",
      "sub50-max-f-1.csv    2018-12-18 16:38:26               complete  0.525        None          \n",
      "sub50-max-f-1.csv    2018-12-18 15:53:31               complete  0.061        None          \n",
      "sub55-max-045-l.csv  2018-12-17 20:34:48               complete  0.574        None          \n",
      "sub55-max-05-l.csv   2018-12-17 20:32:23               complete  0.581        None          \n",
      "CPU times: user 516 ms, sys: 228 ms, total: 744 ms\n",
      "Wall time: 27.5 s\n"
     ]
    }
   ],
   "source": [
    "%%time\n",
    "!kaggle competitions submit -c human-protein-atlas-image-classification -f ../submissions/sub50-mag-05.csv -m \"\"\n",
    "from time import sleep\n",
    "sleep(10)\n",
    "!kaggle competitions submissions -c human-protein-atlas-image-classification"
   ]
  },
  {
   "cell_type": "code",
   "execution_count": null,
   "metadata": {},
   "outputs": [],
   "source": []
  },
  {
   "cell_type": "code",
   "execution_count": 46,
   "metadata": {},
   "outputs": [],
   "source": [
    "leak_test = pd.read_csv('../cache/leak_test.csv')\n",
    "sub50 = pd.read_csv('../submissions/sub50-mag-05.csv')\n",
    "for idx, row in leak_test.iterrows():\n",
    "    test_id = row['Id']\n",
    "    target = row['Target']\n",
    "    sub50.loc[sub50.Id == test_id, 'Predicted'] = target"
   ]
  },
  {
   "cell_type": "code",
   "execution_count": 47,
   "metadata": {},
   "outputs": [],
   "source": [
    "sub50.to_csv('../submissions/sub50-max-t-l.csv', index=False)"
   ]
  },
  {
   "cell_type": "code",
   "execution_count": 48,
   "metadata": {},
   "outputs": [
    {
     "name": "stdout",
     "output_type": "stream",
     "text": [
      "100%|████████████████████████████████████████| 468k/468k [00:15<00:00, 30.7kB/s]\n",
      "Successfully submitted to Human Protein Atlas Image ClassificationfileName           date                 description  status    publicScore  privateScore  \n",
      "-----------------  -------------------  -----------  --------  -----------  ------------  \n",
      "sub50-max-t-l.csv  2018-12-14 04:48:42               complete  0.533        None          \n",
      "sub50-max-t.csv    2018-12-14 02:56:13               complete  0.507        None          \n",
      "sub48-max-b.csv    2018-12-12 06:57:44               complete  0.449        None          \n",
      "sub48-max-a.csv    2018-12-12 06:55:45               complete  0.457        None          \n",
      "sub44-max-t.csv    2018-12-10 20:51:55               complete  0.019        None          \n",
      "sub41-t-l.csv      2018-12-08 09:27:37               complete  0.541        None          \n",
      "sub41-max-b.csv    2018-12-08 08:04:32               complete  0.478        None          \n",
      "sub41-max-a.csv    2018-12-08 08:03:03               complete  0.479        None          \n",
      "sub41-c.csv        2018-12-07 01:29:14               complete  0.493        None          \n",
      "sub41-f.csv        2018-12-07 01:28:39               complete  0.481        None          \n",
      "sub41-t.csv        2018-12-07 01:27:50               complete  0.498        None          \n",
      "sub41-v.csv        2018-12-07 01:27:04               complete  0.484        None          \n",
      "sub41.csv          2018-12-07 01:26:29               complete  0.494        None          \n",
      "sub33-mag-05.csv   2018-12-06 12:29:28               complete  0.492        None          \n",
      "sub33-mag-c.csv    2018-12-06 12:28:48               complete  0.491        None          \n",
      "sub33-mag-f.csv    2018-12-06 12:28:08               complete  0.488        None          \n",
      "sub33-mag-t.csv    2018-12-06 12:27:36               complete  0.481        None          \n",
      "sub33-mag.csv      2018-12-06 12:26:29               complete  0.491        None          \n",
      "sub40-a.csv        2018-12-02 07:28:08               complete  0.447        None          \n",
      "sub40-a.csv        2018-12-02 07:18:27               complete  0.477        None          \n",
      "CPU times: user 374 ms, sys: 365 ms, total: 739 ms\n",
      "Wall time: 31.6 s\n"
     ]
    }
   ],
   "source": [
    "%%time\n",
    "!kaggle competitions submit -c human-protein-atlas-image-classification -f ../submissions/sub50-max-t-l.csv -m \"\"\n",
    "from time import sleep\n",
    "sleep(10)\n",
    "!kaggle competitions submissions -c human-protein-atlas-image-classification"
   ]
  },
  {
   "cell_type": "code",
   "execution_count": 49,
   "metadata": {},
   "outputs": [
    {
     "name": "stdout",
     "output_type": "stream",
     "text": [
      "100%|████████████████████████████████████████| 468k/468k [00:08<00:00, 49.1kB/s]\n",
      "Successfully submitted to Human Protein Atlas Image ClassificationfileName           date                 description  status    publicScore  privateScore  \n",
      "-----------------  -------------------  -----------  --------  -----------  ------------  \n",
      "sub50-max-c.csv    2018-12-14 04:52:04               complete  0.523        None          \n",
      "sub50-max-t-l.csv  2018-12-14 04:48:42               complete  0.533        None          \n",
      "sub50-max-t.csv    2018-12-14 02:56:13               complete  0.507        None          \n",
      "sub48-max-b.csv    2018-12-12 06:57:44               complete  0.449        None          \n",
      "sub48-max-a.csv    2018-12-12 06:55:45               complete  0.457        None          \n",
      "sub44-max-t.csv    2018-12-10 20:51:55               complete  0.019        None          \n",
      "sub41-t-l.csv      2018-12-08 09:27:37               complete  0.541        None          \n",
      "sub41-max-b.csv    2018-12-08 08:04:32               complete  0.478        None          \n",
      "sub41-max-a.csv    2018-12-08 08:03:03               complete  0.479        None          \n",
      "sub41-c.csv        2018-12-07 01:29:14               complete  0.493        None          \n",
      "sub41-f.csv        2018-12-07 01:28:39               complete  0.481        None          \n",
      "sub41-t.csv        2018-12-07 01:27:50               complete  0.498        None          \n",
      "sub41-v.csv        2018-12-07 01:27:04               complete  0.484        None          \n",
      "sub41.csv          2018-12-07 01:26:29               complete  0.494        None          \n",
      "sub33-mag-05.csv   2018-12-06 12:29:28               complete  0.492        None          \n",
      "sub33-mag-c.csv    2018-12-06 12:28:48               complete  0.491        None          \n",
      "sub33-mag-f.csv    2018-12-06 12:28:08               complete  0.488        None          \n",
      "sub33-mag-t.csv    2018-12-06 12:27:36               complete  0.481        None          \n",
      "sub33-mag.csv      2018-12-06 12:26:29               complete  0.491        None          \n",
      "sub40-a.csv        2018-12-02 07:28:08               complete  0.447        None          \n",
      "CPU times: user 620 ms, sys: 228 ms, total: 849 ms\n",
      "Wall time: 34.3 s\n"
     ]
    }
   ],
   "source": [
    "%%time\n",
    "!kaggle competitions submit -c human-protein-atlas-image-classification -f ../submissions/sub50-max-c.csv -m \"\"\n",
    "from time import sleep\n",
    "sleep(10)\n",
    "!kaggle competitions submissions -c human-protein-atlas-image-classification"
   ]
  },
  {
   "cell_type": "code",
   "execution_count": 53,
   "metadata": {},
   "outputs": [],
   "source": [
    "leak_test = pd.read_csv('../cache/leak_test.csv')\n",
    "sub50 = pd.read_csv('../submissions/sub50-max-c.csv')\n",
    "for idx, row in leak_test.iterrows():\n",
    "    test_id = row['Id']\n",
    "    target = row['Target']\n",
    "    sub50.loc[sub50.Id == test_id, 'Predicted'] = target\n",
    "sub50.to_csv('../submissions/sub50-max-c-l.csv', index=False)"
   ]
  },
  {
   "cell_type": "code",
   "execution_count": 54,
   "metadata": {},
   "outputs": [
    {
     "name": "stdout",
     "output_type": "stream",
     "text": [
      "fileName           date                 description  status    publicScore  privateScore  \r\n",
      "-----------------  -------------------  -----------  --------  -----------  ------------  \r\n",
      "sub50-max-c-l.csv  2018-12-14 04:52:55               complete  0.557        None          \r\n",
      "sub50-max-c.csv    2018-12-14 04:52:04               complete  0.523        None          \r\n",
      "sub50-max-t-l.csv  2018-12-14 04:48:42               complete  0.533        None          \r\n",
      "sub50-max-t.csv    2018-12-14 02:56:13               complete  0.507        None          \r\n",
      "sub48-max-b.csv    2018-12-12 06:57:44               complete  0.449        None          \r\n",
      "sub48-max-a.csv    2018-12-12 06:55:45               complete  0.457        None          \r\n",
      "sub44-max-t.csv    2018-12-10 20:51:55               complete  0.019        None          \r\n",
      "sub41-t-l.csv      2018-12-08 09:27:37               complete  0.541        None          \r\n",
      "sub41-max-b.csv    2018-12-08 08:04:32               complete  0.478        None          \r\n",
      "sub41-max-a.csv    2018-12-08 08:03:03               complete  0.479        None          \r\n",
      "sub41-c.csv        2018-12-07 01:29:14               complete  0.493        None          \r\n",
      "sub41-f.csv        2018-12-07 01:28:39               complete  0.481        None          \r\n",
      "sub41-t.csv        2018-12-07 01:27:50               complete  0.498        None          \r\n",
      "sub41-v.csv        2018-12-07 01:27:04               complete  0.484        None          \r\n",
      "sub41.csv          2018-12-07 01:26:29               complete  0.494        None          \r\n",
      "sub33-mag-05.csv   2018-12-06 12:29:28               complete  0.492        None          \r\n",
      "sub33-mag-c.csv    2018-12-06 12:28:48               complete  0.491        None          \r\n",
      "sub33-mag-f.csv    2018-12-06 12:28:08               complete  0.488        None          \r\n",
      "sub33-mag-t.csv    2018-12-06 12:27:36               complete  0.481        None          \r\n",
      "sub33-mag.csv      2018-12-06 12:26:29               complete  0.491        None          \r\n"
     ]
    }
   ],
   "source": [
    "%%time\n",
    "!kaggle competitions submit -c human-protein-atlas-image-classification -f ../submissions/sub50-max-c-l.csv -m \"\"\n",
    "from time import sleep\n",
    "sleep(10)\n",
    "!kaggle competitions submissions -c human-protein-atlas-image-classification"
   ]
  },
  {
   "cell_type": "code",
   "execution_count": 55,
   "metadata": {},
   "outputs": [
    {
     "name": "stdout",
     "output_type": "stream",
     "text": [
      "100%|████████████████████████████████████████| 476k/476k [00:13<00:00, 37.1kB/s]\n",
      "Successfully submitted to Human Protein Atlas Image ClassificationfileName           date                 description  status    publicScore  privateScore  \n",
      "-----------------  -------------------  -----------  --------  -----------  ------------  \n",
      "sub50-max-05.csv   2018-12-14 04:56:42               complete  0.533        None          \n",
      "sub50-max-c-l.csv  2018-12-14 04:52:55               complete  0.557        None          \n",
      "sub50-max-c.csv    2018-12-14 04:52:04               complete  0.523        None          \n",
      "sub50-max-t-l.csv  2018-12-14 04:48:42               complete  0.533        None          \n",
      "sub50-max-t.csv    2018-12-14 02:56:13               complete  0.507        None          \n",
      "sub48-max-b.csv    2018-12-12 06:57:44               complete  0.449        None          \n",
      "sub48-max-a.csv    2018-12-12 06:55:45               complete  0.457        None          \n",
      "sub44-max-t.csv    2018-12-10 20:51:55               complete  0.019        None          \n",
      "sub41-t-l.csv      2018-12-08 09:27:37               complete  0.541        None          \n",
      "sub41-max-b.csv    2018-12-08 08:04:32               complete  0.478        None          \n",
      "sub41-max-a.csv    2018-12-08 08:03:03               complete  0.479        None          \n",
      "sub41-c.csv        2018-12-07 01:29:14               complete  0.493        None          \n",
      "sub41-f.csv        2018-12-07 01:28:39               complete  0.481        None          \n",
      "sub41-t.csv        2018-12-07 01:27:50               complete  0.498        None          \n",
      "sub41-v.csv        2018-12-07 01:27:04               complete  0.484        None          \n",
      "sub41.csv          2018-12-07 01:26:29               complete  0.494        None          \n",
      "sub33-mag-05.csv   2018-12-06 12:29:28               complete  0.492        None          \n",
      "sub33-mag-c.csv    2018-12-06 12:28:48               complete  0.491        None          \n",
      "sub33-mag-f.csv    2018-12-06 12:28:08               complete  0.488        None          \n",
      "sub33-mag-t.csv    2018-12-06 12:27:36               complete  0.481        None          \n",
      "CPU times: user 375 ms, sys: 398 ms, total: 772 ms\n",
      "Wall time: 31.7 s\n"
     ]
    }
   ],
   "source": [
    "%%time\n",
    "!kaggle competitions submit -c human-protein-atlas-image-classification -f ../submissions/sub50-max-05.csv -m \"\"\n",
    "from time import sleep\n",
    "sleep(10)\n",
    "!kaggle competitions submissions -c human-protein-atlas-image-classification"
   ]
  },
  {
   "cell_type": "code",
   "execution_count": 6,
   "metadata": {},
   "outputs": [
    {
     "name": "stdout",
     "output_type": "stream",
     "text": [
      "fileName           date                 description  status    publicScore  privateScore  \r\n",
      "-----------------  -------------------  -----------  --------  -----------  ------------  \r\n",
      "sub50-max-045.csv  2018-12-15 05:36:27               complete  0.528        None          \r\n",
      "sub50-max-05.csv   2018-12-14 04:56:42               complete  0.533        None          \r\n",
      "sub50-max-c-l.csv  2018-12-14 04:52:55               complete  0.557        None          \r\n",
      "sub50-max-c.csv    2018-12-14 04:52:04               complete  0.523        None          \r\n",
      "sub50-max-t-l.csv  2018-12-14 04:48:42               complete  0.533        None          \r\n",
      "sub50-max-t.csv    2018-12-14 02:56:13               complete  0.507        None          \r\n",
      "sub48-max-b.csv    2018-12-12 06:57:44               complete  0.449        None          \r\n",
      "sub48-max-a.csv    2018-12-12 06:55:45               complete  0.457        None          \r\n",
      "sub44-max-t.csv    2018-12-10 20:51:55               complete  0.019        None          \r\n",
      "sub41-t-l.csv      2018-12-08 09:27:37               complete  0.541        None          \r\n",
      "sub41-max-b.csv    2018-12-08 08:04:32               complete  0.478        None          \r\n",
      "sub41-max-a.csv    2018-12-08 08:03:03               complete  0.479        None          \r\n",
      "sub41-c.csv        2018-12-07 01:29:14               complete  0.493        None          \r\n",
      "sub41-f.csv        2018-12-07 01:28:39               complete  0.481        None          \r\n",
      "sub41-t.csv        2018-12-07 01:27:50               complete  0.498        None          \r\n",
      "sub41-v.csv        2018-12-07 01:27:04               complete  0.484        None          \r\n",
      "sub41.csv          2018-12-07 01:26:29               complete  0.494        None          \r\n",
      "sub33-mag-05.csv   2018-12-06 12:29:28               complete  0.492        None          \r\n",
      "sub33-mag-c.csv    2018-12-06 12:28:48               complete  0.491        None          \r\n",
      "sub33-mag-f.csv    2018-12-06 12:28:08               complete  0.488        None          \r\n"
     ]
    }
   ],
   "source": [
    "%%time\n",
    "!kaggle competitions submit -c human-protein-atlas-image-classification -f ../submissions/sub50-max-045.csv -m \"\"\n",
    "from time import sleep\n",
    "sleep(10)\n",
    "!kaggle competitions submissions -c human-protein-atlas-image-classification"
   ]
  },
  {
   "cell_type": "code",
   "execution_count": 7,
   "metadata": {},
   "outputs": [],
   "source": [
    "leak_test = pd.read_csv('../cache/leak_test.csv')\n",
    "sub50 = pd.read_csv('../submissions/sub50-max-05.csv')\n",
    "for idx, row in leak_test.iterrows():\n",
    "    test_id = row['Id']\n",
    "    target = row['Target']\n",
    "    sub50.loc[sub50.Id == test_id, 'Predicted'] = target\n",
    "sub50.to_csv('../submissions/sub50-max-05-l.csv', index=False)"
   ]
  },
  {
   "cell_type": "code",
   "execution_count": 9,
   "metadata": {},
   "outputs": [
    {
     "name": "stdout",
     "output_type": "stream",
     "text": [
      "100%|████████████████████████████████████████| 476k/476k [00:44<00:00, 10.8kB/s]\n",
      "Successfully submitted to Human Protein Atlas Image ClassificationfileName            date                 description  status    publicScore  privateScore  \n",
      "------------------  -------------------  -----------  --------  -----------  ------------  \n",
      "sub50-max-05-l.csv  2018-12-15 05:44:54               complete  0.578        None          \n",
      "sub50-max-045.csv   2018-12-15 05:36:27               complete  0.528        None          \n",
      "sub50-max-05.csv    2018-12-14 04:56:42               complete  0.533        None          \n",
      "sub50-max-c-l.csv   2018-12-14 04:52:55               complete  0.557        None          \n",
      "sub50-max-c.csv     2018-12-14 04:52:04               complete  0.523        None          \n",
      "sub50-max-t-l.csv   2018-12-14 04:48:42               complete  0.533        None          \n",
      "sub50-max-t.csv     2018-12-14 02:56:13               complete  0.507        None          \n",
      "sub48-max-b.csv     2018-12-12 06:57:44               complete  0.449        None          \n",
      "sub48-max-a.csv     2018-12-12 06:55:45               complete  0.457        None          \n",
      "sub44-max-t.csv     2018-12-10 20:51:55               complete  0.019        None          \n",
      "sub41-t-l.csv       2018-12-08 09:27:37               complete  0.541        None          \n",
      "sub41-max-b.csv     2018-12-08 08:04:32               complete  0.478        None          \n",
      "sub41-max-a.csv     2018-12-08 08:03:03               complete  0.479        None          \n",
      "sub41-c.csv         2018-12-07 01:29:14               complete  0.493        None          \n",
      "sub41-f.csv         2018-12-07 01:28:39               complete  0.481        None          \n",
      "sub41-t.csv         2018-12-07 01:27:50               complete  0.498        None          \n",
      "sub41-v.csv         2018-12-07 01:27:04               complete  0.484        None          \n",
      "sub41.csv           2018-12-07 01:26:29               complete  0.494        None          \n",
      "sub33-mag-05.csv    2018-12-06 12:29:28               complete  0.492        None          \n",
      "sub33-mag-c.csv     2018-12-06 12:28:48               complete  0.491        None          \n",
      "CPU times: user 2.03 s, sys: 591 ms, total: 2.63 s\n",
      "Wall time: 1min 41s\n"
     ]
    }
   ],
   "source": [
    "%%time\n",
    "!kaggle competitions submit -c human-protein-atlas-image-classification -f ../submissions/sub50-max-05-l.csv -m \"\"\n",
    "from time import sleep\n",
    "sleep(10)\n",
    "!kaggle competitions submissions -c human-protein-atlas-image-classification"
   ]
  },
  {
   "cell_type": "code",
   "execution_count": 75,
   "metadata": {},
   "outputs": [],
   "source": [
    "def save_pred(pred, th=0.5, fname='../submissions/sub50-max-notta.csv'):\n",
    "    pred_list = []\n",
    "    for line in pred:\n",
    "        s = ' '.join(list([str(i) for i in np.nonzero(line>th)[0]]))\n",
    "        pred_list.append(s)\n",
    "        \n",
    "    sample_df = pd.read_csv(SAMPLE)\n",
    "    sample_list = list(sample_df.Id)\n",
    "    pred_dic = dict((key, value) for (key, value) \n",
    "                in zip(learner.data.test_ds.fnames,pred_list))\n",
    "    pred_list_cor = [pred_dic[id] for id in sample_list]\n",
    "    df = pd.DataFrame({'Id':sample_list,'Predicted':pred_list_cor})\n",
    "    df.to_csv(fname, header=True, index=False)"
   ]
  },
  {
   "cell_type": "code",
   "execution_count": 76,
   "metadata": {},
   "outputs": [
    {
     "ename": "ValueError",
     "evalue": "operands could not be broadcast together with shapes (11702,) (28,) ",
     "output_type": "error",
     "traceback": [
      "\u001b[0;31m---------------------------------------------------------------------------\u001b[0m",
      "\u001b[0;31mValueError\u001b[0m                                Traceback (most recent call last)",
      "\u001b[0;32m<ipython-input-76-1f93002789fe>\u001b[0m in \u001b[0;36m<module>\u001b[0;34m()\u001b[0m\n\u001b[1;32m      2\u001b[0m                \u001b[0;36m0.34\u001b[0m\u001b[0;34m,\u001b[0m\u001b[0;36m0.42\u001b[0m\u001b[0;34m,\u001b[0m\u001b[0;36m0.31\u001b[0m\u001b[0;34m,\u001b[0m\u001b[0;36m0.38\u001b[0m\u001b[0;34m,\u001b[0m\u001b[0;36m0.49\u001b[0m\u001b[0;34m,\u001b[0m\u001b[0;36m0.50\u001b[0m\u001b[0;34m,\u001b[0m\u001b[0;36m0.38\u001b[0m\u001b[0;34m,\u001b[0m\u001b[0;36m0.43\u001b[0m\u001b[0;34m,\u001b[0m\u001b[0;36m0.46\u001b[0m\u001b[0;34m,\u001b[0m\u001b[0;36m0.40\u001b[0m\u001b[0;34m,\u001b[0m\u001b[0;34m\u001b[0m\u001b[0m\n\u001b[1;32m      3\u001b[0m                0.39,0.505,0.37,0.47,0.41,0.545,0.32,0.1])\n\u001b[0;32m----> 4\u001b[0;31m \u001b[0mprint\u001b[0m\u001b[0;34m(\u001b[0m\u001b[0;34m'Fractions: '\u001b[0m\u001b[0;34m,\u001b[0m\u001b[0;34m(\u001b[0m\u001b[0mpred_t\u001b[0m \u001b[0;34m>\u001b[0m \u001b[0mth_t\u001b[0m\u001b[0;34m)\u001b[0m\u001b[0;34m.\u001b[0m\u001b[0mmean\u001b[0m\u001b[0;34m(\u001b[0m\u001b[0maxis\u001b[0m\u001b[0;34m=\u001b[0m\u001b[0;36m0\u001b[0m\u001b[0;34m)\u001b[0m\u001b[0;34m)\u001b[0m\u001b[0;34m\u001b[0m\u001b[0m\n\u001b[0m\u001b[1;32m      5\u001b[0m \u001b[0msave_pred\u001b[0m\u001b[0;34m(\u001b[0m\u001b[0mpred_t\u001b[0m\u001b[0;34m,\u001b[0m\u001b[0mth_t\u001b[0m\u001b[0;34m)\u001b[0m\u001b[0;34m\u001b[0m\u001b[0m\n",
      "\u001b[0;31mValueError\u001b[0m: operands could not be broadcast together with shapes (11702,) (28,) "
     ]
    }
   ],
   "source": [
    "th_t = np.array([0.565,0.39,0.55,0.345,0.33,0.39,0.33,0.45,0.38,0.39,\n",
    "               0.34,0.42,0.31,0.38,0.49,0.50,0.38,0.43,0.46,0.40,\n",
    "               0.39,0.505,0.37,0.47,0.41,0.545,0.32,0.1])\n",
    "print('Fractions: ',(pred_t > th_t).mean(axis=0))\n",
    "save_pred(pred_t,th_t)"
   ]
  },
  {
   "cell_type": "code",
   "execution_count": 60,
   "metadata": {},
   "outputs": [],
   "source": [
    "# pred= preds_t\n",
    "# fname='../submissions/sub50-max-notta.csv'\n",
    "# th=0.5\n",
    "# pred_list = []\n",
    "# for line in pred:\n",
    "#     s = ' '.join(list([str(i) for i in np.nonzero(line>th)[0]]))\n",
    "#     pred_list.append(s)\n",
    "# sample_df = pd.read_csv(SAMPLE)\n",
    "# sample_list = list(sample_df.Id)\n",
    "# pred_dic = dict((key, value) for (key, value) \n",
    "#             in zip(learner.data.test_ds.fnames,pred_list))\n",
    "# pred_list_cor = [pred_dic[id] for id in sample_list]\n",
    "# df = pd.DataFrame({'Id':sample_list,'Predicted':pred_list_cor})\n",
    "# df.to_csv(fname, header=True, index=False)"
   ]
  },
  {
   "cell_type": "code",
   "execution_count": 61,
   "metadata": {},
   "outputs": [
    {
     "data": {
      "text/plain": [
       "(11702, 2)"
      ]
     },
     "execution_count": 61,
     "metadata": {},
     "output_type": "execute_result"
    }
   ],
   "source": [
    "df.shape"
   ]
  },
  {
   "cell_type": "code",
   "execution_count": 62,
   "metadata": {},
   "outputs": [
    {
     "data": {
      "text/html": [
       "<div>\n",
       "<style scoped>\n",
       "    .dataframe tbody tr th:only-of-type {\n",
       "        vertical-align: middle;\n",
       "    }\n",
       "\n",
       "    .dataframe tbody tr th {\n",
       "        vertical-align: top;\n",
       "    }\n",
       "\n",
       "    .dataframe thead th {\n",
       "        text-align: right;\n",
       "    }\n",
       "</style>\n",
       "<table border=\"1\" class=\"dataframe\">\n",
       "  <thead>\n",
       "    <tr style=\"text-align: right;\">\n",
       "      <th></th>\n",
       "      <th>Id</th>\n",
       "      <th>Predicted</th>\n",
       "    </tr>\n",
       "  </thead>\n",
       "  <tbody>\n",
       "    <tr>\n",
       "      <th>0</th>\n",
       "      <td>00008af0-bad0-11e8-b2b8-ac1f6b6435d0</td>\n",
       "      <td>2</td>\n",
       "    </tr>\n",
       "    <tr>\n",
       "      <th>1</th>\n",
       "      <td>0000a892-bacf-11e8-b2b8-ac1f6b6435d0</td>\n",
       "      <td>5</td>\n",
       "    </tr>\n",
       "    <tr>\n",
       "      <th>2</th>\n",
       "      <td>0006faa6-bac7-11e8-b2b7-ac1f6b6435d0</td>\n",
       "      <td>0 5 25</td>\n",
       "    </tr>\n",
       "    <tr>\n",
       "      <th>3</th>\n",
       "      <td>0008baca-bad7-11e8-b2b9-ac1f6b6435d0</td>\n",
       "      <td>0</td>\n",
       "    </tr>\n",
       "    <tr>\n",
       "      <th>4</th>\n",
       "      <td>000cce7e-bad4-11e8-b2b8-ac1f6b6435d0</td>\n",
       "      <td>23</td>\n",
       "    </tr>\n",
       "  </tbody>\n",
       "</table>\n",
       "</div>"
      ],
      "text/plain": [
       "                                     Id Predicted\n",
       "0  00008af0-bad0-11e8-b2b8-ac1f6b6435d0         2\n",
       "1  0000a892-bacf-11e8-b2b8-ac1f6b6435d0         5\n",
       "2  0006faa6-bac7-11e8-b2b7-ac1f6b6435d0    0 5 25\n",
       "3  0008baca-bad7-11e8-b2b9-ac1f6b6435d0         0\n",
       "4  000cce7e-bad4-11e8-b2b8-ac1f6b6435d0        23"
      ]
     },
     "execution_count": 62,
     "metadata": {},
     "output_type": "execute_result"
    }
   ],
   "source": [
    "df.head()"
   ]
  },
  {
   "cell_type": "code",
   "execution_count": 80,
   "metadata": {},
   "outputs": [],
   "source": [
    "save_pred(pred_t,0.5,'../submissions/sub50-max-05-notta.csv')"
   ]
  },
  {
   "cell_type": "code",
   "execution_count": 84,
   "metadata": {},
   "outputs": [
    {
     "name": "stdout",
     "output_type": "stream",
     "text": [
      "fileName                date                 description  status    publicScore  privateScore  \n",
      "----------------------  -------------------  -----------  --------  -----------  ------------  \n",
      "sub50-max-05-notta.csv  2018-12-15 08:41:36               complete  0.020        None          \n",
      "sub50-max-05-notta.csv  2018-12-15 08:22:48               complete  0.020        None          \n",
      "sub54-max-a.csv         2018-12-15 06:06:02               complete  0.365        None          \n",
      "sub50-max-05-l.csv      2018-12-15 05:44:54               complete  0.578        None          \n",
      "sub50-max-045.csv       2018-12-15 05:36:27               complete  0.528        None          \n",
      "sub50-max-05.csv        2018-12-14 04:56:42               complete  0.533        None          \n",
      "sub50-max-c-l.csv       2018-12-14 04:52:55               complete  0.557        None          \n",
      "sub50-max-c.csv         2018-12-14 04:52:04               complete  0.523        None          \n",
      "sub50-max-t-l.csv       2018-12-14 04:48:42               complete  0.533        None          \n",
      "sub50-max-t.csv         2018-12-14 02:56:13               complete  0.507        None          \n",
      "sub48-max-b.csv         2018-12-12 06:57:44               complete  0.449        None          \n",
      "sub48-max-a.csv         2018-12-12 06:55:45               complete  0.457        None          \n",
      "sub44-max-t.csv         2018-12-10 20:51:55               complete  0.019        None          \n",
      "sub41-t-l.csv           2018-12-08 09:27:37               complete  0.541        None          \n",
      "sub41-max-b.csv         2018-12-08 08:04:32               complete  0.478        None          \n",
      "sub41-max-a.csv         2018-12-08 08:03:03               complete  0.479        None          \n",
      "sub41-c.csv             2018-12-07 01:29:14               complete  0.493        None          \n",
      "sub41-f.csv             2018-12-07 01:28:39               complete  0.481        None          \n",
      "sub41-t.csv             2018-12-07 01:27:50               complete  0.498        None          \n",
      "sub41-v.csv             2018-12-07 01:27:04               complete  0.484        None          \n",
      "CPU times: user 319 ms, sys: 132 ms, total: 450 ms\n",
      "Wall time: 23 s\n"
     ]
    }
   ],
   "source": [
    "%%time\n",
    "!kaggle competitions submit -c human-protein-atlas-image-classification -f ../submissions/sub50-max-05-notta.csv -m \"\"\n",
    "from time import sleep\n",
    "sleep(10)\n",
    "!kaggle competitions submissions -c human-protein-atlas-image-classification"
   ]
  }
 ],
 "metadata": {
  "kernelspec": {
   "display_name": "fastai0_7",
   "language": "python",
   "name": "fastai0_7"
  },
  "language_info": {
   "codemirror_mode": {
    "name": "ipython",
    "version": 3
   },
   "file_extension": ".py",
   "mimetype": "text/x-python",
   "name": "python",
   "nbconvert_exporter": "python",
   "pygments_lexer": "ipython3",
   "version": "3.6.3"
  }
 },
 "nbformat": 4,
 "nbformat_minor": 2
}

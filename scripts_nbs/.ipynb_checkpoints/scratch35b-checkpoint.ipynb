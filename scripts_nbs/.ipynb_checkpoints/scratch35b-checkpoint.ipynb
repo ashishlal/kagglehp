{
 "cells": [
  {
   "cell_type": "code",
   "execution_count": 1,
   "metadata": {
    "collapsed": true
   },
   "outputs": [],
   "source": [
    "# https://www.kaggle.com/mathormad/inceptionv3-baseline-lb-0-379/code"
   ]
  },
  {
   "cell_type": "code",
   "execution_count": 2,
   "metadata": {
    "collapsed": true
   },
   "outputs": [],
   "source": [
    "import os, sys\n",
    "import numpy as np\n",
    "import pandas as pd\n",
    "import matplotlib.pyplot as plt\n",
    "import skimage.io\n",
    "from skimage.transform import resize\n",
    "from imgaug import augmenters as iaa\n",
    "from tqdm import tqdm\n",
    "import PIL\n",
    "from PIL import Image\n",
    "import cv2\n",
    "from sklearn.utils import class_weight, shuffle\n",
    "\n",
    "import warnings\n",
    "warnings.filterwarnings(\"ignore\")\n",
    "SIZE = 512"
   ]
  },
  {
   "cell_type": "code",
   "execution_count": 3,
   "metadata": {
    "collapsed": true
   },
   "outputs": [],
   "source": [
    "# https://www.kaggle.com/rejpalcz/best-loss-function-for-f1-score-metric/notebook\n",
    "import tensorflow as tf\n",
    "\n",
    "def f1(y_true, y_pred):\n",
    "    y_pred = K.round(y_pred)\n",
    "    tp = K.sum(K.cast(y_true*y_pred, 'float'), axis=0)\n",
    "    tn = K.sum(K.cast((1-y_true)*(1-y_pred), 'float'), axis=0)\n",
    "    fp = K.sum(K.cast((1-y_true)*y_pred, 'float'), axis=0)\n",
    "    fn = K.sum(K.cast(y_true*(1-y_pred), 'float'), axis=0)\n",
    "\n",
    "    p = tp / (tp + fp + K.epsilon())\n",
    "    r = tp / (tp + fn + K.epsilon())\n",
    "\n",
    "    f1 = 2*p*r / (p+r+K.epsilon())\n",
    "    f1 = tf.where(tf.is_nan(f1), tf.zeros_like(f1), f1)\n",
    "    return K.mean(f1)\n",
    "\n",
    "def f1_loss(y_true, y_pred):\n",
    "    \n",
    "    tp = K.sum(K.cast(y_true*y_pred, 'float'), axis=0)\n",
    "    tn = K.sum(K.cast((1-y_true)*(1-y_pred), 'float'), axis=0)\n",
    "    fp = K.sum(K.cast((1-y_true)*y_pred, 'float'), axis=0)\n",
    "    fn = K.sum(K.cast(y_true*(1-y_pred), 'float'), axis=0)\n",
    "\n",
    "    p = tp / (tp + fp + K.epsilon())\n",
    "    r = tp / (tp + fn + K.epsilon())\n",
    "\n",
    "    f1 = 2*p*r / (p+r+K.epsilon())\n",
    "    f1 = tf.where(tf.is_nan(f1), tf.zeros_like(f1), f1)\n",
    "    return K.mean(K.binary_crossentropy(y_true, y_pred), axis=-1) + (1 - K.mean(f1))\n",
    "\n",
    "# POS_WEIGHT = 1.0  # multiplier for positive targets, needs to be tuned\n",
    "\n",
    "# def weighted_binary_crossentropy(target, output):\n",
    "#     \"\"\"\n",
    "#     Weighted binary crossentropy between an output tensor \n",
    "#     and a target tensor. POS_WEIGHT is used as a multiplier \n",
    "#     for the positive targets.\n",
    "\n",
    "#     Combination of the following functions:\n",
    "#     * keras.losses.binary_crossentropy\n",
    "#     * keras.backend.tensorflow_backend.binary_crossentropy\n",
    "#     * tf.nn.weighted_cross_entropy_with_logits\n",
    "#     \"\"\"\n",
    "#     # transform back to logits\n",
    "# #     _epsilon = tfb._to_tensor(tfb.epsilon(), output.dtype.base_dtype)\n",
    "#     _epsilon = K.epsilon()\n",
    "#     output = tf.clip_by_value(output, _epsilon, 1 - _epsilon)\n",
    "#     output = tf.log(output / (1 - output))\n",
    "#     # compute weighted loss\n",
    "#     loss = tf.nn.weighted_cross_entropy_with_logits(targets=target,\n",
    "#                                                     logits=output,\n",
    "#                                                     pos_weight=POS_WEIGHT)\n",
    "#     return tf.reduce_mean(loss, axis=-1)\n",
    "\n",
    "# import tensorflow as tf\n",
    "# from tensorflow.python.framework import ops\n",
    "# from functools import reduce\n",
    "\n",
    "# def binaryRound(x):\n",
    "#     \"\"\"\n",
    "#     Rounds a tensor whose values are in [0,1] to a tensor with values in {0, 1},\n",
    "#     using the straight through estimator for the gradient.\n",
    "#     \"\"\"\n",
    "#     g = tf.get_default_graph()\n",
    "\n",
    "#     with ops.name_scope(\"BinaryRound\") as name:\n",
    "#         with g.gradient_override_map({\"Round\": \"Identity\"}):\n",
    "#             return tf.round(x, name=name)\n",
    "\n",
    "#         # For Tensorflow v0.11 and below use:\n",
    "#         #with g.gradient_override_map({\"Floor\": \"Identity\"}):\n",
    "#         #    return tf.round(x, name=name)\n",
    "        \n",
    "# def f1_loss2(y_true, y_pred):\n",
    "#     y_pred = binaryRound(y_pred)\n",
    "#     tp = K.sum(K.cast(y_true*y_pred, 'float'), axis=0)\n",
    "#     tn = K.sum(K.cast((1-y_true)*(1-y_pred), 'float'), axis=0)\n",
    "#     fp = K.sum(K.cast((1-y_true)*y_pred, 'float'), axis=0)\n",
    "#     fn = K.sum(K.cast(y_true*(1-y_pred), 'float'), axis=0)\n",
    "\n",
    "#     p = tp / (tp + fp + K.epsilon())\n",
    "#     r = tp / (tp + fn + K.epsilon())\n",
    "\n",
    "#     f1 = 2*p*r / (p+r+K.epsilon())\n",
    "#     f1 = tf.where(tf.is_nan(f1), tf.zeros_like(f1), f1)\n",
    "#     return K.mean(K.binary_crossentropy(y_true, y_pred), axis=-1) + (1-K.mean(f1))"
   ]
  },
  {
   "cell_type": "code",
   "execution_count": 4,
   "metadata": {
    "collapsed": true
   },
   "outputs": [],
   "source": [
    "# Load dataset info\n",
    "path_to_train = '../data/train/'\n",
    "data = pd.read_csv('../data/train.csv')"
   ]
  },
  {
   "cell_type": "code",
   "execution_count": 5,
   "metadata": {},
   "outputs": [
    {
     "data": {
      "text/html": [
       "<div>\n",
       "<style scoped>\n",
       "    .dataframe tbody tr th:only-of-type {\n",
       "        vertical-align: middle;\n",
       "    }\n",
       "\n",
       "    .dataframe tbody tr th {\n",
       "        vertical-align: top;\n",
       "    }\n",
       "\n",
       "    .dataframe thead th {\n",
       "        text-align: right;\n",
       "    }\n",
       "</style>\n",
       "<table border=\"1\" class=\"dataframe\">\n",
       "  <thead>\n",
       "    <tr style=\"text-align: right;\">\n",
       "      <th></th>\n",
       "      <th>Id</th>\n",
       "      <th>Target</th>\n",
       "    </tr>\n",
       "  </thead>\n",
       "  <tbody>\n",
       "    <tr>\n",
       "      <th>0</th>\n",
       "      <td>00070df0-bbc3-11e8-b2bc-ac1f6b6435d0</td>\n",
       "      <td>16 0</td>\n",
       "    </tr>\n",
       "    <tr>\n",
       "      <th>1</th>\n",
       "      <td>000a6c98-bb9b-11e8-b2b9-ac1f6b6435d0</td>\n",
       "      <td>7 1 2 0</td>\n",
       "    </tr>\n",
       "    <tr>\n",
       "      <th>2</th>\n",
       "      <td>000a9596-bbc4-11e8-b2bc-ac1f6b6435d0</td>\n",
       "      <td>5</td>\n",
       "    </tr>\n",
       "    <tr>\n",
       "      <th>3</th>\n",
       "      <td>000c99ba-bba4-11e8-b2b9-ac1f6b6435d0</td>\n",
       "      <td>1</td>\n",
       "    </tr>\n",
       "    <tr>\n",
       "      <th>4</th>\n",
       "      <td>001838f8-bbca-11e8-b2bc-ac1f6b6435d0</td>\n",
       "      <td>18</td>\n",
       "    </tr>\n",
       "  </tbody>\n",
       "</table>\n",
       "</div>"
      ],
      "text/plain": [
       "                                     Id   Target\n",
       "0  00070df0-bbc3-11e8-b2bc-ac1f6b6435d0     16 0\n",
       "1  000a6c98-bb9b-11e8-b2b9-ac1f6b6435d0  7 1 2 0\n",
       "2  000a9596-bbc4-11e8-b2bc-ac1f6b6435d0        5\n",
       "3  000c99ba-bba4-11e8-b2b9-ac1f6b6435d0        1\n",
       "4  001838f8-bbca-11e8-b2bc-ac1f6b6435d0       18"
      ]
     },
     "execution_count": 5,
     "metadata": {},
     "output_type": "execute_result"
    }
   ],
   "source": [
    "data.head()"
   ]
  },
  {
   "cell_type": "code",
   "execution_count": 6,
   "metadata": {
    "collapsed": true
   },
   "outputs": [],
   "source": [
    "train_dataset_info = []\n",
    "for name, labels in zip(data['Id'], data['Target'].str.split(' ')):\n",
    "    train_dataset_info.append({\n",
    "        'path':os.path.join(path_to_train, name),\n",
    "        'labels':np.array([int(label) for label in labels])})\n",
    "train_dataset_info = np.array(train_dataset_info)"
   ]
  },
  {
   "cell_type": "code",
   "execution_count": 7,
   "metadata": {},
   "outputs": [
    {
     "data": {
      "text/plain": [
       "array([{'path': '../data/train/00070df0-bbc3-11e8-b2bc-ac1f6b6435d0', 'labels': array([16,  0])},\n",
       "       {'path': '../data/train/000a6c98-bb9b-11e8-b2b9-ac1f6b6435d0', 'labels': array([7, 1, 2, 0])},\n",
       "       {'path': '../data/train/000a9596-bbc4-11e8-b2bc-ac1f6b6435d0', 'labels': array([5])},\n",
       "       ...,\n",
       "       {'path': '../data/train/fff189d8-bbab-11e8-b2ba-ac1f6b6435d0', 'labels': array([7])},\n",
       "       {'path': '../data/train/fffdf7e0-bbc4-11e8-b2bc-ac1f6b6435d0', 'labels': array([25,  2, 21])},\n",
       "       {'path': '../data/train/fffe0ffe-bbc0-11e8-b2bb-ac1f6b6435d0', 'labels': array([2, 0])}],\n",
       "      dtype=object)"
      ]
     },
     "execution_count": 7,
     "metadata": {},
     "output_type": "execute_result"
    }
   ],
   "source": [
    "train_dataset_info"
   ]
  },
  {
   "cell_type": "code",
   "execution_count": 8,
   "metadata": {},
   "outputs": [
    {
     "name": "stderr",
     "output_type": "stream",
     "text": [
      "100%|██████████| 11702/11702 [00:00<00:00, 65648.73it/s]\n"
     ]
    }
   ],
   "source": [
    "submit = pd.read_csv('../data/sample_submission.csv')\n",
    "path_to_test = '../data/test/'\n",
    "test_dataset_info = []\n",
    "for name in tqdm(submit['Id']):\n",
    "    test_dataset_info.append({\n",
    "        'path':os.path.join(path_to_test, name)})\n",
    "test_dataset_info = np.array(test_dataset_info)"
   ]
  },
  {
   "cell_type": "code",
   "execution_count": 9,
   "metadata": {
    "collapsed": true
   },
   "outputs": [],
   "source": [
    "# rgb_arr = np.memmap('../cache/tmp_rgb_arr', dtype='uint8', mode='r+', \n",
    "#                    shape=(len(train_dataset_info),299,299,3))"
   ]
  },
  {
   "cell_type": "code",
   "execution_count": 49,
   "metadata": {
    "collapsed": true
   },
   "outputs": [],
   "source": [
    "class data_generator:\n",
    "    \n",
    "    def create_train(dataset_info, batch_size, shape, augument=True):\n",
    "        assert shape[2] == 3\n",
    "        while True:\n",
    "            dataset_info = shuffle(dataset_info)\n",
    "            for start in range(0, len(dataset_info), batch_size):\n",
    "                end = min(start + batch_size, len(dataset_info))\n",
    "                batch_images = []\n",
    "                X_train_batch = dataset_info[start:end]\n",
    "                batch_labels = np.zeros((len(X_train_batch), 28))\n",
    "                for i in range(len(X_train_batch)):\n",
    "                    image = data_generator.load_image(\n",
    "                        X_train_batch[i]['path'], shape) \n",
    "#                     image = data_generator.load_image(\n",
    "#                         i, shape) \n",
    "                    if augument:\n",
    "                        image = data_generator.augment(image)\n",
    "                    batch_images.append(image/255.)\n",
    "                    batch_labels[i][X_train_batch[i]['labels']] = 1\n",
    "                yield np.array(batch_images, np.float32), [batch_labels, np.array(batch_images, np.float32)]\n",
    "    def create_train2(dataset_info, batch_size, shape, augument=False):\n",
    "        assert shape[2] == 3\n",
    "        while True:\n",
    "            dataset_info = shuffle(dataset_info)\n",
    "            for start in range(0, len(dataset_info), batch_size):\n",
    "                end = min(start + batch_size, len(dataset_info))\n",
    "                batch_images = []\n",
    "                X_train_batch = dataset_info[start:end]\n",
    "                batch_labels = np.zeros((len(X_train_batch), 28))\n",
    "                for i in range(len(X_train_batch)):\n",
    "                    image = data_generator.load_image(\n",
    "                        X_train_batch[i]['path'], shape) \n",
    "#                     image = data_generator.load_image(\n",
    "#                         i, shape) \n",
    "                    \n",
    "                    batch_images.append(image/255.)\n",
    "                    \n",
    "                yield np.array(batch_images, np.float32), None\n",
    "    def create_test(dataset_info, batch_size, shape, augument=False):\n",
    "        assert shape[2] == 3\n",
    "        while True:\n",
    "            dataset_info = shuffle(dataset_info)\n",
    "            for start in range(0, len(dataset_info), batch_size):\n",
    "                end = min(start + batch_size, len(dataset_info))\n",
    "                batch_images = []\n",
    "                X_test_batch = dataset_info[start:end]\n",
    "                batch_labels = np.zeros((len(X_test_batch), 28))\n",
    "                for i in range(len(X_test_batch)):\n",
    "                    image = data_generator.load_image(\n",
    "                        X_test_batch[i]['path'], shape) \n",
    "#                     image = data_generator.load_image(\n",
    "#                         i, shape) \n",
    "                    \n",
    "                    batch_images.append(image/255.)\n",
    "                    \n",
    "                yield np.array(batch_images, np.float32), None\n",
    "    def load_image(path, shape):\n",
    "        img1 = cv2.imread(path+'_red.png', cv2.IMREAD_GRAYSCALE)\n",
    "        img2 = cv2.imread(path+'_green.png', cv2.IMREAD_GRAYSCALE)\n",
    "        img3 = cv2.imread(path+'_blue.png', cv2.IMREAD_GRAYSCALE)\n",
    "        image = np.stack((img1,img2,img3), -1)\n",
    "        image = cv2.resize(image, (shape[0], shape[1]))\n",
    "        return image\n",
    "    def load_image3(idx, shape):\n",
    "#         print(idx)\n",
    "        name = '../cache/RGB/img-{}.png'.format(idx)\n",
    "        image = cv2.imread(name)\n",
    "        image = cv2.resize(image, (shape[0], shape[1]))\n",
    "        return image\n",
    "    def load_image2(path, shape):\n",
    "        image_red_ch = Image.open(path+'_red.png')\n",
    "        image_yellow_ch = Image.open(path+'_yellow.png')\n",
    "        image_green_ch = Image.open(path+'_green.png')\n",
    "        image_blue_ch = Image.open(path+'_blue.png')\n",
    "        image = np.stack((\n",
    "            np.array(image_red_ch),\n",
    "            np.array(image_green_ch), \n",
    "            np.array(image_blue_ch)), -1)\n",
    "        w, h = 512, 512\n",
    "#         zero_data = np.zeros((h, w), dtype=np.uint8)\n",
    "#         image2 = np.stack((\n",
    "#             np.array(image_yellow_ch),\n",
    "#             zero_data, zero_data), -1)\n",
    "#         print(image1.shape, image2.shape)\n",
    "#         image = np.vstack((image1, image2))\n",
    "        image = cv2.resize(image, (shape[0], shape[1]))\n",
    "        return image\n",
    "    \n",
    "    def augment2(image):\n",
    "        augment_img = iaa.Sequential([\n",
    "            iaa.OneOf([\n",
    "                iaa.Affine(rotate=0),\n",
    "                iaa.Affine(rotate=90),\n",
    "                iaa.Affine(rotate=180),\n",
    "                iaa.Affine(rotate=270),\n",
    "                iaa.Fliplr(0.5),\n",
    "                iaa.Flipud(0.5),\n",
    "            ])], random_order=True)\n",
    "\n",
    "        image_aug = augment_img.augment_image(image)\n",
    "        return image_aug\n",
    "    def augment(image):\n",
    "        augment_img = iaa.Sequential([\n",
    "            iaa.OneOf([\n",
    "                    iaa.Fliplr(0.5), # horizontal flips\n",
    "                    iaa.Crop(percent=(0, 0.1)), # random crops\n",
    "                    # Small gaussian blur with random sigma between 0 and 0.5.\n",
    "                    # But we only blur about 50% of all images.\n",
    "                    iaa.Sometimes(0.5,\n",
    "                        iaa.GaussianBlur(sigma=(0, 0.5))\n",
    "                    ),\n",
    "                    # Strengthen or weaken the contrast in each image.\n",
    "                    iaa.ContrastNormalization((0.75, 1.5)),\n",
    "                    # Add gaussian noise.\n",
    "                    # For 50% of all images, we sample the noise once per pixel.\n",
    "                    # For the other 50% of all images, we sample the noise per pixel AND\n",
    "                    # channel. This can change the color (not only brightness) of the\n",
    "                    # pixels.\n",
    "                    iaa.AdditiveGaussianNoise(loc=0, scale=(0.0, 0.05*255), per_channel=0.5),\n",
    "                    # Make some images brighter and some darker.\n",
    "                    # In 20% of all cases, we sample the multiplier once per channel,\n",
    "                    # which can end up changing the color of the images.\n",
    "                    iaa.Multiply((0.8, 1.2), per_channel=0.2),\n",
    "                    # Apply affine transformations to each image.\n",
    "                    # Scale/zoom them, translate/move them, rotate them and shear them.\n",
    "                    iaa.Affine(\n",
    "                        scale={\"x\": (0.8, 1.2), \"y\": (0.8, 1.2)},\n",
    "                        translate_percent={\"x\": (-0.2, 0.2), \"y\": (-0.2, 0.2)},\n",
    "                        rotate=(-180, 180),\n",
    "                        shear=(-8, 8)\n",
    "                    )\n",
    "                ])], random_order=True)\n",
    "\n",
    "        image_aug = augment_img.augment_image(image)\n",
    "        return image_aug\n",
    "    "
   ]
  },
  {
   "cell_type": "code",
   "execution_count": 11,
   "metadata": {},
   "outputs": [
    {
     "name": "stderr",
     "output_type": "stream",
     "text": [
      "Using TensorFlow backend.\n"
     ]
    },
    {
     "name": "stdout",
     "output_type": "stream",
     "text": [
      "2.2.4\n"
     ]
    }
   ],
   "source": [
    "import keras as k\n",
    "print(k.__version__)"
   ]
  },
  {
   "cell_type": "code",
   "execution_count": 12,
   "metadata": {
    "collapsed": true
   },
   "outputs": [],
   "source": [
    "# !pip install -U keras"
   ]
  },
  {
   "cell_type": "code",
   "execution_count": 13,
   "metadata": {
    "collapsed": true
   },
   "outputs": [],
   "source": [
    "from keras.preprocessing.image import ImageDataGenerator\n",
    "from keras.models import Sequential, load_model\n",
    "from keras.layers import Activation, Dropout, Flatten, Dense, GlobalMaxPooling2D, BatchNormalization, Input, Conv2D\n",
    "from keras.layers import UpSampling2D, Lambda, Reshape, Conv2DTranspose\n",
    "from keras.layers import  MaxPooling2D, Concatenate, ReLU, LeakyReLU, GlobalAveragePooling2D\n",
    "from keras.applications.inception_v3 import InceptionV3\n",
    "from keras.callbacks import ModelCheckpoint\n",
    "from keras import metrics\n",
    "from keras.optimizers import Adam \n",
    "from keras import backend as K\n",
    "import keras\n",
    "from keras.models import Model"
   ]
  },
  {
   "cell_type": "code",
   "execution_count": 14,
   "metadata": {
    "collapsed": true
   },
   "outputs": [],
   "source": [
    "# Brian decoder\n",
    "def decoder_block(x,blocks=6,start_filters=512):\n",
    "    for i in range(blocks):\n",
    "        x = Conv2D(start_filters//(2**i),(3,3), activation='relu', padding='same')(x)\n",
    "        x = Conv2D(start_filters//(2**i),(3,3), activation='relu', padding='same')(x)\n",
    "        x = UpSampling2D()(x)\n",
    "    return x"
   ]
  },
  {
   "cell_type": "code",
   "execution_count": 15,
   "metadata": {},
   "outputs": [
    {
     "data": {
      "text/plain": [
       "TensorShape([Dimension(None), Dimension(32768), Dimension(32768), Dimension(16)])"
      ]
     },
     "execution_count": 15,
     "metadata": {},
     "output_type": "execute_result"
    }
   ],
   "source": [
    "model = decoder_block(x = Input(shape=(512,512,3)))\n",
    "model.shape"
   ]
  },
  {
   "cell_type": "code",
   "execution_count": 16,
   "metadata": {
    "collapsed": true
   },
   "outputs": [],
   "source": [
    "# network parameters\n",
    "input_shape = (512, )\n",
    "intermediate_dim = 128\n",
    "batch_size = 16\n",
    "latent_dim = 2\n",
    "epochs = 3"
   ]
  },
  {
   "cell_type": "code",
   "execution_count": 17,
   "metadata": {
    "collapsed": true
   },
   "outputs": [],
   "source": [
    "# reparameterization trick\n",
    "# instead of sampling from Q(z|X), sample eps = N(0,I)\n",
    "# z = z_mean + sqrt(var)*eps\n",
    "def sampling1(args):\n",
    "    \"\"\"Reparameterization trick by sampling fr an isotropic unit Gaussian.\n",
    "    # Arguments:\n",
    "        args (tensor): mean and log of variance of Q(z|X)\n",
    "    # Returns:\n",
    "        z (tensor): sampled latent vector\n",
    "    \"\"\"\n",
    "\n",
    "    z_mean, z_log_var = args\n",
    "    batch = K.shape(z_mean)[0]\n",
    "    dim = K.int_shape(z_mean)[1]\n",
    "    # by default, random_normal has mean=0 and std=1.0\n",
    "    epsilon = K.random_normal(shape=(batch, dim))\n",
    "    return z_mean + K.exp(0.5 * z_log_var) * epsilon\n",
    "\n",
    "def sampling(args):\n",
    "    z_mean, z_log_var = args\n",
    "    epsilon = K.random_normal(shape=(K.shape(z_mean)[0], latent_dim),\n",
    "    mean=0., stddev=1.)\n",
    "    return z_mean + K.exp(z_log_var) * epsilon"
   ]
  },
  {
   "cell_type": "code",
   "execution_count": 18,
   "metadata": {
    "collapsed": true
   },
   "outputs": [],
   "source": [
    "# VAE model = encoder + decoder\n",
    "# build encoder model\n",
    "def create_encoder(input_shape):\n",
    "    inputs = Input(shape=input_shape, name='encoder_input')\n",
    "    x = Dense(intermediate_dim, activation='relu')(inputs)\n",
    "    z_mean = Dense(latent_dim, name='z_mean')(x)\n",
    "    z_log_var = Dense(latent_dim, name='z_log_var')(x)\n",
    "    z = Lambda(sampling, output_shape=(latent_dim,), name='z')([z_mean, z_log_var])\n",
    "\n",
    "    # instantiate encoder model\n",
    "    encoder = Model(inputs, [z_mean, z_log_var, z], name='encoder')\n",
    "    \n",
    "    return encoder\n",
    "def create_decoder(latent_dim):\n",
    "    # build decoder model\n",
    "    latent_inputs = Input(shape=(latent_dim,), name='z_sampling')\n",
    "    x = Dense(intermediate_dim, activation='relu')(latent_inputs)\n",
    "    outputs = Dense(original_dim, activation='sigmoid')(x)\n",
    "\n",
    "    # instantiate decoder model\n",
    "    decoder = Model(latent_inputs, outputs, name='decoder')\n",
    "\n",
    "    return decoder\n",
    "\n",
    "def create_vae():\n",
    "    encoder = create_encoder(input_shape)\n",
    "    decoder = create_decoder(latent_dim)\n",
    "    # instantiate VAE model\n",
    "    outputs = decoder(encoder(inputs)[2])\n",
    "    vae = Model(inputs, outputs, name='vae_mlp')\n",
    "    return vae"
   ]
  },
  {
   "cell_type": "code",
   "execution_count": 19,
   "metadata": {
    "collapsed": true
   },
   "outputs": [],
   "source": [
    "# def sampling(args):\n",
    "#     z_mean, z_log_var = args\n",
    "#     epsilon = K.random_normal(shape=(K.shape(z_mean)[0], latent_dim),mean=0., stddev=1.)\n",
    "#     return z_mean + K.exp(z_log_var) * epsilon\n"
   ]
  },
  {
   "cell_type": "code",
   "execution_count": 20,
   "metadata": {},
   "outputs": [
    {
     "name": "stdout",
     "output_type": "stream",
     "text": [
      "(?, 2)\n",
      "(?, 2)\n",
      "(?, 4194304)\n",
      "(None, 256, 256, 64)\n",
      "(?, 256, 256, 64)\n",
      "(?, ?, ?, 32)\n",
      "(?, ?, ?, 3)\n"
     ]
    }
   ],
   "source": [
    "img_shape = (512, 512, 3)\n",
    "batch_size = 16\n",
    "latent_dim = 2\n",
    "\n",
    "\n",
    "input_img = Input(shape=img_shape)\n",
    "\n",
    "x = Conv2D(32, 3,padding='same', activation='relu')(input_img)\n",
    "x = Conv2D(64, 3,padding='same', activation='relu',strides=(2, 2))(x)\n",
    "x = Conv2D(64, 3,padding='same', activation='relu')(x)\n",
    "x = Conv2D(64, 3,padding='same', activation='relu')(x)\n",
    "shape_before_flattening = K.int_shape(x)\n",
    "x = Flatten()(x)\n",
    "x = Dense(32, activation='relu')(x)\n",
    "z_mean = Dense(latent_dim)(x)\n",
    "z_log_var = Dense(latent_dim)(x)\n",
    "z = Lambda(sampling)([z_mean, z_log_var])\n",
    "\n",
    "print(z.shape)\n",
    "# This is the input where we will feed `z`.\n",
    "decoder_input = Input(K.int_shape(z)[1:])\n",
    "\n",
    "print(decoder_input.shape)\n",
    "# Upsample to the correct number of units\n",
    "x = Dense(np.prod(shape_before_flattening[1:]),\n",
    "             activation='relu')(decoder_input)\n",
    "\n",
    "print(x.shape)\n",
    "# Reshape into an image of the same shape as before our last `Flatten` layer\n",
    "x = Reshape(shape_before_flattening[1:])(x)\n",
    "\n",
    "print(shape_before_flattening)\n",
    "print(x.shape)\n",
    "# We then apply then reverse operation to the initial\n",
    "# stack of convolution layers: a `Conv2DTranspose` layers\n",
    "# with corresponding parameters.\n",
    "x = Conv2DTranspose(32, 3,\n",
    "                           padding='same', activation='relu',\n",
    "                           strides=(2, 2))(x)\n",
    "\n",
    "print(x.shape)\n",
    "x = Conv2D(3, 3,\n",
    "                  padding='same', activation='sigmoid')(x)\n",
    "# We end up with a feature map of the same size as the original input.\n",
    "print(x.shape)\n",
    "# This is our decoder model.\n",
    "decoder = Model(decoder_input, x)\n",
    "\n",
    "# We then apply it to `z` to recover the decoded `z`.\n",
    "z_decoded = decoder(z)\n",
    "# return z_decoded\n",
    "\n"
   ]
  },
  {
   "cell_type": "code",
   "execution_count": 21,
   "metadata": {
    "collapsed": true
   },
   "outputs": [],
   "source": [
    "class CustomVariationalLayer(keras.layers.Layer):\n",
    "\n",
    "    def vae_loss(self, x, z_decoded):\n",
    "        x = K.flatten(x)\n",
    "        z_decoded = K.flatten(z_decoded)\n",
    "        xent_loss = keras.metrics.binary_crossentropy(x, z_decoded)\n",
    "        kl_loss = -5e-4 * K.mean(\n",
    "            1 + z_log_var - K.square(z_mean) - K.exp(z_log_var), axis=-1)\n",
    "        return K.mean(xent_loss + kl_loss)\n",
    "\n",
    "    def call(self, inputs):\n",
    "        x = inputs[0]\n",
    "        z_decoded = inputs[1]\n",
    "        loss = self.vae_loss(x, z_decoded)\n",
    "        self.add_loss(loss, inputs=inputs)\n",
    "        # We don't use this output.\n",
    "        return x\n",
    "\n",
    "# We call our custom layer on the input and the decoded output,\n",
    "# to obtain the final model output.\n",
    "y = CustomVariationalLayer()([input_img, z_decoded])"
   ]
  },
  {
   "cell_type": "code",
   "execution_count": 22,
   "metadata": {
    "collapsed": true
   },
   "outputs": [],
   "source": [
    "# vae = Model(input_img, y)\n",
    "# vae.compile(optimizer='rmsprop', loss=None)\n",
    "# vae.summary()"
   ]
  },
  {
   "cell_type": "code",
   "execution_count": 23,
   "metadata": {
    "collapsed": true
   },
   "outputs": [],
   "source": [
    "l_train = len(train_dataset_info) \n",
    "l_test = 11702"
   ]
  },
  {
   "cell_type": "code",
   "execution_count": 24,
   "metadata": {},
   "outputs": [
    {
     "data": {
      "text/plain": [
       "42774"
      ]
     },
     "execution_count": 24,
     "metadata": {},
     "output_type": "execute_result"
    }
   ],
   "source": [
    "len_all = l_train + l_test\n",
    "len_all"
   ]
  },
  {
   "cell_type": "code",
   "execution_count": 25,
   "metadata": {
    "collapsed": true
   },
   "outputs": [],
   "source": [
    "# split data into train, valid\n",
    "# indexes = np.arange(train_dataset_info.shape[0])\n",
    "# np.random.shuffle(indexes)\n",
    "# # train_indexes, valid_indexes = train_test_split(indexes, test_size=0.15, random_state=8)\n",
    "# train_indexes = indexes\n",
    "# valid_indexes = np.arange(l_test)\n",
    "# # create train and valid datagens\n",
    "# train_generator = data_generator.create_train2(\n",
    "#     train_dataset_info[train_indexes], 32, (SIZE,SIZE,3), augument=True)\n",
    "# validation_generator = data_generator.create_test(\n",
    "#     test_dataset_info[valid_indexes], 16, (SIZE,SIZE,3), augument=False)"
   ]
  },
  {
   "cell_type": "code",
   "execution_count": 26,
   "metadata": {
    "collapsed": true
   },
   "outputs": [],
   "source": [
    "# batch_size=32\n",
    "# vae.fit_generator(\n",
    "#     train_generator,\n",
    "#     steps_per_epoch=np.ceil(float(len(train_indexes)) / float(batch_size)),\n",
    "#     validation_data=validation_generator,\n",
    "#     validation_steps=np.ceil(float(len(valid_indexes)) / 16.),\n",
    "#     epochs=3, \n",
    "#     verbose=1)"
   ]
  },
  {
   "cell_type": "code",
   "execution_count": 27,
   "metadata": {
    "collapsed": true
   },
   "outputs": [],
   "source": [
    "# vae.save_weights('../cache/vae-34-1.h5')"
   ]
  },
  {
   "cell_type": "code",
   "execution_count": 28,
   "metadata": {
    "collapsed": true
   },
   "outputs": [],
   "source": [
    "# vae.load_weights('../cache/vae-33-1.h5')"
   ]
  },
  {
   "cell_type": "code",
   "execution_count": 29,
   "metadata": {
    "collapsed": true
   },
   "outputs": [],
   "source": [
    "# import matplotlib.pyplot as plt\n",
    "# from scipy.stats import norm\n",
    "\n",
    "# # Display a 2D manifold of the digits\n",
    "# n = 15  # figure with 15x15 digits\n",
    "# digit_size = 512\n",
    "# figure = np.zeros((n, digit_size, digit_size, 3))\n",
    "# # Linearly spaced coordinates on the unit square were transformed\n",
    "# # through the inverse CDF (ppf) of the Gaussian\n",
    "# # to produce values of the latent variables z,\n",
    "# # since the prior of the latent space is Gaussian\n",
    "# grid_x = norm.ppf(np.linspace(0.05, 0.95, n))\n",
    "# grid_y = norm.ppf(np.linspace(0.05, 0.95, n))\n",
    "# batch_size = 8\n",
    "# for i, yi in enumerate(grid_x):\n",
    "#     for j, xi in enumerate(grid_y):\n",
    "#         z_sample = np.array([[xi, yi]])\n",
    "#         z_sample = np.tile(z_sample, batch_size).reshape(batch_size, 2)\n",
    "#         x_decoded = decoder.predict(z_sample, batch_size=batch_size)\n",
    "# #         print(x_decoded.shape)\n",
    "#         digit = x_decoded[0].reshape(digit_size, digit_size, 3)\n",
    "# #         digit = np.squeeze(x_decoded)\n",
    "# #         print(digit.shape)\n",
    "# #         figure[i * digit_size: (i + 1) * digit_size,\n",
    "# #                j * digit_size: (j + 1) * digit_size] = digit * 255\n",
    "#         figure[i+j*8] = digit*255\n",
    "\n",
    "# plt.figure(figsize=(10, 10))\n",
    "# plt.imshow(figure)\n",
    "# plt.show()"
   ]
  },
  {
   "cell_type": "code",
   "execution_count": 30,
   "metadata": {
    "collapsed": true
   },
   "outputs": [],
   "source": [
    "def global_average_pooling(x):\n",
    "    return K.mean(x, axis = (2, 3))\n",
    "    \n",
    "def global_average_pooling_shape(input_shape):\n",
    "    return input_shape[0:2]"
   ]
  },
  {
   "cell_type": "code",
   "execution_count": 31,
   "metadata": {
    "collapsed": true
   },
   "outputs": [],
   "source": [
    "def decode_sample(z_sample):\n",
    "#     z_sample = z_sample.reshape(1,2)\n",
    "#     x_decoded = decoder.predict(K.squeeze(z_sample, axis=-1), batch_size=1)\n",
    "    x_decoded = decoder(z_sample)\n",
    "    return x_decoded"
   ]
  },
  {
   "cell_type": "code",
   "execution_count": 36,
   "metadata": {
    "collapsed": true
   },
   "outputs": [],
   "source": [
    "def create_model(input_shape, n_out=28):\n",
    "    input_tensor = Input(shape=input_shape)\n",
    "    base_model = InceptionV3(include_top=False,\n",
    "                   weights='imagenet',\n",
    "                   input_shape=input_shape)\n",
    "    bn = BatchNormalization()(input_tensor)\n",
    "    x = base_model(bn)\n",
    "    x = Lambda(global_average_pooling, output_shape=global_average_pooling_shape)(x)\n",
    "    \n",
    "#     x = Conv2D(256, kernel_size=(1,1), activation='relu', name='conv2')(x)\n",
    "#     x = Conv2D(32, kernel_size=(1,1), activation='relu', name='conv1')(x)\n",
    "#     x = Flatten()(x)\n",
    "#     x = Dropout(0.5)(x)\n",
    "    x = Dense(1024, activation='relu')(x)\n",
    "    x = Dropout(0.5)(x)\n",
    "    z_mean = Dense(latent_dim)(x)\n",
    "    z_log_var = Dense(latent_dim)(x)\n",
    "    z = Lambda(sampling)([z_mean, z_log_var])\n",
    "#     z = Reshape((1,latent_dim))(z)\n",
    "    img_out = Lambda(decode_sample)(z)\n",
    "    img_out = Dense(3, activation='relu')(img_out)\n",
    "    output = Dense(n_out, activation='sigmoid')(x)\n",
    "    model = Model(input_tensor, [output, img_out])\n",
    "    \n",
    "    return model"
   ]
  },
  {
   "cell_type": "code",
   "execution_count": 37,
   "metadata": {
    "collapsed": true
   },
   "outputs": [],
   "source": [
    "# some basic useless model\n",
    "def create_mode2l(input_shape):\n",
    "    \n",
    "    dropRate = 0.5\n",
    "    \n",
    "    init = Input(input_shape)\n",
    "    x = BatchNormalization(axis=-1)(init)\n",
    "    x = Conv2D(32, (3, 3))(x) #, strides=(2,2))(x)\n",
    "    x = ReLU()(x)\n",
    "\n",
    "    x = BatchNormalization(axis=-1)(x)\n",
    "    x = MaxPooling2D(pool_size=(2, 2))(x)\n",
    "    ginp1 = Dropout(dropRate)(x)\n",
    "    \n",
    "    x = BatchNormalization(axis=-1)(ginp1)\n",
    "    x = Conv2D(64, (3, 3), strides=(2,2))(x)\n",
    "    x = ReLU()(x)\n",
    "    x = BatchNormalization(axis=-1)(x)\n",
    "    x = Conv2D(64, (3, 3))(x)\n",
    "    x = ReLU()(x)\n",
    "    x = BatchNormalization(axis=-1)(x)\n",
    "    x = Conv2D(64, (3, 3))(x)\n",
    "    x = ReLU()(x)\n",
    "    \n",
    "    x = BatchNormalization(axis=-1)(x)\n",
    "    x = MaxPooling2D(pool_size=(2, 2))(x)\n",
    "    ginp2 = Dropout(dropRate)(x)\n",
    "    \n",
    "    x = BatchNormalization(axis=-1)(ginp2)\n",
    "    x = Conv2D(128, (3, 3))(x)\n",
    "    x = ReLU()(x)\n",
    "    x = BatchNormalization(axis=-1)(x)\n",
    "    x = Conv2D(128, (3, 3))(x)\n",
    "    x = ReLU()(x)\n",
    "    x = BatchNormalization(axis=-1)(x)\n",
    "    x = Conv2D(128, (3, 3))(x)\n",
    "    x = ReLU()(x)\n",
    "    ginp3 = Dropout(dropRate)(x)\n",
    "    \n",
    "    gap1 = GlobalAveragePooling2D()(ginp1)\n",
    "    gap2 = GlobalAveragePooling2D()(ginp2)\n",
    "    gap3 = GlobalAveragePooling2D()(ginp3)\n",
    "    \n",
    "    x = Concatenate()([gap1, gap2, gap3])\n",
    "    \n",
    "    x = BatchNormalization(axis=-1)(x)\n",
    "    x = Dense(256, activation='relu')(x)\n",
    "    x = Dropout(dropRate)(x)\n",
    "    \n",
    "    x = BatchNormalization(axis=-1)(x)\n",
    "    x = Dense(256, activation='relu')(x)\n",
    "    x = Dropout(0.1)(x)\n",
    "    \n",
    "    x = Dense(28)(x)\n",
    "    x = Activation('sigmoid')(x)\n",
    "    \n",
    "    model = Model(init, x)\n",
    "    \n",
    "    return model"
   ]
  },
  {
   "cell_type": "code",
   "execution_count": 38,
   "metadata": {},
   "outputs": [
    {
     "name": "stdout",
     "output_type": "stream",
     "text": [
      "__________________________________________________________________________________________________\n",
      "Layer (type)                    Output Shape         Param #     Connected to                     \n",
      "==================================================================================================\n",
      "input_4 (InputLayer)            (None, 512, 512, 3)  0                                            \n",
      "__________________________________________________________________________________________________\n",
      "batch_normalization_95 (BatchNo (None, 512, 512, 3)  12          input_4[0][0]                    \n",
      "__________________________________________________________________________________________________\n",
      "inception_v3 (Model)            (None, 14, 14, 2048) 21802784    batch_normalization_95[0][0]     \n",
      "__________________________________________________________________________________________________\n",
      "lambda_2 (Lambda)               (None, 14)           0           inception_v3[1][0]               \n",
      "__________________________________________________________________________________________________\n",
      "dense_5 (Dense)                 (None, 1024)         15360       lambda_2[0][0]                   \n",
      "__________________________________________________________________________________________________\n",
      "dropout_1 (Dropout)             (None, 1024)         0           dense_5[0][0]                    \n",
      "__________________________________________________________________________________________________\n",
      "dense_6 (Dense)                 (None, 2)            2050        dropout_1[0][0]                  \n",
      "__________________________________________________________________________________________________\n",
      "dense_7 (Dense)                 (None, 2)            2050        dropout_1[0][0]                  \n",
      "__________________________________________________________________________________________________\n",
      "lambda_3 (Lambda)               (None, 2)            0           dense_6[0][0]                    \n",
      "                                                                 dense_7[0][0]                    \n",
      "__________________________________________________________________________________________________\n",
      "lambda_4 (Lambda)               (None, 512, 512, 3)  0           lambda_3[0][0]                   \n",
      "__________________________________________________________________________________________________\n",
      "dense_9 (Dense)                 (None, 28)           28700       dropout_1[0][0]                  \n",
      "__________________________________________________________________________________________________\n",
      "dense_8 (Dense)                 (None, 512, 512, 3)  12          lambda_4[0][0]                   \n",
      "==================================================================================================\n",
      "Total params: 21,850,968\n",
      "Trainable params: 21,816,530\n",
      "Non-trainable params: 34,438\n",
      "__________________________________________________________________________________________________\n"
     ]
    }
   ],
   "source": [
    "model = create_model(\n",
    "    input_shape=(SIZE,SIZE,3))\n",
    "model.summary()"
   ]
  },
  {
   "cell_type": "code",
   "execution_count": 40,
   "metadata": {
    "collapsed": true
   },
   "outputs": [],
   "source": [
    "# create callbacks list\n",
    "from keras.callbacks import ModelCheckpoint, LearningRateScheduler, EarlyStopping, ReduceLROnPlateau\n",
    "from sklearn.model_selection import train_test_split\n",
    "\n",
    "epochs = 10; batch_size = 16\n",
    "checkpoint = ModelCheckpoint('../cache/gap-35b.h5', monitor='val_loss', verbose=1, \n",
    "                             save_best_only=True, mode='min', save_weights_only = True)\n",
    "reduceLROnPlat = ReduceLROnPlateau(monitor='val_loss', factor=0.1, patience=3, \n",
    "                                   verbose=1, mode='auto', epsilon=0.0001)\n",
    "early = EarlyStopping(monitor=\"val_loss\", \n",
    "                      mode=\"min\", \n",
    "                      patience=6)\n",
    "callbacks_list = [checkpoint, early, reduceLROnPlat]\n"
   ]
  },
  {
   "cell_type": "code",
   "execution_count": 41,
   "metadata": {
    "collapsed": true
   },
   "outputs": [],
   "source": [
    "\n",
    "# split data into train, valid\n",
    "indexes = np.arange(train_dataset_info.shape[0])\n",
    "np.random.shuffle(indexes)\n",
    "train_indexes, valid_indexes = train_test_split(indexes, test_size=0.15, random_state=8)\n",
    "\n",
    "\n"
   ]
  },
  {
   "cell_type": "code",
   "execution_count": 42,
   "metadata": {},
   "outputs": [
    {
     "name": "stdout",
     "output_type": "stream",
     "text": [
      "__________________________________________________________________________________________________\n",
      "Layer (type)                    Output Shape         Param #     Connected to                     \n",
      "==================================================================================================\n",
      "input_4 (InputLayer)            (None, 512, 512, 3)  0                                            \n",
      "__________________________________________________________________________________________________\n",
      "batch_normalization_95 (BatchNo (None, 512, 512, 3)  12          input_4[0][0]                    \n",
      "__________________________________________________________________________________________________\n",
      "inception_v3 (Model)            (None, 14, 14, 2048) 21802784    batch_normalization_95[0][0]     \n",
      "__________________________________________________________________________________________________\n",
      "lambda_2 (Lambda)               (None, 14)           0           inception_v3[1][0]               \n",
      "__________________________________________________________________________________________________\n",
      "dense_5 (Dense)                 (None, 1024)         15360       lambda_2[0][0]                   \n",
      "__________________________________________________________________________________________________\n",
      "dropout_1 (Dropout)             (None, 1024)         0           dense_5[0][0]                    \n",
      "__________________________________________________________________________________________________\n",
      "dense_6 (Dense)                 (None, 2)            2050        dropout_1[0][0]                  \n",
      "__________________________________________________________________________________________________\n",
      "dense_7 (Dense)                 (None, 2)            2050        dropout_1[0][0]                  \n",
      "__________________________________________________________________________________________________\n",
      "lambda_3 (Lambda)               (None, 2)            0           dense_6[0][0]                    \n",
      "                                                                 dense_7[0][0]                    \n",
      "__________________________________________________________________________________________________\n",
      "lambda_4 (Lambda)               (None, 512, 512, 3)  0           lambda_3[0][0]                   \n",
      "__________________________________________________________________________________________________\n",
      "dense_9 (Dense)                 (None, 28)           28700       dropout_1[0][0]                  \n",
      "__________________________________________________________________________________________________\n",
      "dense_8 (Dense)                 (None, 512, 512, 3)  12          lambda_4[0][0]                   \n",
      "==================================================================================================\n",
      "Total params: 21,850,968\n",
      "Trainable params: 21,816,530\n",
      "Non-trainable params: 34,438\n",
      "__________________________________________________________________________________________________\n"
     ]
    }
   ],
   "source": [
    "# warm up model\n",
    "# model = create_model(\n",
    "#     input_shape=(SIZE,SIZE,3), \n",
    "#     n_out=28)\n",
    "model.summary()\n",
    "\n",
    "# for layer in model.layers:\n",
    "#     layer.trainable = False\n",
    "# model.layers[-1].trainable = True\n",
    "# model.layers[-2].trainable = True\n",
    "# model.layers[-3].trainable = True\n",
    "# model.layers[-4].trainable = True\n",
    "# model.layers[-5].trainable = True\n",
    "# model.layers[-6].trainable = True\n",
    "# model.layers[-7].trainable = True\n",
    "# model.layers[-8].trainable = True"
   ]
  },
  {
   "cell_type": "code",
   "execution_count": 43,
   "metadata": {
    "collapsed": true
   },
   "outputs": [],
   "source": [
    "# model.compile(\n",
    "#     loss=[f1_loss], \n",
    "#     optimizer=Adam(1e-03),\n",
    "#     metrics=[f1])\n"
   ]
  },
  {
   "cell_type": "code",
   "execution_count": 44,
   "metadata": {},
   "outputs": [
    {
     "name": "stdout",
     "output_type": "stream",
     "text": [
      "26411 4661\n"
     ]
    }
   ],
   "source": [
    "print(len(train_indexes), len(valid_indexes))"
   ]
  },
  {
   "cell_type": "code",
   "execution_count": 45,
   "metadata": {
    "collapsed": true
   },
   "outputs": [],
   "source": [
    "# batch_size=8\n",
    "\n",
    "# # create train and valid datagens\n",
    "# train_generator = data_generator.create_train(\n",
    "#     train_dataset_info[train_indexes], batch_size, (SIZE,SIZE,3), augument=True)\n",
    "# validation_generator = data_generator.create_train(\n",
    "#     train_dataset_info[valid_indexes], batch_size, (SIZE,SIZE,3), augument=False)\n",
    "\n",
    "# model.fit_generator(\n",
    "#     train_generator,\n",
    "#     steps_per_epoch=np.ceil(float(len(train_indexes)) / float(batch_size)),\n",
    "#     validation_data=validation_generator,\n",
    "#     validation_steps=np.ceil(float(len(valid_indexes)) / float(batch_size)),\n",
    "#     epochs=2, \n",
    "#     verbose=1)"
   ]
  },
  {
   "cell_type": "code",
   "execution_count": 46,
   "metadata": {
    "collapsed": true
   },
   "outputs": [],
   "source": [
    "for layer in model.layers:\n",
    "    layer.trainable = False\n",
    "model.layers[-1].trainable = True\n",
    "model.layers[-2].trainable = True\n",
    "model.layers[-3].trainable = True\n",
    "model.layers[-4].trainable = True\n",
    "model.layers[-5].trainable = True\n",
    "model.layers[-6].trainable = True\n",
    "model.layers[-7].trainable = True\n",
    "model.layers[-8].trainable = True\n",
    "model.layers[-9].trainable = True"
   ]
  },
  {
   "cell_type": "code",
   "execution_count": 47,
   "metadata": {
    "collapsed": true
   },
   "outputs": [],
   "source": [
    "model.compile(\n",
    "    loss=[f1_loss, 'mse'], \n",
    "    optimizer=Adam(1e-02),\n",
    "    metrics=[f1])"
   ]
  },
  {
   "cell_type": "code",
   "execution_count": 50,
   "metadata": {},
   "outputs": [
    {
     "name": "stdout",
     "output_type": "stream",
     "text": [
      "Epoch 1/2\n",
      "1651/1651 [==============================] - 2212s 1s/step - loss: 1.1531 - dense_9_loss: 1.1299 - dense_8_loss: 0.0232 - dense_9_f1: 0.0167 - dense_8_f1: 0.0000e+00 - val_loss: 1.1424 - val_dense_9_loss: 1.1184 - val_dense_8_loss: 0.0241 - val_dense_9_f1: 0.0208 - val_dense_8_f1: 0.0000e+00\n",
      "\n",
      "Epoch 00001: val_loss improved from inf to 1.14244, saving model to ../cache/gap-35b.h5\n",
      "Epoch 2/2\n",
      "1651/1651 [==============================] - 1062s 644ms/step - loss: 1.1483 - dense_9_loss: 1.1252 - dense_8_loss: 0.0231 - dense_9_f1: 0.0167 - dense_8_f1: 0.0000e+00 - val_loss: 1.1441 - val_dense_9_loss: 1.1200 - val_dense_8_loss: 0.0241 - val_dense_9_f1: 0.0208 - val_dense_8_f1: 0.0000e+00\n",
      "\n",
      "Epoch 00002: val_loss did not improve from 1.14244\n"
     ]
    },
    {
     "data": {
      "text/plain": [
       "<keras.callbacks.History at 0x7f441c23cc18>"
      ]
     },
     "execution_count": 50,
     "metadata": {},
     "output_type": "execute_result"
    }
   ],
   "source": [
    "batch_size=16\n",
    "\n",
    "train_generator = data_generator.create_train(\n",
    "    train_dataset_info[train_indexes], batch_size, (SIZE,SIZE,3), augument=True)\n",
    "validation_generator = data_generator.create_train(\n",
    "    train_dataset_info[valid_indexes], 32, (SIZE,SIZE,3), augument=False)\n",
    "\n",
    "model.fit_generator(\n",
    "    train_generator,\n",
    "    steps_per_epoch=np.ceil(float(len(train_indexes)) / float(batch_size)),\n",
    "    validation_data=validation_generator,\n",
    "    validation_steps=np.ceil(float(len(valid_indexes)) / float(batch_size)),\n",
    "    epochs=2, \n",
    "    verbose=1,\n",
    "    callbacks=callbacks_list)"
   ]
  },
  {
   "cell_type": "code",
   "execution_count": 51,
   "metadata": {
    "collapsed": true
   },
   "outputs": [],
   "source": [
    "epochs=120\n",
    "\n",
    "# batch_size=8\n",
    "for layer in model.layers:\n",
    "    layer.trainable = True\n",
    "model.compile(loss=[f1_loss, 'mse'],\n",
    "            optimizer=Adam(lr=1e-4),\n",
    "            metrics=[f1])"
   ]
  },
  {
   "cell_type": "code",
   "execution_count": 52,
   "metadata": {},
   "outputs": [
    {
     "name": "stdout",
     "output_type": "stream",
     "text": [
      "Epoch 1/120\n",
      "1651/1651 [==============================] - 1400s 848ms/step - loss: 1.1245 - dense_9_loss: 1.1014 - dense_8_loss: 0.0231 - dense_9_f1: 0.0393 - dense_8_f1: 0.0000e+00 - val_loss: 1.0883 - val_dense_9_loss: 1.0642 - val_dense_8_loss: 0.0241 - val_dense_9_f1: 0.0672 - val_dense_8_f1: 0.0000e+00\n",
      "\n",
      "Epoch 00001: val_loss improved from 1.14244 to 1.08828, saving model to ../cache/gap-35b.h5\n",
      "Epoch 2/120\n",
      "1651/1651 [==============================] - 1370s 830ms/step - loss: 1.0719 - dense_9_loss: 1.0487 - dense_8_loss: 0.0231 - dense_9_f1: 0.0972 - dense_8_f1: 0.0000e+00 - val_loss: 1.0361 - val_dense_9_loss: 1.0121 - val_dense_8_loss: 0.0241 - val_dense_9_f1: 0.1278 - val_dense_8_f1: 0.0000e+00\n",
      "\n",
      "Epoch 00002: val_loss improved from 1.08828 to 1.03612, saving model to ../cache/gap-35b.h5\n",
      "Epoch 3/120\n",
      "1651/1651 [==============================] - 1370s 830ms/step - loss: 1.0198 - dense_9_loss: 0.9967 - dense_8_loss: 0.0231 - dense_9_f1: 0.1481 - dense_8_f1: 0.0000e+00 - val_loss: 0.9973 - val_dense_9_loss: 0.9732 - val_dense_8_loss: 0.0241 - val_dense_9_f1: 0.1738 - val_dense_8_f1: 0.0000e+00\n",
      "\n",
      "Epoch 00003: val_loss improved from 1.03612 to 0.99730, saving model to ../cache/gap-35b.h5\n",
      "Epoch 4/120\n",
      "1651/1651 [==============================] - 1369s 829ms/step - loss: 0.9780 - dense_9_loss: 0.9550 - dense_8_loss: 0.0231 - dense_9_f1: 0.1877 - dense_8_f1: 0.0000e+00 - val_loss: 0.9170 - val_dense_9_loss: 0.8929 - val_dense_8_loss: 0.0241 - val_dense_9_f1: 0.2501 - val_dense_8_f1: 0.0000e+00\n",
      "\n",
      "Epoch 00004: val_loss improved from 0.99730 to 0.91696, saving model to ../cache/gap-35b.h5\n",
      "Epoch 5/120\n",
      "1651/1651 [==============================] - 1342s 813ms/step - loss: 0.9504 - dense_9_loss: 0.9273 - dense_8_loss: 0.0231 - dense_9_f1: 0.2089 - dense_8_f1: 0.0000e+00 - val_loss: 0.9558 - val_dense_9_loss: 0.9318 - val_dense_8_loss: 0.0241 - val_dense_9_f1: 0.2367 - val_dense_8_f1: 0.0000e+00\n",
      "\n",
      "Epoch 00005: val_loss did not improve from 0.91696\n",
      "Epoch 6/120\n",
      "1651/1651 [==============================] - 1314s 796ms/step - loss: 0.9278 - dense_9_loss: 0.9048 - dense_8_loss: 0.0231 - dense_9_f1: 0.2278 - dense_8_f1: 0.0000e+00 - val_loss: 0.8843 - val_dense_9_loss: 0.8603 - val_dense_8_loss: 0.0241 - val_dense_9_f1: 0.2868 - val_dense_8_f1: 0.0000e+00\n",
      "\n",
      "Epoch 00006: val_loss improved from 0.91696 to 0.88432, saving model to ../cache/gap-35b.h5\n",
      "Epoch 7/120\n",
      "1651/1651 [==============================] - 1316s 797ms/step - loss: 0.9109 - dense_9_loss: 0.8878 - dense_8_loss: 0.0231 - dense_9_f1: 0.2397 - dense_8_f1: 0.0000e+00 - val_loss: 0.8568 - val_dense_9_loss: 0.8327 - val_dense_8_loss: 0.0241 - val_dense_9_f1: 0.2972 - val_dense_8_f1: 0.0000e+00\n",
      "\n",
      "Epoch 00007: val_loss improved from 0.88432 to 0.85678, saving model to ../cache/gap-35b.h5\n",
      "Epoch 8/120\n",
      "1651/1651 [==============================] - 1316s 797ms/step - loss: 0.8964 - dense_9_loss: 0.8733 - dense_8_loss: 0.0231 - dense_9_f1: 0.2497 - dense_8_f1: 0.0000e+00 - val_loss: 0.8724 - val_dense_9_loss: 0.8484 - val_dense_8_loss: 0.0241 - val_dense_9_f1: 0.2907 - val_dense_8_f1: 0.0000e+00\n",
      "\n",
      "Epoch 00008: val_loss did not improve from 0.85678\n",
      "Epoch 9/120\n",
      "1651/1651 [==============================] - 1316s 797ms/step - loss: 0.8873 - dense_9_loss: 0.8642 - dense_8_loss: 0.0231 - dense_9_f1: 0.2554 - dense_8_f1: 0.0000e+00 - val_loss: 0.8426 - val_dense_9_loss: 0.8186 - val_dense_8_loss: 0.0241 - val_dense_9_f1: 0.3106 - val_dense_8_f1: 0.0000e+00\n",
      "\n",
      "Epoch 00009: val_loss improved from 0.85678 to 0.84262, saving model to ../cache/gap-35b.h5\n",
      "Epoch 10/120\n",
      "1651/1651 [==============================] - 1314s 796ms/step - loss: 0.8739 - dense_9_loss: 0.8508 - dense_8_loss: 0.0231 - dense_9_f1: 0.2641 - dense_8_f1: 0.0000e+00 - val_loss: 0.8630 - val_dense_9_loss: 0.8389 - val_dense_8_loss: 0.0241 - val_dense_9_f1: 0.3064 - val_dense_8_f1: 0.0000e+00\n",
      "\n",
      "Epoch 00010: val_loss did not improve from 0.84262\n",
      "Epoch 11/120\n",
      "1651/1651 [==============================] - 1313s 795ms/step - loss: 0.8630 - dense_9_loss: 0.8399 - dense_8_loss: 0.0231 - dense_9_f1: 0.2717 - dense_8_f1: 0.0000e+00 - val_loss: 0.8206 - val_dense_9_loss: 0.7965 - val_dense_8_loss: 0.0241 - val_dense_9_f1: 0.3309 - val_dense_8_f1: 0.0000e+00\n",
      "\n",
      "Epoch 00011: val_loss improved from 0.84262 to 0.82058, saving model to ../cache/gap-35b.h5\n",
      "Epoch 12/120\n",
      "1651/1651 [==============================] - 1316s 797ms/step - loss: 0.8550 - dense_9_loss: 0.8320 - dense_8_loss: 0.0231 - dense_9_f1: 0.2758 - dense_8_f1: 0.0000e+00 - val_loss: 0.8293 - val_dense_9_loss: 0.8052 - val_dense_8_loss: 0.0241 - val_dense_9_f1: 0.3239 - val_dense_8_f1: 0.0000e+00\n",
      "\n",
      "Epoch 00012: val_loss did not improve from 0.82058\n",
      "Epoch 13/120\n",
      "1651/1651 [==============================] - 1314s 796ms/step - loss: 0.8462 - dense_9_loss: 0.8231 - dense_8_loss: 0.0231 - dense_9_f1: 0.2821 - dense_8_f1: 0.0000e+00 - val_loss: 0.8372 - val_dense_9_loss: 0.8132 - val_dense_8_loss: 0.0241 - val_dense_9_f1: 0.3186 - val_dense_8_f1: 0.0000e+00\n",
      "\n",
      "Epoch 00013: val_loss did not improve from 0.82058\n",
      "Epoch 14/120\n",
      "1651/1651 [==============================] - 1316s 797ms/step - loss: 0.8396 - dense_9_loss: 0.8165 - dense_8_loss: 0.0231 - dense_9_f1: 0.2854 - dense_8_f1: 0.0000e+00 - val_loss: 0.8418 - val_dense_9_loss: 0.8178 - val_dense_8_loss: 0.0241 - val_dense_9_f1: 0.3165 - val_dense_8_f1: 0.0000e+00\n",
      "\n",
      "Epoch 00014: val_loss did not improve from 0.82058\n",
      "\n",
      "Epoch 00014: ReduceLROnPlateau reducing learning rate to 9.999999747378752e-06.\n",
      "Epoch 15/120\n",
      "1651/1651 [==============================] - 1313s 795ms/step - loss: 0.8101 - dense_9_loss: 0.7870 - dense_8_loss: 0.0231 - dense_9_f1: 0.3042 - dense_8_f1: 0.0000e+00 - val_loss: 0.7904 - val_dense_9_loss: 0.7663 - val_dense_8_loss: 0.0241 - val_dense_9_f1: 0.3470 - val_dense_8_f1: 0.0000e+00\n",
      "\n",
      "Epoch 00015: val_loss improved from 0.82058 to 0.79040, saving model to ../cache/gap-35b.h5\n",
      "Epoch 16/120\n",
      "1651/1651 [==============================] - 1317s 797ms/step - loss: 0.8022 - dense_9_loss: 0.7792 - dense_8_loss: 0.0231 - dense_9_f1: 0.3078 - dense_8_f1: 0.0000e+00 - val_loss: 0.7877 - val_dense_9_loss: 0.7637 - val_dense_8_loss: 0.0241 - val_dense_9_f1: 0.3493 - val_dense_8_f1: 0.0000e+00\n",
      "\n",
      "Epoch 00016: val_loss improved from 0.79040 to 0.78774, saving model to ../cache/gap-35b.h5\n",
      "Epoch 17/120\n",
      "1651/1651 [==============================] - 1303s 789ms/step - loss: 0.7990 - dense_9_loss: 0.7759 - dense_8_loss: 0.0231 - dense_9_f1: 0.3102 - dense_8_f1: 0.0000e+00 - val_loss: 0.7867 - val_dense_9_loss: 0.7627 - val_dense_8_loss: 0.0241 - val_dense_9_f1: 0.3498 - val_dense_8_f1: 0.0000e+00\n",
      "\n",
      "Epoch 00017: val_loss improved from 0.78774 to 0.78675, saving model to ../cache/gap-35b.h5\n",
      "Epoch 18/120\n",
      "1651/1651 [==============================] - 1296s 785ms/step - loss: 0.7933 - dense_9_loss: 0.7702 - dense_8_loss: 0.0231 - dense_9_f1: 0.3135 - dense_8_f1: 0.0000e+00 - val_loss: 0.7871 - val_dense_9_loss: 0.7630 - val_dense_8_loss: 0.0241 - val_dense_9_f1: 0.3507 - val_dense_8_f1: 0.0000e+00\n",
      "\n",
      "Epoch 00018: val_loss did not improve from 0.78675\n",
      "Epoch 19/120\n",
      "1651/1651 [==============================] - 1298s 786ms/step - loss: 0.7898 - dense_9_loss: 0.7667 - dense_8_loss: 0.0231 - dense_9_f1: 0.3154 - dense_8_f1: 0.0000e+00 - val_loss: 0.7839 - val_dense_9_loss: 0.7598 - val_dense_8_loss: 0.0241 - val_dense_9_f1: 0.3548 - val_dense_8_f1: 0.0000e+00\n",
      "\n",
      "Epoch 00019: val_loss improved from 0.78675 to 0.78386, saving model to ../cache/gap-35b.h5\n",
      "Epoch 20/120\n",
      "1651/1651 [==============================] - 1298s 786ms/step - loss: 0.7859 - dense_9_loss: 0.7629 - dense_8_loss: 0.0231 - dense_9_f1: 0.3198 - dense_8_f1: 0.0000e+00 - val_loss: 0.7849 - val_dense_9_loss: 0.7609 - val_dense_8_loss: 0.0241 - val_dense_9_f1: 0.3533 - val_dense_8_f1: 0.0000e+00\n",
      "\n",
      "Epoch 00020: val_loss did not improve from 0.78386\n",
      "Epoch 21/120\n",
      "1651/1651 [==============================] - 1296s 785ms/step - loss: 0.7827 - dense_9_loss: 0.7596 - dense_8_loss: 0.0231 - dense_9_f1: 0.3200 - dense_8_f1: 0.0000e+00 - val_loss: 0.7856 - val_dense_9_loss: 0.7616 - val_dense_8_loss: 0.0241 - val_dense_9_f1: 0.3529 - val_dense_8_f1: 0.0000e+00\n",
      "\n",
      "Epoch 00021: val_loss did not improve from 0.78386\n",
      "Epoch 22/120\n"
     ]
    },
    {
     "name": "stdout",
     "output_type": "stream",
     "text": [
      "1651/1651 [==============================] - 1301s 788ms/step - loss: 0.7818 - dense_9_loss: 0.7588 - dense_8_loss: 0.0230 - dense_9_f1: 0.3208 - dense_8_f1: 0.0000e+00 - val_loss: 0.7843 - val_dense_9_loss: 0.7603 - val_dense_8_loss: 0.0241 - val_dense_9_f1: 0.3573 - val_dense_8_f1: 0.0000e+00\n",
      "\n",
      "Epoch 00022: val_loss did not improve from 0.78386\n",
      "\n",
      "Epoch 00022: ReduceLROnPlateau reducing learning rate to 9.999999747378752e-07.\n",
      "Epoch 23/120\n",
      "1651/1651 [==============================] - 1296s 785ms/step - loss: 0.7784 - dense_9_loss: 0.7553 - dense_8_loss: 0.0231 - dense_9_f1: 0.3234 - dense_8_f1: 0.0000e+00 - val_loss: 0.7855 - val_dense_9_loss: 0.7614 - val_dense_8_loss: 0.0241 - val_dense_9_f1: 0.3537 - val_dense_8_f1: 0.0000e+00\n",
      "\n",
      "Epoch 00023: val_loss did not improve from 0.78386\n",
      "Epoch 24/120\n",
      "1651/1651 [==============================] - 1302s 788ms/step - loss: 0.7761 - dense_9_loss: 0.7530 - dense_8_loss: 0.0231 - dense_9_f1: 0.3245 - dense_8_f1: 0.0000e+00 - val_loss: 0.7837 - val_dense_9_loss: 0.7597 - val_dense_8_loss: 0.0241 - val_dense_9_f1: 0.3559 - val_dense_8_f1: 0.0000e+00\n",
      "\n",
      "Epoch 00024: val_loss improved from 0.78386 to 0.78373, saving model to ../cache/gap-35b.h5\n",
      "Epoch 25/120\n",
      "1651/1651 [==============================] - 1299s 787ms/step - loss: 0.7779 - dense_9_loss: 0.7549 - dense_8_loss: 0.0231 - dense_9_f1: 0.3236 - dense_8_f1: 0.0000e+00 - val_loss: 0.7829 - val_dense_9_loss: 0.7589 - val_dense_8_loss: 0.0241 - val_dense_9_f1: 0.3563 - val_dense_8_f1: 0.0000e+00\n",
      "\n",
      "Epoch 00025: val_loss improved from 0.78373 to 0.78292, saving model to ../cache/gap-35b.h5\n",
      "Epoch 26/120\n",
      "1651/1651 [==============================] - 1301s 788ms/step - loss: 0.7745 - dense_9_loss: 0.7514 - dense_8_loss: 0.0231 - dense_9_f1: 0.3264 - dense_8_f1: 0.0000e+00 - val_loss: 0.7834 - val_dense_9_loss: 0.7593 - val_dense_8_loss: 0.0241 - val_dense_9_f1: 0.3556 - val_dense_8_f1: 0.0000e+00\n",
      "\n",
      "Epoch 00026: val_loss did not improve from 0.78292\n",
      "Epoch 27/120\n",
      "1651/1651 [==============================] - 1296s 785ms/step - loss: 0.7759 - dense_9_loss: 0.7528 - dense_8_loss: 0.0231 - dense_9_f1: 0.3248 - dense_8_f1: 0.0000e+00 - val_loss: 0.7825 - val_dense_9_loss: 0.7585 - val_dense_8_loss: 0.0241 - val_dense_9_f1: 0.3554 - val_dense_8_f1: 0.0000e+00\n",
      "\n",
      "Epoch 00027: val_loss improved from 0.78292 to 0.78254, saving model to ../cache/gap-35b.h5\n",
      "Epoch 28/120\n",
      "1651/1651 [==============================] - 1292s 782ms/step - loss: 0.7739 - dense_9_loss: 0.7509 - dense_8_loss: 0.0231 - dense_9_f1: 0.3257 - dense_8_f1: 0.0000e+00 - val_loss: 0.7847 - val_dense_9_loss: 0.7606 - val_dense_8_loss: 0.0241 - val_dense_9_f1: 0.3524 - val_dense_8_f1: 0.0000e+00\n",
      "\n",
      "Epoch 00028: val_loss did not improve from 0.78254\n",
      "Epoch 29/120\n",
      "1651/1651 [==============================] - 1292s 783ms/step - loss: 0.7754 - dense_9_loss: 0.7522 - dense_8_loss: 0.0232 - dense_9_f1: 0.3248 - dense_8_f1: 0.0000e+00 - val_loss: 0.7824 - val_dense_9_loss: 0.7584 - val_dense_8_loss: 0.0241 - val_dense_9_f1: 0.3553 - val_dense_8_f1: 0.0000e+00\n",
      "\n",
      "Epoch 00029: val_loss improved from 0.78254 to 0.78245, saving model to ../cache/gap-35b.h5\n",
      "Epoch 30/120\n",
      "1651/1651 [==============================] - 1298s 786ms/step - loss: 0.7743 - dense_9_loss: 0.7512 - dense_8_loss: 0.0231 - dense_9_f1: 0.3256 - dense_8_f1: 0.0000e+00 - val_loss: 0.7813 - val_dense_9_loss: 0.7572 - val_dense_8_loss: 0.0241 - val_dense_9_f1: 0.3572 - val_dense_8_f1: 0.0000e+00\n",
      "\n",
      "Epoch 00030: val_loss improved from 0.78245 to 0.78128, saving model to ../cache/gap-35b.h5\n",
      "Epoch 31/120\n",
      "1651/1651 [==============================] - 1297s 786ms/step - loss: 0.7748 - dense_9_loss: 0.7518 - dense_8_loss: 0.0230 - dense_9_f1: 0.3255 - dense_8_f1: 0.0000e+00 - val_loss: 0.7826 - val_dense_9_loss: 0.7586 - val_dense_8_loss: 0.0241 - val_dense_9_f1: 0.3538 - val_dense_8_f1: 0.0000e+00\n",
      "\n",
      "Epoch 00031: val_loss did not improve from 0.78128\n",
      "Epoch 32/120\n",
      "1651/1651 [==============================] - 1305s 790ms/step - loss: 0.7742 - dense_9_loss: 0.7512 - dense_8_loss: 0.0231 - dense_9_f1: 0.3257 - dense_8_f1: 0.0000e+00 - val_loss: 0.7794 - val_dense_9_loss: 0.7553 - val_dense_8_loss: 0.0241 - val_dense_9_f1: 0.3599 - val_dense_8_f1: 0.0000e+00\n",
      "\n",
      "Epoch 00032: val_loss improved from 0.78128 to 0.77938, saving model to ../cache/gap-35b.h5\n",
      "Epoch 33/120\n",
      "1651/1651 [==============================] - 1299s 787ms/step - loss: 0.7734 - dense_9_loss: 0.7504 - dense_8_loss: 0.0231 - dense_9_f1: 0.3263 - dense_8_f1: 0.0000e+00 - val_loss: 0.7803 - val_dense_9_loss: 0.7562 - val_dense_8_loss: 0.0241 - val_dense_9_f1: 0.3584 - val_dense_8_f1: 0.0000e+00\n",
      "\n",
      "Epoch 00033: val_loss did not improve from 0.77938\n",
      "Epoch 34/120\n",
      "1651/1651 [==============================] - 1294s 784ms/step - loss: 0.7736 - dense_9_loss: 0.7505 - dense_8_loss: 0.0231 - dense_9_f1: 0.3262 - dense_8_f1: 0.0000e+00 - val_loss: 0.7818 - val_dense_9_loss: 0.7577 - val_dense_8_loss: 0.0241 - val_dense_9_f1: 0.3572 - val_dense_8_f1: 0.0000e+00\n",
      "\n",
      "Epoch 00034: val_loss did not improve from 0.77938\n",
      "Epoch 35/120\n",
      "1651/1651 [==============================] - 1301s 788ms/step - loss: 0.7741 - dense_9_loss: 0.7510 - dense_8_loss: 0.0230 - dense_9_f1: 0.3259 - dense_8_f1: 0.0000e+00 - val_loss: 0.7851 - val_dense_9_loss: 0.7610 - val_dense_8_loss: 0.0241 - val_dense_9_f1: 0.3522 - val_dense_8_f1: 0.0000e+00\n",
      "\n",
      "Epoch 00035: val_loss did not improve from 0.77938\n",
      "\n",
      "Epoch 00035: ReduceLROnPlateau reducing learning rate to 9.999999974752428e-08.\n",
      "Epoch 36/120\n",
      "1651/1651 [==============================] - 1303s 789ms/step - loss: 0.7711 - dense_9_loss: 0.7481 - dense_8_loss: 0.0231 - dense_9_f1: 0.3278 - dense_8_f1: 0.0000e+00 - val_loss: 0.7811 - val_dense_9_loss: 0.7571 - val_dense_8_loss: 0.0241 - val_dense_9_f1: 0.3569 - val_dense_8_f1: 0.0000e+00\n",
      "\n",
      "Epoch 00036: val_loss did not improve from 0.77938\n",
      "Epoch 37/120\n",
      "1651/1651 [==============================] - 1299s 787ms/step - loss: 0.7752 - dense_9_loss: 0.7522 - dense_8_loss: 0.0231 - dense_9_f1: 0.3241 - dense_8_f1: 0.0000e+00 - val_loss: 0.7799 - val_dense_9_loss: 0.7558 - val_dense_8_loss: 0.0241 - val_dense_9_f1: 0.3581 - val_dense_8_f1: 0.0000e+00\n",
      "\n",
      "Epoch 00037: val_loss did not improve from 0.77938\n",
      "Epoch 38/120\n",
      "1651/1651 [==============================] - 1305s 791ms/step - loss: 0.7724 - dense_9_loss: 0.7493 - dense_8_loss: 0.0231 - dense_9_f1: 0.3268 - dense_8_f1: 0.0000e+00 - val_loss: 0.7801 - val_dense_9_loss: 0.7560 - val_dense_8_loss: 0.0241 - val_dense_9_f1: 0.3592 - val_dense_8_f1: 0.0000e+00\n",
      "\n",
      "Epoch 00038: val_loss did not improve from 0.77938\n",
      "\n",
      "Epoch 00038: ReduceLROnPlateau reducing learning rate to 1.0000000116860975e-08.\n"
     ]
    },
    {
     "data": {
      "text/plain": [
       "<keras.callbacks.History at 0x7f43fe451c88>"
      ]
     },
     "execution_count": 52,
     "metadata": {},
     "output_type": "execute_result"
    }
   ],
   "source": [
    "# train all layers\n",
    "batch_size=16\n",
    "\n",
    "train_generator = data_generator.create_train(\n",
    "    train_dataset_info[train_indexes], batch_size, (SIZE,SIZE,3), augument=True)\n",
    "validation_generator = data_generator.create_train(\n",
    "    train_dataset_info[valid_indexes], 32, (SIZE,SIZE,3), augument=False)\n",
    "\n",
    "model.fit_generator(\n",
    "    train_generator,\n",
    "    steps_per_epoch=np.ceil(float(len(train_indexes)) / float(batch_size)),\n",
    "    validation_data=validation_generator,\n",
    "    validation_steps=np.ceil(float(len(valid_indexes)) / float(batch_size)),\n",
    "    epochs=epochs, \n",
    "    verbose=1,\n",
    "    callbacks=callbacks_list)"
   ]
  },
  {
   "cell_type": "code",
   "execution_count": 53,
   "metadata": {
    "collapsed": true
   },
   "outputs": [],
   "source": [
    "# for ii in tqdm(np.arange(len(train_dataset_info))):\n",
    "#     img1 = cv2.imread(train_dataset_info[ii]['path']+'_red.png', cv2.IMREAD_GRAYSCALE)\n",
    "#     img2 = cv2.imread(train_dataset_info[ii]['path']+'_green.png', cv2.IMREAD_GRAYSCALE)\n",
    "#     img3 = cv2.imread(train_dataset_info[ii]['path']+'_blue.png', cv2.IMREAD_GRAYSCALE)\n",
    "#     img1 = np.stack((img1, img2, img3), -1)\n",
    "#     name = '../cache/RGB/img-{}.png'.format(ii)\n",
    "#     cv2.imwrite(name,img1)"
   ]
  },
  {
   "cell_type": "code",
   "execution_count": 54,
   "metadata": {
    "collapsed": true
   },
   "outputs": [],
   "source": [
    "# submit = pd.read_csv('../data/sample_submission.csv')\n",
    "# for name in tqdm(submit['Id']):\n",
    "#     path = os.path.join('../data/test/', name)\n",
    "#     img1 = cv2.imread(path+'_red.png', cv2.IMREAD_GRAYSCALE)\n",
    "#     img2 = cv2.imread(path+'_green.png', cv2.IMREAD_GRAYSCALE)\n",
    "#     img3 = cv2.imread(path+'_blue.png', cv2.IMREAD_GRAYSCALE)\n",
    "#     img1 = np.stack((img1, img2, img3), -1)\n",
    "#     name1 = '../cache/RGB/test/img-{}.png'.format(name)\n",
    "#     cv2.imwrite(name1,img1)"
   ]
  },
  {
   "cell_type": "code",
   "execution_count": null,
   "metadata": {},
   "outputs": [
    {
     "name": "stderr",
     "output_type": "stream",
     "text": [
      " 39%|███▉      | 4612/11702 [06:27<09:56, 11.89it/s]"
     ]
    }
   ],
   "source": [
    "# Create submit\n",
    "submit = pd.read_csv('../data/sample_submission.csv')\n",
    "predicted = []\n",
    "draw_predict = []\n",
    "# model = create_model(\n",
    "#     input_shape=(SIZE,SIZE,3), \n",
    "#     n_out=28)\n",
    "# for layer in model.layers:\n",
    "#     layer.trainable = True\n",
    "# model.compile(loss=f1_loss,\n",
    "#             optimizer=Adam(lr=1e-4),\n",
    "#             metrics=[f1])\n",
    "model.load_weights('../cache/gap-35b.h5')\n",
    "for name in tqdm(submit['Id']):\n",
    "    path = os.path.join('../data/test/', name)\n",
    "    image = data_generator.load_image(path, (SIZE,SIZE,3))/255.\n",
    "    score_predict= model.predict(image[np.newaxis])[0]\n",
    "    \n",
    "    draw_predict.append(score_predict[0])\n",
    "    label_predict = np.arange(28)[score_predict[0]>=0.2]\n",
    "    str_predict_label = ' '.join(str(l) for l in label_predict)\n",
    "    predicted.append(str_predict_label)\n",
    "\n",
    "submit['Predicted'] = predicted\n",
    "# np.save('../cache/draw_predict_InceptionV3-8.npy', score_predict)\n",
    "# submit.to_csv('../submissions/submit_InceptionV3.csv', index=False)"
   ]
  },
  {
   "cell_type": "code",
   "execution_count": null,
   "metadata": {
    "collapsed": true
   },
   "outputs": [],
   "source": [
    "submit.to_csv('../submissions/sub35b-a.csv', index=False)"
   ]
  },
  {
   "cell_type": "code",
   "execution_count": 28,
   "metadata": {},
   "outputs": [
    {
     "name": "stderr",
     "output_type": "stream",
     "text": [
      "100%|██████████| 11702/11702 [08:59<00:00, 21.70it/s]\n"
     ]
    }
   ],
   "source": [
    "predicted = []\n",
    "# for name in tqdm(submit['Id']):\n",
    "for score_predict in tqdm(draw_predict)\n",
    "#     path = os.path.join('../data/test/', name)\n",
    "#     image = data_generator.load_image(path, (SIZE,SIZE,3))/255.\n",
    "#     score_predict = model.predict(image[np.newaxis])[0]\n",
    "#     draw_predict.append(score_predict)\n",
    "    label_predict = np.arange(28)[score_predict>=0.25]\n",
    "    str_predict_label = ' '.join(str(l) for l in label_predict)\n",
    "    predicted.append(str_predict_label)\n",
    "submit['Predicted'] = predicted\n",
    "submit.to_csv('../submissions/sub35b-b.csv', index=False)"
   ]
  },
  {
   "cell_type": "code",
   "execution_count": 29,
   "metadata": {},
   "outputs": [
    {
     "name": "stderr",
     "output_type": "stream",
     "text": [
      "100%|██████████| 11702/11702 [09:18<00:00, 20.97it/s]\n"
     ]
    }
   ],
   "source": [
    "predicted = []\n",
    "for name in tqdm(submit['Id']):\n",
    "    path = os.path.join('../data/test/', name)\n",
    "    image = data_generator.load_image(path, (SIZE,SIZE,3))/255.\n",
    "    score_predict = model.predict(image[np.newaxis])[0]\n",
    "    draw_predict.append(score_predict)\n",
    "    label_predict = np.arange(28)[score_predict>=0.3]\n",
    "    str_predict_label = ' '.join(str(l) for l in label_predict)\n",
    "    predicted.append(str_predict_label)\n",
    "submit.to_csv('../submissions/sub8i1-c.csv', index=False)"
   ]
  },
  {
   "cell_type": "code",
   "execution_count": 30,
   "metadata": {},
   "outputs": [
    {
     "name": "stderr",
     "output_type": "stream",
     "text": [
      "100%|██████████| 11702/11702 [09:26<00:00, 20.66it/s]\n"
     ]
    }
   ],
   "source": [
    "predicted = []\n",
    "for name in tqdm(submit['Id']):\n",
    "    path = os.path.join('../data/test/', name)\n",
    "    image = data_generator.load_image(path, (SIZE,SIZE,3))/255.\n",
    "    score_predict = model.predict(image[np.newaxis])[0]\n",
    "    draw_predict.append(score_predict)\n",
    "    label_predict = np.arange(28)[score_predict>=0.35]\n",
    "    str_predict_label = ' '.join(str(l) for l in label_predict)\n",
    "    predicted.append(str_predict_label)\n",
    "submit['Predicted'] = predicted\n",
    "submit.to_csv('../submissions/sub8i1-d.csv', index=False)"
   ]
  },
  {
   "cell_type": "code",
   "execution_count": 31,
   "metadata": {},
   "outputs": [
    {
     "name": "stderr",
     "output_type": "stream",
     "text": [
      "100%|██████████| 11702/11702 [09:29<00:00, 20.54it/s]\n"
     ]
    }
   ],
   "source": [
    "predicted = []\n",
    "for name in tqdm(submit['Id']):\n",
    "    path = os.path.join('../data/test/', name)\n",
    "    image = data_generator.load_image(path, (SIZE,SIZE,3))/255.\n",
    "    score_predict = model.predict(image[np.newaxis])[0]\n",
    "    draw_predict.append(score_predict)\n",
    "    label_predict = np.arange(28)[score_predict>=0.4]\n",
    "    str_predict_label = ' '.join(str(l) for l in label_predict)\n",
    "    predicted.append(str_predict_label)\n",
    "submit['Predicted'] = predicted\n",
    "submit.to_csv('../submissions/sub8i1-e.csv', index=False)"
   ]
  },
  {
   "cell_type": "code",
   "execution_count": 32,
   "metadata": {
    "collapsed": true
   },
   "outputs": [],
   "source": [
    "#https://stackoverflow.com/questions/1855095/how-to-create-a-zip-archive-of-a-directory\n",
    "def backup_project_as_zip(project_dir, zip_file):\n",
    "    assert(os.path.isdir(project_dir))\n",
    "    assert(os.path.isdir(os.path.dirname(zip_file)))\n",
    "    shutil.make_archive(zip_file.replace('.zip',''), 'zip', project_dir)\n",
    "    pass"
   ]
  },
  {
   "cell_type": "code",
   "execution_count": 33,
   "metadata": {},
   "outputs": [
    {
     "name": "stdout",
     "output_type": "stream",
     "text": [
      "2018-11-19 12:33:39.384598\n"
     ]
    }
   ],
   "source": [
    "import datetime, shutil\n",
    "now = datetime.datetime.now()\n",
    "print(now)\n",
    "PROJECT_PATH = '/home/watts/lal/Kaggle/kagglehp/scripts_nbs'\n",
    "backup_project_as_zip(PROJECT_PATH, '../cache/code.scripts_nbs.%s.zip'%now)"
   ]
  },
  {
   "cell_type": "code",
   "execution_count": 28,
   "metadata": {},
   "outputs": [
    {
     "name": "stdout",
     "output_type": "stream",
     "text": [
      "100%|████████████████████████████████████████| 480k/480k [00:08<00:00, 51.3kB/s]\n",
      "Successfully submitted to Human Protein Atlas Image ClassificationCPU times: user 332 ms, sys: 134 ms, total: 467 ms\n",
      "Wall time: 15.6 s\n"
     ]
    }
   ],
   "source": [
    "# %%time\n",
    "# !kaggle competitions submit -c human-protein-atlas-image-classification -f ../submissions/sub8i1.csv -m \"\""
   ]
  },
  {
   "cell_type": "code",
   "execution_count": 29,
   "metadata": {},
   "outputs": [
    {
     "name": "stdout",
     "output_type": "stream",
     "text": [
      "fileName      date                 description  status    publicScore  privateScore  \r\n",
      "------------  -------------------  -----------  --------  -----------  ------------  \r\n",
      "sub8i.csv     2018-11-14 04:28:35               complete  0.443        None          \r\n",
      "sub8h.csv     2018-11-13 23:48:00               complete  0.434        None          \r\n",
      "sub8g.csv     2018-11-13 07:17:59               complete  0.389        None          \r\n",
      "sub8c.csv     2018-11-11 14:31:02               complete  0.429        None          \r\n",
      "sub30.csv     2018-11-09 07:02:56               complete  0.033        None          \r\n",
      "sub29.csv     2018-11-08 22:07:11               complete  0.389        None          \r\n",
      "sub28-c.csv   2018-11-08 15:47:08               complete  0.457        None          \r\n",
      "sub28-bb.csv  2018-11-08 15:46:13               complete  0.458        None          \r\n",
      "sub28-b.csv   2018-11-08 15:45:28               complete  0.454        None          \r\n",
      "sub28-a.csv   2018-11-08 15:44:27               complete  0.454        None          \r\n",
      "sub25.csv     2018-11-07 10:45:12               complete  0.421        None          \r\n",
      "sub25.csv     2018-11-07 10:26:20               complete  0.421        None          \r\n",
      "sub8a.csv     2018-11-07 05:53:08               complete  0.425        None          \r\n",
      "sub24.csv     2018-11-07 05:09:26               complete  0.410        None          \r\n",
      "sub23-d.csv   2018-11-07 00:21:06               complete  0.469        None          \r\n",
      "sub23-c.csv   2018-11-06 14:34:37               complete  0.472        None          \r\n",
      "sub23-bb.csv  2018-11-06 14:33:35               complete  0.466        None          \r\n",
      "sub23-b.csv   2018-11-06 14:32:47               complete  0.463        None          \r\n",
      "sub23-a.csv   2018-11-06 14:31:57               complete  0.461        None          \r\n",
      "sub22-a.csv   2018-11-06 14:30:53               complete  0.467        None          \r\n"
     ]
    }
   ],
   "source": [
    "# from time import sleep\n",
    "# sleep(60)\n",
    "# !kaggle competitions submissions -c human-protein-atlas-image-classification"
   ]
  },
  {
   "cell_type": "code",
   "execution_count": 26,
   "metadata": {},
   "outputs": [
    {
     "name": "stdout",
     "output_type": "stream",
     "text": [
      "Warning: Looks like you're using an outdated API Version, please consider updating (server 1.4.7.1 / client 1.3.8)\r\n",
      "fileName  date                 description  status    publicScore  privateScore  \r\n",
      "--------  -------------------  -----------  --------  -----------  ------------  \r\n",
      "sub8.csv  2018-10-20 20:08:45               complete  0.422        None          \r\n",
      "sub7.csv  2018-10-20 17:06:09               complete  0.389        None          \r\n",
      "sub5.csv  2018-10-19 18:27:33               complete  0.387        None          \r\n",
      "sub4.csv  2018-10-19 14:45:15               complete  0.411        None          \r\n",
      "sub3.csv  2018-10-19 10:19:26               complete  0.377        None          \r\n",
      "sub2.csv  2018-10-19 08:07:30               complete  0.135        None          \r\n",
      "sub1.csv  2018-10-19 06:28:57               complete  0.374        None          \r\n"
     ]
    }
   ],
   "source": [
    "from time import sleep\n",
    "sleep(60)\n",
    "!kaggle competitions submissions -c human-protein-atlas-image-classification"
   ]
  },
  {
   "cell_type": "code",
   "execution_count": null,
   "metadata": {
    "collapsed": true
   },
   "outputs": [],
   "source": []
  }
 ],
 "metadata": {
  "kernelspec": {
   "display_name": "hpg",
   "language": "python",
   "name": "hpg"
  },
  "language_info": {
   "codemirror_mode": {
    "name": "ipython",
    "version": 3
   },
   "file_extension": ".py",
   "mimetype": "text/x-python",
   "name": "python",
   "nbconvert_exporter": "python",
   "pygments_lexer": "ipython3",
   "version": "3.6.3"
  }
 },
 "nbformat": 4,
 "nbformat_minor": 2
}
